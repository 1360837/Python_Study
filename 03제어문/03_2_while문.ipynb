{
  "nbformat": 4,
  "nbformat_minor": 0,
  "metadata": {
    "colab": {
      "provenance": [],
      "authorship_tag": "ABX9TyNjlrGFx6UOqYN+y9VEPQ4F",
      "include_colab_link": true
    },
    "kernelspec": {
      "name": "python3",
      "display_name": "Python 3"
    },
    "language_info": {
      "name": "python"
    }
  },
  "cells": [
    {
      "cell_type": "markdown",
      "metadata": {
        "id": "view-in-github",
        "colab_type": "text"
      },
      "source": [
        "<a href=\"https://colab.research.google.com/github/1360837/Python_Study/blob/main/03%EC%A0%9C%EC%96%B4%EB%AC%B8/03_2_while%EB%AC%B8.ipynb\" target=\"_parent\"><img src=\"https://colab.research.google.com/assets/colab-badge.svg\" alt=\"Open In Colab\"/></a>"
      ]
    },
    {
      "cell_type": "markdown",
      "source": [
        "# while문의 기본 구조\n",
        "\n",
        "![image.png](data:image/png;base64,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)"
      ],
      "metadata": {
        "id": "_bqw3VQup4hH"
      }
    },
    {
      "cell_type": "code",
      "source": [
        "treehit = 0\n",
        "while treehit <10:\n",
        "  treehit = treehit +1\n",
        "  print(\"나무를 %d번 찍었습니다.\" %treehit)\n",
        "  if treehit == 10:\n",
        "    print(\"나무 넘어갑니다.\")"
      ],
      "metadata": {
        "colab": {
          "base_uri": "https://localhost:8080/"
        },
        "id": "pUBeYWfgqX6E",
        "outputId": "60212091-e66d-4435-9eb5-d50448f0ae0c"
      },
      "execution_count": 3,
      "outputs": [
        {
          "output_type": "stream",
          "name": "stdout",
          "text": [
            "나무를 1번 찍었습니다.\n",
            "나무를 2번 찍었습니다.\n",
            "나무를 3번 찍었습니다.\n",
            "나무를 4번 찍었습니다.\n",
            "나무를 5번 찍었습니다.\n",
            "나무를 6번 찍었습니다.\n",
            "나무를 7번 찍었습니다.\n",
            "나무를 8번 찍었습니다.\n",
            "나무를 9번 찍었습니다.\n",
            "나무를 10번 찍었습니다.\n",
            "나무 넘어갑니다.\n"
          ]
        }
      ]
    },
    {
      "cell_type": "markdown",
      "source": [
        "# while문 만들기"
      ],
      "metadata": {
        "id": "mBKtCqYirSQJ"
      }
    },
    {
      "cell_type": "code",
      "source": [
        "prompt = \"\"\"\n",
        "1. Add\n",
        "2. Del\n",
        "3. List\n",
        "4. Quit\n",
        "\n",
        "Enter number: \"\"\"\n",
        "\n",
        "number = 0\n",
        "while number !=4:\n",
        "  print(prompt)\n",
        "  number = int(input())"
      ],
      "metadata": {
        "colab": {
          "base_uri": "https://localhost:8080/"
        },
        "id": "PEYOiTUMrUQe",
        "outputId": "d095329a-99a3-4882-8b33-c147799053a1"
      },
      "execution_count": 4,
      "outputs": [
        {
          "name": "stdout",
          "output_type": "stream",
          "text": [
            "\n",
            "1. Add\n",
            "2. Del\n",
            "3. List\n",
            "4. Quit\n",
            "\n",
            "Enter number: \n",
            "1\n",
            "\n",
            "1. Add\n",
            "2. Del\n",
            "3. List\n",
            "4. Quit\n",
            "\n",
            "Enter number: \n",
            "4\n"
          ]
        }
      ]
    },
    {
      "cell_type": "markdown",
      "source": [
        "# while문 강제로 빠져나가기"
      ],
      "metadata": {
        "id": "w-Cz28U8r6qQ"
      }
    },
    {
      "cell_type": "code",
      "source": [
        "coffee = 10\n",
        "money = 300\n",
        "while money:\n",
        "  print(\"돈을 받았으니 커피를 줍니다.\")\n",
        "  coffee=coffee-1\n",
        "  print(\"남은 커피의 양은 %d개입니다.\"%coffee)\n",
        "  if coffee ==0:\n",
        "    print(\"커피가 다 떨어졌습니다. 판매를 중지합니다.\")\n",
        "    break"
      ],
      "metadata": {
        "colab": {
          "base_uri": "https://localhost:8080/"
        },
        "id": "__nvh0R7r-aY",
        "outputId": "eea647f3-e724-4873-ac1f-d2507782738a"
      },
      "execution_count": 5,
      "outputs": [
        {
          "output_type": "stream",
          "name": "stdout",
          "text": [
            "돈을 받았으니 커피를 줍니다.\n",
            "남은 커피의 양은 9개입니다.\n",
            "돈을 받았으니 커피를 줍니다.\n",
            "남은 커피의 양은 8개입니다.\n",
            "돈을 받았으니 커피를 줍니다.\n",
            "남은 커피의 양은 7개입니다.\n",
            "돈을 받았으니 커피를 줍니다.\n",
            "남은 커피의 양은 6개입니다.\n",
            "돈을 받았으니 커피를 줍니다.\n",
            "남은 커피의 양은 5개입니다.\n",
            "돈을 받았으니 커피를 줍니다.\n",
            "남은 커피의 양은 4개입니다.\n",
            "돈을 받았으니 커피를 줍니다.\n",
            "남은 커피의 양은 3개입니다.\n",
            "돈을 받았으니 커피를 줍니다.\n",
            "남은 커피의 양은 2개입니다.\n",
            "돈을 받았으니 커피를 줍니다.\n",
            "남은 커피의 양은 1개입니다.\n",
            "돈을 받았으니 커피를 줍니다.\n",
            "남은 커피의 양은 0개입니다.\n",
            "커피가 다 떨어졌습니다. 판매를 중지합니다.\n"
          ]
        }
      ]
    },
    {
      "cell_type": "code",
      "source": [
        "#coffee.py\n",
        "\n",
        "coffee=10\n",
        "while True:\n",
        "  money = int(input(\"돈을 넣어 주세요: \"))\n",
        "  if money == 300:\n",
        "    print(\"커피를 줍니다.\")\n",
        "    coffee = coffee -1\n",
        "  elif money > 300:\n",
        "    print(\"거스름돈 %d를 주고 커피를 줍니다.\"%(money-300))\n",
        "    coffee = coffee -1\n",
        "  else :\n",
        "    print(\"돈을 다시 돌려주고 커피를 주지 않습니다.\")\n",
        "    print(\"남은 커피의 양은 %d개입니다.\"%coffee)\n",
        "  if coffee == 0:\n",
        "    print(\"커피가 다 떨어졌습니다. 판매를 중지합니다.\")\n",
        "    break"
      ],
      "metadata": {
        "colab": {
          "base_uri": "https://localhost:8080/",
          "height": 686
        },
        "id": "yFLpkotQsXaM",
        "outputId": "fea4c138-e111-4f61-80d1-8a7b7a95efdb"
      },
      "execution_count": 8,
      "outputs": [
        {
          "output_type": "stream",
          "name": "stdout",
          "text": [
            "돈을 넣어 주세요: 300\n",
            "커피를 줍니다.\n",
            "돈을 넣어 주세요: 150\n",
            "돈을 다시 돌려주고 커피를 주지 않습니다.\n",
            "남은 커피의 양은 9개입니다.\n",
            "돈을 넣어 주세요: 450\n",
            "거스름돈 150를 주고 커피를 줍니다.\n",
            "돈을 넣어 주세요: 800\n",
            "거스름돈 500를 주고 커피를 줍니다.\n",
            "돈을 넣어 주세요: 500\n",
            "거스름돈 200를 주고 커피를 줍니다.\n",
            "돈을 넣어 주세요: 400\n",
            "거스름돈 100를 주고 커피를 줍니다.\n",
            "돈을 넣어 주세요: 200\n",
            "돈을 다시 돌려주고 커피를 주지 않습니다.\n",
            "남은 커피의 양은 5개입니다.\n"
          ]
        },
        {
          "output_type": "error",
          "ename": "KeyboardInterrupt",
          "evalue": "ignored",
          "traceback": [
            "\u001b[0;31m---------------------------------------------------------------------------\u001b[0m",
            "\u001b[0;31mKeyboardInterrupt\u001b[0m                         Traceback (most recent call last)",
            "\u001b[0;32m<ipython-input-8-87a1563bd155>\u001b[0m in \u001b[0;36m<cell line: 4>\u001b[0;34m()\u001b[0m\n\u001b[1;32m      3\u001b[0m \u001b[0mcoffee\u001b[0m\u001b[0;34m=\u001b[0m\u001b[0;36m10\u001b[0m\u001b[0;34m\u001b[0m\u001b[0;34m\u001b[0m\u001b[0m\n\u001b[1;32m      4\u001b[0m \u001b[0;32mwhile\u001b[0m \u001b[0;32mTrue\u001b[0m\u001b[0;34m:\u001b[0m\u001b[0;34m\u001b[0m\u001b[0;34m\u001b[0m\u001b[0m\n\u001b[0;32m----> 5\u001b[0;31m   \u001b[0mmoney\u001b[0m \u001b[0;34m=\u001b[0m \u001b[0mint\u001b[0m\u001b[0;34m(\u001b[0m\u001b[0minput\u001b[0m\u001b[0;34m(\u001b[0m\u001b[0;34m\"돈을 넣어 주세요: \"\u001b[0m\u001b[0;34m)\u001b[0m\u001b[0;34m)\u001b[0m\u001b[0;34m\u001b[0m\u001b[0;34m\u001b[0m\u001b[0m\n\u001b[0m\u001b[1;32m      6\u001b[0m   \u001b[0;32mif\u001b[0m \u001b[0mmoney\u001b[0m \u001b[0;34m==\u001b[0m \u001b[0;36m300\u001b[0m\u001b[0;34m:\u001b[0m\u001b[0;34m\u001b[0m\u001b[0;34m\u001b[0m\u001b[0m\n\u001b[1;32m      7\u001b[0m     \u001b[0mprint\u001b[0m\u001b[0;34m(\u001b[0m\u001b[0;34m\"커피를 줍니다.\"\u001b[0m\u001b[0;34m)\u001b[0m\u001b[0;34m\u001b[0m\u001b[0;34m\u001b[0m\u001b[0m\n",
            "\u001b[0;32m/usr/local/lib/python3.10/dist-packages/ipykernel/kernelbase.py\u001b[0m in \u001b[0;36mraw_input\u001b[0;34m(self, prompt)\u001b[0m\n\u001b[1;32m    849\u001b[0m                 \u001b[0;34m\"raw_input was called, but this frontend does not support input requests.\"\u001b[0m\u001b[0;34m\u001b[0m\u001b[0;34m\u001b[0m\u001b[0m\n\u001b[1;32m    850\u001b[0m             )\n\u001b[0;32m--> 851\u001b[0;31m         return self._input_request(str(prompt),\n\u001b[0m\u001b[1;32m    852\u001b[0m             \u001b[0mself\u001b[0m\u001b[0;34m.\u001b[0m\u001b[0m_parent_ident\u001b[0m\u001b[0;34m,\u001b[0m\u001b[0;34m\u001b[0m\u001b[0;34m\u001b[0m\u001b[0m\n\u001b[1;32m    853\u001b[0m             \u001b[0mself\u001b[0m\u001b[0;34m.\u001b[0m\u001b[0m_parent_header\u001b[0m\u001b[0;34m,\u001b[0m\u001b[0;34m\u001b[0m\u001b[0;34m\u001b[0m\u001b[0m\n",
            "\u001b[0;32m/usr/local/lib/python3.10/dist-packages/ipykernel/kernelbase.py\u001b[0m in \u001b[0;36m_input_request\u001b[0;34m(self, prompt, ident, parent, password)\u001b[0m\n\u001b[1;32m    893\u001b[0m             \u001b[0;32mexcept\u001b[0m \u001b[0mKeyboardInterrupt\u001b[0m\u001b[0;34m:\u001b[0m\u001b[0;34m\u001b[0m\u001b[0;34m\u001b[0m\u001b[0m\n\u001b[1;32m    894\u001b[0m                 \u001b[0;31m# re-raise KeyboardInterrupt, to truncate traceback\u001b[0m\u001b[0;34m\u001b[0m\u001b[0;34m\u001b[0m\u001b[0m\n\u001b[0;32m--> 895\u001b[0;31m                 \u001b[0;32mraise\u001b[0m \u001b[0mKeyboardInterrupt\u001b[0m\u001b[0;34m(\u001b[0m\u001b[0;34m\"Interrupted by user\"\u001b[0m\u001b[0;34m)\u001b[0m \u001b[0;32mfrom\u001b[0m \u001b[0;32mNone\u001b[0m\u001b[0;34m\u001b[0m\u001b[0;34m\u001b[0m\u001b[0m\n\u001b[0m\u001b[1;32m    896\u001b[0m             \u001b[0;32mexcept\u001b[0m \u001b[0mException\u001b[0m \u001b[0;32mas\u001b[0m \u001b[0me\u001b[0m\u001b[0;34m:\u001b[0m\u001b[0;34m\u001b[0m\u001b[0;34m\u001b[0m\u001b[0m\n\u001b[1;32m    897\u001b[0m                 \u001b[0mself\u001b[0m\u001b[0;34m.\u001b[0m\u001b[0mlog\u001b[0m\u001b[0;34m.\u001b[0m\u001b[0mwarning\u001b[0m\u001b[0;34m(\u001b[0m\u001b[0;34m\"Invalid Message:\"\u001b[0m\u001b[0;34m,\u001b[0m \u001b[0mexc_info\u001b[0m\u001b[0;34m=\u001b[0m\u001b[0;32mTrue\u001b[0m\u001b[0;34m)\u001b[0m\u001b[0;34m\u001b[0m\u001b[0;34m\u001b[0m\u001b[0m\n",
            "\u001b[0;31mKeyboardInterrupt\u001b[0m: Interrupted by user"
          ]
        }
      ]
    },
    {
      "cell_type": "markdown",
      "source": [
        "# while문의 맨 처음으로 돌아가기"
      ],
      "metadata": {
        "id": "-6MMVaI1tkz8"
      }
    },
    {
      "cell_type": "code",
      "source": [
        "a=0\n",
        "while a<10:\n",
        "  a=a+1\n",
        "  if a%2==0: continue\n",
        "  print(a)"
      ],
      "metadata": {
        "colab": {
          "base_uri": "https://localhost:8080/"
        },
        "id": "L5YOitXltoOV",
        "outputId": "9dd70058-24d0-4b7b-adad-0bdeca1d73cb"
      },
      "execution_count": 9,
      "outputs": [
        {
          "output_type": "stream",
          "name": "stdout",
          "text": [
            "1\n",
            "3\n",
            "5\n",
            "7\n",
            "9\n"
          ]
        }
      ]
    },
    {
      "cell_type": "markdown",
      "source": [
        "# 무한 루프"
      ],
      "metadata": {
        "id": "oHrosZxUtz6y"
      }
    },
    {
      "cell_type": "code",
      "source": [
        "while True:\n",
        "  print(\"Ctlr+C를 눌러야 while문을 빠져나갈 수 있습니다.\")\n",
        "  "
      ],
      "metadata": {
        "id": "PPpoQlHWt1b5"
      },
      "execution_count": null,
      "outputs": []
    }
  ]
}