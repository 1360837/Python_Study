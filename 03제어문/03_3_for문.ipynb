{
  "nbformat": 4,
  "nbformat_minor": 0,
  "metadata": {
    "colab": {
      "provenance": [],
      "authorship_tag": "ABX9TyPPlaAFNFj+uccBjdGkwv8G",
      "include_colab_link": true
    },
    "kernelspec": {
      "name": "python3",
      "display_name": "Python 3"
    },
    "language_info": {
      "name": "python"
    }
  },
  "cells": [
    {
      "cell_type": "markdown",
      "metadata": {
        "id": "view-in-github",
        "colab_type": "text"
      },
      "source": [
        "<a href=\"https://colab.research.google.com/github/1360837/Python_Study/blob/main/03%EC%A0%9C%EC%96%B4%EB%AC%B8/03_3_for%EB%AC%B8.ipynb\" target=\"_parent\"><img src=\"https://colab.research.google.com/assets/colab-badge.svg\" alt=\"Open In Colab\"/></a>"
      ]
    },
    {
      "cell_type": "markdown",
      "source": [
        "# for문의 기본 구조\n",
        "\n",
        "![image.png](data:image/png;base64,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)"
      ],
      "metadata": {
        "id": "WC0Xtl4fubl8"
      }
    },
    {
      "cell_type": "markdown",
      "source": [
        "예제를 통해 for문 이해하기"
      ],
      "metadata": {
        "id": "nCdXFTmqvV7H"
      }
    },
    {
      "cell_type": "code",
      "source": [
        "#1. 전형적인 for문\n",
        "\n",
        "test_list =['one','two','three']\n",
        "for i in test_list:\n",
        "  print(i)"
      ],
      "metadata": {
        "colab": {
          "base_uri": "https://localhost:8080/"
        },
        "id": "aKpGx4hLvZ4c",
        "outputId": "27b98fdc-923a-40f9-cc42-430dea6ac15e"
      },
      "execution_count": 1,
      "outputs": [
        {
          "output_type": "stream",
          "name": "stdout",
          "text": [
            "one\n",
            "two\n",
            "three\n"
          ]
        }
      ]
    },
    {
      "cell_type": "code",
      "source": [
        "#2. 다양한 for문의 사용\n",
        "a=[(1,2),(3,4),(5,6)]\n",
        "for (first,last) in a:\n",
        "  print(first + last)"
      ],
      "metadata": {
        "colab": {
          "base_uri": "https://localhost:8080/"
        },
        "id": "4_Aovriavl-K",
        "outputId": "0fe412c6-b577-4660-c4a3-fd2a1eed11fc"
      },
      "execution_count": 2,
      "outputs": [
        {
          "output_type": "stream",
          "name": "stdout",
          "text": [
            "3\n",
            "7\n",
            "11\n"
          ]
        }
      ]
    },
    {
      "cell_type": "code",
      "source": [
        "#3. for문의 응용\n",
        "\n",
        "#총 5명의 학생이 시험을 보았는데 시험 점수가 60점이 넘으면 합격이고 그렇지 않으면 불합격이다. 합격인지 불합격인지 결과를 보여 주시오.\n",
        "\n",
        "marks = [90,25,67,45,80]\n",
        "\n",
        "#marks1.py\n",
        "number = 0\n",
        "for mark in marks : \n",
        "  number = number + 1\n",
        "  if mark >= 60:\n",
        "    print(\"%d번 학생은 합격입니다.\" %number)\n",
        "  else : \n",
        "    print(\"%d번 학생은 불합격입니다.\" %number)"
      ],
      "metadata": {
        "colab": {
          "base_uri": "https://localhost:8080/"
        },
        "id": "8MSAKsCov4EB",
        "outputId": "51c3e597-d34f-469f-c0f7-a8c1ceda7568"
      },
      "execution_count": 3,
      "outputs": [
        {
          "output_type": "stream",
          "name": "stdout",
          "text": [
            "1번 학생은 합격입니다.\n",
            "2번 학생은 불합격입니다.\n",
            "3번 학생은 합격입니다.\n",
            "4번 학생은 불합격입니다.\n",
            "5번 학생은 합격입니다.\n"
          ]
        }
      ]
    },
    {
      "cell_type": "code",
      "source": [
        "#mark2.py\n",
        "number=0\n",
        "for mark in marks:\n",
        "  number = number +1\n",
        "  if mark < 60:continue\n",
        "  print(\"%d번 학생 축하합니다. 합격입니다.\"%number)"
      ],
      "metadata": {
        "colab": {
          "base_uri": "https://localhost:8080/"
        },
        "id": "S_9bFq8pwkKA",
        "outputId": "4aee8b0d-efa6-4679-f73f-42ed2ba87c8c"
      },
      "execution_count": 4,
      "outputs": [
        {
          "output_type": "stream",
          "name": "stdout",
          "text": [
            "1번 학생 축하합니다. 합격입니다.\n",
            "3번 학생 축하합니다. 합격입니다.\n",
            "5번 학생 축하합니다. 합격입니다.\n"
          ]
        }
      ]
    },
    {
      "cell_type": "markdown",
      "source": [
        "# for문과 함께 자주 사용하는 range 함수"
      ],
      "metadata": {
        "id": "60ay99Cmw1Ks"
      }
    },
    {
      "cell_type": "code",
      "source": [
        "a=range(10) #0부터 10미만의 숫자를 포함하는 range 객체를 만들어 준다.\n",
        "a\n",
        "range(0,10) #0,1,2,3,4,5,6,7,8,9\n",
        "print(a)"
      ],
      "metadata": {
        "colab": {
          "base_uri": "https://localhost:8080/"
        },
        "id": "KeGSfGKzyxkc",
        "outputId": "f01899dd-5332-4ab6-83db-7f3a8692e38e"
      },
      "execution_count": 6,
      "outputs": [
        {
          "output_type": "stream",
          "name": "stdout",
          "text": [
            "range(0, 10)\n"
          ]
        }
      ]
    },
    {
      "cell_type": "markdown",
      "source": [
        "range 함수의 예시 살펴보기"
      ],
      "metadata": {
        "id": "7iF-9y-YzMs4"
      }
    },
    {
      "cell_type": "code",
      "source": [
        "add=0\n",
        "for i in range(1,11):\n",
        "  add = add + i\n",
        "print(add)\n",
        "  "
      ],
      "metadata": {
        "colab": {
          "base_uri": "https://localhost:8080/"
        },
        "id": "vpQISWBazPSe",
        "outputId": "7ad73d61-5059-4e65-f554-9a9583663d5c"
      },
      "execution_count": 8,
      "outputs": [
        {
          "output_type": "stream",
          "name": "stdout",
          "text": [
            "55\n"
          ]
        }
      ]
    },
    {
      "cell_type": "code",
      "source": [
        "#mark3.py\n",
        "marks=[90,25,67,45,80]\n",
        "for number in range(len(marks)):\n",
        "  if marks[number] < 60: continue\n",
        "  print(\"%d번 학생 축하합니다. 합격입니다.\"%(number+1))"
      ],
      "metadata": {
        "id": "ECH60r5lzc84"
      },
      "execution_count": null,
      "outputs": []
    },
    {
      "cell_type": "markdown",
      "source": [
        "for와 range를 사용한 구구단"
      ],
      "metadata": {
        "id": "5rItzHCHzzLn"
      }
    },
    {
      "cell_type": "code",
      "source": [
        "for i in range(2,10):\n",
        "  for j in range(1,10):\n",
        "    print(i*j,end=\" \")\n",
        "  print(' ')"
      ],
      "metadata": {
        "colab": {
          "base_uri": "https://localhost:8080/"
        },
        "id": "fP53mpDU0Uwn",
        "outputId": "2fde5331-13a6-45ef-cbf5-e89a18052171"
      },
      "execution_count": 10,
      "outputs": [
        {
          "output_type": "stream",
          "name": "stdout",
          "text": [
            "2 4 6 8 10 12 14 16 18  \n",
            "3 6 9 12 15 18 21 24 27  \n",
            "4 8 12 16 20 24 28 32 36  \n",
            "5 10 15 20 25 30 35 40 45  \n",
            "6 12 18 24 30 36 42 48 54  \n",
            "7 14 21 28 35 42 49 56 63  \n",
            "8 16 24 32 40 48 56 64 72  \n",
            "9 18 27 36 45 54 63 72 81  \n"
          ]
        }
      ]
    },
    {
      "cell_type": "markdown",
      "source": [
        "# 리스트 내포 사용하기"
      ],
      "metadata": {
        "id": "Hofsx7hG0r5M"
      }
    },
    {
      "cell_type": "code",
      "source": [
        "a=[1,2,3,4]\n",
        "result = []\n",
        "for num in a:\n",
        "  result.append(num*3)\n",
        "\n",
        "print(result)"
      ],
      "metadata": {
        "colab": {
          "base_uri": "https://localhost:8080/"
        },
        "id": "h5oINIlk0uGD",
        "outputId": "bb5cda97-c8d8-4c45-f684-ad84dcf21008"
      },
      "execution_count": 11,
      "outputs": [
        {
          "output_type": "stream",
          "name": "stdout",
          "text": [
            "[3, 6, 9, 12]\n"
          ]
        }
      ]
    },
    {
      "cell_type": "code",
      "source": [
        "a=[1,2,3,4]\n",
        "result = [num * 3 for num in a]\n",
        "print(result)"
      ],
      "metadata": {
        "colab": {
          "base_uri": "https://localhost:8080/"
        },
        "id": "SRNgyO5e06nW",
        "outputId": "f19c46a8-53bc-443d-de94-6b09966410d9"
      },
      "execution_count": 13,
      "outputs": [
        {
          "output_type": "stream",
          "name": "stdout",
          "text": [
            "[3, 6, 9, 12]\n"
          ]
        }
      ]
    },
    {
      "cell_type": "code",
      "source": [
        "a=[1,2,3,4]\n",
        "result = [num *3 for num in a if num % 2 ==0]\n",
        "print(result)"
      ],
      "metadata": {
        "colab": {
          "base_uri": "https://localhost:8080/"
        },
        "id": "vaSHdUlv7mxk",
        "outputId": "4f52e1f1-2e82-4a08-f076-03a4f5a8ed8b"
      },
      "execution_count": 14,
      "outputs": [
        {
          "output_type": "stream",
          "name": "stdout",
          "text": [
            "[6, 12]\n"
          ]
        }
      ]
    },
    {
      "cell_type": "markdown",
      "source": [
        "![image.png](data:image/png;base64,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)\n",
        "\n",
        "![image.png](data:image/png;base64,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)"
      ],
      "metadata": {
        "id": "IukQyhCz8Bgm"
      }
    },
    {
      "cell_type": "code",
      "source": [
        "result = [x*y for x in range(2,10)\n",
        "              for y in range(1,10)]\n",
        "print(result)"
      ],
      "metadata": {
        "colab": {
          "base_uri": "https://localhost:8080/"
        },
        "id": "84-GfE9j8JTW",
        "outputId": "488ca74f-9b2d-4ec1-edc8-e1b8828fedb1"
      },
      "execution_count": 15,
      "outputs": [
        {
          "output_type": "stream",
          "name": "stdout",
          "text": [
            "[2, 4, 6, 8, 10, 12, 14, 16, 18, 3, 6, 9, 12, 15, 18, 21, 24, 27, 4, 8, 12, 16, 20, 24, 28, 32, 36, 5, 10, 15, 20, 25, 30, 35, 40, 45, 6, 12, 18, 24, 30, 36, 42, 48, 54, 7, 14, 21, 28, 35, 42, 49, 56, 63, 8, 16, 24, 32, 40, 48, 56, 64, 72, 9, 18, 27, 36, 45, 54, 63, 72, 81]\n"
          ]
        }
      ]
    }
  ]
}