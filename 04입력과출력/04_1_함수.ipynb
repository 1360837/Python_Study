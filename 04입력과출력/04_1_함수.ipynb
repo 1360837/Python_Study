{
  "nbformat": 4,
  "nbformat_minor": 0,
  "metadata": {
    "colab": {
      "provenance": [],
      "authorship_tag": "ABX9TyMo0NjDUwnzxE7LUTf9Exs1",
      "include_colab_link": true
    },
    "kernelspec": {
      "name": "python3",
      "display_name": "Python 3"
    },
    "language_info": {
      "name": "python"
    }
  },
  "cells": [
    {
      "cell_type": "markdown",
      "metadata": {
        "id": "view-in-github",
        "colab_type": "text"
      },
      "source": [
        "<a href=\"https://colab.research.google.com/github/1360837/Python_Study/blob/main/04%EC%9E%85%EB%A0%A5%EA%B3%BC%EC%B6%9C%EB%A0%A5/04_1_%ED%95%A8%EC%88%98.ipynb\" target=\"_parent\"><img src=\"https://colab.research.google.com/assets/colab-badge.svg\" alt=\"Open In Colab\"/></a>"
      ]
    },
    {
      "cell_type": "markdown",
      "source": [
        "# 파이썬 함수의 구조\n",
        "\n",
        "    def 함수 이름(매개변수):\n",
        "      수행할 문장1\n",
        "      수행할 문장2\n",
        "      ..."
      ],
      "metadata": {
        "id": "TquQD5kmG3I_"
      }
    },
    {
      "cell_type": "code",
      "source": [
        "a=3\n",
        "b=4\n",
        "\n",
        "def add(a,b):\n",
        "  return a+b\n",
        "\n",
        "c=add(a,b)\n",
        "\n",
        "print(c)"
      ],
      "metadata": {
        "colab": {
          "base_uri": "https://localhost:8080/"
        },
        "id": "pqTE4it3IUti",
        "outputId": "3937e82f-ec54-4281-c9be-0a69c405beaa"
      },
      "execution_count": 3,
      "outputs": [
        {
          "output_type": "stream",
          "name": "stdout",
          "text": [
            "7\n"
          ]
        }
      ]
    },
    {
      "cell_type": "markdown",
      "source": [
        "# 매개변수와 인수"
      ],
      "metadata": {
        "id": "-dfjvsTZIpov"
      }
    },
    {
      "cell_type": "code",
      "source": [
        "def add(a,b): #a,b는 매개변수\n",
        "  return a+b\n",
        "\n",
        "print(add(3,4)) #3,4는 인수"
      ],
      "metadata": {
        "colab": {
          "base_uri": "https://localhost:8080/"
        },
        "id": "dfjbCybmIvvp",
        "outputId": "7eff71d8-85e2-4a9c-ac46-3b254a1f39d5"
      },
      "execution_count": 4,
      "outputs": [
        {
          "output_type": "stream",
          "name": "stdout",
          "text": [
            "7\n"
          ]
        }
      ]
    },
    {
      "cell_type": "markdown",
      "source": [
        "# 입력값과 결괏값에 따른 함수의 형태"
      ],
      "metadata": {
        "id": "O0zDCGRlJCFR"
      }
    },
    {
      "cell_type": "markdown",
      "source": [
        "일반적인 함수\n",
        "\n",
        "    def 함수이름(매개변수):\n",
        "      수행할 문장\n",
        "      ...\n",
        "      return 결괏값\n",
        "  \n",
        "        결괏값을 받을 변수 = 함수 이름(입력인수1, 입력인수2,...)"
      ],
      "metadata": {
        "id": "rBeO53G6JGvN"
      }
    },
    {
      "cell_type": "code",
      "source": [
        "def add(a,b):\n",
        "  result = a+b\n",
        "  return result #a+b의 결괏값 반환\n",
        "\n",
        "a=add(3,4)\n",
        "print(a)"
      ],
      "metadata": {
        "colab": {
          "base_uri": "https://localhost:8080/"
        },
        "id": "rBtFq6gDJL4N",
        "outputId": "40a41938-0c54-4652-f17f-52d627294bb5"
      },
      "execution_count": 5,
      "outputs": [
        {
          "output_type": "stream",
          "name": "stdout",
          "text": [
            "7\n"
          ]
        }
      ]
    },
    {
      "cell_type": "markdown",
      "source": [
        "입력값이 없는 함수\n",
        "\n",
        "    결괏값을 받을 변수 = 함수이름()"
      ],
      "metadata": {
        "id": "GYv41WFoJ8ct"
      }
    },
    {
      "cell_type": "code",
      "source": [
        "def say():\n",
        "  return 'Hi'\n",
        "\n",
        "a=say()\n",
        "print(a)"
      ],
      "metadata": {
        "colab": {
          "base_uri": "https://localhost:8080/"
        },
        "id": "0mPIkgNnJ-eX",
        "outputId": "fc4ca5ce-3bbf-4595-e3a1-c83a6e4d3f71"
      },
      "execution_count": 6,
      "outputs": [
        {
          "output_type": "stream",
          "name": "stdout",
          "text": [
            "Hi\n"
          ]
        }
      ]
    },
    {
      "cell_type": "markdown",
      "source": [
        "결괏값이 없는 함수\n",
        "\n",
        "    함수이름(입력인수1,입력인수2,..)"
      ],
      "metadata": {
        "id": "TpiwLJ1TL4Sl"
      }
    },
    {
      "cell_type": "code",
      "source": [
        "def add(a,b):\n",
        "  print(\"%d, %d의 합은 %d입니다.\"%(a,b,a+b))\n",
        "\n",
        "add(3,4)"
      ],
      "metadata": {
        "colab": {
          "base_uri": "https://localhost:8080/"
        },
        "id": "YdxAXDqOL_Mu",
        "outputId": "dc0a8f22-0ccd-4080-d548-25910578c351"
      },
      "execution_count": 9,
      "outputs": [
        {
          "output_type": "stream",
          "name": "stdout",
          "text": [
            "3, 4의 합은 7입니다.\n"
          ]
        }
      ]
    },
    {
      "cell_type": "code",
      "source": [
        "a=add(3,4)\n",
        "print(a) #결괏값이 없다"
      ],
      "metadata": {
        "colab": {
          "base_uri": "https://localhost:8080/"
        },
        "id": "fR3OVUQnMRXd",
        "outputId": "7d2fa5be-fe79-4485-c85c-a0d90d7e57aa"
      },
      "execution_count": 10,
      "outputs": [
        {
          "output_type": "stream",
          "name": "stdout",
          "text": [
            "3, 4의 합은 7입니다.\n",
            "None\n"
          ]
        }
      ]
    },
    {
      "cell_type": "markdown",
      "source": [
        "입력값도 결괏괎도 없는 함수\n",
        "\n",
        "    함수이름()"
      ],
      "metadata": {
        "id": "RgK0VjnoSW9J"
      }
    },
    {
      "cell_type": "code",
      "source": [
        "def say():\n",
        "  print('Hi')\n",
        "\n",
        "say()"
      ],
      "metadata": {
        "colab": {
          "base_uri": "https://localhost:8080/"
        },
        "id": "6HiwUGDiSZlt",
        "outputId": "09ed7f62-22b1-497d-b3c9-48ddebc5060b"
      },
      "execution_count": 11,
      "outputs": [
        {
          "output_type": "stream",
          "name": "stdout",
          "text": [
            "Hi\n"
          ]
        }
      ]
    },
    {
      "cell_type": "markdown",
      "source": [
        "# 매개변수 지정하여 호출하기"
      ],
      "metadata": {
        "id": "Rdv6jd7ASxSo"
      }
    },
    {
      "cell_type": "code",
      "source": [
        "def add(a,b):\n",
        "  return a+b\n",
        "\n",
        "result = add(a=3,b=7)\n",
        "print(result)\n",
        "\n",
        "result = add(b=5,a=3)\n",
        "print(result)"
      ],
      "metadata": {
        "colab": {
          "base_uri": "https://localhost:8080/"
        },
        "id": "YwbwDI5TSzsF",
        "outputId": "b46f13fd-82fd-450e-caf2-3c311eb54ddd"
      },
      "execution_count": 13,
      "outputs": [
        {
          "output_type": "stream",
          "name": "stdout",
          "text": [
            "10\n",
            "8\n"
          ]
        }
      ]
    },
    {
      "cell_type": "markdown",
      "source": [
        "# 입력값이 몇 개가 될지 모를 때는 어떻게 해야 할까?\n",
        "\n",
        "    def 함수이름(*매개변수):\n",
        "      수행할 문장\n",
        "      ..."
      ],
      "metadata": {
        "id": "oR6p5ojDryba"
      }
    },
    {
      "cell_type": "markdown",
      "source": [
        "여러 개의 입력값을 받는 함수 만들기"
      ],
      "metadata": {
        "id": "iQrOcz9gr2k6"
      }
    },
    {
      "cell_type": "code",
      "source": [
        "def add_many(*args):\n",
        "  result = 0\n",
        "  for i in args:\n",
        "    result = result + i\n",
        "  return result\n",
        "\n",
        "result = add_many(1,2,3)\n",
        "print(result)\n",
        "\n",
        "result = add_many(1,2,3,4,5,6,7,8,9,10)\n",
        "print(result)"
      ],
      "metadata": {
        "colab": {
          "base_uri": "https://localhost:8080/"
        },
        "id": "HxoKFTwwsb6U",
        "outputId": "93b7d949-2156-4ddf-8931-8e541cd27893"
      },
      "execution_count": 17,
      "outputs": [
        {
          "output_type": "stream",
          "name": "stdout",
          "text": [
            "6\n",
            "55\n"
          ]
        }
      ]
    },
    {
      "cell_type": "code",
      "source": [
        "def add_mul(choice,*args):\n",
        "  if choice == \"add\":\n",
        "    result = 0\n",
        "    for i in args:\n",
        "      result = result +i\n",
        "  elif choice==\"mul\":\n",
        "    result = 1\n",
        "    for i in args:\n",
        "      result = result * i\n",
        "  return result\n",
        "\n",
        "result = add_mul('add',1,2,3,4,5)\n",
        "print(result)\n",
        "result = add_mul('mul',1,2,3,4,5)\n",
        "print(result)"
      ],
      "metadata": {
        "colab": {
          "base_uri": "https://localhost:8080/"
        },
        "id": "ekXLXi78vLj8",
        "outputId": "2c134f09-88db-4b17-c19e-e9426cf16cd0"
      },
      "execution_count": 21,
      "outputs": [
        {
          "output_type": "stream",
          "name": "stdout",
          "text": [
            "15\n",
            "120\n"
          ]
        }
      ]
    },
    {
      "cell_type": "markdown",
      "source": [
        "*키워드 파라미터*\n",
        "\n",
        "    매개변수는 딕셔너리가 되고 모든 key=value형태의 결괏값이 그 딕셔너리에 저장된다."
      ],
      "metadata": {
        "id": "HBHnXHA4wXFm"
      }
    },
    {
      "cell_type": "code",
      "source": [
        "def print_kwargs(**kwargs):\n",
        "  print(kwargs)\n",
        "\n",
        "print_kwargs(a=1)\n",
        "print_kwargs(name='foo',age=3)"
      ],
      "metadata": {
        "colab": {
          "base_uri": "https://localhost:8080/"
        },
        "id": "C2otR205wm8O",
        "outputId": "37cdf375-1438-4c08-c83f-c0e04e2fa506"
      },
      "execution_count": 22,
      "outputs": [
        {
          "output_type": "stream",
          "name": "stdout",
          "text": [
            "{'a': 1}\n",
            "{'name': 'foo', 'age': 3}\n"
          ]
        }
      ]
    },
    {
      "cell_type": "markdown",
      "source": [
        "# 함수의 결괏값은 언제나 하나이다"
      ],
      "metadata": {
        "id": "lZBqGgywxKMk"
      }
    },
    {
      "cell_type": "code",
      "source": [
        "def add_and_mul(a,b):\n",
        "  return a+b,a*b #결괏값이 두개가 아닌 (a+b,a*b)인 하나의 튜플로 전달\n",
        "result = add_and_mul(3,4)\n",
        "print(result)\n",
        "result1,result2 = add_and_mul(3,4) #결괏값을 두개로 나눠 받고싶을 경우\n",
        "print(result1)\n",
        "print(result2)"
      ],
      "metadata": {
        "colab": {
          "base_uri": "https://localhost:8080/"
        },
        "id": "WWVbodM9xQT0",
        "outputId": "c1f82fdf-fdf7-434b-d1ae-0d413a128727"
      },
      "execution_count": 28,
      "outputs": [
        {
          "output_type": "stream",
          "name": "stdout",
          "text": [
            "(7, 12)\n",
            "7\n",
            "12\n"
          ]
        }
      ]
    },
    {
      "cell_type": "code",
      "source": [
        "def add_and_mul(a,b):\n",
        "  return a+b\n",
        "  return a*b #실행되지 않는 문장\n",
        "print(add_and_mul(2,3))"
      ],
      "metadata": {
        "colab": {
          "base_uri": "https://localhost:8080/"
        },
        "id": "a9NcGoEFyzYs",
        "outputId": "b5fb4bc4-236c-4279-8664-1d2ec02e3bfb"
      },
      "execution_count": 30,
      "outputs": [
        {
          "output_type": "stream",
          "name": "stdout",
          "text": [
            "5\n"
          ]
        }
      ]
    },
    {
      "cell_type": "markdown",
      "source": [
        "*return의 또 다른 쓰임새*"
      ],
      "metadata": {
        "id": "HcwFUtzx4PX4"
      }
    },
    {
      "cell_type": "code",
      "source": [
        "def say_nick(nick):\n",
        "  if nick == \"바보\":\n",
        "    return #함수를 빠져나가고 싶을 경우 사용\n",
        "  print(\"나의 별명은 %s입니다.\"&nick)\n",
        "\n",
        "\n",
        "  #만약에 입력값으로 '바보'라는 값이 들어오면 문자열을 출력하지 않고 함수를 즉시 빠져나간다."
      ],
      "metadata": {
        "id": "HuXC77in4UvW"
      },
      "execution_count": null,
      "outputs": []
    },
    {
      "cell_type": "markdown",
      "source": [
        "# 매개변수에 초깃값 미리 설정하기\n",
        "\n",
        "-초깃값을 설정해 놓은 매개변수 뒤에 초깃값을 설정해 놓지 않은 매개변수는 사용할 수 없다"
      ],
      "metadata": {
        "id": "xc5zCADi651R"
      }
    },
    {
      "cell_type": "code",
      "source": [
        "def say_myself(name,old,man=True):\n",
        "  print(\"나의 이름은 %s입니다.\"%name)\n",
        "  print(\"나이는 %d살입니다.\"%old)\n",
        "  if man:\n",
        "    print(\"남자입니다.\")\n",
        "  else:\n",
        "    print(\"여자입니다.\")\n",
        "\n",
        "print(say_myself(\"박응용\",27))\n",
        "print(say_myself(\"박응용\",27,True))\n",
        "print(say_myself(\"박응선\",27,False))"
      ],
      "metadata": {
        "colab": {
          "base_uri": "https://localhost:8080/"
        },
        "id": "lMy7fhWq68w_",
        "outputId": "22b78389-5dad-4258-91ec-b55d15a7f2b5"
      },
      "execution_count": 39,
      "outputs": [
        {
          "output_type": "stream",
          "name": "stdout",
          "text": [
            "나의 이름은 박응용입니다.\n",
            "나이는 27살입니다.\n",
            "남자입니다.\n",
            "None\n",
            "나의 이름은 박응용입니다.\n",
            "나이는 27살입니다.\n",
            "남자입니다.\n",
            "None\n",
            "나의 이름은 박응선입니다.\n",
            "나이는 27살입니다.\n",
            "여자입니다.\n",
            "None\n"
          ]
        }
      ]
    },
    {
      "cell_type": "markdown",
      "source": [
        "# 함수 안에서 선언한 변수의 효력 범위"
      ],
      "metadata": {
        "id": "WX80H6Ee8ejQ"
      }
    },
    {
      "cell_type": "code",
      "source": [
        "#vartest.py\n",
        "a=1 #함수 밖의 변수 a\n",
        "def vartest(a): #즉 변수 이름을 a가 아닌 b,c,..등으로 바꿔도 완전히 동일한 함수 이다.\n",
        "  a=a+1\n",
        "\n",
        "vartest(a)\n",
        "print(a)\n",
        "\n",
        "#결괏값이 2가 아닌 1인 이유 : def vartest(a)에서 입력값을 전달받는 매개변수 a는 함수 안에서만 사용하는 변수이지 함수 밖의 변수 a가 아니기 때문"
      ],
      "metadata": {
        "colab": {
          "base_uri": "https://localhost:8080/"
        },
        "id": "uF8jwTuP8hnf",
        "outputId": "9b0c9200-356e-41e2-c608-aaa566313f32"
      },
      "execution_count": 41,
      "outputs": [
        {
          "output_type": "stream",
          "name": "stdout",
          "text": [
            "1\n"
          ]
        }
      ]
    },
    {
      "cell_type": "code",
      "source": [
        "#vartest_error.py\n",
        "a=1\n",
        "def vartest(a):\n",
        "  a = a+1\n",
        "\n",
        "vartest(3)\n",
        "print(a)"
      ],
      "metadata": {
        "colab": {
          "base_uri": "https://localhost:8080/"
        },
        "id": "eUTXbbo59I1m",
        "outputId": "65454ae4-03fb-4667-a569-1794b94738ca"
      },
      "execution_count": 43,
      "outputs": [
        {
          "output_type": "stream",
          "name": "stdout",
          "text": [
            "1\n"
          ]
        }
      ]
    },
    {
      "cell_type": "markdown",
      "source": [
        "함수 안에서 함수 밖의 변수를 변경하는 방법"
      ],
      "metadata": {
        "id": "f9kzSHNd-VhL"
      }
    },
    {
      "cell_type": "code",
      "source": [
        "# 1.return 사용하기\n",
        "\n",
        "a=1\n",
        "def vartest(a):\n",
        "  a=a+1\n",
        "  return a\n",
        "\n",
        "a=vartest(a)\n",
        "print(a)"
      ],
      "metadata": {
        "colab": {
          "base_uri": "https://localhost:8080/"
        },
        "id": "7BBq2oWs-ZmA",
        "outputId": "5ad723d2-6314-4b5e-c029-1290691abfe9"
      },
      "execution_count": 44,
      "outputs": [
        {
          "output_type": "stream",
          "name": "stdout",
          "text": [
            "2\n"
          ]
        }
      ]
    },
    {
      "cell_type": "code",
      "source": [
        "# 2. global 명령어 사용하기\n",
        "a=1\n",
        "def vartest():\n",
        "  global a\n",
        "  a= a+1\n",
        "\n",
        "vartest()\n",
        "print(a)\n",
        "\n",
        "#외부 변수에 종속적인 함수는 좋은 함수가 아님\n",
        "#가급적 global 명령어를 사용하는 이 방법은 피하고 1번 방븝을 사용하기를 권함"
      ],
      "metadata": {
        "colab": {
          "base_uri": "https://localhost:8080/"
        },
        "id": "UB833NCA-nXb",
        "outputId": "4822c12b-c2de-4943-b474-497fa1759398"
      },
      "execution_count": 45,
      "outputs": [
        {
          "output_type": "stream",
          "name": "stdout",
          "text": [
            "2\n"
          ]
        }
      ]
    },
    {
      "cell_type": "markdown",
      "source": [
        "# lambda\n",
        "-lambda는 함수를 생성할 때 사용하는 예약어\n",
        "\n",
        "-def와 동일한 역할\n",
        "\n",
        "    lambda 매개변수1,매개변수2,...:매개변수를 사용한 표현식\n",
        "\n",
        "-def를 사용해야 할 정도로 복잡하지 않거나 def를 사용할 수 없는 곳에 주로 쓰임"
      ],
      "metadata": {
        "id": "YQ8bgUZy-y6S"
      }
    },
    {
      "cell_type": "code",
      "source": [
        "add=lambda a,b:a+b\n",
        "result=add(3,4)\n",
        "print(result)"
      ],
      "metadata": {
        "colab": {
          "base_uri": "https://localhost:8080/"
        },
        "id": "3H9mm-Fd_ENU",
        "outputId": "c8964096-c107-4db3-c88f-051c83099c8a"
      },
      "execution_count": 47,
      "outputs": [
        {
          "output_type": "stream",
          "name": "stdout",
          "text": [
            "7\n"
          ]
        }
      ]
    },
    {
      "cell_type": "code",
      "source": [
        "def add(a,b):\n",
        "  return a+b\n",
        "\n",
        "result = add(3,4)\n",
        "print(result)"
      ],
      "metadata": {
        "colab": {
          "base_uri": "https://localhost:8080/"
        },
        "id": "CHKR9n9pAdrO",
        "outputId": "e76cabcb-137c-4841-d042-07dab96e1bdb"
      },
      "execution_count": 48,
      "outputs": [
        {
          "output_type": "stream",
          "name": "stdout",
          "text": [
            "7\n"
          ]
        }
      ]
    }
  ]
}