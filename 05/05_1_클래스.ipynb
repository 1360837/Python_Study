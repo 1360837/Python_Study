{
  "nbformat": 4,
  "nbformat_minor": 0,
  "metadata": {
    "colab": {
      "provenance": [],
      "authorship_tag": "ABX9TyPyp4T6UYiYnIf392hLJNzy",
      "include_colab_link": true
    },
    "kernelspec": {
      "name": "python3",
      "display_name": "Python 3"
    },
    "language_info": {
      "name": "python"
    }
  },
  "cells": [
    {
      "cell_type": "markdown",
      "metadata": {
        "id": "view-in-github",
        "colab_type": "text"
      },
      "source": [
        "<a href=\"https://colab.research.google.com/github/1360837/Python_Study/blob/main/05/05_1_%ED%81%B4%EB%9E%98%EC%8A%A4.ipynb\" target=\"_parent\"><img src=\"https://colab.research.google.com/assets/colab-badge.svg\" alt=\"Open In Colab\"/></a>"
      ]
    },
    {
      "cell_type": "markdown",
      "source": [
        "# 클래스는 왜 필요한가?"
      ],
      "metadata": {
        "id": "eg5r4Qs5YpMI"
      }
    },
    {
      "cell_type": "code",
      "source": [
        "result=0\n",
        "\n",
        "def add(num):\n",
        "  global result\n",
        "  result+=num\n",
        "  return result\n",
        "\n",
        "print(add(3))\n",
        "print(add(4))"
      ],
      "metadata": {
        "colab": {
          "base_uri": "https://localhost:8080/"
        },
        "id": "4jVFzf1jYtIS",
        "outputId": "48984fa8-5098-4b5d-e218-f605939e9af3"
      },
      "execution_count": 1,
      "outputs": [
        {
          "output_type": "stream",
          "name": "stdout",
          "text": [
            "3\n",
            "7\n"
          ]
        }
      ]
    },
    {
      "cell_type": "code",
      "source": [
        "result1=0\n",
        "result2=0\n",
        "\n",
        "def add1(num):\n",
        "  global result1\n",
        "  result1+=num\n",
        "  return result1\n",
        "\n",
        "def add2(num):\n",
        "  global result2\n",
        "  result2+=num\n",
        "  return result2\n",
        "\n",
        "print(add1(3))\n",
        "print(add1(4))\n",
        "print(add2(3))\n",
        "print(add2(7))"
      ],
      "metadata": {
        "colab": {
          "base_uri": "https://localhost:8080/"
        },
        "id": "isDRIlXsZGRC",
        "outputId": "1f639594-a7d9-4b35-ca3b-1502a6ef3558"
      },
      "execution_count": 4,
      "outputs": [
        {
          "output_type": "stream",
          "name": "stdout",
          "text": [
            "3\n",
            "7\n",
            "3\n",
            "10\n"
          ]
        }
      ]
    },
    {
      "cell_type": "code",
      "source": [
        "class Calculator:\n",
        "  def __init__(self):\n",
        "    self.result=0\n",
        "\n",
        "  def add(self,num):\n",
        "    self.result+=num\n",
        "    return self.result\n",
        "\n",
        "cal1=Calculator()\n",
        "cal2=Calculator()\n",
        "\n",
        "print(cal1.add(3))\n",
        "print(cal1.add(4))\n",
        "print(cal2.add(3))\n",
        "print(cal2.add(7))"
      ],
      "metadata": {
        "colab": {
          "base_uri": "https://localhost:8080/"
        },
        "id": "V5YgNYVnZqZH",
        "outputId": "c233c9fa-0b5e-456b-8045-43e6a59b8b2e"
      },
      "execution_count": 7,
      "outputs": [
        {
          "output_type": "stream",
          "name": "stdout",
          "text": [
            "3\n",
            "7\n",
            "3\n",
            "10\n"
          ]
        }
      ]
    },
    {
      "cell_type": "code",
      "source": [
        "def sub(self,num):\n",
        "  self.result-=num\n",
        "  return self.result"
      ],
      "metadata": {
        "id": "9iyZ5hpThPt6"
      },
      "execution_count": null,
      "outputs": []
    },
    {
      "cell_type": "markdown",
      "source": [
        "# 클래스와 객체\n",
        "\n",
        "-과자 틀 : 클래스(class)\n",
        "\n",
        "-과자 틀을 사용해 만든 과자 : 객체(object)"
      ],
      "metadata": {
        "id": "VFz6zisghalM"
      }
    },
    {
      "cell_type": "code",
      "source": [
        "class Cookie:\n",
        "  pass"
      ],
      "metadata": {
        "id": "Tmlr3FMHhcmb"
      },
      "execution_count": null,
      "outputs": []
    },
    {
      "cell_type": "code",
      "source": [
        "a=Cookie()\n",
        "b=Cookie()"
      ],
      "metadata": {
        "id": "YsmXp9rPhtaC"
      },
      "execution_count": null,
      "outputs": []
    },
    {
      "cell_type": "markdown",
      "source": [
        "*객체와 인스턴스의 차이*\n",
        "\n",
        "*a=Cookie()에서 a는 객체이고 Cookie의 인스턴스이다*"
      ],
      "metadata": {
        "id": "W9NxI_Xchw_M"
      }
    },
    {
      "cell_type": "markdown",
      "source": [
        "# 사칙연산 클래스 만들기"
      ],
      "metadata": {
        "id": "2Hiqyxbah_eh"
      }
    },
    {
      "cell_type": "code",
      "source": [
        "class FourCal:\n",
        "  def setdata(self,first,second):\n",
        "    self.first=first\n",
        "    self.second=second\n",
        "  def add(self):\n",
        "    result=self.first+self.second\n",
        "    return result\n",
        "  def mul(self):\n",
        "    result=self.first*self.second\n",
        "    return result\n",
        "  def div(self):\n",
        "    result=self.first/self.second\n",
        "    return result"
      ],
      "metadata": {
        "id": "EHh1fSCxiBXI"
      },
      "execution_count": null,
      "outputs": []
    },
    {
      "cell_type": "markdown",
      "source": [
        "# 생성자(Constructor)"
      ],
      "metadata": {
        "id": "wejC5Cv1v88V"
      }
    },
    {
      "cell_type": "code",
      "source": [
        "class FourCal:\n",
        "  def __init__(self,first,second):\n",
        "    self.first=first\n",
        "    self.second=second\n",
        "  def setdata(self,first,second):\n",
        "    self.first=first\n",
        "    self.second=second\n",
        "  def add(self):\n",
        "    result=self.first+self.second\n",
        "    return result\n",
        "  def mul(self):\n",
        "    result=self.first*self.second\n",
        "    return result\n",
        "  def div(self):\n",
        "    result=self.first/self.second\n",
        "    return result"
      ],
      "metadata": {
        "id": "yQ8wqRaRv_87"
      },
      "execution_count": 9,
      "outputs": []
    },
    {
      "cell_type": "markdown",
      "source": [
        "# 클래스의 상속\n",
        "\n",
        "\n",
        "\n",
        "> class 클래스 이름(상속할 클래스 이름)\n",
        "\n",
        "상속해야하는 이유 : 기존 클래스를 변경하지 않고 기능을 추가하거나 기존 기능을 변경하려고 할때 사용한다.\n",
        "\n",
        "기존 클래스가 라이브러리 형태로 제공되거나 수정이 허용되지 않는 상황이라면 상속을 사용해야 한다.\n",
        "\n"
      ],
      "metadata": {
        "id": "ecty8afjwoAs"
      }
    },
    {
      "cell_type": "code",
      "source": [
        "class MoreFourCal(FourCal):\n",
        "  pass\n",
        "#MoreFourCal 클래스는 FourCal 클래스를 상속했으므로 FourCal 클래스의 모든 기능을 사용할 수 있어야 한다."
      ],
      "metadata": {
        "id": "qf6aeGAjwr5H"
      },
      "execution_count": null,
      "outputs": []
    },
    {
      "cell_type": "code",
      "source": [
        "class MoreFourCal(FourCal):\n",
        "  def pow(self):\n",
        "    result=self.first**self.second\n",
        "    return result\n",
        "#제곱계산 기능 추가"
      ],
      "metadata": {
        "id": "FyRMDqf6xdZ2"
      },
      "execution_count": null,
      "outputs": []
    },
    {
      "cell_type": "markdown",
      "source": [
        "메서드 오버라이딩"
      ],
      "metadata": {
        "id": "nJFpO1BNxsng"
      }
    },
    {
      "cell_type": "code",
      "source": [
        "a=FourCal(4,0)\n",
        "a.div()\n",
        "#4를 0으로 나누려고 하기에 오류발생\n",
        "#오류가 아닌 값 0을 돌려주기 위해서는?"
      ],
      "metadata": {
        "colab": {
          "base_uri": "https://localhost:8080/",
          "height": 339
        },
        "id": "QOSGRX4cxz5g",
        "outputId": "45c422f8-10f1-4d2e-ad20-3fb25ccc9900"
      },
      "execution_count": 12,
      "outputs": [
        {
          "output_type": "error",
          "ename": "ZeroDivisionError",
          "evalue": "ignored",
          "traceback": [
            "\u001b[0;31m---------------------------------------------------------------------------\u001b[0m",
            "\u001b[0;31mZeroDivisionError\u001b[0m                         Traceback (most recent call last)",
            "\u001b[0;32m<ipython-input-12-57687ad9e7f8>\u001b[0m in \u001b[0;36m<cell line: 2>\u001b[0;34m()\u001b[0m\n\u001b[1;32m      1\u001b[0m \u001b[0ma\u001b[0m\u001b[0;34m=\u001b[0m\u001b[0mFourCal\u001b[0m\u001b[0;34m(\u001b[0m\u001b[0;36m4\u001b[0m\u001b[0;34m,\u001b[0m\u001b[0;36m0\u001b[0m\u001b[0;34m)\u001b[0m\u001b[0;34m\u001b[0m\u001b[0;34m\u001b[0m\u001b[0m\n\u001b[0;32m----> 2\u001b[0;31m \u001b[0ma\u001b[0m\u001b[0;34m.\u001b[0m\u001b[0mdiv\u001b[0m\u001b[0;34m(\u001b[0m\u001b[0;34m)\u001b[0m\u001b[0;34m\u001b[0m\u001b[0;34m\u001b[0m\u001b[0m\n\u001b[0m\u001b[1;32m      3\u001b[0m \u001b[0;31m#4를 0으로 나누려고 하기에 오류발생\u001b[0m\u001b[0;34m\u001b[0m\u001b[0;34m\u001b[0m\u001b[0m\n\u001b[1;32m      4\u001b[0m \u001b[0;31m#오류가 아닌 값 0을 돌려주기 위해서는?\u001b[0m\u001b[0;34m\u001b[0m\u001b[0;34m\u001b[0m\u001b[0m\n",
            "\u001b[0;32m<ipython-input-9-ba904c849215>\u001b[0m in \u001b[0;36mdiv\u001b[0;34m(self)\u001b[0m\n\u001b[1;32m     13\u001b[0m     \u001b[0;32mreturn\u001b[0m \u001b[0mresult\u001b[0m\u001b[0;34m\u001b[0m\u001b[0;34m\u001b[0m\u001b[0m\n\u001b[1;32m     14\u001b[0m   \u001b[0;32mdef\u001b[0m \u001b[0mdiv\u001b[0m\u001b[0;34m(\u001b[0m\u001b[0mself\u001b[0m\u001b[0;34m)\u001b[0m\u001b[0;34m:\u001b[0m\u001b[0;34m\u001b[0m\u001b[0;34m\u001b[0m\u001b[0m\n\u001b[0;32m---> 15\u001b[0;31m     \u001b[0mresult\u001b[0m\u001b[0;34m=\u001b[0m\u001b[0mself\u001b[0m\u001b[0;34m.\u001b[0m\u001b[0mfirst\u001b[0m\u001b[0;34m/\u001b[0m\u001b[0mself\u001b[0m\u001b[0;34m.\u001b[0m\u001b[0msecond\u001b[0m\u001b[0;34m\u001b[0m\u001b[0;34m\u001b[0m\u001b[0m\n\u001b[0m\u001b[1;32m     16\u001b[0m     \u001b[0;32mreturn\u001b[0m \u001b[0mresult\u001b[0m\u001b[0;34m\u001b[0m\u001b[0;34m\u001b[0m\u001b[0m\n",
            "\u001b[0;31mZeroDivisionError\u001b[0m: division by zero"
          ]
        }
      ]
    },
    {
      "cell_type": "code",
      "source": [
        "class SafeFourCal(FourCal):\n",
        "  def div(self):\n",
        "    if self.second==0:return 0\n",
        "    else: return self.first/self.second"
      ],
      "metadata": {
        "id": "f6DZUHQDyBB1"
      },
      "execution_count": 10,
      "outputs": []
    },
    {
      "cell_type": "code",
      "source": [
        "a=SafeFourCal(4,0)\n",
        "a.div()"
      ],
      "metadata": {
        "colab": {
          "base_uri": "https://localhost:8080/"
        },
        "id": "wc-U937cyddN",
        "outputId": "e933a35a-721f-4930-cce8-15dd2fe7bf03"
      },
      "execution_count": 11,
      "outputs": [
        {
          "output_type": "execute_result",
          "data": {
            "text/plain": [
              "0"
            ]
          },
          "metadata": {},
          "execution_count": 11
        }
      ]
    },
    {
      "cell_type": "markdown",
      "source": [
        "# 클래스 변수\n",
        "\n",
        "객체변수는 다른 객체들에 영향받지 않고 독립적으로 그 값을 유지한다\n",
        "\n",
        "클래스변수는 클래스로 만든 모든 객체에 공유된다는 특징이 있다."
      ],
      "metadata": {
        "id": "F3NzrIz2ykiE"
      }
    },
    {
      "cell_type": "code",
      "source": [
        "class Family:\n",
        "  lastname=\"김\""
      ],
      "metadata": {
        "id": "VuPkVXZqymd9"
      },
      "execution_count": null,
      "outputs": []
    }
  ]
}