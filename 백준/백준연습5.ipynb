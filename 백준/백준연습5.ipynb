{
  "nbformat": 4,
  "nbformat_minor": 0,
  "metadata": {
    "colab": {
      "provenance": [],
      "authorship_tag": "ABX9TyP/9/vj2wi70E+Ca6PFLd7P",
      "include_colab_link": true
    },
    "kernelspec": {
      "name": "python3",
      "display_name": "Python 3"
    },
    "language_info": {
      "name": "python"
    }
  },
  "cells": [
    {
      "cell_type": "markdown",
      "metadata": {
        "id": "view-in-github",
        "colab_type": "text"
      },
      "source": [
        "<a href=\"https://colab.research.google.com/github/1360837/Python_Study/blob/main/%EB%B0%B1%EC%A4%80/%EB%B0%B1%EC%A4%80%EC%97%B0%EC%8A%B55.ipynb\" target=\"_parent\"><img src=\"https://colab.research.google.com/assets/colab-badge.svg\" alt=\"Open In Colab\"/></a>"
      ]
    },
    {
      "cell_type": "code",
      "source": [
        "#1193 분수찾기\n",
        "\n",
        "X=int(input())\n",
        "Sum=0\n",
        "i=1\n",
        "while Sum<X:\n",
        "  Sum+=i\n",
        "  i+=1\n",
        "if i%2==1:\n",
        "  print(i-Sum+X-1,\"/\",Sum-X+1,sep=\"\")\n",
        "else:\n",
        "  print(Sum-X+1,\"/\",i-Sum+X-1,sep=\"\")"
      ],
      "metadata": {
        "colab": {
          "base_uri": "https://localhost:8080/"
        },
        "id": "xTO4qr5etAOn",
        "outputId": "0d2cdeaa-fb48-4a03-cbfc-ede8f8ac9a5f"
      },
      "execution_count": null,
      "outputs": [
        {
          "output_type": "stream",
          "name": "stdout",
          "text": [
            "14\n",
            "2/4\n"
          ]
        }
      ]
    },
    {
      "cell_type": "code",
      "source": [
        "#2748 피보나치 수 2\n",
        "\n",
        "n=int(input())\n",
        "\n",
        "n1=n2=1\n",
        "if n==1 or n==2:\n",
        "  print(1)\n",
        "else:\n",
        "  for _ in range(n-2):\n",
        "    temp=n2\n",
        "    n2=n1+n2\n",
        "    n1=temp\n",
        "  print(n2)"
      ],
      "metadata": {
        "colab": {
          "base_uri": "https://localhost:8080/"
        },
        "id": "BLrDXgV6xX40",
        "outputId": "38df8450-abe7-49ae-a41b-5f1e3ea42fdc"
      },
      "execution_count": null,
      "outputs": [
        {
          "output_type": "stream",
          "name": "stdout",
          "text": [
            "6\n",
            "8\n"
          ]
        }
      ]
    },
    {
      "cell_type": "code",
      "source": [
        "#9461 파도반 수열\n",
        "\n",
        "T=int(input())\n",
        "\n",
        "for _ in range(T):\n",
        "  N=int(input())\n",
        "  num=[0,1,1,1,2]\n",
        "  if N<=4:\n",
        "    print(num[N])\n",
        "  else:\n",
        "    for i in range(N-4):\n",
        "      num[i%5]=num[i%5]+num[(i+4)%5]\n",
        "    print(num[i%5])"
      ],
      "metadata": {
        "colab": {
          "base_uri": "https://localhost:8080/"
        },
        "id": "YtIo1wYCEsvB",
        "outputId": "50e963ea-bfb4-4f74-f6b1-6fbe3f86abeb"
      },
      "execution_count": null,
      "outputs": [
        {
          "output_type": "stream",
          "name": "stdout",
          "text": [
            "2\n",
            "6\n",
            "3\n",
            "12\n",
            "16\n"
          ]
        }
      ]
    },
    {
      "cell_type": "code",
      "source": [
        "#1026 보물\n",
        "\n",
        "N=int(input())\n",
        "\n",
        "A=list(map(int,input().split()))\n",
        "B=list(map(int,input().split()))\n",
        "S=[]\n",
        "\n",
        "for _ in range(N):\n",
        "  S.append(min(A[:])*max(B[:]))\n",
        "  A.remove(min(A[:]))\n",
        "  B.remove(max(B[:]))\n",
        "print(sum(S))"
      ],
      "metadata": {
        "colab": {
          "base_uri": "https://localhost:8080/"
        },
        "id": "IPIL2bn_H2uj",
        "outputId": "5977b0e5-a4a6-4694-e6a8-0d130b4ba5c2"
      },
      "execution_count": null,
      "outputs": [
        {
          "output_type": "stream",
          "name": "stdout",
          "text": [
            "9\n",
            "5 15 100 31 39 0 0 3 26\n",
            "11 12 13 2 3 4 5 9 1\n",
            "528\n"
          ]
        }
      ]
    },
    {
      "cell_type": "code",
      "source": [
        "#25501 재귀의 귀재\n",
        "\n",
        "cnt=0\n",
        "\n",
        "def recursion(S,l,r):\n",
        "  global cnt\n",
        "  cnt+=1\n",
        "  if (l>=r): return 1\n",
        "  elif (S[l]!=S[r]): return 0\n",
        "  else : return recursion(S,l+1,r-1)\n",
        "\n",
        "def isPalindrome(S):\n",
        "  return recursion(S,0,len(S)-1)\n",
        "\n",
        "T=int(input())\n",
        "\n",
        "for _ in range(T):\n",
        "  S=str(input())\n",
        "  cnt=0\n",
        "  print(isPalindrome(S),cnt)"
      ],
      "metadata": {
        "id": "Qt7HvlYnJxIh",
        "colab": {
          "base_uri": "https://localhost:8080/"
        },
        "outputId": "4c9d3057-3979-4016-f4cc-058394176eed"
      },
      "execution_count": 16,
      "outputs": [
        {
          "output_type": "stream",
          "name": "stdout",
          "text": [
            "1\n",
            "ZBBz\n",
            "0 1\n"
          ]
        }
      ]
    },
    {
      "cell_type": "code",
      "source": [
        "#11729 하노이 탑 이동 순서\n",
        "\n",
        "N=int(input())\n",
        "print(2**N-1)\n",
        "\n",
        "def hanoi(n,F,T,B):\n",
        "  if n==0: return\n",
        "  hanoi(n-1,F,B,T)\n",
        "  print(F,T)\n",
        "  hanoi(n-1,B,T,F)\n",
        "\n",
        "hanoi(N,1,3,2)"
      ],
      "metadata": {
        "colab": {
          "base_uri": "https://localhost:8080/"
        },
        "id": "dk3VmKIVqm49",
        "outputId": "a8962620-15d9-4394-8657-655fa6ebd7b3"
      },
      "execution_count": 26,
      "outputs": [
        {
          "output_type": "stream",
          "name": "stdout",
          "text": [
            "3\n",
            "7\n",
            "1 3\n",
            "1 2\n",
            "3 2\n",
            "1 3\n",
            "2 1\n",
            "2 3\n",
            "1 3\n"
          ]
        }
      ]
    }
  ]
}