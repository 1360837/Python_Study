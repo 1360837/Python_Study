{
  "nbformat": 4,
  "nbformat_minor": 0,
  "metadata": {
    "colab": {
      "provenance": [],
      "authorship_tag": "ABX9TyPQLLtuao5hnekdI9FOqbDM",
      "include_colab_link": true
    },
    "kernelspec": {
      "name": "python3",
      "display_name": "Python 3"
    },
    "language_info": {
      "name": "python"
    }
  },
  "cells": [
    {
      "cell_type": "markdown",
      "metadata": {
        "id": "view-in-github",
        "colab_type": "text"
      },
      "source": [
        "<a href=\"https://colab.research.google.com/github/1360837/Python_Study/blob/main/%EB%B0%B1%EC%A4%80/%EB%B0%B1%EC%A4%80%EC%97%B0%EC%8A%B53.ipynb\" target=\"_parent\"><img src=\"https://colab.research.google.com/assets/colab-badge.svg\" alt=\"Open In Colab\"/></a>"
      ]
    },
    {
      "cell_type": "code",
      "execution_count": 14,
      "metadata": {
        "colab": {
          "base_uri": "https://localhost:8080/"
        },
        "id": "9XC5bGQ6bpD8",
        "outputId": "82f72932-ac2e-46d4-a440-3874b2cb0bd5"
      },
      "outputs": [
        {
          "name": "stdout",
          "output_type": "stream",
          "text": [
            "121\n",
            "yes\n",
            "0\n"
          ]
        }
      ],
      "source": [
        "#1259 팰린드롬수 \n",
        "\n",
        "while 1:\n",
        "  n=input()\n",
        "  if(n=='0'):break\n",
        "  print('yes' if n==n[::-1] else 'no')"
      ]
    },
    {
      "cell_type": "code",
      "source": [
        "#5598 카이사르 암호 \n",
        "\n",
        "c=input()\n",
        "\n",
        "for i in range(len(c)):\n",
        "  p=ord(c[i])\n",
        "  if p>=68: print('%c'%chr(p-3),end=(''))\n",
        "  else : print('%c'%chr(p+23),end=(''))"
      ],
      "metadata": {
        "colab": {
          "base_uri": "https://localhost:8080/"
        },
        "id": "HZMTPHUYifEQ",
        "outputId": "021ead47-0bd0-421a-9f8f-61bb7c156c0e"
      },
      "execution_count": 20,
      "outputs": [
        {
          "output_type": "stream",
          "name": "stdout",
          "text": [
            "FURDWLD\n",
            "CROATIA"
          ]
        }
      ]
    },
    {
      "cell_type": "code",
      "source": [
        "#1977 완전제곱수\n",
        "\n",
        "M=int(input())\n",
        "N=int(input())\n",
        "C=[]\n",
        "\n",
        "for i in range(M,N+1):\n",
        "  for j in range(i):\n",
        "    if((i//(j+1))==(j+1) and (i%(j+1)==0)) : C.append(i)\n",
        "\n",
        "if C : \n",
        "  print(sum(C))\n",
        "  print(min(C))\n",
        "else : print(-1)"
      ],
      "metadata": {
        "colab": {
          "base_uri": "https://localhost:8080/"
        },
        "id": "oAFXqVFSku1s",
        "outputId": "1fc34e97-786d-40fd-98f9-6fe07e95a430"
      },
      "execution_count": 28,
      "outputs": [
        {
          "output_type": "stream",
          "name": "stdout",
          "text": [
            "60\n",
            "100\n",
            "245\n",
            "64\n"
          ]
        }
      ]
    }
  ]
}