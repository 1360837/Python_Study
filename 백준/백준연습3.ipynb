{
  "nbformat": 4,
  "nbformat_minor": 0,
  "metadata": {
    "colab": {
      "provenance": [],
      "authorship_tag": "ABX9TyP/c1Up14IlABe8ulzCErDB",
      "include_colab_link": true
    },
    "kernelspec": {
      "name": "python3",
      "display_name": "Python 3"
    },
    "language_info": {
      "name": "python"
    }
  },
  "cells": [
    {
      "cell_type": "markdown",
      "metadata": {
        "id": "view-in-github",
        "colab_type": "text"
      },
      "source": [
        "<a href=\"https://colab.research.google.com/github/1360837/Python_Study/blob/main/%EB%B0%B1%EC%A4%80/%EB%B0%B1%EC%A4%80%EC%97%B0%EC%8A%B53.ipynb\" target=\"_parent\"><img src=\"https://colab.research.google.com/assets/colab-badge.svg\" alt=\"Open In Colab\"/></a>"
      ]
    },
    {
      "cell_type": "code",
      "execution_count": null,
      "metadata": {
        "colab": {
          "base_uri": "https://localhost:8080/"
        },
        "id": "9XC5bGQ6bpD8",
        "outputId": "82f72932-ac2e-46d4-a440-3874b2cb0bd5"
      },
      "outputs": [
        {
          "name": "stdout",
          "output_type": "stream",
          "text": [
            "121\n",
            "yes\n",
            "0\n"
          ]
        }
      ],
      "source": [
        "#1259 팰린드롬수 \n",
        "\n",
        "while 1:\n",
        "  n=input()\n",
        "  if(n=='0'):break\n",
        "  print('yes' if n==n[::-1] else 'no')"
      ]
    },
    {
      "cell_type": "code",
      "source": [
        "#5598 카이사르 암호 \n",
        "\n",
        "c=input()\n",
        "\n",
        "for i in range(len(c)):\n",
        "  p=ord(c[i])\n",
        "  if p>=68: print('%c'%chr(p-3),end=(''))\n",
        "  else : print('%c'%chr(p+23),end=(''))"
      ],
      "metadata": {
        "colab": {
          "base_uri": "https://localhost:8080/"
        },
        "id": "HZMTPHUYifEQ",
        "outputId": "021ead47-0bd0-421a-9f8f-61bb7c156c0e"
      },
      "execution_count": null,
      "outputs": [
        {
          "output_type": "stream",
          "name": "stdout",
          "text": [
            "FURDWLD\n",
            "CROATIA"
          ]
        }
      ]
    },
    {
      "cell_type": "code",
      "source": [
        "#1977 완전제곱수\n",
        "\n",
        "M=int(input())\n",
        "N=int(input())\n",
        "C=[]\n",
        "\n",
        "for i in range(M,N+1):\n",
        "  for j in range(i):\n",
        "    if((i//(j+1))==(j+1) and (i%(j+1)==0)) : C.append(i)\n",
        "\n",
        "if C : \n",
        "  print(sum(C))\n",
        "  print(min(C))\n",
        "else : print(-1)"
      ],
      "metadata": {
        "colab": {
          "base_uri": "https://localhost:8080/"
        },
        "id": "oAFXqVFSku1s",
        "outputId": "1fc34e97-786d-40fd-98f9-6fe07e95a430"
      },
      "execution_count": null,
      "outputs": [
        {
          "output_type": "stream",
          "name": "stdout",
          "text": [
            "60\n",
            "100\n",
            "245\n",
            "64\n"
          ]
        }
      ]
    },
    {
      "cell_type": "code",
      "source": [
        "#18883 N M 찍기\n",
        "\n",
        "N,M=map(int,input().split())\n",
        "count=1\n",
        "for _ in range (N):\n",
        "  for _ in range (M-1):\n",
        "    print(count, end = (' '))\n",
        "    count+=1\n",
        "  print(count)\n",
        "  count+=1"
      ],
      "metadata": {
        "colab": {
          "base_uri": "https://localhost:8080/"
        },
        "id": "y2InJHJtE7fK",
        "outputId": "793492f3-1083-45da-bab0-a792d37af56e"
      },
      "execution_count": 8,
      "outputs": [
        {
          "output_type": "stream",
          "name": "stdout",
          "text": [
            "3 4\n",
            "1 2 3 4\n",
            "5 6 7 8\n",
            "9 10 11 12\n"
          ]
        }
      ]
    },
    {
      "cell_type": "code",
      "source": [
        "#18883 N M 찍기 (2)\n",
        "\n",
        "N,M=map(int,input().split())\n",
        "\n",
        "for i in range (1,N*M+1):\n",
        "  if i%M==0:\n",
        "    print(i)\n",
        "  else :\n",
        "    print(i,end=' ')"
      ],
      "metadata": {
        "colab": {
          "base_uri": "https://localhost:8080/"
        },
        "id": "gFkwwkZmHtyI",
        "outputId": "91f706c5-59e5-49ba-dfee-e46bd2c34ff2"
      },
      "execution_count": null,
      "outputs": [
        {
          "output_type": "stream",
          "name": "stdout",
          "text": [
            "3 4\n",
            "1 2 3 4\n",
            "5 6 7 8\n",
            "9 10 11 12\n"
          ]
        }
      ]
    },
    {
      "cell_type": "code",
      "source": [
        "#1834 나머지와 몫이 같은 수\n",
        "\n",
        "n=int(input())\n",
        "sum=0\n",
        "\n",
        "for i in range(n+1,n**2,n+1):\n",
        "  sum+=i\n",
        "print(sum)"
      ],
      "metadata": {
        "colab": {
          "base_uri": "https://localhost:8080/"
        },
        "id": "Hn2Jyg1zGyLb",
        "outputId": "9bd2ccfb-1010-4ab0-bf49-a95d53d838ca"
      },
      "execution_count": null,
      "outputs": [
        {
          "output_type": "stream",
          "name": "stdout",
          "text": [
            "2000000\n",
            "3999999999999000000\n"
          ]
        }
      ]
    },
    {
      "cell_type": "code",
      "source": [
        "#1789 수들의 합\n",
        "\n",
        "N=int(input())\n",
        "sum=0\n",
        "\n",
        "for i in range(1,N+1):\n",
        "  sum+=i\n",
        "  if (sum>N):\n",
        "    i-=1\n",
        "    break\n",
        "print(i)"
      ],
      "metadata": {
        "colab": {
          "base_uri": "https://localhost:8080/"
        },
        "id": "Ms4zI2h_LfD8",
        "outputId": "1eabe4c2-0861-4c10-da2b-334cd549b528"
      },
      "execution_count": null,
      "outputs": [
        {
          "output_type": "stream",
          "name": "stdout",
          "text": [
            "20\n",
            "5\n"
          ]
        }
      ]
    },
    {
      "cell_type": "code",
      "source": [
        "#2822 점수계산\n",
        "\n",
        "S=[]\n",
        "for _ in range(8):\n",
        "  S.append(int(input()))\n",
        "\n",
        "print(sum(sorted(S)[3:]))\n",
        "N=[]\n",
        "for i in sorted(S)[3:]:\n",
        "  N.append(S.index(i))\n",
        "for i in sorted(N):\n",
        "  print(i+1,end=\" \")"
      ],
      "metadata": {
        "colab": {
          "base_uri": "https://localhost:8080/"
        },
        "id": "2dbz5rYkcsMx",
        "outputId": "7f298e90-c496-4477-d8ea-cec8d6047f04"
      },
      "execution_count": null,
      "outputs": [
        {
          "output_type": "stream",
          "name": "stdout",
          "text": [
            "20\n",
            "30\n",
            "50\n",
            "48\n",
            "33\n",
            "66\n",
            "64\n",
            "0\n",
            "261\n",
            "3 4 5 6 7 "
          ]
        }
      ]
    },
    {
      "cell_type": "code",
      "source": [
        "#1004 어린 왕자\n",
        "\n",
        "T=int(input())\n",
        "\n",
        "for _ in range(T):\n",
        "  count=0\n",
        "  x1,y1,x2,y2=map(int,input().split())\n",
        "  n=int(input())\n",
        "  for i in range (n):\n",
        "    cx,cy,r=map(int,input().split())\n",
        "    if (((cx-x1)**2 + (cy-y1)**2)<r**2) or (((cx-x2)**2 + (cy-y2)**2)<r**2) : count+=1\n",
        "    if (((cx-x1)**2 + (cy-y1)**2)<r**2) and (((cx-x2)**2 + (cy-y2)**2)<r**2) : count-=1\n",
        "  print(count)"
      ],
      "metadata": {
        "id": "qItUYZ1QLGvB"
      },
      "execution_count": null,
      "outputs": []
    }
  ]
}