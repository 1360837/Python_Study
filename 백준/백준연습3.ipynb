{
  "nbformat": 4,
  "nbformat_minor": 0,
  "metadata": {
    "colab": {
      "provenance": [],
      "authorship_tag": "ABX9TyO0EkEETZoPbWBngll4/bgi",
      "include_colab_link": true
    },
    "kernelspec": {
      "name": "python3",
      "display_name": "Python 3"
    },
    "language_info": {
      "name": "python"
    }
  },
  "cells": [
    {
      "cell_type": "markdown",
      "metadata": {
        "id": "view-in-github",
        "colab_type": "text"
      },
      "source": [
        "<a href=\"https://colab.research.google.com/github/1360837/Python_Study/blob/main/%EB%B0%B1%EC%A4%80/%EB%B0%B1%EC%A4%80%EC%97%B0%EC%8A%B53.ipynb\" target=\"_parent\"><img src=\"https://colab.research.google.com/assets/colab-badge.svg\" alt=\"Open In Colab\"/></a>"
      ]
    },
    {
      "cell_type": "code",
      "execution_count": null,
      "metadata": {
        "colab": {
          "base_uri": "https://localhost:8080/"
        },
        "id": "9XC5bGQ6bpD8",
        "outputId": "82f72932-ac2e-46d4-a440-3874b2cb0bd5"
      },
      "outputs": [
        {
          "name": "stdout",
          "output_type": "stream",
          "text": [
            "121\n",
            "yes\n",
            "0\n"
          ]
        }
      ],
      "source": [
        "#1259 팰린드롬수 \n",
        "\n",
        "while 1:\n",
        "  n=input()\n",
        "  if(n=='0'):break\n",
        "  print('yes' if n==n[::-1] else 'no')"
      ]
    },
    {
      "cell_type": "code",
      "source": [
        "#5598 카이사르 암호 \n",
        "\n",
        "c=input()\n",
        "\n",
        "for i in range(len(c)):\n",
        "  p=ord(c[i])\n",
        "  if p>=68: print('%c'%chr(p-3),end=(''))\n",
        "  else : print('%c'%chr(p+23),end=(''))"
      ],
      "metadata": {
        "colab": {
          "base_uri": "https://localhost:8080/"
        },
        "id": "HZMTPHUYifEQ",
        "outputId": "021ead47-0bd0-421a-9f8f-61bb7c156c0e"
      },
      "execution_count": null,
      "outputs": [
        {
          "output_type": "stream",
          "name": "stdout",
          "text": [
            "FURDWLD\n",
            "CROATIA"
          ]
        }
      ]
    },
    {
      "cell_type": "code",
      "source": [
        "#1977 완전제곱수\n",
        "\n",
        "M=int(input())\n",
        "N=int(input())\n",
        "C=[]\n",
        "\n",
        "for i in range(M,N+1):\n",
        "  for j in range(i):\n",
        "    if((i//(j+1))==(j+1) and (i%(j+1)==0)) : C.append(i)\n",
        "\n",
        "if C : \n",
        "  print(sum(C))\n",
        "  print(min(C))\n",
        "else : print(-1)"
      ],
      "metadata": {
        "colab": {
          "base_uri": "https://localhost:8080/"
        },
        "id": "oAFXqVFSku1s",
        "outputId": "1fc34e97-786d-40fd-98f9-6fe07e95a430"
      },
      "execution_count": null,
      "outputs": [
        {
          "output_type": "stream",
          "name": "stdout",
          "text": [
            "60\n",
            "100\n",
            "245\n",
            "64\n"
          ]
        }
      ]
    },
    {
      "cell_type": "code",
      "source": [
        "#18883 N M 찍기 - 틀린 이유 모름...\n",
        "\n",
        "N,M=map(int,input().split())\n",
        "\n",
        "for i in range (N):\n",
        "  for j in range (M):\n",
        "    print('%d'%((i*M)+j+1), end = (' '))\n",
        "  print('')"
      ],
      "metadata": {
        "colab": {
          "base_uri": "https://localhost:8080/"
        },
        "id": "y2InJHJtE7fK",
        "outputId": "c01e9f5d-06d3-4eb0-d690-2b2eb570fd4e"
      },
      "execution_count": null,
      "outputs": [
        {
          "output_type": "stream",
          "name": "stdout",
          "text": [
            "10 11\n",
            "1 2 3 4 5 6 7 8 9 10 11 \n",
            "12 13 14 15 16 17 18 19 20 21 22 \n",
            "23 24 25 26 27 28 29 30 31 32 33 \n",
            "34 35 36 37 38 39 40 41 42 43 44 \n",
            "45 46 47 48 49 50 51 52 53 54 55 \n",
            "56 57 58 59 60 61 62 63 64 65 66 \n",
            "67 68 69 70 71 72 73 74 75 76 77 \n",
            "78 79 80 81 82 83 84 85 86 87 88 \n",
            "89 90 91 92 93 94 95 96 97 98 99 \n",
            "100 101 102 103 104 105 106 107 108 109 110 \n"
          ]
        }
      ]
    },
    {
      "cell_type": "code",
      "source": [
        "#18883 N M 찍기 (2)\n",
        "\n",
        "N,M=map(int,input().split())\n",
        "\n",
        "for i in range (1,N*M+1):\n",
        "  if i%M==0:\n",
        "    print(i)\n",
        "  else :\n",
        "    print(i,end=' ')"
      ],
      "metadata": {
        "colab": {
          "base_uri": "https://localhost:8080/"
        },
        "id": "gFkwwkZmHtyI",
        "outputId": "91f706c5-59e5-49ba-dfee-e46bd2c34ff2"
      },
      "execution_count": null,
      "outputs": [
        {
          "output_type": "stream",
          "name": "stdout",
          "text": [
            "3 4\n",
            "1 2 3 4\n",
            "5 6 7 8\n",
            "9 10 11 12\n"
          ]
        }
      ]
    },
    {
      "cell_type": "code",
      "source": [
        "#1834 나머지와 몫이 같은 수\n",
        "\n",
        "n=int(input())\n",
        "sum=0\n",
        "\n",
        "for i in range(n+1,n**2,n+1):\n",
        "  sum+=i\n",
        "print(sum)"
      ],
      "metadata": {
        "colab": {
          "base_uri": "https://localhost:8080/"
        },
        "id": "Hn2Jyg1zGyLb",
        "outputId": "9bd2ccfb-1010-4ab0-bf49-a95d53d838ca"
      },
      "execution_count": null,
      "outputs": [
        {
          "output_type": "stream",
          "name": "stdout",
          "text": [
            "2000000\n",
            "3999999999999000000\n"
          ]
        }
      ]
    },
    {
      "cell_type": "code",
      "source": [
        "#1789 수들의 합\n",
        "\n",
        "N=int(input())\n",
        "sum=0\n",
        "\n",
        "for i in range(1,N+1):\n",
        "  sum+=i\n",
        "  if (sum>N):\n",
        "    i-=1\n",
        "    break\n",
        "print(i)"
      ],
      "metadata": {
        "colab": {
          "base_uri": "https://localhost:8080/"
        },
        "id": "Ms4zI2h_LfD8",
        "outputId": "1eabe4c2-0861-4c10-da2b-334cd549b528"
      },
      "execution_count": null,
      "outputs": [
        {
          "output_type": "stream",
          "name": "stdout",
          "text": [
            "20\n",
            "5\n"
          ]
        }
      ]
    },
    {
      "cell_type": "code",
      "source": [
        "#2822 점수계산\n",
        "\n",
        "S=[]\n",
        "for _ in range(8):\n",
        "  S.append(int(input()))\n",
        "\n",
        "print(sum(sorted(S)[3:]))\n",
        "N=[]\n",
        "for i in sorted(S)[3:]:\n",
        "  N.append(S.index(i))\n",
        "for i in sorted(N):\n",
        "  print(i+1,end=\" \")"
      ],
      "metadata": {
        "colab": {
          "base_uri": "https://localhost:8080/"
        },
        "id": "2dbz5rYkcsMx",
        "outputId": "7f298e90-c496-4477-d8ea-cec8d6047f04"
      },
      "execution_count": null,
      "outputs": [
        {
          "output_type": "stream",
          "name": "stdout",
          "text": [
            "20\n",
            "30\n",
            "50\n",
            "48\n",
            "33\n",
            "66\n",
            "64\n",
            "0\n",
            "261\n",
            "3 4 5 6 7 "
          ]
        }
      ]
    },
    {
      "cell_type": "code",
      "source": [
        "#1004 어린 왕자\n",
        "\n",
        "T=int(input())\n",
        "\n",
        "for _ in range(T):\n",
        "  count=0\n",
        "  x1,y1,x2,y2=map(int,input().split())\n",
        "  n=int(input())\n",
        "  for i in range (n):\n",
        "    cx,cy,r=map(int,input().split())\n",
        "    if (((cx-x1)**2 + (cy-y1)**2)<r**2) or (((cx-x2)**2 + (cy-y2)**2)<r**2) : count+=1\n",
        "    if (((cx-x1)**2 + (cy-y1)**2)<r**2) and (((cx-x2)**2 + (cy-y2)**2)<r**2) : count-=1\n",
        "  print(count)\n",
        "  "
      ],
      "metadata": {
        "colab": {
          "base_uri": "https://localhost:8080/"
        },
        "id": "9xRnqOehE8uB",
        "outputId": "f13e5ba3-1166-4395-8b6c-f4f4f6fb3508"
      },
      "execution_count": null,
      "outputs": [
        {
          "output_type": "stream",
          "name": "stdout",
          "text": [
            "1\n",
            "-5 1 12 1\n",
            "7\n",
            "1 1 8\n",
            "-3 -1 1\n",
            "2 2 2\n",
            "5 5 1\n",
            "-4 5 1\n",
            "12 1 1\n",
            "12 1 2\n",
            "3\n"
          ]
        }
      ]
    }
  ]
}