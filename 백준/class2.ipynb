{
  "nbformat": 4,
  "nbformat_minor": 0,
  "metadata": {
    "colab": {
      "provenance": [],
      "authorship_tag": "ABX9TyPl/yNsFl/P9hJiU3yrX0X/",
      "include_colab_link": true
    },
    "kernelspec": {
      "name": "python3",
      "display_name": "Python 3"
    },
    "language_info": {
      "name": "python"
    }
  },
  "cells": [
    {
      "cell_type": "markdown",
      "metadata": {
        "id": "view-in-github",
        "colab_type": "text"
      },
      "source": [
        "<a href=\"https://colab.research.google.com/github/1360837/Python_Study/blob/main/%EB%B0%B1%EC%A4%80/class2.ipynb\" target=\"_parent\"><img src=\"https://colab.research.google.com/assets/colab-badge.svg\" alt=\"Open In Colab\"/></a>"
      ]
    },
    {
      "cell_type": "code",
      "execution_count": null,
      "metadata": {
        "id": "x7dR3q12UDyM"
      },
      "outputs": [],
      "source": [
        "#1018 체스판 다시 칠하기\n",
        "\n",
        "N,M=map(int,input().split())\n",
        "arr=list(list(input()) for i in range(N))\n",
        "cnt=[]\n",
        "\n",
        "for i in range(N-7):\n",
        "  for j in range(M-7):\n",
        "    cnt1=0\n",
        "    cnt2=0\n",
        "    for k in range(i,i+8):\n",
        "      for l in range(j,j+8):\n",
        "        if (k+l)%2==0:\n",
        "          if arr[k][l]!=\"W\":cnt1+=1\n",
        "          if arr[k][l]!=\"B\":cnt2+=1\n",
        "        else:\n",
        "          if arr[k][l]!=\"B\":cnt1+=1\n",
        "          if arr[k][l]!=\"W\":cnt2+=1\n",
        "    cnt.append(min(cnt1,cnt2))\n",
        "print(min(cnt))"
      ]
    },
    {
      "cell_type": "code",
      "source": [
        "#1181 단어 정렬\n",
        "\n",
        "N=int(input())\n",
        "Wlist=list(input() for _ in range(N))\n",
        "Wlist=sorted(list(set(Wlist)))\n",
        "\n",
        "cnt=0\n",
        "for i in range(1,51):\n",
        "  for j in Wlist:\n",
        "    if len(j)==i:\n",
        "      print(j)\n",
        "      cnt+=1\n",
        "  if cnt==len(Wlist):break"
      ],
      "metadata": {
        "id": "jBZisQoOJJTm",
        "colab": {
          "base_uri": "https://localhost:8080/"
        },
        "outputId": "51c84cf5-98e1-46c9-f101-3ca7d704cab8"
      },
      "execution_count": null,
      "outputs": [
        {
          "output_type": "stream",
          "name": "stdout",
          "text": [
            "13\n",
            "but\n",
            "i\n",
            "wont\n",
            "hesitate\n",
            "no\n",
            "more\n",
            "no\n",
            "more\n",
            "it\n",
            "cannot\n",
            "wait\n",
            "im\n",
            "yours\n",
            "['but', 'cannot', 'hesitate', 'i', 'im', 'it', 'more', 'no', 'wait', 'wont', 'yours']\n",
            "i\n",
            "im\n",
            "it\n",
            "no\n",
            "but\n",
            "more\n",
            "wait\n",
            "wont\n",
            "yours\n",
            "cannot\n",
            "hesitate\n"
          ]
        }
      ]
    },
    {
      "cell_type": "code",
      "source": [
        "#1259 팰린드롬수\n",
        "\n",
        "while True:\n",
        "  S=input()\n",
        "  if S==\"0\": break\n",
        "  if S[:]==S[::-1]:print(\"yes\")\n",
        "  else: print(\"no\")"
      ],
      "metadata": {
        "colab": {
          "base_uri": "https://localhost:8080/"
        },
        "id": "Ztx_hJiVJLUs",
        "outputId": "dd8628a7-ba08-477d-8441-0be2ccf23f8f"
      },
      "execution_count": null,
      "outputs": [
        {
          "name": "stdout",
          "output_type": "stream",
          "text": [
            "121\n",
            "yes\n",
            "0\n"
          ]
        }
      ]
    },
    {
      "cell_type": "code",
      "source": [
        "#1436 영화감독 숌\n",
        "\n",
        "N=int(input())\n",
        "nth = 666\n",
        "cnt=0\n",
        "\n",
        "while True:\n",
        "  if '666' in str(nth):cnt+=1\n",
        "  if cnt==N:\n",
        "    print(nth)\n",
        "    break\n",
        "  nth+=1"
      ],
      "metadata": {
        "id": "Gor3fzv2JNBQ",
        "colab": {
          "base_uri": "https://localhost:8080/"
        },
        "outputId": "93bbdd8d-bf79-4829-ac1b-668f14348983"
      },
      "execution_count": null,
      "outputs": [
        {
          "output_type": "stream",
          "name": "stdout",
          "text": [
            "500\n",
            "166699\n"
          ]
        }
      ]
    },
    {
      "cell_type": "code",
      "source": [
        "#1546 평균\n",
        "\n",
        "N=int(input())\n",
        "Score=list(map(int,input().split()))\n",
        "Sum=0\n",
        "M=max(Score[:])\n",
        "for i in Score:\n",
        "  Sum+=i/M*100\n",
        "print(Sum/N)"
      ],
      "metadata": {
        "colab": {
          "base_uri": "https://localhost:8080/"
        },
        "id": "tmCGxwl_JPTL",
        "outputId": "b8d1bd36-34b6-408e-bbcd-84b3f93a3554"
      },
      "execution_count": null,
      "outputs": [
        {
          "output_type": "stream",
          "name": "stdout",
          "text": [
            "9\n",
            "10 20 30 40 50 60 70 80 90\n",
            "55.55555555555556\n"
          ]
        }
      ]
    },
    {
      "cell_type": "code",
      "source": [
        "#1654 랜선 자르기\n",
        "\n",
        "K,N=map(int,input().split())\n",
        "Klen=list(int(input()) for _ in range(K))\n",
        "\n",
        "start,end=1,max(Klen)\n",
        "\n",
        "while start<=end:\n",
        "  mid=(start+end)//2\n",
        "  cnt=0\n",
        "  for i in Klen:\n",
        "    cnt+=i//mid\n",
        "  if cnt>=N:start=mid+1\n",
        "  else:end=mid-1\n",
        "print(end)"
      ],
      "metadata": {
        "id": "4w2WMs8KJQ63",
        "colab": {
          "base_uri": "https://localhost:8080/"
        },
        "outputId": "e46524db-6efe-42e8-92a7-35fb599c0116"
      },
      "execution_count": null,
      "outputs": [
        {
          "output_type": "stream",
          "name": "stdout",
          "text": [
            "4 11\n",
            "802\n",
            "743\n",
            "457\n",
            "539\n",
            "200\n"
          ]
        }
      ]
    },
    {
      "cell_type": "code",
      "source": [
        "#1676 팩토리얼 0의 개수\n",
        "\n",
        "N=int(input())\n",
        "print(N//5+N//25+N//125)"
      ],
      "metadata": {
        "id": "tpjvAyrvJSiv",
        "colab": {
          "base_uri": "https://localhost:8080/"
        },
        "outputId": "ab2e368d-ba6e-4466-87a8-25024176438c"
      },
      "execution_count": null,
      "outputs": [
        {
          "output_type": "stream",
          "name": "stdout",
          "text": [
            "500\n",
            "124\n"
          ]
        }
      ]
    },
    {
      "cell_type": "code",
      "source": [
        "#1874 스택 수열\n",
        "\n",
        "n=int(input())\n",
        "idx=1\n",
        "cnt=0\n",
        "stack=[]\n",
        "result=[]\n",
        "nums=[int(input()) for _ in range(n)]\n",
        "\n",
        "for num in nums:\n",
        "  while idx<=num:\n",
        "    stack.append(idx)\n",
        "    result.append(\"+\")\n",
        "    idx+=1\n",
        "  if num==stack[-1]:\n",
        "    stack.pop()\n",
        "    result.append(\"-\")\n",
        "    cnt+=1\n",
        "  else :break\n",
        "if cnt==n:\n",
        "  for i in result:print(i)\n",
        "else:print(\"NO\")"
      ],
      "metadata": {
        "id": "z5wFg8fqJUrW",
        "colab": {
          "base_uri": "https://localhost:8080/"
        },
        "outputId": "843be8d4-f44e-44ab-fb33-6fa92f40537c"
      },
      "execution_count": 35,
      "outputs": [
        {
          "output_type": "stream",
          "name": "stdout",
          "text": [
            "5\n",
            "2\n",
            "3\n",
            "4\n",
            "1\n",
            "5\n",
            "['+', '+', '-', '+', '-', '+', '-', '-', '+', '-']\n"
          ]
        }
      ]
    },
    {
      "cell_type": "code",
      "source": [
        "#1920 수 찾기\n",
        "\n",
        "N=int(input())\n",
        "Nlist=list(sorted(map(int,input().split())))\n",
        "M=int(input())\n",
        "Mlist=list(map(int,input().split()))\n",
        "\n",
        "for num in Mlist:\n",
        "  s,e=0,N-1\n",
        "  notExist=True\n",
        "\n",
        "  while s<=e:\n",
        "    m=(s+e)//2\n",
        "    if num==Nlist[m]:\n",
        "      notExist=False\n",
        "      print(1)\n",
        "      break\n",
        "    elif num>Nlist[m]:s=m+1\n",
        "    else:e=m-1\n",
        "  if notExist:print(0)"
      ],
      "metadata": {
        "id": "O1bPQ97VJWYE",
        "colab": {
          "base_uri": "https://localhost:8080/"
        },
        "outputId": "6b9e3d45-6cb0-41cf-fc76-94c99ea78232"
      },
      "execution_count": null,
      "outputs": [
        {
          "output_type": "stream",
          "name": "stdout",
          "text": [
            "5\n",
            "4 1 5 2 3\n",
            "5\n",
            "1 3 7 9 5\n",
            "1\n",
            "1\n",
            "0\n",
            "0\n",
            "1\n"
          ]
        }
      ]
    },
    {
      "cell_type": "code",
      "source": [
        "#1929 소수 구하기\n",
        "\n",
        "M,N=map(int,input().split())\n",
        "\n",
        "def is_prime(num):\n",
        "  if num==1: return False\n",
        "  for i in range(2,int(num**0.5)+1):\n",
        "    if num%i==0: return False\n",
        "  return True\n",
        "\n",
        "for n in range(M,N+1):\n",
        "  if is_prime(n): print(n)"
      ],
      "metadata": {
        "colab": {
          "base_uri": "https://localhost:8080/"
        },
        "id": "a1We7nXQJXz3",
        "outputId": "241c3f18-2b52-4f16-9257-bb0c76745693"
      },
      "execution_count": null,
      "outputs": [
        {
          "output_type": "stream",
          "name": "stdout",
          "text": [
            "3 16\n",
            "3\n",
            "5\n",
            "7\n",
            "11\n",
            "13\n"
          ]
        }
      ]
    },
    {
      "cell_type": "code",
      "source": [
        "#1966 프린터 큐\n",
        "\n",
        "T=int(input())\n",
        "for _ in range(T):\n",
        "  N,M=map(int,input().split())\n",
        "  Queue=list(map(int,input().split()))\n",
        "  cnt=0\n",
        "\n",
        "  while Queue:\n",
        "    Qmax=max(Queue)\n",
        "    front=Queue.pop(0)\n",
        "    M-=1\n",
        "\n",
        "    if Qmax==front:\n",
        "      cnt+=1\n",
        "      if M<0:\n",
        "        print(cnt)\n",
        "        break\n",
        "    else:\n",
        "      Queue.append(front)\n",
        "      if M<0: M=len(Queue)-1"
      ],
      "metadata": {
        "id": "-WiHmP4FJZue",
        "colab": {
          "base_uri": "https://localhost:8080/"
        },
        "outputId": "a518debf-4ca0-4452-f7ad-f889075d8284"
      },
      "execution_count": null,
      "outputs": [
        {
          "output_type": "stream",
          "name": "stdout",
          "text": [
            "1\n",
            "4 2\n",
            "1 2 3 4\n",
            "2\n"
          ]
        }
      ]
    },
    {
      "cell_type": "code",
      "source": [
        "#1978 소수 찾기\n",
        "\n",
        "def is_prime(num):\n",
        "  if num==1: return False\n",
        "  for j in range(2,int(num**0.5)+1):\n",
        "    if num%j==0: return False\n",
        "  return True\n",
        "\n",
        "N=int(input())\n",
        "nums=list(map(int,input().split()))\n",
        "\n",
        "cnt=0\n",
        "for i in nums:\n",
        "  if is_prime(i):cnt+=1\n",
        "print(cnt)"
      ],
      "metadata": {
        "colab": {
          "base_uri": "https://localhost:8080/"
        },
        "id": "MfjHthx3JbMv",
        "outputId": "a2b7f249-88e3-4051-cb90-b1b0fee9ceba"
      },
      "execution_count": null,
      "outputs": [
        {
          "output_type": "stream",
          "name": "stdout",
          "text": [
            "4\n",
            "1 3 5 7\n",
            "3\n"
          ]
        }
      ]
    },
    {
      "cell_type": "code",
      "source": [
        "#2108 통계학\n",
        "\n",
        "import sys\n",
        "input=sys.stdin.readline #쓸때마다 오류\n",
        "\n",
        "N=int(input())\n",
        "Ints=list(int(input()) for _ in range(N))\n",
        "Ints.sort()\n",
        "\n",
        "print(round(sum(Ints)/N))\n",
        "print(Ints[N//2])\n",
        "\n",
        "cnt=dict()\n",
        "for i in Ints:\n",
        "  if i in cnt:cnt[i]+=1\n",
        "  else:cnt[i]=1\n",
        "cntmax=max(cnt.values())\n",
        "maxlist=[]\n",
        "for i in cnt:\n",
        "  if cntmax==cnt[i]:maxlist.append(i)\n",
        "if len(maxlist)>1:print(maxlist[1])\n",
        "else:print(maxlist[0])\n",
        "\n",
        "print(max(Ints)-min(Ints))"
      ],
      "metadata": {
        "id": "WdGoQRXpJd2W",
        "colab": {
          "base_uri": "https://localhost:8080/",
          "height": 248
        },
        "outputId": "6b7efacb-3cad-43f2-d5a2-b78425823748"
      },
      "execution_count": null,
      "outputs": [
        {
          "output_type": "error",
          "ename": "ValueError",
          "evalue": "ignored",
          "traceback": [
            "\u001b[0;31m---------------------------------------------------------------------------\u001b[0m",
            "\u001b[0;31mValueError\u001b[0m                                Traceback (most recent call last)",
            "\u001b[0;32m<ipython-input-11-56e3d53a635f>\u001b[0m in \u001b[0;36m<cell line: 4>\u001b[0;34m()\u001b[0m\n\u001b[1;32m      2\u001b[0m \u001b[0minput\u001b[0m\u001b[0;34m=\u001b[0m\u001b[0msys\u001b[0m\u001b[0;34m.\u001b[0m\u001b[0mstdin\u001b[0m\u001b[0;34m.\u001b[0m\u001b[0mreadline\u001b[0m\u001b[0;34m\u001b[0m\u001b[0;34m\u001b[0m\u001b[0m\n\u001b[1;32m      3\u001b[0m \u001b[0;34m\u001b[0m\u001b[0m\n\u001b[0;32m----> 4\u001b[0;31m \u001b[0mN\u001b[0m\u001b[0;34m=\u001b[0m\u001b[0mint\u001b[0m\u001b[0;34m(\u001b[0m\u001b[0minput\u001b[0m\u001b[0;34m(\u001b[0m\u001b[0;34m)\u001b[0m\u001b[0;34m)\u001b[0m\u001b[0;34m\u001b[0m\u001b[0;34m\u001b[0m\u001b[0m\n\u001b[0m\u001b[1;32m      5\u001b[0m \u001b[0mInts\u001b[0m\u001b[0;34m=\u001b[0m\u001b[0mlist\u001b[0m\u001b[0;34m(\u001b[0m\u001b[0mint\u001b[0m\u001b[0;34m(\u001b[0m\u001b[0minput\u001b[0m\u001b[0;34m(\u001b[0m\u001b[0;34m)\u001b[0m\u001b[0;34m)\u001b[0m \u001b[0;32mfor\u001b[0m \u001b[0m_\u001b[0m \u001b[0;32min\u001b[0m \u001b[0mrange\u001b[0m\u001b[0;34m(\u001b[0m\u001b[0mN\u001b[0m\u001b[0;34m)\u001b[0m\u001b[0;34m)\u001b[0m\u001b[0;34m\u001b[0m\u001b[0;34m\u001b[0m\u001b[0m\n\u001b[1;32m      6\u001b[0m \u001b[0mInts\u001b[0m\u001b[0;34m.\u001b[0m\u001b[0msort\u001b[0m\u001b[0;34m(\u001b[0m\u001b[0;34m)\u001b[0m\u001b[0;34m\u001b[0m\u001b[0;34m\u001b[0m\u001b[0m\n",
            "\u001b[0;31mValueError\u001b[0m: invalid literal for int() with base 10: ''"
          ]
        }
      ]
    },
    {
      "cell_type": "code",
      "source": [
        "#2164 카드2\n",
        "from collections import deque #list보다 시간이 압도적으로 빠르다\n",
        "\n",
        "N=int(input())\n",
        "q=deque(i+1 for i in range(N))\n",
        "\n",
        "while len(q)>1:\n",
        "  q.popleft()\n",
        "  q.append(q.popleft())\n",
        "print(*q)"
      ],
      "metadata": {
        "id": "xQuHnh0FJfYi",
        "colab": {
          "base_uri": "https://localhost:8080/"
        },
        "outputId": "69d0646a-8e51-446b-97ee-6fb5db362d41"
      },
      "execution_count": null,
      "outputs": [
        {
          "output_type": "stream",
          "name": "stdout",
          "text": [
            "6\n",
            "4\n"
          ]
        }
      ]
    },
    {
      "cell_type": "code",
      "source": [
        "#2231 분해합\n",
        "\n",
        "N=int(input())\n",
        "\n",
        "for i in range(1,N+1):\n",
        "  M=N-(sum(map(int,str(i))))\n",
        "  if M==i:\n",
        "    print(M)\n",
        "    break\n",
        "  if i==N:print(0)"
      ],
      "metadata": {
        "colab": {
          "base_uri": "https://localhost:8080/"
        },
        "id": "w-0edcE3Jhsu",
        "outputId": "dd3647eb-d5e2-4cf7-b02c-674eb2b03393"
      },
      "execution_count": null,
      "outputs": [
        {
          "output_type": "stream",
          "name": "stdout",
          "text": [
            "216\n",
            "198\n"
          ]
        }
      ]
    },
    {
      "cell_type": "code",
      "source": [
        "#2292 벌집\n",
        "\n",
        "N=int(input())\n",
        "\n",
        "N-=1\n",
        "cnt=1\n",
        "\n",
        "while N>0:\n",
        "  N-=6*cnt\n",
        "  cnt+=1\n",
        "print(cnt)"
      ],
      "metadata": {
        "colab": {
          "base_uri": "https://localhost:8080/"
        },
        "id": "VS8GQtF0JqMY",
        "outputId": "519f88e4-f380-42da-9919-5b05bbd506d2"
      },
      "execution_count": null,
      "outputs": [
        {
          "output_type": "stream",
          "name": "stdout",
          "text": [
            "1\n",
            "2\n"
          ]
        }
      ]
    },
    {
      "cell_type": "code",
      "source": [
        "#2609 최대공약수와 최소공배수\n",
        "\n",
        "def Gcd(n1,n2):\n",
        "  if n1%n2==0:return n2\n",
        "  return Gcd(n2,n1%n2)\n",
        "\n",
        "A,B=map(int,input().split())\n",
        "if A>B: g=Gcd(A,B)\n",
        "else: g=Gcd(B,A)\n",
        "\n",
        "print(g)\n",
        "print(A*B//g)"
      ],
      "metadata": {
        "colab": {
          "base_uri": "https://localhost:8080/"
        },
        "id": "y_7xWWYUJrr3",
        "outputId": "5440fc5f-75b5-419c-9d23-2913e8ecf2bf"
      },
      "execution_count": null,
      "outputs": [
        {
          "output_type": "stream",
          "name": "stdout",
          "text": [
            "24 18\n",
            "6\n",
            "72\n"
          ]
        }
      ]
    },
    {
      "cell_type": "code",
      "source": [
        "#2751 수 정렬하기 2\n",
        "\n",
        "import sys\n",
        "input=sys.stdin.readline\n",
        "\n",
        "N=int(input())\n",
        "li=[]\n",
        "for _ in range(N):\n",
        "  li.append(int(input()))\n",
        "li.sort()\n",
        "for i in li:\n",
        "  print(i)"
      ],
      "metadata": {
        "id": "chob8ku0JtuW"
      },
      "execution_count": null,
      "outputs": []
    },
    {
      "cell_type": "code",
      "source": [
        "#2775 부녀회장이 될테야\n",
        "\n",
        "T=int(input())\n",
        "\n",
        "for _ in range(T):\n",
        "  k=int(input())\n",
        "  n=int(input())\n",
        "  p=list(i for i in range (1,n+1))\n",
        "  for i in range(k):\n",
        "    for j in range(1,n):\n",
        "      p[j]+=p[j-1]\n",
        "  print(p[n-1])"
      ],
      "metadata": {
        "colab": {
          "base_uri": "https://localhost:8080/"
        },
        "id": "CGV21cZcD79d",
        "outputId": "6f89eab7-589f-474e-c30c-e7f6aa56daba"
      },
      "execution_count": null,
      "outputs": [
        {
          "output_type": "stream",
          "name": "stdout",
          "text": [
            "1\n",
            "2\n",
            "3\n",
            "10\n"
          ]
        }
      ]
    },
    {
      "cell_type": "code",
      "source": [
        "#2798 블랙잭\n",
        "\n",
        "N,M=map(int,input().split())\n",
        "Card=list(map(int,input().split()))\n",
        "\n",
        "Cases=[]\n",
        "for i in range(N):\n",
        "  for j in range(i+1,N):\n",
        "    for k in range(j+1,N):\n",
        "      Cases.append([i,k,j])\n",
        "\n",
        "C_max=0\n",
        "for i in Cases:\n",
        "  val=sum(Card[j] for j in i)\n",
        "  if val<=M and val>C_max:C_max=val\n",
        "print(C_max)"
      ],
      "metadata": {
        "id": "JG3sqVaRJw9u",
        "colab": {
          "base_uri": "https://localhost:8080/"
        },
        "outputId": "ab91f145-4e45-433a-9698-9f86909dc8f7"
      },
      "execution_count": null,
      "outputs": [
        {
          "output_type": "stream",
          "name": "stdout",
          "text": [
            "10 500\n",
            "93 181 245 214 315 36 185 138 216 295\n",
            "497\n"
          ]
        }
      ]
    },
    {
      "cell_type": "code",
      "source": [
        "#2839 설탕 배달\n",
        "\n",
        "N=int(input())\n",
        "cnt3=0\n",
        "while N>=0:\n",
        "  if N%5==0:\n",
        "    print(N//5+cnt3)\n",
        "    break\n",
        "  N-=3\n",
        "  cnt3+=1\n",
        "if N<0:print(-1)"
      ],
      "metadata": {
        "id": "M7Cji8etJyXH"
      },
      "execution_count": null,
      "outputs": []
    },
    {
      "cell_type": "code",
      "source": [
        "#2869 달팽이는 올라가고 싶다\n",
        "\n",
        "A,B,V=map(int,input().split())\n",
        "print((V-B)//(A-B) if (V-A)%(A-B)==0 else (V-B)//(A-B)+1)"
      ],
      "metadata": {
        "id": "r2TDqfdXJ1Xe",
        "colab": {
          "base_uri": "https://localhost:8080/"
        },
        "outputId": "7b89c700-3a29-4ef9-d3a6-18aec04b738d"
      },
      "execution_count": null,
      "outputs": [
        {
          "output_type": "stream",
          "name": "stdout",
          "text": [
            "100 99 1000000000\n",
            "999999901\n"
          ]
        }
      ]
    },
    {
      "cell_type": "code",
      "source": [
        "#4153 직각삼각형\n",
        "\n",
        "while True:\n",
        "  L=list(map(int,input().split()))\n",
        "  if sum(L)==0:break\n",
        "  Lmax=max(L)\n",
        "  L.remove(Lmax)\n",
        "  Lsum=sum(i**2 for i in L)\n",
        "  if Lsum==(Lmax**2):print(\"right\")\n",
        "  else: print(\"wrong\")"
      ],
      "metadata": {
        "id": "mPSjYm9jJ37u",
        "colab": {
          "base_uri": "https://localhost:8080/"
        },
        "outputId": "5c3f6b27-e2a8-4588-c306-3352ae95def2"
      },
      "execution_count": null,
      "outputs": [
        {
          "name": "stdout",
          "output_type": "stream",
          "text": [
            "6 8 10\n",
            "right\n",
            "25 52 60\n",
            "wrong\n",
            "5 12 13\n",
            "right\n",
            "0 0 0\n"
          ]
        }
      ]
    },
    {
      "cell_type": "code",
      "source": [
        "#4949 균형잡힌 세상\n",
        "\n",
        "while True:\n",
        "  S=input()\n",
        "  if S==\".\":break\n",
        "\n",
        "  br=[]\n",
        "  for i in S:\n",
        "    if i==\"(\" or i==\"[\":br.append(i)\n",
        "    if i==']':\n",
        "      if len(br)!=0 and br[-1]=='[':br.pop()\n",
        "      else:\n",
        "        br.append(']')\n",
        "        break\n",
        "    elif i==')':\n",
        "      if len(br)!=0 and br[-1]=='(':br.pop()\n",
        "      else:\n",
        "        br.append(\")\")\n",
        "        break\n",
        "  if len(br)==0:print(\"yes\")\n",
        "  else:print(\"no\")"
      ],
      "metadata": {
        "id": "6e83bnPPJ56n",
        "colab": {
          "base_uri": "https://localhost:8080/"
        },
        "outputId": "4223768d-b686-4e07-ea92-0f55b6759506"
      },
      "execution_count": null,
      "outputs": [
        {
          "name": "stdout",
          "output_type": "stream",
          "text": [
            "So when I die (the [first] I will see in (heaven) is a score list).\n",
            "yes\n",
            "[ first in ] ( first out ).\n",
            "yes\n",
            "Half Moon tonight (At least it is better than no Moon at all].\n",
            "no\n",
            "A rope may form )( a trail in a maze.\n",
            "no\n",
            "Help( I[m being held prisoner in a fortune cookie factory)].\n",
            "no\n",
            "([ (([( [ ] ) ( ) (( ))] )) ]).\n",
            "yes\n",
            " .\n",
            "yes\n",
            ".\n"
          ]
        }
      ]
    },
    {
      "cell_type": "code",
      "source": [
        "#7568 덩치\n",
        "\n",
        "N=int(input())\n",
        "li=list(list(map(int,input().split())) for _ in range(N))\n",
        "re=[]\n",
        "for i in range(N):\n",
        "  cnt=1\n",
        "  li1=li[:]\n",
        "  li1.pop(i)\n",
        "  for j in range(N-1):\n",
        "    if li1[j][0]>li[i][0] and li1[j][1]>li[i][1]:cnt+=1\n",
        "  re.append(cnt)\n",
        "print(*re)"
      ],
      "metadata": {
        "id": "FzoN4bYtJ7ng",
        "colab": {
          "base_uri": "https://localhost:8080/"
        },
        "outputId": "889ea79c-e6cd-4924-ca62-6dfef192c5ed"
      },
      "execution_count": null,
      "outputs": [
        {
          "output_type": "stream",
          "name": "stdout",
          "text": [
            "5\n",
            "55 185\n",
            "58 183\n",
            "88 186\n",
            "60 175\n",
            "46 155\n",
            "2 2 1 2 5\n"
          ]
        }
      ]
    },
    {
      "cell_type": "code",
      "source": [
        "#9012 괄호\n",
        "\n",
        "T=int(input())\n",
        "for _ in range(T):\n",
        "  S=input()\n",
        "  br=[]\n",
        "  for i in S:\n",
        "    if i==\"(\":br.append(i)\n",
        "    if i==\")\":\n",
        "      if len(br)!=0 and br[-1]==\"(\":br.pop()\n",
        "      else:\n",
        "        br.append(i)\n",
        "        break\n",
        "  if len(br)==0:print(\"YES\")\n",
        "  else: print(\"NO\")"
      ],
      "metadata": {
        "id": "3NNZxL4PJ98Q",
        "colab": {
          "base_uri": "https://localhost:8080/"
        },
        "outputId": "fd525330-5ac7-4b24-c4a4-e2e7ca2821f1"
      },
      "execution_count": null,
      "outputs": [
        {
          "output_type": "stream",
          "name": "stdout",
          "text": [
            "6\n",
            "(())())\n",
            "NO\n",
            "(((()())()\n",
            "NO\n",
            "(()())((()))\n",
            "YES\n",
            "((()()(()))(((())))()\n",
            "NO\n",
            "()()()()(()()())()\n",
            "YES\n",
            "(()((())()(\n",
            "NO\n"
          ]
        }
      ]
    },
    {
      "cell_type": "code",
      "source": [
        "#10773 제로\n",
        "\n",
        "K=int(input())\n",
        "re=[]\n",
        "for _ in range(K):\n",
        "  a=int(input())\n",
        "  if a==0:re.pop()\n",
        "  else:re.append(a)\n",
        "print(sum(re))"
      ],
      "metadata": {
        "id": "3W_GPJO5J_bS",
        "colab": {
          "base_uri": "https://localhost:8080/"
        },
        "outputId": "4ab054fb-8fab-49ba-871f-6d08ba622281"
      },
      "execution_count": null,
      "outputs": [
        {
          "output_type": "stream",
          "name": "stdout",
          "text": [
            "10\n",
            "1\n",
            "3\n",
            "5\n",
            "4\n",
            "0\n",
            "0\n",
            "7\n",
            "0\n",
            "0\n",
            "6\n",
            "7\n"
          ]
        }
      ]
    },
    {
      "cell_type": "code",
      "source": [
        "#10812 나이순 정렬\n",
        "\n",
        "N=int(input())\n",
        "mem=[]\n",
        "for _ in range(N):\n",
        "  age,name=input().split()\n",
        "  mem.append([int(age),name])\n",
        "\n",
        "mem.sort(key=lambda x:x[0])\n",
        "\n",
        "for i in mem:\n",
        "  print(i[0],i[1])"
      ],
      "metadata": {
        "id": "y8JARe4yKAfy",
        "colab": {
          "base_uri": "https://localhost:8080/"
        },
        "outputId": "270ead2a-476b-45b0-f481-91530ce70a65"
      },
      "execution_count": null,
      "outputs": [
        {
          "output_type": "stream",
          "name": "stdout",
          "text": [
            "3\n",
            "21 J\n",
            "21 D\n",
            "20 S\n",
            "20 S\n",
            "21 J\n",
            "21 D\n"
          ]
        }
      ]
    },
    {
      "cell_type": "code",
      "source": [
        "#10816 숫자 카드2\n",
        "\n",
        "N=int(input())\n",
        "Nli=list(map(int,input().split()))\n",
        "M=int(input())\n",
        "Mli=list(map(int,input().split()))\n",
        "\n",
        "re={}\n",
        "for i in Nli:\n",
        "  if i in re:re[i]+=1\n",
        "  else:re[i]=1\n",
        "\n",
        "for i in Mli:\n",
        "  result=re.get(i)\n",
        "  if result==None:print(0,end=\" \")\n",
        "  else:print(result,end=\" \")"
      ],
      "metadata": {
        "id": "RkiDABTRKB8X",
        "colab": {
          "base_uri": "https://localhost:8080/"
        },
        "outputId": "1a9399ee-4453-4e12-8359-1aae3eecdfa8"
      },
      "execution_count": null,
      "outputs": [
        {
          "output_type": "stream",
          "name": "stdout",
          "text": [
            "10\n",
            "6 3 2 10 10 10 -10 -10 7 3\n",
            "8\n",
            "10 9 -5 2 3 4 5 -10\n",
            "3 0 0 1 2 0 0 2 "
          ]
        }
      ]
    },
    {
      "cell_type": "code",
      "source": [
        "#10828 스택\n",
        "\n",
        "N=int(input())\n",
        "stack=[]\n",
        "\n",
        "for _ in range(N):\n",
        "  S=input().split()\n",
        "  if S[0]==\"push\":stack.append(S[1])\n",
        "  elif S[0]==\"pop\":\n",
        "    if len(stack)==0:print(-1)\n",
        "    else:print(stack.pop())\n",
        "  elif S[0]==\"size\":print(len(stack))\n",
        "  elif S[0]==\"empty\":\n",
        "    if stack:print(0)\n",
        "    else:print(1)\n",
        "  elif S[0]==\"top\":\n",
        "    if len(stack)==0:print(-1)\n",
        "    else:print(stack[-1])"
      ],
      "metadata": {
        "id": "6NztwlKEKFQy",
        "colab": {
          "base_uri": "https://localhost:8080/"
        },
        "outputId": "8fdc313f-9924-425b-d240-24301bf53149"
      },
      "execution_count": null,
      "outputs": [
        {
          "output_type": "stream",
          "name": "stdout",
          "text": [
            "7\n",
            "pop\n",
            "-1\n",
            "top\n",
            "-1\n",
            "push 123\n",
            "top\n",
            "123\n",
            "pop\n",
            "123\n",
            "top\n",
            "-1\n",
            "pop\n",
            "-1\n"
          ]
        }
      ]
    },
    {
      "cell_type": "code",
      "source": [
        "#10845 큐\n",
        "\n",
        "N=int(input())\n",
        "queue=[]\n",
        "\n",
        "for _ in range(N):\n",
        "  S=input().split()\n",
        "  if S[0]==\"push\":queue.append(S[1])\n",
        "  elif S[0]==\"pop\":\n",
        "    if len(queue)==0:print(-1)\n",
        "    else:print(queue.pop(0))\n",
        "  elif S[0]==\"size\":print(len(queue))\n",
        "  elif S[0]==\"empty\":\n",
        "    if queue:print(0)\n",
        "    else:print(1)\n",
        "  elif S[0]==\"front\":\n",
        "    if len(queue)==0:print(-1)\n",
        "    else:print(queue[0])\n",
        "  elif S[0]==\"back\":\n",
        "    if len(queue)==0:print(-1)\n",
        "    else:print(queue[-1])"
      ],
      "metadata": {
        "id": "h8UqkCIzKGsa",
        "colab": {
          "base_uri": "https://localhost:8080/"
        },
        "outputId": "7e985f8b-2d16-41ea-b073-27bc5567edf3"
      },
      "execution_count": null,
      "outputs": [
        {
          "output_type": "stream",
          "name": "stdout",
          "text": [
            "15\n",
            "push 1\n",
            "push 2\n",
            "front\n",
            "1\n",
            "back\n",
            "2\n",
            "size\n",
            "2\n",
            "empty\n",
            "0\n",
            "pop\n",
            "1\n",
            "pop\n",
            "2\n",
            "pop\n",
            "-1\n",
            "size\n",
            "0\n",
            "empty\n",
            "1\n",
            "pop\n",
            "-1\n",
            "push 3\n",
            "empty\n",
            "0\n",
            "front\n",
            "3\n"
          ]
        }
      ]
    },
    {
      "cell_type": "code",
      "source": [
        "#10866 덱\n",
        "\n",
        "N=int(input())\n",
        "deck=[]\n",
        "\n",
        "for _ in range(N):\n",
        "  S=input().split()\n",
        "  if S[0]==\"push_front\":deck.insert(0,S[1])\n",
        "  elif S[0]==\"push_back\":deck.append(S[1])\n",
        "  elif S[0]==\"pop_front\":\n",
        "    if len(deck)==0:print(-1)\n",
        "    else:print(deck.pop(0))\n",
        "  elif S[0]==\"pop_back\":\n",
        "    if len(deck)==0:print(-1)\n",
        "    else:print(deck.pop())\n",
        "  elif S[0]==\"size\":print(len(deck))\n",
        "  elif S[0]==\"empty\":\n",
        "    if deck:print(0)\n",
        "    else:print(1)\n",
        "  elif S[0]==\"front\":\n",
        "    if len(deck)==0:print(-1)\n",
        "    else:print(deck[0])\n",
        "  elif S[0]==\"back\":\n",
        "    if len(deck)==0:print(-1)\n",
        "    else:print(deck[-1])"
      ],
      "metadata": {
        "id": "MRAoGNYIKIEP",
        "colab": {
          "base_uri": "https://localhost:8080/"
        },
        "outputId": "66a0ae58-1082-4e3c-d6d5-15f420dea527"
      },
      "execution_count": null,
      "outputs": [
        {
          "output_type": "stream",
          "name": "stdout",
          "text": [
            "15\n",
            "push_back 1\n",
            "push_front 2\n",
            "front\n",
            "2\n",
            "back\n",
            "1\n",
            "size\n",
            "2\n",
            "empty\n",
            "0\n",
            "pop_front\n",
            "2\n",
            "pop\n",
            "pop_back\n",
            "1\n",
            "pop_front\n",
            "-1\n",
            "size\n",
            "0\n",
            "empty\n",
            "1\n",
            "pop_back\n",
            "-1\n",
            "push_front 3\n",
            "empty\n",
            "0\n"
          ]
        }
      ]
    },
    {
      "cell_type": "code",
      "source": [
        "_#10989 수 정렬하기3\n",
        "\n",
        "import sys\n",
        "\n",
        "N=int(sys.stdin.readline()) #에러 이유는 모르는데 백준에서는 맞았다함..\n",
        "nums=[0]*10001\n",
        "\n",
        "for _ in range(N):\n",
        "  nums[int(sys.stdin.readline())]+=1\n",
        "\n",
        "for i in range(10001):\n",
        "  if nums[i]!=0:\n",
        "    for j in range(nums[i]):\n",
        "      print(i)"
      ],
      "metadata": {
        "id": "8nYxjzf-KK-u",
        "colab": {
          "base_uri": "https://localhost:8080/",
          "height": 248
        },
        "outputId": "d7a36aa9-d7f4-441e-d91b-4e477727d0d3"
      },
      "execution_count": null,
      "outputs": [
        {
          "output_type": "error",
          "ename": "ValueError",
          "evalue": "ignored",
          "traceback": [
            "\u001b[0;31m---------------------------------------------------------------------------\u001b[0m",
            "\u001b[0;31mValueError\u001b[0m                                Traceback (most recent call last)",
            "\u001b[0;32m<ipython-input-1-2371f65ec617>\u001b[0m in \u001b[0;36m<cell line: 5>\u001b[0;34m()\u001b[0m\n\u001b[1;32m      3\u001b[0m \u001b[0;32mimport\u001b[0m \u001b[0msys\u001b[0m\u001b[0;34m\u001b[0m\u001b[0;34m\u001b[0m\u001b[0m\n\u001b[1;32m      4\u001b[0m \u001b[0;34m\u001b[0m\u001b[0m\n\u001b[0;32m----> 5\u001b[0;31m \u001b[0mN\u001b[0m\u001b[0;34m=\u001b[0m\u001b[0mint\u001b[0m\u001b[0;34m(\u001b[0m\u001b[0msys\u001b[0m\u001b[0;34m.\u001b[0m\u001b[0mstdin\u001b[0m\u001b[0;34m.\u001b[0m\u001b[0mreadline\u001b[0m\u001b[0;34m(\u001b[0m\u001b[0;34m)\u001b[0m\u001b[0;34m)\u001b[0m \u001b[0;31m#에러 이유는 모르는데 백준에서는 맞았다함..\u001b[0m\u001b[0;34m\u001b[0m\u001b[0;34m\u001b[0m\u001b[0m\n\u001b[0m\u001b[1;32m      6\u001b[0m \u001b[0mnums\u001b[0m\u001b[0;34m=\u001b[0m\u001b[0;34m[\u001b[0m\u001b[0;36m0\u001b[0m\u001b[0;34m]\u001b[0m\u001b[0;34m*\u001b[0m\u001b[0;36m10001\u001b[0m\u001b[0;34m\u001b[0m\u001b[0;34m\u001b[0m\u001b[0m\n\u001b[1;32m      7\u001b[0m \u001b[0;34m\u001b[0m\u001b[0m\n",
            "\u001b[0;31mValueError\u001b[0m: invalid literal for int() with base 10: ''"
          ]
        }
      ]
    },
    {
      "cell_type": "code",
      "source": [
        "#11050 이항계수1\n",
        "\n",
        "N,K=map(int,input().split())\n",
        "result=1\n",
        "for i in range(1,N+1):\n",
        "  result*=i\n",
        "for i in range(1,N-K+1):\n",
        "  result/=i\n",
        "for i in range(1,K+1):\n",
        "  result/=i\n",
        "print(int(result))"
      ],
      "metadata": {
        "id": "BIsHyHoaKMk_",
        "colab": {
          "base_uri": "https://localhost:8080/"
        },
        "outputId": "49d13610-a4d2-4130-bb23-d5533a814ae0"
      },
      "execution_count": null,
      "outputs": [
        {
          "output_type": "stream",
          "name": "stdout",
          "text": [
            "5 2\n",
            "10\n"
          ]
        }
      ]
    },
    {
      "cell_type": "code",
      "source": [
        "#11650 좌표 정렬하기\n",
        "\n",
        "N=int(input())\n",
        "point=list(list(map(int,input().split())) for _ in range(N))\n",
        "\n",
        "point.sort(key=lambda x:(x[0],x[1]))\n",
        "for i in point:\n",
        "  print(i[0],i[1])"
      ],
      "metadata": {
        "id": "epafVyghKOEe",
        "colab": {
          "base_uri": "https://localhost:8080/"
        },
        "outputId": "3f391c23-b395-4c59-e14e-ccd749000d9d"
      },
      "execution_count": null,
      "outputs": [
        {
          "output_type": "stream",
          "name": "stdout",
          "text": [
            "5\n",
            "3 4\n",
            "1 1\n",
            "1 -1\n",
            "2 2\n",
            "3 3\n",
            "1 -1\n",
            "1 1\n",
            "2 2\n",
            "3 3\n",
            "3 4\n"
          ]
        }
      ]
    },
    {
      "cell_type": "code",
      "source": [
        "#11651 좌표 정렬하기2\n",
        "\n",
        "N=int(input())\n",
        "point=list(list(map(int,input().split())) for _ in range(N))\n",
        "\n",
        "point.sort(key=lambda x:(x[1],x[0]))\n",
        "for i in point:\n",
        "  print(i[0],i[1])"
      ],
      "metadata": {
        "id": "F6hamwz-KP1X",
        "colab": {
          "base_uri": "https://localhost:8080/"
        },
        "outputId": "0396754b-917f-4b08-85ed-dc5743e3bc28"
      },
      "execution_count": null,
      "outputs": [
        {
          "output_type": "stream",
          "name": "stdout",
          "text": [
            "5\n",
            "0 4\n",
            "1 2\n",
            "1 -1\n",
            "2 2\n",
            "3 3\n",
            "1 -1\n",
            "1 2\n",
            "2 2\n",
            "3 3\n",
            "0 4\n"
          ]
        }
      ]
    },
    {
      "cell_type": "code",
      "source": [
        "#11866 요세푸스 문제0\n",
        "\n",
        "N,K=map(int,input().split())\n",
        "li=list(i for i in range(1,N+1))\n",
        "result=[]\n",
        "\n",
        "for _ in range(N):\n",
        "  for _ in range(K-1):li.append(li.pop(0))\n",
        "  result.append(str(li.pop(0)))\n",
        "\n",
        "print(\"<\" , \", \".join(result) , \">\",sep=\"\")"
      ],
      "metadata": {
        "id": "i7ybLoR2KRyf",
        "colab": {
          "base_uri": "https://localhost:8080/"
        },
        "outputId": "936bcbd7-a8ec-4f30-fdb4-a174c7118a51"
      },
      "execution_count": null,
      "outputs": [
        {
          "output_type": "stream",
          "name": "stdout",
          "text": [
            "7 3\n",
            "<3, 6, 2, 7, 5, 1, 4>\n"
          ]
        }
      ]
    },
    {
      "cell_type": "code",
      "source": [
        "#15829 Hashing\n",
        "\n",
        "L=int(input())\n",
        "S=list(input())\n",
        "r=31\n",
        "M=1234567891\n",
        "\n",
        "Sum=0\n",
        "for i in range(L):\n",
        "  Sum+=(ord(S[i])-96)*(r**i)\n",
        "print(Sum%M)"
      ],
      "metadata": {
        "id": "eKq26ArdKTof",
        "colab": {
          "base_uri": "https://localhost:8080/"
        },
        "outputId": "cd64e444-23f2-4401-bfab-00e378c3f7cb"
      },
      "execution_count": null,
      "outputs": [
        {
          "output_type": "stream",
          "name": "stdout",
          "text": [
            "1\n",
            "i\n",
            "9\n"
          ]
        }
      ]
    },
    {
      "cell_type": "code",
      "source": [
        "#18110 solved.ac\n",
        "\n",
        "def round2(num):\n",
        "  return int(num)+(1 if num-int(num)>=0.5 else 0)\n",
        "\n",
        "n=int(input())\n",
        "\n",
        "if n==0:print(0)\n",
        "else:\n",
        "  m=round2(n*0.15)\n",
        "  dif=[]\n",
        "  for _ in range(n):\n",
        "    dif.append(int(input()))\n",
        "  dif.sort()\n",
        "  print(round2(sum(dif[m:-m] if m else dif)/(n-2*m)))"
      ],
      "metadata": {
        "colab": {
          "base_uri": "https://localhost:8080/"
        },
        "id": "WlYh62FsjbCk",
        "outputId": "928961e1-1689-4de2-9bed-b193d657197f"
      },
      "execution_count": null,
      "outputs": [
        {
          "output_type": "stream",
          "name": "stdout",
          "text": [
            "10\n",
            "1\n",
            "13\n",
            "12\n",
            "15\n",
            "3\n",
            "16\n",
            "13\n",
            "12\n",
            "14\n",
            "15\n",
            "13\n"
          ]
        }
      ]
    },
    {
      "cell_type": "code",
      "source": [
        "#18111 마인크래프트\n",
        "\n",
        "import sys\n",
        "input=sys.stdin.readline\n",
        "\n",
        "N,M,B=map(int,input().split())\n",
        "land=[]\n",
        "for _ in range(N):land=land[:]+list(map(int,input().split()))\n",
        "result=sys.maxsize\n",
        "\n",
        "for i in range(0,257):\n",
        "  inb,outb=0,0\n",
        "  for j in land:\n",
        "    if (i-j)<0:outb+=(j-i)\n",
        "    else:inb+=(i-j)\n",
        "  if inb<=(outb+B):\n",
        "    if inb+(outb*2)<=result:\n",
        "      result=inb+(outb*2)\n",
        "      idx=i\n",
        "print(result,idx)"
      ],
      "metadata": {
        "id": "mzXNz1-fKabm"
      },
      "execution_count": null,
      "outputs": []
    }
  ]
}