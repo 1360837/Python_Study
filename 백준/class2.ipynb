{
  "nbformat": 4,
  "nbformat_minor": 0,
  "metadata": {
    "colab": {
      "provenance": [],
      "authorship_tag": "ABX9TyO+RA8Jick2Hka9bV/aEX7I",
      "include_colab_link": true
    },
    "kernelspec": {
      "name": "python3",
      "display_name": "Python 3"
    },
    "language_info": {
      "name": "python"
    }
  },
  "cells": [
    {
      "cell_type": "markdown",
      "metadata": {
        "id": "view-in-github",
        "colab_type": "text"
      },
      "source": [
        "<a href=\"https://colab.research.google.com/github/1360837/Python_Study/blob/main/%EB%B0%B1%EC%A4%80/class2.ipynb\" target=\"_parent\"><img src=\"https://colab.research.google.com/assets/colab-badge.svg\" alt=\"Open In Colab\"/></a>"
      ]
    },
    {
      "cell_type": "code",
      "execution_count": null,
      "metadata": {
        "id": "x7dR3q12UDyM"
      },
      "outputs": [],
      "source": [
        "#1018 체스판 다시 칠하기\n",
        "\n",
        "N,M=map(int,input().split())\n",
        "\n"
      ]
    },
    {
      "cell_type": "code",
      "source": [
        "#1181 단어 정렬"
      ],
      "metadata": {
        "id": "jBZisQoOJJTm"
      },
      "execution_count": null,
      "outputs": []
    },
    {
      "cell_type": "code",
      "source": [
        "#1259 팰린드롬수\n",
        "\n",
        "while True:\n",
        "  S=input()\n",
        "  if S==\"0\": break\n",
        "  if S[:]==S[::-1]:print(\"yes\")\n",
        "  else: print(\"no\")"
      ],
      "metadata": {
        "colab": {
          "base_uri": "https://localhost:8080/"
        },
        "id": "Ztx_hJiVJLUs",
        "outputId": "dd8628a7-ba08-477d-8441-0be2ccf23f8f"
      },
      "execution_count": null,
      "outputs": [
        {
          "name": "stdout",
          "output_type": "stream",
          "text": [
            "121\n",
            "yes\n",
            "0\n"
          ]
        }
      ]
    },
    {
      "cell_type": "code",
      "source": [
        "#1436 영화감독 숌"
      ],
      "metadata": {
        "id": "Gor3fzv2JNBQ"
      },
      "execution_count": null,
      "outputs": []
    },
    {
      "cell_type": "code",
      "source": [
        "#1546 평균\n",
        "\n",
        "N=int(input())\n",
        "Score=list(map(int,input().split()))\n",
        "Sum=0\n",
        "M=max(Score[:])\n",
        "for i in Score:\n",
        "  Sum+=i/M*100\n",
        "print(Sum/N)"
      ],
      "metadata": {
        "colab": {
          "base_uri": "https://localhost:8080/"
        },
        "id": "tmCGxwl_JPTL",
        "outputId": "b8d1bd36-34b6-408e-bbcd-84b3f93a3554"
      },
      "execution_count": null,
      "outputs": [
        {
          "output_type": "stream",
          "name": "stdout",
          "text": [
            "9\n",
            "10 20 30 40 50 60 70 80 90\n",
            "55.55555555555556\n"
          ]
        }
      ]
    },
    {
      "cell_type": "code",
      "source": [
        "#1654 랜선 자르기"
      ],
      "metadata": {
        "id": "4w2WMs8KJQ63"
      },
      "execution_count": null,
      "outputs": []
    },
    {
      "cell_type": "code",
      "source": [
        "#1676 팩토리얼 0의 개수"
      ],
      "metadata": {
        "id": "tpjvAyrvJSiv"
      },
      "execution_count": null,
      "outputs": []
    },
    {
      "cell_type": "code",
      "source": [
        "#1874 스택 수열"
      ],
      "metadata": {
        "id": "z5wFg8fqJUrW"
      },
      "execution_count": null,
      "outputs": []
    },
    {
      "cell_type": "code",
      "source": [
        "#1920 수 찾기"
      ],
      "metadata": {
        "id": "O1bPQ97VJWYE"
      },
      "execution_count": null,
      "outputs": []
    },
    {
      "cell_type": "code",
      "source": [
        "#1929 소수 구하기\n",
        "\n",
        "M,N=map(int,input().split())\n",
        "\n",
        "def is_prime(num):\n",
        "  if num==1: return False\n",
        "  for i in range(2,int(num**0.5)+1):\n",
        "    if num%i==0: return False\n",
        "  return True\n",
        "\n",
        "for n in range(M,N+1):\n",
        "  if is_prime(n): print(n)"
      ],
      "metadata": {
        "colab": {
          "base_uri": "https://localhost:8080/"
        },
        "id": "a1We7nXQJXz3",
        "outputId": "241c3f18-2b52-4f16-9257-bb0c76745693"
      },
      "execution_count": null,
      "outputs": [
        {
          "output_type": "stream",
          "name": "stdout",
          "text": [
            "3 16\n",
            "3\n",
            "5\n",
            "7\n",
            "11\n",
            "13\n"
          ]
        }
      ]
    },
    {
      "cell_type": "code",
      "source": [
        "#1966 프린터 큐"
      ],
      "metadata": {
        "id": "-WiHmP4FJZue"
      },
      "execution_count": null,
      "outputs": []
    },
    {
      "cell_type": "code",
      "source": [
        "#1978 소수 찾기\n",
        "\n",
        "def is_prime(num):\n",
        "  if num==1: return False\n",
        "  for j in range(2,int(num**0.5)+1):\n",
        "    if num%j==0: return False\n",
        "  return True\n",
        "\n",
        "N=int(input())\n",
        "nums=list(map(int,input().split()))\n",
        "\n",
        "cnt=0\n",
        "for i in nums:\n",
        "  if is_prime(i):cnt+=1\n",
        "print(cnt)"
      ],
      "metadata": {
        "colab": {
          "base_uri": "https://localhost:8080/"
        },
        "id": "MfjHthx3JbMv",
        "outputId": "a2b7f249-88e3-4051-cb90-b1b0fee9ceba"
      },
      "execution_count": null,
      "outputs": [
        {
          "output_type": "stream",
          "name": "stdout",
          "text": [
            "4\n",
            "1 3 5 7\n",
            "3\n"
          ]
        }
      ]
    },
    {
      "cell_type": "code",
      "source": [
        "#2108 통계학"
      ],
      "metadata": {
        "id": "WdGoQRXpJd2W"
      },
      "execution_count": null,
      "outputs": []
    },
    {
      "cell_type": "code",
      "source": [
        "#2164 카드2"
      ],
      "metadata": {
        "id": "xQuHnh0FJfYi"
      },
      "execution_count": null,
      "outputs": []
    },
    {
      "cell_type": "code",
      "source": [
        "#2231 분해합\n",
        "\n",
        "N=int(input())\n",
        "\n",
        "for i in range(1,N+1):\n",
        "  M=N-(sum(map(int,str(i))))\n",
        "  if M==i:\n",
        "    print(M)\n",
        "    break\n",
        "  if i==N:print(0)"
      ],
      "metadata": {
        "colab": {
          "base_uri": "https://localhost:8080/"
        },
        "id": "w-0edcE3Jhsu",
        "outputId": "dd3647eb-d5e2-4cf7-b02c-674eb2b03393"
      },
      "execution_count": null,
      "outputs": [
        {
          "output_type": "stream",
          "name": "stdout",
          "text": [
            "216\n",
            "198\n"
          ]
        }
      ]
    },
    {
      "cell_type": "code",
      "source": [
        "#2292 벌집\n",
        "\n",
        "N=int(input())\n",
        "\n",
        "N-=1\n",
        "cnt=1\n",
        "\n",
        "while N>0:\n",
        "  N-=6*cnt\n",
        "  cnt+=1\n",
        "print(cnt)"
      ],
      "metadata": {
        "colab": {
          "base_uri": "https://localhost:8080/"
        },
        "id": "VS8GQtF0JqMY",
        "outputId": "519f88e4-f380-42da-9919-5b05bbd506d2"
      },
      "execution_count": null,
      "outputs": [
        {
          "output_type": "stream",
          "name": "stdout",
          "text": [
            "1\n",
            "2\n"
          ]
        }
      ]
    },
    {
      "cell_type": "code",
      "source": [
        "#2609 최대공약수와 최소공배수\n",
        "\n",
        "def Gcd(n1,n2):\n",
        "  if n1%n2==0:return n2\n",
        "  return Gcd(n2,n1%n2)\n",
        "\n",
        "A,B=map(int,input().split())\n",
        "if A>B: g=Gcd(A,B)\n",
        "else: g=Gcd(B,A)\n",
        "\n",
        "print(g)\n",
        "print(A*B//g)"
      ],
      "metadata": {
        "colab": {
          "base_uri": "https://localhost:8080/"
        },
        "id": "y_7xWWYUJrr3",
        "outputId": "5440fc5f-75b5-419c-9d23-2913e8ecf2bf"
      },
      "execution_count": null,
      "outputs": [
        {
          "output_type": "stream",
          "name": "stdout",
          "text": [
            "24 18\n",
            "6\n",
            "72\n"
          ]
        }
      ]
    },
    {
      "cell_type": "code",
      "source": [
        "#2751 수 정렬하기 2"
      ],
      "metadata": {
        "id": "chob8ku0JtuW"
      },
      "execution_count": null,
      "outputs": []
    },
    {
      "cell_type": "code",
      "source": [
        "#2775 부녀회장이 될테야\n",
        "\n",
        "T=int(input())\n",
        "\n",
        "for _ in range(T):\n",
        "  k=int(input())\n",
        "  n=int(input())\n",
        "  p=list(i for i in range (1,n+1))\n",
        "  for i in range(k):\n",
        "    for j in range(1,n):\n",
        "      p[j]+=p[j-1]\n",
        "  print(p[n-1])"
      ],
      "metadata": {
        "colab": {
          "base_uri": "https://localhost:8080/"
        },
        "id": "CGV21cZcD79d",
        "outputId": "6f89eab7-589f-474e-c30c-e7f6aa56daba"
      },
      "execution_count": null,
      "outputs": [
        {
          "output_type": "stream",
          "name": "stdout",
          "text": [
            "1\n",
            "2\n",
            "3\n",
            "10\n"
          ]
        }
      ]
    },
    {
      "cell_type": "code",
      "source": [
        "#2798 블랙잭\n",
        "\n",
        "N,M=map(int,input().split())\n",
        "Card=list(map(int,input().split()))\n",
        "\n",
        "Cases=[]\n",
        "for i in range(N):\n",
        "  for j in range(i+1,N):\n",
        "    for k in range(j+1,N):\n",
        "      Cases.append([i,k,j])\n",
        "\n",
        "C_max=0\n",
        "for i in Cases:\n",
        "  val=sum(Card[j] for j in i)\n",
        "  if val<=M and val>C_max:C_max=val\n",
        "print(C_max)"
      ],
      "metadata": {
        "id": "JG3sqVaRJw9u",
        "colab": {
          "base_uri": "https://localhost:8080/"
        },
        "outputId": "ab91f145-4e45-433a-9698-9f86909dc8f7"
      },
      "execution_count": null,
      "outputs": [
        {
          "output_type": "stream",
          "name": "stdout",
          "text": [
            "10 500\n",
            "93 181 245 214 315 36 185 138 216 295\n",
            "497\n"
          ]
        }
      ]
    },
    {
      "cell_type": "code",
      "source": [
        "#2839 설탕 배달"
      ],
      "metadata": {
        "id": "M7Cji8etJyXH"
      },
      "execution_count": null,
      "outputs": []
    },
    {
      "cell_type": "code",
      "source": [
        "#2869 달팽이는 올라가고 싶다\n",
        "\n",
        "A,B,V=map(int,input().split())\n",
        "print((V-B)//(A-B) if (V-A)%(A-B)==0 else (V-B)//(A-B)+1)"
      ],
      "metadata": {
        "id": "r2TDqfdXJ1Xe",
        "colab": {
          "base_uri": "https://localhost:8080/"
        },
        "outputId": "7b89c700-3a29-4ef9-d3a6-18aec04b738d"
      },
      "execution_count": null,
      "outputs": [
        {
          "output_type": "stream",
          "name": "stdout",
          "text": [
            "100 99 1000000000\n",
            "999999901\n"
          ]
        }
      ]
    },
    {
      "cell_type": "code",
      "source": [
        "#4153 직각삼각형\n",
        "\n",
        "while True:\n",
        "  L=list(map(int,input().split()))\n",
        "  if sum(L)==0:break\n",
        "  Lmax=max(L)\n",
        "  L.remove(Lmax)\n",
        "  Lsum=sum(i**2 for i in L)\n",
        "  if Lsum==(Lmax**2):print(\"right\")\n",
        "  else: print(\"wrong\")"
      ],
      "metadata": {
        "id": "mPSjYm9jJ37u",
        "colab": {
          "base_uri": "https://localhost:8080/"
        },
        "outputId": "5c3f6b27-e2a8-4588-c306-3352ae95def2"
      },
      "execution_count": null,
      "outputs": [
        {
          "name": "stdout",
          "output_type": "stream",
          "text": [
            "6 8 10\n",
            "right\n",
            "25 52 60\n",
            "wrong\n",
            "5 12 13\n",
            "right\n",
            "0 0 0\n"
          ]
        }
      ]
    },
    {
      "cell_type": "code",
      "source": [
        "#4949 균형잡힌 세상"
      ],
      "metadata": {
        "id": "6e83bnPPJ56n"
      },
      "execution_count": null,
      "outputs": []
    },
    {
      "cell_type": "code",
      "source": [
        "#7568 덩치"
      ],
      "metadata": {
        "id": "FzoN4bYtJ7ng"
      },
      "execution_count": null,
      "outputs": []
    },
    {
      "cell_type": "code",
      "source": [
        "#9012 괄호"
      ],
      "metadata": {
        "id": "3NNZxL4PJ98Q"
      },
      "execution_count": null,
      "outputs": []
    },
    {
      "cell_type": "code",
      "source": [
        "#10773 제로"
      ],
      "metadata": {
        "id": "3W_GPJO5J_bS"
      },
      "execution_count": null,
      "outputs": []
    },
    {
      "cell_type": "code",
      "source": [
        "#10812 나이순 정렬"
      ],
      "metadata": {
        "id": "y8JARe4yKAfy"
      },
      "execution_count": null,
      "outputs": []
    },
    {
      "cell_type": "code",
      "source": [
        "#10816 숫자 카드2"
      ],
      "metadata": {
        "id": "RkiDABTRKB8X"
      },
      "execution_count": null,
      "outputs": []
    },
    {
      "cell_type": "code",
      "source": [
        "#10828 스택"
      ],
      "metadata": {
        "id": "6NztwlKEKFQy"
      },
      "execution_count": null,
      "outputs": []
    },
    {
      "cell_type": "code",
      "source": [
        "#10845 큐"
      ],
      "metadata": {
        "id": "h8UqkCIzKGsa"
      },
      "execution_count": null,
      "outputs": []
    },
    {
      "cell_type": "code",
      "source": [
        "#10866 덱"
      ],
      "metadata": {
        "id": "MRAoGNYIKIEP"
      },
      "execution_count": null,
      "outputs": []
    },
    {
      "cell_type": "code",
      "source": [
        "#10989 수 정렬하기3\n",
        "\n",
        "import sys\n",
        "\n",
        "N=int(sys.stdin.readline()) #에러 이유는 모르는데 백준에서는 맞았다함..\n",
        "nums=[0]*10001\n",
        "\n",
        "for _ in range(N):\n",
        "  nums[int(sys.stdin.readline())]+=1\n",
        "\n",
        "for i in range(10001):\n",
        "  if nums[i]!=0:\n",
        "    for j in range(nums[i]):\n",
        "      print(i)"
      ],
      "metadata": {
        "id": "8nYxjzf-KK-u",
        "colab": {
          "base_uri": "https://localhost:8080/",
          "height": 248
        },
        "outputId": "d7a36aa9-d7f4-441e-d91b-4e477727d0d3"
      },
      "execution_count": 1,
      "outputs": [
        {
          "output_type": "error",
          "ename": "ValueError",
          "evalue": "ignored",
          "traceback": [
            "\u001b[0;31m---------------------------------------------------------------------------\u001b[0m",
            "\u001b[0;31mValueError\u001b[0m                                Traceback (most recent call last)",
            "\u001b[0;32m<ipython-input-1-2371f65ec617>\u001b[0m in \u001b[0;36m<cell line: 5>\u001b[0;34m()\u001b[0m\n\u001b[1;32m      3\u001b[0m \u001b[0;32mimport\u001b[0m \u001b[0msys\u001b[0m\u001b[0;34m\u001b[0m\u001b[0;34m\u001b[0m\u001b[0m\n\u001b[1;32m      4\u001b[0m \u001b[0;34m\u001b[0m\u001b[0m\n\u001b[0;32m----> 5\u001b[0;31m \u001b[0mN\u001b[0m\u001b[0;34m=\u001b[0m\u001b[0mint\u001b[0m\u001b[0;34m(\u001b[0m\u001b[0msys\u001b[0m\u001b[0;34m.\u001b[0m\u001b[0mstdin\u001b[0m\u001b[0;34m.\u001b[0m\u001b[0mreadline\u001b[0m\u001b[0;34m(\u001b[0m\u001b[0;34m)\u001b[0m\u001b[0;34m)\u001b[0m \u001b[0;31m#에러 이유는 모르는데 백준에서는 맞았다함..\u001b[0m\u001b[0;34m\u001b[0m\u001b[0;34m\u001b[0m\u001b[0m\n\u001b[0m\u001b[1;32m      6\u001b[0m \u001b[0mnums\u001b[0m\u001b[0;34m=\u001b[0m\u001b[0;34m[\u001b[0m\u001b[0;36m0\u001b[0m\u001b[0;34m]\u001b[0m\u001b[0;34m*\u001b[0m\u001b[0;36m10001\u001b[0m\u001b[0;34m\u001b[0m\u001b[0;34m\u001b[0m\u001b[0m\n\u001b[1;32m      7\u001b[0m \u001b[0;34m\u001b[0m\u001b[0m\n",
            "\u001b[0;31mValueError\u001b[0m: invalid literal for int() with base 10: ''"
          ]
        }
      ]
    },
    {
      "cell_type": "code",
      "source": [
        "#11050 이항계수1\n",
        "\n",
        "N,K=map(int,input().split())\n",
        "result=1\n",
        "for i in range(1,N+1):\n",
        "  result*=i\n",
        "for i in range(1,N-K+1):\n",
        "  result/=i\n",
        "for i in range(1,K+1):\n",
        "  result/=i\n",
        "print(int(result))"
      ],
      "metadata": {
        "id": "BIsHyHoaKMk_",
        "colab": {
          "base_uri": "https://localhost:8080/"
        },
        "outputId": "49d13610-a4d2-4130-bb23-d5533a814ae0"
      },
      "execution_count": null,
      "outputs": [
        {
          "output_type": "stream",
          "name": "stdout",
          "text": [
            "5 2\n",
            "10\n"
          ]
        }
      ]
    },
    {
      "cell_type": "code",
      "source": [
        "#11650 좌표 정렬하기"
      ],
      "metadata": {
        "id": "epafVyghKOEe"
      },
      "execution_count": null,
      "outputs": []
    },
    {
      "cell_type": "code",
      "source": [
        "#11651 좌표 정렬하기2"
      ],
      "metadata": {
        "id": "F6hamwz-KP1X"
      },
      "execution_count": null,
      "outputs": []
    },
    {
      "cell_type": "code",
      "source": [
        "#11866 요세푸스 문제0"
      ],
      "metadata": {
        "id": "i7ybLoR2KRyf"
      },
      "execution_count": null,
      "outputs": []
    },
    {
      "cell_type": "code",
      "source": [
        "#15829 Hashing\n",
        "\n",
        "L=int(input())\n",
        "S=list(input())\n",
        "r=31\n",
        "M=1234567891\n",
        "\n",
        "Sum=0\n",
        "for i in range(L):\n",
        "  Sum+=(ord(S[i])-96)*(r**i)\n",
        "print(Sum%M)"
      ],
      "metadata": {
        "id": "eKq26ArdKTof",
        "colab": {
          "base_uri": "https://localhost:8080/"
        },
        "outputId": "cd64e444-23f2-4401-bfab-00e378c3f7cb"
      },
      "execution_count": 8,
      "outputs": [
        {
          "output_type": "stream",
          "name": "stdout",
          "text": [
            "1\n",
            "i\n",
            "9\n"
          ]
        }
      ]
    },
    {
      "cell_type": "code",
      "source": [
        "#18110 solved.ac"
      ],
      "metadata": {
        "id": "n0Y0euDCKWsC"
      },
      "execution_count": null,
      "outputs": []
    },
    {
      "cell_type": "code",
      "source": [
        "#18111 마인크래프트"
      ],
      "metadata": {
        "id": "mzXNz1-fKabm"
      },
      "execution_count": null,
      "outputs": []
    }
  ]
}