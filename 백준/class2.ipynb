{
  "nbformat": 4,
  "nbformat_minor": 0,
  "metadata": {
    "colab": {
      "provenance": [],
      "authorship_tag": "ABX9TyPT/X1xfIFdnaCqUdfPzydG",
      "include_colab_link": true
    },
    "kernelspec": {
      "name": "python3",
      "display_name": "Python 3"
    },
    "language_info": {
      "name": "python"
    }
  },
  "cells": [
    {
      "cell_type": "markdown",
      "metadata": {
        "id": "view-in-github",
        "colab_type": "text"
      },
      "source": [
        "<a href=\"https://colab.research.google.com/github/1360837/Python_Study/blob/main/%EB%B0%B1%EC%A4%80/class2.ipynb\" target=\"_parent\"><img src=\"https://colab.research.google.com/assets/colab-badge.svg\" alt=\"Open In Colab\"/></a>"
      ]
    },
    {
      "cell_type": "code",
      "execution_count": null,
      "metadata": {
        "id": "x7dR3q12UDyM"
      },
      "outputs": [],
      "source": [
        "#1018 체스판 다시 칠하기\n",
        "\n",
        "N,M=map(int,input().split())\n",
        "\n"
      ]
    },
    {
      "cell_type": "code",
      "source": [
        "#1181 단어 정렬\n",
        "\n",
        "N=int(input())\n",
        "Wlist=list(input() for _ in range(N))\n",
        "Wlist=sorted(list(set(Wlist)))\n",
        "\n",
        "cnt=0\n",
        "for i in range(1,51):\n",
        "  for j in Wlist:\n",
        "    if len(j)==i:\n",
        "      print(j)\n",
        "      cnt+=1\n",
        "  if cnt==len(Wlist):break"
      ],
      "metadata": {
        "id": "jBZisQoOJJTm",
        "colab": {
          "base_uri": "https://localhost:8080/"
        },
        "outputId": "51c84cf5-98e1-46c9-f101-3ca7d704cab8"
      },
      "execution_count": null,
      "outputs": [
        {
          "output_type": "stream",
          "name": "stdout",
          "text": [
            "13\n",
            "but\n",
            "i\n",
            "wont\n",
            "hesitate\n",
            "no\n",
            "more\n",
            "no\n",
            "more\n",
            "it\n",
            "cannot\n",
            "wait\n",
            "im\n",
            "yours\n",
            "['but', 'cannot', 'hesitate', 'i', 'im', 'it', 'more', 'no', 'wait', 'wont', 'yours']\n",
            "i\n",
            "im\n",
            "it\n",
            "no\n",
            "but\n",
            "more\n",
            "wait\n",
            "wont\n",
            "yours\n",
            "cannot\n",
            "hesitate\n"
          ]
        }
      ]
    },
    {
      "cell_type": "code",
      "source": [
        "#1259 팰린드롬수\n",
        "\n",
        "while True:\n",
        "  S=input()\n",
        "  if S==\"0\": break\n",
        "  if S[:]==S[::-1]:print(\"yes\")\n",
        "  else: print(\"no\")"
      ],
      "metadata": {
        "colab": {
          "base_uri": "https://localhost:8080/"
        },
        "id": "Ztx_hJiVJLUs",
        "outputId": "dd8628a7-ba08-477d-8441-0be2ccf23f8f"
      },
      "execution_count": null,
      "outputs": [
        {
          "name": "stdout",
          "output_type": "stream",
          "text": [
            "121\n",
            "yes\n",
            "0\n"
          ]
        }
      ]
    },
    {
      "cell_type": "code",
      "source": [
        "#1436 영화감독 숌\n",
        "\n",
        "N=int(input())\n",
        "nth = 666\n",
        "cnt=0\n",
        "\n",
        "while True:\n",
        "  if '666' in str(nth):cnt+=1\n",
        "  if cnt==N:\n",
        "    print(nth)\n",
        "    break\n",
        "  nth+=1"
      ],
      "metadata": {
        "id": "Gor3fzv2JNBQ",
        "colab": {
          "base_uri": "https://localhost:8080/"
        },
        "outputId": "93bbdd8d-bf79-4829-ac1b-668f14348983"
      },
      "execution_count": null,
      "outputs": [
        {
          "output_type": "stream",
          "name": "stdout",
          "text": [
            "500\n",
            "166699\n"
          ]
        }
      ]
    },
    {
      "cell_type": "code",
      "source": [
        "#1546 평균\n",
        "\n",
        "N=int(input())\n",
        "Score=list(map(int,input().split()))\n",
        "Sum=0\n",
        "M=max(Score[:])\n",
        "for i in Score:\n",
        "  Sum+=i/M*100\n",
        "print(Sum/N)"
      ],
      "metadata": {
        "colab": {
          "base_uri": "https://localhost:8080/"
        },
        "id": "tmCGxwl_JPTL",
        "outputId": "b8d1bd36-34b6-408e-bbcd-84b3f93a3554"
      },
      "execution_count": null,
      "outputs": [
        {
          "output_type": "stream",
          "name": "stdout",
          "text": [
            "9\n",
            "10 20 30 40 50 60 70 80 90\n",
            "55.55555555555556\n"
          ]
        }
      ]
    },
    {
      "cell_type": "code",
      "source": [
        "#1654 랜선 자르기\n",
        "\n",
        "K,N=map(int,input().split())\n",
        "Klen=list(int(input()) for _ in range(K))\n",
        "\n",
        "start,end=1,max(Klen)\n",
        "\n",
        "while start<=end:\n",
        "  mid=(start+end)//2\n",
        "  cnt=0\n",
        "  for i in Klen:\n",
        "    cnt+=i//mid\n",
        "  if cnt>=N:start=mid+1\n",
        "  else:end=mid-1\n",
        "print(end)"
      ],
      "metadata": {
        "id": "4w2WMs8KJQ63",
        "colab": {
          "base_uri": "https://localhost:8080/"
        },
        "outputId": "e46524db-6efe-42e8-92a7-35fb599c0116"
      },
      "execution_count": null,
      "outputs": [
        {
          "output_type": "stream",
          "name": "stdout",
          "text": [
            "4 11\n",
            "802\n",
            "743\n",
            "457\n",
            "539\n",
            "200\n"
          ]
        }
      ]
    },
    {
      "cell_type": "code",
      "source": [
        "#1676 팩토리얼 0의 개수\n",
        "\n",
        "N=int(input())\n",
        "print(N//5+N//25+N//125)"
      ],
      "metadata": {
        "id": "tpjvAyrvJSiv",
        "colab": {
          "base_uri": "https://localhost:8080/"
        },
        "outputId": "ab2e368d-ba6e-4466-87a8-25024176438c"
      },
      "execution_count": null,
      "outputs": [
        {
          "output_type": "stream",
          "name": "stdout",
          "text": [
            "500\n",
            "124\n"
          ]
        }
      ]
    },
    {
      "cell_type": "code",
      "source": [
        "#1874 스택 수열"
      ],
      "metadata": {
        "id": "z5wFg8fqJUrW"
      },
      "execution_count": null,
      "outputs": []
    },
    {
      "cell_type": "code",
      "source": [
        "#1920 수 찾기\n",
        "\n",
        "N=int(input())\n",
        "Nlist=list(sorted(map(int,input().split())))\n",
        "M=int(input())\n",
        "Mlist=list(map(int,input().split()))\n",
        "\n",
        "for num in Mlist:\n",
        "  s,e=0,N-1\n",
        "  notExist=True\n",
        "\n",
        "  while s<=e:\n",
        "    m=(s+e)//2\n",
        "    if num==Nlist[m]:\n",
        "      notExist=False\n",
        "      print(1)\n",
        "      break\n",
        "    elif num>Nlist[m]:s=m+1\n",
        "    else:e=m-1\n",
        "  if notExist:print(0)"
      ],
      "metadata": {
        "id": "O1bPQ97VJWYE",
        "colab": {
          "base_uri": "https://localhost:8080/"
        },
        "outputId": "6b9e3d45-6cb0-41cf-fc76-94c99ea78232"
      },
      "execution_count": null,
      "outputs": [
        {
          "output_type": "stream",
          "name": "stdout",
          "text": [
            "5\n",
            "4 1 5 2 3\n",
            "5\n",
            "1 3 7 9 5\n",
            "1\n",
            "1\n",
            "0\n",
            "0\n",
            "1\n"
          ]
        }
      ]
    },
    {
      "cell_type": "code",
      "source": [
        "#1929 소수 구하기\n",
        "\n",
        "M,N=map(int,input().split())\n",
        "\n",
        "def is_prime(num):\n",
        "  if num==1: return False\n",
        "  for i in range(2,int(num**0.5)+1):\n",
        "    if num%i==0: return False\n",
        "  return True\n",
        "\n",
        "for n in range(M,N+1):\n",
        "  if is_prime(n): print(n)"
      ],
      "metadata": {
        "colab": {
          "base_uri": "https://localhost:8080/"
        },
        "id": "a1We7nXQJXz3",
        "outputId": "241c3f18-2b52-4f16-9257-bb0c76745693"
      },
      "execution_count": null,
      "outputs": [
        {
          "output_type": "stream",
          "name": "stdout",
          "text": [
            "3 16\n",
            "3\n",
            "5\n",
            "7\n",
            "11\n",
            "13\n"
          ]
        }
      ]
    },
    {
      "cell_type": "code",
      "source": [
        "#1966 프린터 큐\n",
        "\n",
        "T=int(input())\n",
        "for _ in range(T):\n",
        "  N,M=map(int,input().split())\n",
        "  Queue=list(map(int,input().split()))\n",
        "  cnt=0\n",
        "\n",
        "  while Queue:\n",
        "    Qmax=max(Queue)\n",
        "    front=Queue.pop(0)\n",
        "    M-=1\n",
        "\n",
        "    if Qmax==front:\n",
        "      cnt+=1\n",
        "      if M<0:\n",
        "        print(cnt)\n",
        "        break\n",
        "    else:\n",
        "      Queue.append(front)\n",
        "      if M<0: M=len(Queue)-1"
      ],
      "metadata": {
        "id": "-WiHmP4FJZue",
        "colab": {
          "base_uri": "https://localhost:8080/"
        },
        "outputId": "a518debf-4ca0-4452-f7ad-f889075d8284"
      },
      "execution_count": null,
      "outputs": [
        {
          "output_type": "stream",
          "name": "stdout",
          "text": [
            "1\n",
            "4 2\n",
            "1 2 3 4\n",
            "2\n"
          ]
        }
      ]
    },
    {
      "cell_type": "code",
      "source": [
        "#1978 소수 찾기\n",
        "\n",
        "def is_prime(num):\n",
        "  if num==1: return False\n",
        "  for j in range(2,int(num**0.5)+1):\n",
        "    if num%j==0: return False\n",
        "  return True\n",
        "\n",
        "N=int(input())\n",
        "nums=list(map(int,input().split()))\n",
        "\n",
        "cnt=0\n",
        "for i in nums:\n",
        "  if is_prime(i):cnt+=1\n",
        "print(cnt)"
      ],
      "metadata": {
        "colab": {
          "base_uri": "https://localhost:8080/"
        },
        "id": "MfjHthx3JbMv",
        "outputId": "a2b7f249-88e3-4051-cb90-b1b0fee9ceba"
      },
      "execution_count": null,
      "outputs": [
        {
          "output_type": "stream",
          "name": "stdout",
          "text": [
            "4\n",
            "1 3 5 7\n",
            "3\n"
          ]
        }
      ]
    },
    {
      "cell_type": "code",
      "source": [
        "#2108 통계학\n",
        "\n",
        "import sys\n",
        "input=sys.stdin.readline #쓸때마다 오류\n",
        "\n",
        "N=int(input())\n",
        "Ints=list(int(input()) for _ in range(N))\n",
        "Ints.sort()\n",
        "\n",
        "print(round(sum(Ints)/N))\n",
        "print(Ints[N//2])\n",
        "\n",
        "cnt=dict()\n",
        "for i in Ints:\n",
        "  if i in cnt:cnt[i]+=1\n",
        "  else:cnt[i]=1\n",
        "cntmax=max(cnt.values())\n",
        "maxlist=[]\n",
        "for i in cnt:\n",
        "  if cntmax==cnt[i]:maxlist.append(i)\n",
        "if len(maxlist)>1:print(maxlist[1])\n",
        "else:print(maxlist[0])\n",
        "\n",
        "print(max(Ints)-min(Ints))"
      ],
      "metadata": {
        "id": "WdGoQRXpJd2W",
        "colab": {
          "base_uri": "https://localhost:8080/",
          "height": 248
        },
        "outputId": "6b7efacb-3cad-43f2-d5a2-b78425823748"
      },
      "execution_count": 11,
      "outputs": [
        {
          "output_type": "error",
          "ename": "ValueError",
          "evalue": "ignored",
          "traceback": [
            "\u001b[0;31m---------------------------------------------------------------------------\u001b[0m",
            "\u001b[0;31mValueError\u001b[0m                                Traceback (most recent call last)",
            "\u001b[0;32m<ipython-input-11-56e3d53a635f>\u001b[0m in \u001b[0;36m<cell line: 4>\u001b[0;34m()\u001b[0m\n\u001b[1;32m      2\u001b[0m \u001b[0minput\u001b[0m\u001b[0;34m=\u001b[0m\u001b[0msys\u001b[0m\u001b[0;34m.\u001b[0m\u001b[0mstdin\u001b[0m\u001b[0;34m.\u001b[0m\u001b[0mreadline\u001b[0m\u001b[0;34m\u001b[0m\u001b[0;34m\u001b[0m\u001b[0m\n\u001b[1;32m      3\u001b[0m \u001b[0;34m\u001b[0m\u001b[0m\n\u001b[0;32m----> 4\u001b[0;31m \u001b[0mN\u001b[0m\u001b[0;34m=\u001b[0m\u001b[0mint\u001b[0m\u001b[0;34m(\u001b[0m\u001b[0minput\u001b[0m\u001b[0;34m(\u001b[0m\u001b[0;34m)\u001b[0m\u001b[0;34m)\u001b[0m\u001b[0;34m\u001b[0m\u001b[0;34m\u001b[0m\u001b[0m\n\u001b[0m\u001b[1;32m      5\u001b[0m \u001b[0mInts\u001b[0m\u001b[0;34m=\u001b[0m\u001b[0mlist\u001b[0m\u001b[0;34m(\u001b[0m\u001b[0mint\u001b[0m\u001b[0;34m(\u001b[0m\u001b[0minput\u001b[0m\u001b[0;34m(\u001b[0m\u001b[0;34m)\u001b[0m\u001b[0;34m)\u001b[0m \u001b[0;32mfor\u001b[0m \u001b[0m_\u001b[0m \u001b[0;32min\u001b[0m \u001b[0mrange\u001b[0m\u001b[0;34m(\u001b[0m\u001b[0mN\u001b[0m\u001b[0;34m)\u001b[0m\u001b[0;34m)\u001b[0m\u001b[0;34m\u001b[0m\u001b[0;34m\u001b[0m\u001b[0m\n\u001b[1;32m      6\u001b[0m \u001b[0mInts\u001b[0m\u001b[0;34m.\u001b[0m\u001b[0msort\u001b[0m\u001b[0;34m(\u001b[0m\u001b[0;34m)\u001b[0m\u001b[0;34m\u001b[0m\u001b[0;34m\u001b[0m\u001b[0m\n",
            "\u001b[0;31mValueError\u001b[0m: invalid literal for int() with base 10: ''"
          ]
        }
      ]
    },
    {
      "cell_type": "code",
      "source": [
        "#2164 카드2\n"
      ],
      "metadata": {
        "id": "xQuHnh0FJfYi"
      },
      "execution_count": null,
      "outputs": []
    },
    {
      "cell_type": "code",
      "source": [
        "#2231 분해합\n",
        "\n",
        "N=int(input())\n",
        "\n",
        "for i in range(1,N+1):\n",
        "  M=N-(sum(map(int,str(i))))\n",
        "  if M==i:\n",
        "    print(M)\n",
        "    break\n",
        "  if i==N:print(0)"
      ],
      "metadata": {
        "colab": {
          "base_uri": "https://localhost:8080/"
        },
        "id": "w-0edcE3Jhsu",
        "outputId": "dd3647eb-d5e2-4cf7-b02c-674eb2b03393"
      },
      "execution_count": null,
      "outputs": [
        {
          "output_type": "stream",
          "name": "stdout",
          "text": [
            "216\n",
            "198\n"
          ]
        }
      ]
    },
    {
      "cell_type": "code",
      "source": [
        "#2292 벌집\n",
        "\n",
        "N=int(input())\n",
        "\n",
        "N-=1\n",
        "cnt=1\n",
        "\n",
        "while N>0:\n",
        "  N-=6*cnt\n",
        "  cnt+=1\n",
        "print(cnt)"
      ],
      "metadata": {
        "colab": {
          "base_uri": "https://localhost:8080/"
        },
        "id": "VS8GQtF0JqMY",
        "outputId": "519f88e4-f380-42da-9919-5b05bbd506d2"
      },
      "execution_count": null,
      "outputs": [
        {
          "output_type": "stream",
          "name": "stdout",
          "text": [
            "1\n",
            "2\n"
          ]
        }
      ]
    },
    {
      "cell_type": "code",
      "source": [
        "#2609 최대공약수와 최소공배수\n",
        "\n",
        "def Gcd(n1,n2):\n",
        "  if n1%n2==0:return n2\n",
        "  return Gcd(n2,n1%n2)\n",
        "\n",
        "A,B=map(int,input().split())\n",
        "if A>B: g=Gcd(A,B)\n",
        "else: g=Gcd(B,A)\n",
        "\n",
        "print(g)\n",
        "print(A*B//g)"
      ],
      "metadata": {
        "colab": {
          "base_uri": "https://localhost:8080/"
        },
        "id": "y_7xWWYUJrr3",
        "outputId": "5440fc5f-75b5-419c-9d23-2913e8ecf2bf"
      },
      "execution_count": null,
      "outputs": [
        {
          "output_type": "stream",
          "name": "stdout",
          "text": [
            "24 18\n",
            "6\n",
            "72\n"
          ]
        }
      ]
    },
    {
      "cell_type": "code",
      "source": [
        "#2751 수 정렬하기 2"
      ],
      "metadata": {
        "id": "chob8ku0JtuW"
      },
      "execution_count": null,
      "outputs": []
    },
    {
      "cell_type": "code",
      "source": [
        "#2775 부녀회장이 될테야\n",
        "\n",
        "T=int(input())\n",
        "\n",
        "for _ in range(T):\n",
        "  k=int(input())\n",
        "  n=int(input())\n",
        "  p=list(i for i in range (1,n+1))\n",
        "  for i in range(k):\n",
        "    for j in range(1,n):\n",
        "      p[j]+=p[j-1]\n",
        "  print(p[n-1])"
      ],
      "metadata": {
        "colab": {
          "base_uri": "https://localhost:8080/"
        },
        "id": "CGV21cZcD79d",
        "outputId": "6f89eab7-589f-474e-c30c-e7f6aa56daba"
      },
      "execution_count": null,
      "outputs": [
        {
          "output_type": "stream",
          "name": "stdout",
          "text": [
            "1\n",
            "2\n",
            "3\n",
            "10\n"
          ]
        }
      ]
    },
    {
      "cell_type": "code",
      "source": [
        "#2798 블랙잭\n",
        "\n",
        "N,M=map(int,input().split())\n",
        "Card=list(map(int,input().split()))\n",
        "\n",
        "Cases=[]\n",
        "for i in range(N):\n",
        "  for j in range(i+1,N):\n",
        "    for k in range(j+1,N):\n",
        "      Cases.append([i,k,j])\n",
        "\n",
        "C_max=0\n",
        "for i in Cases:\n",
        "  val=sum(Card[j] for j in i)\n",
        "  if val<=M and val>C_max:C_max=val\n",
        "print(C_max)"
      ],
      "metadata": {
        "id": "JG3sqVaRJw9u",
        "colab": {
          "base_uri": "https://localhost:8080/"
        },
        "outputId": "ab91f145-4e45-433a-9698-9f86909dc8f7"
      },
      "execution_count": null,
      "outputs": [
        {
          "output_type": "stream",
          "name": "stdout",
          "text": [
            "10 500\n",
            "93 181 245 214 315 36 185 138 216 295\n",
            "497\n"
          ]
        }
      ]
    },
    {
      "cell_type": "code",
      "source": [
        "#2839 설탕 배달"
      ],
      "metadata": {
        "id": "M7Cji8etJyXH"
      },
      "execution_count": null,
      "outputs": []
    },
    {
      "cell_type": "code",
      "source": [
        "#2869 달팽이는 올라가고 싶다\n",
        "\n",
        "A,B,V=map(int,input().split())\n",
        "print((V-B)//(A-B) if (V-A)%(A-B)==0 else (V-B)//(A-B)+1)"
      ],
      "metadata": {
        "id": "r2TDqfdXJ1Xe",
        "colab": {
          "base_uri": "https://localhost:8080/"
        },
        "outputId": "7b89c700-3a29-4ef9-d3a6-18aec04b738d"
      },
      "execution_count": null,
      "outputs": [
        {
          "output_type": "stream",
          "name": "stdout",
          "text": [
            "100 99 1000000000\n",
            "999999901\n"
          ]
        }
      ]
    },
    {
      "cell_type": "code",
      "source": [
        "#4153 직각삼각형\n",
        "\n",
        "while True:\n",
        "  L=list(map(int,input().split()))\n",
        "  if sum(L)==0:break\n",
        "  Lmax=max(L)\n",
        "  L.remove(Lmax)\n",
        "  Lsum=sum(i**2 for i in L)\n",
        "  if Lsum==(Lmax**2):print(\"right\")\n",
        "  else: print(\"wrong\")"
      ],
      "metadata": {
        "id": "mPSjYm9jJ37u",
        "colab": {
          "base_uri": "https://localhost:8080/"
        },
        "outputId": "5c3f6b27-e2a8-4588-c306-3352ae95def2"
      },
      "execution_count": null,
      "outputs": [
        {
          "name": "stdout",
          "output_type": "stream",
          "text": [
            "6 8 10\n",
            "right\n",
            "25 52 60\n",
            "wrong\n",
            "5 12 13\n",
            "right\n",
            "0 0 0\n"
          ]
        }
      ]
    },
    {
      "cell_type": "code",
      "source": [
        "#4949 균형잡힌 세상"
      ],
      "metadata": {
        "id": "6e83bnPPJ56n"
      },
      "execution_count": null,
      "outputs": []
    },
    {
      "cell_type": "code",
      "source": [
        "#7568 덩치"
      ],
      "metadata": {
        "id": "FzoN4bYtJ7ng"
      },
      "execution_count": null,
      "outputs": []
    },
    {
      "cell_type": "code",
      "source": [
        "#9012 괄호"
      ],
      "metadata": {
        "id": "3NNZxL4PJ98Q"
      },
      "execution_count": null,
      "outputs": []
    },
    {
      "cell_type": "code",
      "source": [
        "#10773 제로"
      ],
      "metadata": {
        "id": "3W_GPJO5J_bS"
      },
      "execution_count": null,
      "outputs": []
    },
    {
      "cell_type": "code",
      "source": [
        "#10812 나이순 정렬"
      ],
      "metadata": {
        "id": "y8JARe4yKAfy"
      },
      "execution_count": null,
      "outputs": []
    },
    {
      "cell_type": "code",
      "source": [
        "#10816 숫자 카드2"
      ],
      "metadata": {
        "id": "RkiDABTRKB8X"
      },
      "execution_count": null,
      "outputs": []
    },
    {
      "cell_type": "code",
      "source": [
        "#10828 스택"
      ],
      "metadata": {
        "id": "6NztwlKEKFQy"
      },
      "execution_count": null,
      "outputs": []
    },
    {
      "cell_type": "code",
      "source": [
        "#10845 큐"
      ],
      "metadata": {
        "id": "h8UqkCIzKGsa"
      },
      "execution_count": null,
      "outputs": []
    },
    {
      "cell_type": "code",
      "source": [
        "#10866 덱"
      ],
      "metadata": {
        "id": "MRAoGNYIKIEP"
      },
      "execution_count": null,
      "outputs": []
    },
    {
      "cell_type": "code",
      "source": [
        "#10989 수 정렬하기3\n",
        "\n",
        "import sys\n",
        "\n",
        "N=int(sys.stdin.readline()) #에러 이유는 모르는데 백준에서는 맞았다함..\n",
        "nums=[0]*10001\n",
        "\n",
        "for _ in range(N):\n",
        "  nums[int(sys.stdin.readline())]+=1\n",
        "\n",
        "for i in range(10001):\n",
        "  if nums[i]!=0:\n",
        "    for j in range(nums[i]):\n",
        "      print(i)"
      ],
      "metadata": {
        "id": "8nYxjzf-KK-u",
        "colab": {
          "base_uri": "https://localhost:8080/",
          "height": 248
        },
        "outputId": "d7a36aa9-d7f4-441e-d91b-4e477727d0d3"
      },
      "execution_count": null,
      "outputs": [
        {
          "output_type": "error",
          "ename": "ValueError",
          "evalue": "ignored",
          "traceback": [
            "\u001b[0;31m---------------------------------------------------------------------------\u001b[0m",
            "\u001b[0;31mValueError\u001b[0m                                Traceback (most recent call last)",
            "\u001b[0;32m<ipython-input-1-2371f65ec617>\u001b[0m in \u001b[0;36m<cell line: 5>\u001b[0;34m()\u001b[0m\n\u001b[1;32m      3\u001b[0m \u001b[0;32mimport\u001b[0m \u001b[0msys\u001b[0m\u001b[0;34m\u001b[0m\u001b[0;34m\u001b[0m\u001b[0m\n\u001b[1;32m      4\u001b[0m \u001b[0;34m\u001b[0m\u001b[0m\n\u001b[0;32m----> 5\u001b[0;31m \u001b[0mN\u001b[0m\u001b[0;34m=\u001b[0m\u001b[0mint\u001b[0m\u001b[0;34m(\u001b[0m\u001b[0msys\u001b[0m\u001b[0;34m.\u001b[0m\u001b[0mstdin\u001b[0m\u001b[0;34m.\u001b[0m\u001b[0mreadline\u001b[0m\u001b[0;34m(\u001b[0m\u001b[0;34m)\u001b[0m\u001b[0;34m)\u001b[0m \u001b[0;31m#에러 이유는 모르는데 백준에서는 맞았다함..\u001b[0m\u001b[0;34m\u001b[0m\u001b[0;34m\u001b[0m\u001b[0m\n\u001b[0m\u001b[1;32m      6\u001b[0m \u001b[0mnums\u001b[0m\u001b[0;34m=\u001b[0m\u001b[0;34m[\u001b[0m\u001b[0;36m0\u001b[0m\u001b[0;34m]\u001b[0m\u001b[0;34m*\u001b[0m\u001b[0;36m10001\u001b[0m\u001b[0;34m\u001b[0m\u001b[0;34m\u001b[0m\u001b[0m\n\u001b[1;32m      7\u001b[0m \u001b[0;34m\u001b[0m\u001b[0m\n",
            "\u001b[0;31mValueError\u001b[0m: invalid literal for int() with base 10: ''"
          ]
        }
      ]
    },
    {
      "cell_type": "code",
      "source": [
        "#11050 이항계수1\n",
        "\n",
        "N,K=map(int,input().split())\n",
        "result=1\n",
        "for i in range(1,N+1):\n",
        "  result*=i\n",
        "for i in range(1,N-K+1):\n",
        "  result/=i\n",
        "for i in range(1,K+1):\n",
        "  result/=i\n",
        "print(int(result))"
      ],
      "metadata": {
        "id": "BIsHyHoaKMk_",
        "colab": {
          "base_uri": "https://localhost:8080/"
        },
        "outputId": "49d13610-a4d2-4130-bb23-d5533a814ae0"
      },
      "execution_count": null,
      "outputs": [
        {
          "output_type": "stream",
          "name": "stdout",
          "text": [
            "5 2\n",
            "10\n"
          ]
        }
      ]
    },
    {
      "cell_type": "code",
      "source": [
        "#11650 좌표 정렬하기"
      ],
      "metadata": {
        "id": "epafVyghKOEe"
      },
      "execution_count": null,
      "outputs": []
    },
    {
      "cell_type": "code",
      "source": [
        "#11651 좌표 정렬하기2"
      ],
      "metadata": {
        "id": "F6hamwz-KP1X"
      },
      "execution_count": null,
      "outputs": []
    },
    {
      "cell_type": "code",
      "source": [
        "#11866 요세푸스 문제0"
      ],
      "metadata": {
        "id": "i7ybLoR2KRyf"
      },
      "execution_count": null,
      "outputs": []
    },
    {
      "cell_type": "code",
      "source": [
        "#15829 Hashing\n",
        "\n",
        "L=int(input())\n",
        "S=list(input())\n",
        "r=31\n",
        "M=1234567891\n",
        "\n",
        "Sum=0\n",
        "for i in range(L):\n",
        "  Sum+=(ord(S[i])-96)*(r**i)\n",
        "print(Sum%M)"
      ],
      "metadata": {
        "id": "eKq26ArdKTof",
        "colab": {
          "base_uri": "https://localhost:8080/"
        },
        "outputId": "cd64e444-23f2-4401-bfab-00e378c3f7cb"
      },
      "execution_count": null,
      "outputs": [
        {
          "output_type": "stream",
          "name": "stdout",
          "text": [
            "1\n",
            "i\n",
            "9\n"
          ]
        }
      ]
    },
    {
      "cell_type": "code",
      "source": [
        "#18110 solved.ac"
      ],
      "metadata": {
        "id": "n0Y0euDCKWsC"
      },
      "execution_count": null,
      "outputs": []
    },
    {
      "cell_type": "code",
      "source": [
        "#18111 마인크래프트"
      ],
      "metadata": {
        "id": "mzXNz1-fKabm"
      },
      "execution_count": null,
      "outputs": []
    }
  ]
}