{
  "nbformat": 4,
  "nbformat_minor": 0,
  "metadata": {
    "colab": {
      "provenance": [],
      "authorship_tag": "ABX9TyNLvSTOG7NuO6Zn33bQd6GE",
      "include_colab_link": true
    },
    "kernelspec": {
      "name": "python3",
      "display_name": "Python 3"
    },
    "language_info": {
      "name": "python"
    }
  },
  "cells": [
    {
      "cell_type": "markdown",
      "metadata": {
        "id": "view-in-github",
        "colab_type": "text"
      },
      "source": [
        "<a href=\"https://colab.research.google.com/github/1360837/Python_Study/blob/main/%EB%B0%B1%EC%A4%80/%EB%B0%B1%EC%A4%80%EC%97%B0%EC%8A%B58.ipynb\" target=\"_parent\"><img src=\"https://colab.research.google.com/assets/colab-badge.svg\" alt=\"Open In Colab\"/></a>"
      ]
    },
    {
      "cell_type": "code",
      "source": [
        "#4673 셀프 넘버\n",
        "\n",
        "nums=list(range(1,10001))\n",
        "num_remove=[]\n",
        "for num in nums:\n",
        "  for n in str(num):\n",
        "    num+=int(n)\n",
        "  if num<=10000:\n",
        "    num_remove.append(num)\n",
        "\n",
        "for i in num_remove:\n",
        "  if i in nums:nums.remove(i)\n",
        "for num in nums:\n",
        "  print(num)\n",
        "#실행결과 범위는 100까지"
      ],
      "metadata": {
        "colab": {
          "base_uri": "https://localhost:8080/"
        },
        "id": "-wrG0K9rJ2fu",
        "outputId": "13cca3c2-38ec-4186-aae6-3e7f1dc64b1c"
      },
      "execution_count": 14,
      "outputs": [
        {
          "output_type": "stream",
          "name": "stdout",
          "text": [
            "1\n",
            "3\n",
            "5\n",
            "7\n",
            "9\n",
            "20\n",
            "31\n",
            "42\n",
            "53\n",
            "64\n",
            "75\n",
            "86\n",
            "97\n"
          ]
        }
      ]
    },
    {
      "cell_type": "code",
      "source": [
        "#2156 포도주 시식\n",
        "\n",
        "n=int(input())\n",
        "gra=[0]*n\n",
        "for i in range(n):\n",
        "  gra[i]=int(input())\n",
        "\n",
        "if n<3:print(sum(gra))\n",
        "else:\n",
        "  result=[0]*n\n",
        "  result[0],result[1]=gra[0],gra[0]+gra[1]\n",
        "  result[2]=max(gra[2]+gra[0],gra[2]+gra[1],result[1])\n",
        "  for i in range(3,n):\n",
        "    result[i]=max(gra[i]+gra[i-1]+result[i-3],gra[i]+result[i-2],result[i-1])\n",
        "  print(max(result))"
      ],
      "metadata": {
        "colab": {
          "base_uri": "https://localhost:8080/"
        },
        "id": "2fTEPPUJNswt",
        "outputId": "f57d6e58-5336-4dd3-ba26-803ede110417"
      },
      "execution_count": 39,
      "outputs": [
        {
          "output_type": "stream",
          "name": "stdout",
          "text": [
            "4\n",
            "10\n",
            "10\n",
            "1\n",
            "0\n",
            "20\n"
          ]
        }
      ]
    },
    {
      "cell_type": "code",
      "source": [
        "#9465 스티커\n",
        "\n",
        "T=int(input())\n",
        "for _ in range(T):\n",
        "  n=int(input())\n",
        "  stiker=[]\n",
        "  for _ in range(2):\n",
        "    stiker.append(list(map(int,input().split())))\n",
        ""
      ],
      "metadata": {
        "colab": {
          "base_uri": "https://localhost:8080/"
        },
        "id": "0zCSMlkfgScp",
        "outputId": "e45b5ad5-c485-4248-fe37-44fc9c427828"
      },
      "execution_count": 40,
      "outputs": [
        {
          "output_type": "stream",
          "name": "stdout",
          "text": [
            "1\n",
            "5\n",
            "20 10 1\n",
            "30 20 2\n",
            "[[20, 10, 1], [30, 20, 2]]\n"
          ]
        }
      ]
    }
  ]
}