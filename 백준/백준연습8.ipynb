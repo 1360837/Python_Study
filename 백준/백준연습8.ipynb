{
  "nbformat": 4,
  "nbformat_minor": 0,
  "metadata": {
    "colab": {
      "provenance": [],
      "authorship_tag": "ABX9TyO4aJTj6W5g7UGoSf3wWRkR",
      "include_colab_link": true
    },
    "kernelspec": {
      "name": "python3",
      "display_name": "Python 3"
    },
    "language_info": {
      "name": "python"
    }
  },
  "cells": [
    {
      "cell_type": "markdown",
      "metadata": {
        "id": "view-in-github",
        "colab_type": "text"
      },
      "source": [
        "<a href=\"https://colab.research.google.com/github/1360837/Python_Study/blob/main/%EB%B0%B1%EC%A4%80/%EB%B0%B1%EC%A4%80%EC%97%B0%EC%8A%B58.ipynb\" target=\"_parent\"><img src=\"https://colab.research.google.com/assets/colab-badge.svg\" alt=\"Open In Colab\"/></a>"
      ]
    },
    {
      "cell_type": "code",
      "source": [
        "#4673 셀프 넘버\n",
        "\n",
        "nums=list(range(1,10001))\n",
        "num_remove=[]\n",
        "for num in nums:\n",
        "  for n in str(num):\n",
        "    num+=int(n)\n",
        "  if num<=10000:\n",
        "    num_remove.append(num)\n",
        "\n",
        "for i in num_remove:\n",
        "  if i in nums:nums.remove(i)\n",
        "for num in nums:\n",
        "  print(num)\n",
        "#실행결과 범위는 100까지"
      ],
      "metadata": {
        "colab": {
          "base_uri": "https://localhost:8080/"
        },
        "id": "-wrG0K9rJ2fu",
        "outputId": "13cca3c2-38ec-4186-aae6-3e7f1dc64b1c"
      },
      "execution_count": null,
      "outputs": [
        {
          "output_type": "stream",
          "name": "stdout",
          "text": [
            "1\n",
            "3\n",
            "5\n",
            "7\n",
            "9\n",
            "20\n",
            "31\n",
            "42\n",
            "53\n",
            "64\n",
            "75\n",
            "86\n",
            "97\n"
          ]
        }
      ]
    },
    {
      "cell_type": "code",
      "source": [
        "#2156 포도주 시식\n",
        "\n",
        "n=int(input())\n",
        "gra=[0]*n\n",
        "for i in range(n):\n",
        "  gra[i]=int(input())\n",
        "\n",
        "if n<3:print(sum(gra))\n",
        "else:\n",
        "  result=[0]*n\n",
        "  result[0],result[1]=gra[0],gra[0]+gra[1]\n",
        "  result[2]=max(gra[2]+gra[0],gra[2]+gra[1],result[1])\n",
        "  for i in range(3,n):\n",
        "    result[i]=max(gra[i]+gra[i-1]+result[i-3],gra[i]+result[i-2],result[i-1])\n",
        "  print(max(result))"
      ],
      "metadata": {
        "colab": {
          "base_uri": "https://localhost:8080/"
        },
        "id": "2fTEPPUJNswt",
        "outputId": "f57d6e58-5336-4dd3-ba26-803ede110417"
      },
      "execution_count": null,
      "outputs": [
        {
          "output_type": "stream",
          "name": "stdout",
          "text": [
            "4\n",
            "10\n",
            "10\n",
            "1\n",
            "0\n",
            "20\n"
          ]
        }
      ]
    },
    {
      "cell_type": "code",
      "source": [
        "#9465 스티커\n",
        "\n",
        "T=int(input())\n",
        "for _ in range(T):\n",
        "  n=int(input())\n",
        "  stiker=[]\n",
        "  for _ in range(2):\n",
        "    stiker.append(list(map(int,input().split())))\n"
      ],
      "metadata": {
        "colab": {
          "base_uri": "https://localhost:8080/"
        },
        "id": "0zCSMlkfgScp",
        "outputId": "e45b5ad5-c485-4248-fe37-44fc9c427828"
      },
      "execution_count": null,
      "outputs": [
        {
          "output_type": "stream",
          "name": "stdout",
          "text": [
            "1\n",
            "5\n",
            "20 10 1\n",
            "30 20 2\n",
            "[[20, 10, 1], [30, 20, 2]]\n"
          ]
        }
      ]
    },
    {
      "cell_type": "code",
      "source": [
        "#4779 칸토어 집합\n",
        "\n",
        "def Can(S,n):\n",
        "  temp=3**n\n",
        "  for i in range(len(S)):\n",
        "    if (i//temp)%2==1:S[i]=False\n",
        "  if n==0: return S\n",
        "  return Can(S,n-1)\n",
        "\n",
        "while True:\n",
        "  try:\n",
        "    N=int(input())\n",
        "    CanSet=[True]*(3**N)\n",
        "    CanSet=Can(CanSet,N)\n",
        "    for i in CanSet:\n",
        "      if i:print(\"-\",end=\"\")\n",
        "      else:print(\" \",end=\"\")\n",
        "    print(\"\")\n",
        "  except:break"
      ],
      "metadata": {
        "colab": {
          "base_uri": "https://localhost:8080/"
        },
        "id": "0-sMduZgHy0L",
        "outputId": "42957060-e090-488e-c9fe-a8d4442036c8"
      },
      "execution_count": 1,
      "outputs": [
        {
          "name": "stdout",
          "output_type": "stream",
          "text": [
            "3\n",
            "- -   - -         - -   - -\n",
            "\n"
          ]
        }
      ]
    },
    {
      "cell_type": "code",
      "source": [
        "#2447 별 찍기 - 10 - 시간초과\n",
        "\n",
        "def star(num,cnt):\n",
        "  if cnt==1: return\n",
        "  else:\n",
        "    for i in range(num):\n",
        "      for j in range(num):\n",
        "        if (i+1)%cnt in range(cnt//3+1,cnt//3*2+1) and (j+1)%cnt in range(cnt//3+1,cnt//3*2+1):\n",
        "          starlist[i][j]=False\n",
        "    return star(num,cnt//3)\n",
        "\n",
        "\n",
        "N=int(input())\n",
        "starlist=list([True]*N for _ in range(N))\n",
        "star(N,N)\n",
        "for i in range(N):\n",
        "  for j in range(N):\n",
        "    if starlist[i][j]:print(\"*\",end=\"\")\n",
        "    else:print(\" \",end=\"\")\n",
        "  print()"
      ],
      "metadata": {
        "colab": {
          "base_uri": "https://localhost:8080/"
        },
        "id": "7nevxmfBH-Rt",
        "outputId": "fb5e0258-fc17-486f-e6c8-055c3eace860"
      },
      "execution_count": 29,
      "outputs": [
        {
          "output_type": "stream",
          "name": "stdout",
          "text": [
            "27\n",
            "***************************\n",
            "* ** ** ** ** ** ** ** ** *\n",
            "***************************\n",
            "***   ******   ******   ***\n",
            "* *   * ** *   * ** *   * *\n",
            "***   ******   ******   ***\n",
            "***************************\n",
            "* ** ** ** ** ** ** ** ** *\n",
            "***************************\n",
            "*********         *********\n",
            "* ** ** *         * ** ** *\n",
            "*********         *********\n",
            "***   ***         ***   ***\n",
            "* *   * *         * *   * *\n",
            "***   ***         ***   ***\n",
            "*********         *********\n",
            "* ** ** *         * ** ** *\n",
            "*********         *********\n",
            "***************************\n",
            "* ** ** ** ** ** ** ** ** *\n",
            "***************************\n",
            "***   ******   ******   ***\n",
            "* *   * ** *   * ** *   * *\n",
            "***   ******   ******   ***\n",
            "***************************\n",
            "* ** ** ** ** ** ** ** ** *\n",
            "***************************\n"
          ]
        }
      ]
    },
    {
      "cell_type": "code",
      "source": [
        "#2447 별 찍기 - 10\n",
        "\n",
        "def starpoint(n):\n",
        "  if n==1:return '*'\n",
        "\n",
        "  stars=starpoint(n//3)\n",
        "  starlist=[]\n",
        "\n",
        "  for s in stars:\n",
        "    starlist.append(s*3)\n",
        "  for s in stars:\n",
        "    starlist.append(s+\" \"*(n//3)+s)\n",
        "  for s in stars:\n",
        "    starlist.append(s*3)\n",
        "  return starlist\n",
        "\n",
        "N=int(input())\n",
        "\n",
        "starlist=starpoint(N)\n",
        "\n",
        "for i in starlist:\n",
        "  print(i)"
      ],
      "metadata": {
        "colab": {
          "base_uri": "https://localhost:8080/"
        },
        "id": "lrMcmulK1RgM",
        "outputId": "472dbf4b-69f0-40e4-8fc6-ccee2f0af861"
      },
      "execution_count": 34,
      "outputs": [
        {
          "output_type": "stream",
          "name": "stdout",
          "text": [
            "27\n",
            "***************************\n",
            "* ** ** ** ** ** ** ** ** *\n",
            "***************************\n",
            "***   ******   ******   ***\n",
            "* *   * ** *   * ** *   * *\n",
            "***   ******   ******   ***\n",
            "***************************\n",
            "* ** ** ** ** ** ** ** ** *\n",
            "***************************\n",
            "*********         *********\n",
            "* ** ** *         * ** ** *\n",
            "*********         *********\n",
            "***   ***         ***   ***\n",
            "* *   * *         * *   * *\n",
            "***   ***         ***   ***\n",
            "*********         *********\n",
            "* ** ** *         * ** ** *\n",
            "*********         *********\n",
            "***************************\n",
            "* ** ** ** ** ** ** ** ** *\n",
            "***************************\n",
            "***   ******   ******   ***\n",
            "* *   * ** *   * ** *   * *\n",
            "***   ******   ******   ***\n",
            "***************************\n",
            "* ** ** ** ** ** ** ** ** *\n",
            "***************************\n"
          ]
        }
      ]
    },
    {
      "cell_type": "code",
      "source": [
        "#10845 큐\n",
        "\n",
        "N=int(input())\n",
        "queue=[]\n",
        "\n",
        "for _ in range(N):\n",
        "  S=input().split()\n",
        "  if S[0]==\"push\":queue.append(S[1])\n",
        "  elif S[0]==\"pop\":\n",
        "    if len(queue)==0:print(-1)\n",
        "    else:print(queue.pop(0))\n",
        "  elif S[0]==\"size\":print(len(queue))\n",
        "  elif S[0]==\"empty\":\n",
        "    if queue:print(0)\n",
        "    else:print(1)\n",
        "  elif S[0]==\"front\":\n",
        "    if len(queue)==0:print(-1)\n",
        "    else:print(queue[0])\n",
        "  elif S[0]==\"back\":\n",
        "    if len(queue)==0:print(-1)\n",
        "    else:print(queue[-1])"
      ],
      "metadata": {
        "id": "z1GQEER5_rnm"
      },
      "execution_count": null,
      "outputs": []
    }
  ]
}