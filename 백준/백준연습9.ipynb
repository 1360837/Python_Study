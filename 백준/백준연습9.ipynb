{
  "nbformat": 4,
  "nbformat_minor": 0,
  "metadata": {
    "colab": {
      "provenance": [],
      "authorship_tag": "ABX9TyOAZQqvX8LS1z653EugrFSI",
      "include_colab_link": true
    },
    "kernelspec": {
      "name": "python3",
      "display_name": "Python 3"
    },
    "language_info": {
      "name": "python"
    }
  },
  "cells": [
    {
      "cell_type": "markdown",
      "metadata": {
        "id": "view-in-github",
        "colab_type": "text"
      },
      "source": [
        "<a href=\"https://colab.research.google.com/github/1360837/Python_Study/blob/main/%EB%B0%B1%EC%A4%80/%EB%B0%B1%EC%A4%80%EC%97%B0%EC%8A%B59.ipynb\" target=\"_parent\"><img src=\"https://colab.research.google.com/assets/colab-badge.svg\" alt=\"Open In Colab\"/></a>"
      ]
    },
    {
      "cell_type": "code",
      "execution_count": null,
      "metadata": {
        "colab": {
          "base_uri": "https://localhost:8080/"
        },
        "id": "DTWTVZ_Fil97",
        "outputId": "a35a5839-3526-460e-b719-2afd6cf3e138"
      },
      "outputs": [
        {
          "output_type": "stream",
          "name": "stdout",
          "text": [
            "2\n",
            "17\n"
          ]
        }
      ],
      "source": [
        "#10844 쉬운 계단 수\n",
        "\n",
        "N=int(input())\n",
        "dp=[[0]*10 for _ in range(N+1)]\n",
        "for i in range(1,10):\n",
        "  dp[1][i]=1\n",
        "for i in range(2,N+1):\n",
        "  for j in range(10):\n",
        "    if j==0: dp[i][j]=dp[i-1][1]\n",
        "    elif j==9:dp[i][j]=dp[i-1][8]\n",
        "    else:dp[i][j]=dp[i-1][j-1]+dp[i-1][j+1]\n",
        "k=1000000000\n",
        "print(sum(dp[N])%k)"
      ]
    },
    {
      "cell_type": "code",
      "source": [
        "#2477 참외밭\n",
        "\n",
        "K=int(input())\n",
        "\n",
        "d=[0]*6\n",
        "l=[0]*6\n",
        "\n",
        "for i in range(6):\n",
        "  d[i],l[i]=map(int,input().split())\n",
        "\n",
        "h=0\n",
        "w=0\n",
        "for i in range(6):\n",
        "  if d[i]==1 or d[i]==2:w+=l[i]\n",
        "  else:h+=l[i]\n",
        "w,h=w//2,h//2\n",
        "land=w*h\n",
        "\n",
        "idx=0\n",
        "for i in range(6):\n",
        "  j=i+1\n",
        "  if i==5: j=0\n",
        "  if d[i]==1 and d[j]==3:idx1,idx2=i,j\n",
        "  if d[i]==2 and d[j]==4:idx1,idx2=i,j\n",
        "  if d[i]==3 and d[j]==2:idx1,idx2=i,j\n",
        "  if d[i]==4 and d[j]==1:idx1,idx2=i,j\n",
        "\n",
        "land=land-(l[idx1]*l[idx2])\n",
        "print(land*K)"
      ],
      "metadata": {
        "id": "aHxjYV54pR80",
        "colab": {
          "base_uri": "https://localhost:8080/"
        },
        "outputId": "23da7dd1-9cfe-4e70-84c1-a32ca3d99f8e"
      },
      "execution_count": 37,
      "outputs": [
        {
          "output_type": "stream",
          "name": "stdout",
          "text": [
            "7\n",
            "3 20\n",
            "1 100\n",
            "4 50\n",
            "2 160\n",
            "3 30\n",
            "1 60\n",
            "47600\n"
          ]
        }
      ]
    },
    {
      "cell_type": "code",
      "source": [
        "#1456 거의 소수 - 시간 초과\n",
        "\n",
        "def isprime(num):\n",
        "  if num==1:return False\n",
        "  for i in range(2,int(num**0.5)+1):\n",
        "    if num%i==0:return False\n",
        "  return True\n",
        "\n",
        "A,B=map(int,input().split())\n",
        "\n",
        "primelist=[]\n",
        "\n",
        "for i in range(2,10**7):\n",
        "  if isprime(i):primelist.append(i)\n",
        "\n",
        "cnt=0\n",
        "for i in primelist:\n",
        "  for j in range(2,int(B**0.5)+1):\n",
        "    if A<=(i**j)<=B:cnt+=1\n",
        "print(cnt)"
      ],
      "metadata": {
        "colab": {
          "base_uri": "https://localhost:8080/"
        },
        "id": "t6TCoequaQX0",
        "outputId": "5cc0287a-f21a-4495-e289-083c0be1bffb"
      },
      "execution_count": 20,
      "outputs": [
        {
          "output_type": "stream",
          "name": "stdout",
          "text": [
            "5324 894739\n",
            "183\n"
          ]
        }
      ]
    },
    {
      "cell_type": "code",
      "source": [
        "#1456 거의 소수\n",
        "\n",
        "A,B=map(int,input().split())\n",
        "b=int(B**0.5)+1\n",
        "sieve=[True]*b\n",
        "sieve[0]=False\n",
        "sieve[1]=False\n",
        "for i in range(2,b):\n",
        "  if i*i>b:break\n",
        "  if not sieve[i]:continue\n",
        "  for j in range(i*2,b,i):\n",
        "    sieve[j]=False\n",
        "cnt=0\n",
        "for i in range(2,b):\n",
        "  if sieve[i]:\n",
        "    j=i*i\n",
        "    while True:\n",
        "      if j<A:\n",
        "        j*=i\n",
        "        continue\n",
        "      if j>B:break\n",
        "      j*=i\n",
        "      cnt+=1\n",
        "print(cnt)"
      ],
      "metadata": {
        "colab": {
          "base_uri": "https://localhost:8080/"
        },
        "id": "BImd7KU20OxQ",
        "outputId": "54f245a7-dab5-4cc6-eaf5-a9170e107536"
      },
      "execution_count": 23,
      "outputs": [
        {
          "output_type": "stream",
          "name": "stdout",
          "text": [
            "5324 894739\n",
            "183\n"
          ]
        }
      ]
    }
  ]
}