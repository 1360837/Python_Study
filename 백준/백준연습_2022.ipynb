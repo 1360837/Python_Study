{
  "nbformat": 4,
  "nbformat_minor": 0,
  "metadata": {
    "colab": {
      "provenance": [],
      "authorship_tag": "ABX9TyO5voWkZecXI8zCvsepclI3",
      "include_colab_link": true
    },
    "kernelspec": {
      "name": "python3",
      "display_name": "Python 3"
    },
    "language_info": {
      "name": "python"
    }
  },
  "cells": [
    {
      "cell_type": "markdown",
      "metadata": {
        "id": "view-in-github",
        "colab_type": "text"
      },
      "source": [
        "<a href=\"https://colab.research.google.com/github/1360837/Python_Study/blob/main/%EB%B0%B1%EC%A4%80/%EB%B0%B1%EC%A4%80%EC%97%B0%EC%8A%B5_2022.ipynb\" target=\"_parent\"><img src=\"https://colab.research.google.com/assets/colab-badge.svg\" alt=\"Open In Colab\"/></a>"
      ]
    },
    {
      "cell_type": "code",
      "execution_count": 47,
      "metadata": {
        "id": "Umk77-S_Zc9-",
        "colab": {
          "base_uri": "https://localhost:8080/"
        },
        "outputId": "502d1471-3ac7-436f-e532-5e2ebd94ca17"
      },
      "outputs": [
        {
          "output_type": "stream",
          "name": "stdout",
          "text": [
            "4 4\n",
            "3 0 1 4\n",
            "5\n"
          ]
        }
      ],
      "source": [
        "#14719 빗물 (1) - 오답 ( Why? )\n",
        "\n",
        "H, W=map(int,input().split())\n",
        "\n",
        "B=list(map(int,input().split()))\n",
        "V=0\n",
        "k=0\n",
        "\n",
        "while True:\n",
        "  for i in range (k+1,W):\n",
        "    if B[k]<=B[i] and i-k>=2:\n",
        "      if k==0:\n",
        "        for j in range(k+1,i):\n",
        "          if min(B[k],B[i])>B[j]:\n",
        "            V+=min(B[k],B[i])-B[j]\n",
        "      else :\n",
        "        for j in range(k,i):\n",
        "          if min(B[k-1],B[i])>B[j]:\n",
        "            V+=min(B[k-1],B[i])-B[j]\n",
        "      k=i\n",
        "  k+=1\n",
        "  if k>=W-1:break\n",
        "\n",
        "print(V)"
      ]
    },
    {
      "cell_type": "code",
      "source": [
        "#14719 빗물 (2)\n",
        "\n",
        "H, W = map(int,input().split())\n",
        "Blocks = list(map(int,input().split()))\n",
        "Rain=0\n",
        "\n",
        "for i in range(1,W-1):\n",
        "  LM = max(Blocks[:i])\n",
        "  RM = max(Blocks[i+1:])\n",
        "\n",
        "  TM = min(LM,RM)\n",
        "\n",
        "  if Blocks[i] < TM:\n",
        "    Rain += TM - Blocks[i]\n",
        "\n",
        "print(Rain)"
      ],
      "metadata": {
        "id": "0oIe9H8tsk6i",
        "colab": {
          "base_uri": "https://localhost:8080/"
        },
        "outputId": "c334dad0-746f-4d1b-881c-19467fc8d48d"
      },
      "execution_count": 18,
      "outputs": [
        {
          "output_type": "stream",
          "name": "stdout",
          "text": [
            "4 8\n",
            "3 1 2 3 4 1 1 2\n",
            "5\n"
          ]
        }
      ]
    },
    {
      "cell_type": "code",
      "source": [
        "#2525 오븐 시계\n",
        "\n",
        "A,B=map(int,input().split())\n",
        "C=int(input())\n",
        "\n",
        "if B+C>=60:\n",
        "  A+=(B+C)//60\n",
        "  B=(B+C)%60\n",
        "else:\n",
        "  B+=C\n",
        "\n",
        "if A>=24:\n",
        "  A=A%24\n",
        "\n",
        "print(A,B)"
      ],
      "metadata": {
        "colab": {
          "base_uri": "https://localhost:8080/"
        },
        "id": "dV6t_8BUwAcx",
        "outputId": "3f7ff0eb-9670-44e4-c1f0-6d8ef09c30a4"
      },
      "execution_count": null,
      "outputs": [
        {
          "output_type": "stream",
          "name": "stdout",
          "text": [
            "23 48\n",
            "25\n",
            "0 13\n"
          ]
        }
      ]
    },
    {
      "cell_type": "code",
      "source": [
        "#1110 더하기 사이클\n",
        "\n",
        "N=int(input())\n",
        "cnt=0\n",
        "\n",
        "new=N\n",
        "\n",
        "while True:\n",
        "  temp=(new//10)+(new%10)\n",
        "  new=(new%10)*10+(temp%10)\n",
        "  cnt+=1\n",
        "  if N==new:\n",
        "    break\n",
        "\n",
        "print(cnt)"
      ],
      "metadata": {
        "colab": {
          "base_uri": "https://localhost:8080/"
        },
        "id": "Q4QqjAGA01Ui",
        "outputId": "54e4e2ae-b0d6-4164-8f51-22b8e15b075d"
      },
      "execution_count": null,
      "outputs": [
        {
          "output_type": "stream",
          "name": "stdout",
          "text": [
            "26\n",
            "4\n"
          ]
        }
      ]
    },
    {
      "cell_type": "code",
      "source": [
        "#1110 더하기 사이클 - 함수 이용\n",
        "\n",
        "N=int(input())\n",
        "cnt=0\n",
        "\n",
        "new=N\n",
        "\n",
        "def new_num(num):\n",
        "  temp=(num//10)+(num%10)\n",
        "  num=(num%10)*10+(temp%10)\n",
        "  return num\n",
        "\n",
        "while True:\n",
        "  new=new_num(new)\n",
        "  cnt+=1\n",
        "  if N==new:\n",
        "    break\n",
        "\n",
        "print(cnt)"
      ],
      "metadata": {
        "colab": {
          "base_uri": "https://localhost:8080/"
        },
        "id": "er9dUAB27uxK",
        "outputId": "818f2e94-3042-4c4c-b449-15b77faf63cf"
      },
      "execution_count": null,
      "outputs": [
        {
          "output_type": "stream",
          "name": "stdout",
          "text": [
            "26\n",
            "4\n"
          ]
        }
      ]
    },
    {
      "cell_type": "code",
      "source": [
        "#1929 소수 구하기\n",
        "\n",
        "M,N=map(int,input().split())\n",
        "\n",
        "for i in range(M,N+1):\n",
        "  if i==1:continue\n",
        "  for j in range(2,int(i**0.5)+1):\n",
        "    if i%j==0:\n",
        "      break\n",
        "  else:\n",
        "    print(i)"
      ],
      "metadata": {
        "colab": {
          "base_uri": "https://localhost:8080/"
        },
        "id": "lHKdVGur8P50",
        "outputId": "340a6192-4942-4110-8b41-4dbf92f6478a"
      },
      "execution_count": null,
      "outputs": [
        {
          "output_type": "stream",
          "name": "stdout",
          "text": [
            "1 16\n",
            "2\n",
            "3\n",
            "5\n",
            "7\n",
            "11\n",
            "13\n"
          ]
        }
      ]
    },
    {
      "cell_type": "code",
      "source": [
        "#1940 주몽\n",
        "\n",
        "N=int(input())\n",
        "M=int(input())\n",
        "Nums=sorted(list(map(int,input().split())))\n",
        "L,R=0,N-1\n",
        "Cnt=0\n",
        "\n",
        "while L<R:\n",
        "  Result = Nums[L]+Nums[R]\n",
        "  if Result<M:\n",
        "    L+=1\n",
        "  elif Result>M:\n",
        "    R-=1\n",
        "  else:\n",
        "    Cnt+=1\n",
        "    L+=1\n",
        "    R-=1\n",
        "\n",
        "print(Cnt)"
      ],
      "metadata": {
        "colab": {
          "base_uri": "https://localhost:8080/"
        },
        "id": "jOGHRDpo1e4V",
        "outputId": "16b2fc6c-f0a8-41de-a54d-3b4bd85f58ae"
      },
      "execution_count": 59,
      "outputs": [
        {
          "output_type": "stream",
          "name": "stdout",
          "text": [
            "6\n",
            "9\n",
            "2 7 4 1 5 3\n",
            "2\n"
          ]
        }
      ]
    },
    {
      "cell_type": "code",
      "source": [
        "#1302 베스트셀러\n",
        "\n",
        "BN=sorted([input() for _ in range(int(input()))])\n",
        "cnt=0\n",
        "index=0\n",
        "\n",
        "for i in range(len(BN)):\n",
        "  cnt1=1\n",
        "  for j in range(i+1,len(BN)-1):\n",
        "    if BN[i]==BN[j] :\n",
        "      cnt1+=1\n",
        "      i=j\n",
        "  if cnt1>cnt:\n",
        "    cnt=cnt1\n",
        "    index=i\n",
        "\n",
        "print(BN[index])"
      ],
      "metadata": {
        "colab": {
          "base_uri": "https://localhost:8080/"
        },
        "id": "uOTjiCYJ9wll",
        "outputId": "51b1f79e-c4c3-44ff-8605-057983256ba0"
      },
      "execution_count": 73,
      "outputs": [
        {
          "output_type": "stream",
          "name": "stdout",
          "text": [
            "1\n",
            "so\n",
            "so\n"
          ]
        }
      ]
    },
    {
      "cell_type": "code",
      "source": [
        "#1158 요세푸스 문제\n",
        "\n",
        "N,K=map(int,input().split())\n",
        "p=[i for i in range(1,N+1)]\n",
        "\n",
        "result=[]\n",
        "cnt=0\n",
        "\n",
        "for _ in range(N):\n",
        "  cnt+=K-1\n",
        "  if cnt>=len(p):\n",
        "    cnt%=len(p)\n",
        "  result.append(str(p.pop(cnt)))\n",
        "\n",
        "print(\"<\",\", \".join(result),\">\",sep=\"\")"
      ],
      "metadata": {
        "colab": {
          "base_uri": "https://localhost:8080/"
        },
        "id": "pWk7KnkDC0_d",
        "outputId": "6c0cfb5f-7aea-4ba1-e5bc-269140ed8dd0"
      },
      "execution_count": 95,
      "outputs": [
        {
          "output_type": "stream",
          "name": "stdout",
          "text": [
            "7 3\n",
            "<3, 6, 2, 7, 5, 1, 4>\n"
          ]
        }
      ]
    },
    {
      "cell_type": "code",
      "source": [
        "#1205 등수 구하기\n",
        "\n",
        "N,new,P=map(int,input().split())\n",
        "\n",
        "if N>0:\n",
        "  scoreList=list(map(int,input().split()))\n",
        "  if N==P and scoreList[N-1]>=new:\n",
        "    print(-1)\n",
        "  else:\n",
        "    rank=N+1\n",
        "    for i in range(N):\n",
        "      if new>=scoreList[i]:\n",
        "        rank=i+1\n",
        "        break\n",
        "    print(rank)\n",
        "else:\n",
        "  print(1)"
      ],
      "metadata": {
        "colab": {
          "base_uri": "https://localhost:8080/"
        },
        "id": "1oVTN9FTQcLH",
        "outputId": "a0d2d32a-92f2-4353-ef21-011a9b677359"
      },
      "execution_count": 105,
      "outputs": [
        {
          "output_type": "stream",
          "name": "stdout",
          "text": [
            "10 1 10\n",
            "10 9 8 7 6 5 4 3 3 0\n",
            "10\n"
          ]
        }
      ]
    },
    {
      "cell_type": "code",
      "source": [
        "#1668 트로피 진열\n",
        "\n",
        "N=int(input())\n",
        "h=[]\n",
        "\n",
        "for i in range(N):\n",
        "  h.append(int(input()))\n",
        "\n",
        "leftmax=rightmax=0\n",
        "leftcnt=rightcnt=0\n",
        "\n",
        "for i in h:\n",
        "  if i>leftmax:\n",
        "    leftcnt+=1\n",
        "    leftmax=i\n",
        "for i in h[::-1]:\n",
        "  if i>rightmax:\n",
        "    rightcnt+=1\n",
        "    rightmax=i\n",
        "\n",
        "print(leftcnt)\n",
        "print(rightcnt)"
      ],
      "metadata": {
        "colab": {
          "base_uri": "https://localhost:8080/"
        },
        "id": "ocrcvjsgWSfd",
        "outputId": "9821e22a-f8e3-4262-a19d-542e992f6a09"
      },
      "execution_count": 115,
      "outputs": [
        {
          "output_type": "stream",
          "name": "stdout",
          "text": [
            "5\n",
            "1\n",
            "2\n",
            "5\n",
            "2\n",
            "1\n",
            "3\n",
            "3\n"
          ]
        }
      ]
    },
    {
      "cell_type": "code",
      "source": [
        "#2445 지능형 기차\n",
        "\n",
        "max=0\n",
        "pNum=0\n",
        "for _ in range(4):\n",
        "  o,i=map(int,input().split())\n",
        "  pNum=pNum-o+i\n",
        "  if pNum>max:\n",
        "    max=pNum\n",
        "\n",
        "print(max)"
      ],
      "metadata": {
        "colab": {
          "base_uri": "https://localhost:8080/"
        },
        "id": "QdCKXShqbOlD",
        "outputId": "72522700-fbc7-4b13-a5ae-aad9e36de07a"
      },
      "execution_count": 116,
      "outputs": [
        {
          "output_type": "stream",
          "name": "stdout",
          "text": [
            "0 32\n",
            "3 13\n",
            "28 25\n",
            "39 0\n",
            "42\n"
          ]
        }
      ]
    },
    {
      "cell_type": "code",
      "source": [
        "#2511 카드놀이\n",
        "ACards=list(map(int,input().split()))\n",
        "BCards=list(map(int,input().split()))\n",
        "Ascore=Bscore=0\n",
        "for i in range(10):\n",
        "  if ACards[i]>BCards[i]:\n",
        "    Ascore+=3\n",
        "  elif BCards[i]>ACards[i]:\n",
        "    Bscore+=3\n",
        "  else:\n",
        ""
      ],
      "metadata": {
        "colab": {
          "base_uri": "https://localhost:8080/",
          "height": 382
        },
        "id": "3p3NfEGeb1xV",
        "outputId": "5b3efcce-9813-4bec-b8f0-52f6aab6ec67"
      },
      "execution_count": 117,
      "outputs": [
        {
          "output_type": "error",
          "ename": "KeyboardInterrupt",
          "evalue": "ignored",
          "traceback": [
            "\u001b[0;31m---------------------------------------------------------------------------\u001b[0m",
            "\u001b[0;31mKeyboardInterrupt\u001b[0m                         Traceback (most recent call last)",
            "\u001b[0;32m<ipython-input-117-794f1e73cbb0>\u001b[0m in \u001b[0;36m<cell line: 2>\u001b[0;34m()\u001b[0m\n\u001b[1;32m      1\u001b[0m \u001b[0;31m#2511 카드놀이\u001b[0m\u001b[0;34m\u001b[0m\u001b[0;34m\u001b[0m\u001b[0m\n\u001b[0;32m----> 2\u001b[0;31m \u001b[0mACards\u001b[0m\u001b[0;34m=\u001b[0m\u001b[0mlist\u001b[0m\u001b[0;34m(\u001b[0m\u001b[0mmap\u001b[0m\u001b[0;34m(\u001b[0m\u001b[0mint\u001b[0m\u001b[0;34m,\u001b[0m\u001b[0minput\u001b[0m\u001b[0;34m(\u001b[0m\u001b[0;34m)\u001b[0m\u001b[0;34m.\u001b[0m\u001b[0msplit\u001b[0m\u001b[0;34m(\u001b[0m\u001b[0;34m)\u001b[0m\u001b[0;34m)\u001b[0m\u001b[0;34m)\u001b[0m\u001b[0;34m\u001b[0m\u001b[0;34m\u001b[0m\u001b[0m\n\u001b[0m\u001b[1;32m      3\u001b[0m \u001b[0;34m\u001b[0m\u001b[0m\n",
            "\u001b[0;32m/usr/local/lib/python3.10/dist-packages/ipykernel/kernelbase.py\u001b[0m in \u001b[0;36mraw_input\u001b[0;34m(self, prompt)\u001b[0m\n\u001b[1;32m    849\u001b[0m                 \u001b[0;34m\"raw_input was called, but this frontend does not support input requests.\"\u001b[0m\u001b[0;34m\u001b[0m\u001b[0;34m\u001b[0m\u001b[0m\n\u001b[1;32m    850\u001b[0m             )\n\u001b[0;32m--> 851\u001b[0;31m         return self._input_request(str(prompt),\n\u001b[0m\u001b[1;32m    852\u001b[0m             \u001b[0mself\u001b[0m\u001b[0;34m.\u001b[0m\u001b[0m_parent_ident\u001b[0m\u001b[0;34m,\u001b[0m\u001b[0;34m\u001b[0m\u001b[0;34m\u001b[0m\u001b[0m\n\u001b[1;32m    853\u001b[0m             \u001b[0mself\u001b[0m\u001b[0;34m.\u001b[0m\u001b[0m_parent_header\u001b[0m\u001b[0;34m,\u001b[0m\u001b[0;34m\u001b[0m\u001b[0;34m\u001b[0m\u001b[0m\n",
            "\u001b[0;32m/usr/local/lib/python3.10/dist-packages/ipykernel/kernelbase.py\u001b[0m in \u001b[0;36m_input_request\u001b[0;34m(self, prompt, ident, parent, password)\u001b[0m\n\u001b[1;32m    893\u001b[0m             \u001b[0;32mexcept\u001b[0m \u001b[0mKeyboardInterrupt\u001b[0m\u001b[0;34m:\u001b[0m\u001b[0;34m\u001b[0m\u001b[0;34m\u001b[0m\u001b[0m\n\u001b[1;32m    894\u001b[0m                 \u001b[0;31m# re-raise KeyboardInterrupt, to truncate traceback\u001b[0m\u001b[0;34m\u001b[0m\u001b[0;34m\u001b[0m\u001b[0m\n\u001b[0;32m--> 895\u001b[0;31m                 \u001b[0;32mraise\u001b[0m \u001b[0mKeyboardInterrupt\u001b[0m\u001b[0;34m(\u001b[0m\u001b[0;34m\"Interrupted by user\"\u001b[0m\u001b[0;34m)\u001b[0m \u001b[0;32mfrom\u001b[0m \u001b[0;32mNone\u001b[0m\u001b[0;34m\u001b[0m\u001b[0;34m\u001b[0m\u001b[0m\n\u001b[0m\u001b[1;32m    896\u001b[0m             \u001b[0;32mexcept\u001b[0m \u001b[0mException\u001b[0m \u001b[0;32mas\u001b[0m \u001b[0me\u001b[0m\u001b[0;34m:\u001b[0m\u001b[0;34m\u001b[0m\u001b[0;34m\u001b[0m\u001b[0m\n\u001b[1;32m    897\u001b[0m                 \u001b[0mself\u001b[0m\u001b[0;34m.\u001b[0m\u001b[0mlog\u001b[0m\u001b[0;34m.\u001b[0m\u001b[0mwarning\u001b[0m\u001b[0;34m(\u001b[0m\u001b[0;34m\"Invalid Message:\"\u001b[0m\u001b[0;34m,\u001b[0m \u001b[0mexc_info\u001b[0m\u001b[0;34m=\u001b[0m\u001b[0;32mTrue\u001b[0m\u001b[0;34m)\u001b[0m\u001b[0;34m\u001b[0m\u001b[0;34m\u001b[0m\u001b[0m\n",
            "\u001b[0;31mKeyboardInterrupt\u001b[0m: Interrupted by user"
          ]
        }
      ]
    }
  ]
}