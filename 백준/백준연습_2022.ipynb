{
  "nbformat": 4,
  "nbformat_minor": 0,
  "metadata": {
    "colab": {
      "provenance": [],
      "authorship_tag": "ABX9TyPGumzRIvpTROa1ewNHoUOT",
      "include_colab_link": true
    },
    "kernelspec": {
      "name": "python3",
      "display_name": "Python 3"
    },
    "language_info": {
      "name": "python"
    }
  },
  "cells": [
    {
      "cell_type": "markdown",
      "metadata": {
        "id": "view-in-github",
        "colab_type": "text"
      },
      "source": [
        "<a href=\"https://colab.research.google.com/github/1360837/Python_Study/blob/main/%EB%B0%B1%EC%A4%80/%EB%B0%B1%EC%A4%80%EC%97%B0%EC%8A%B5_2022.ipynb\" target=\"_parent\"><img src=\"https://colab.research.google.com/assets/colab-badge.svg\" alt=\"Open In Colab\"/></a>"
      ]
    },
    {
      "cell_type": "code",
      "execution_count": 47,
      "metadata": {
        "id": "Umk77-S_Zc9-",
        "colab": {
          "base_uri": "https://localhost:8080/"
        },
        "outputId": "502d1471-3ac7-436f-e532-5e2ebd94ca17"
      },
      "outputs": [
        {
          "output_type": "stream",
          "name": "stdout",
          "text": [
            "4 4\n",
            "3 0 1 4\n",
            "5\n"
          ]
        }
      ],
      "source": [
        "#14719 빗물 (1) - 오답 ( Why? )\n",
        "\n",
        "H, W=map(int,input().split())\n",
        "\n",
        "B=list(map(int,input().split()))\n",
        "V=0\n",
        "k=0\n",
        "\n",
        "while True:\n",
        "  for i in range (k+1,W):\n",
        "    if B[k]<=B[i] and i-k>=2:\n",
        "      if k==0:\n",
        "        for j in range(k+1,i):\n",
        "          if min(B[k],B[i])>B[j]:\n",
        "            V+=min(B[k],B[i])-B[j]\n",
        "      else :\n",
        "        for j in range(k,i):\n",
        "          if min(B[k-1],B[i])>B[j]:\n",
        "            V+=min(B[k-1],B[i])-B[j]\n",
        "      k=i\n",
        "  k+=1\n",
        "  if k>=W-1:break\n",
        "\n",
        "print(V)"
      ]
    },
    {
      "cell_type": "code",
      "source": [
        "#14719 빗물 (2)\n",
        "\n",
        "H, W = map(int,input().split())\n",
        "Blocks = list(map(int,input().split()))\n",
        "Rain=0\n",
        "\n",
        "for i in range(1,W-1):\n",
        "  LM = max(Blocks[:i])\n",
        "  RM = max(Blocks[i+1:])\n",
        "\n",
        "  TM = min(LM,RM)\n",
        "\n",
        "  if Blocks[i] < TM:\n",
        "    Rain += TM - Blocks[i]\n",
        "\n",
        "print(Rain)"
      ],
      "metadata": {
        "id": "0oIe9H8tsk6i",
        "colab": {
          "base_uri": "https://localhost:8080/"
        },
        "outputId": "c334dad0-746f-4d1b-881c-19467fc8d48d"
      },
      "execution_count": 18,
      "outputs": [
        {
          "output_type": "stream",
          "name": "stdout",
          "text": [
            "4 8\n",
            "3 1 2 3 4 1 1 2\n",
            "5\n"
          ]
        }
      ]
    },
    {
      "cell_type": "code",
      "source": [
        "#2525 오븐 시계\n",
        "\n",
        "A,B=map(int,input().split())\n",
        "C=int(input())\n",
        "\n",
        "if B+C>=60:\n",
        "  A+=(B+C)//60\n",
        "  B=(B+C)%60\n",
        "else:\n",
        "  B+=C\n",
        "\n",
        "if A>=24:\n",
        "  A=A%24\n",
        "\n",
        "print(A,B)"
      ],
      "metadata": {
        "colab": {
          "base_uri": "https://localhost:8080/"
        },
        "id": "dV6t_8BUwAcx",
        "outputId": "3f7ff0eb-9670-44e4-c1f0-6d8ef09c30a4"
      },
      "execution_count": null,
      "outputs": [
        {
          "output_type": "stream",
          "name": "stdout",
          "text": [
            "23 48\n",
            "25\n",
            "0 13\n"
          ]
        }
      ]
    },
    {
      "cell_type": "code",
      "source": [
        "#1110 더하기 사이클\n",
        "\n",
        "N=int(input())\n",
        "cnt=0\n",
        "\n",
        "new=N\n",
        "\n",
        "while True:\n",
        "  temp=(new//10)+(new%10)\n",
        "  new=(new%10)*10+(temp%10)\n",
        "  cnt+=1\n",
        "  if N==new:\n",
        "    break\n",
        "\n",
        "print(cnt)"
      ],
      "metadata": {
        "colab": {
          "base_uri": "https://localhost:8080/"
        },
        "id": "Q4QqjAGA01Ui",
        "outputId": "54e4e2ae-b0d6-4164-8f51-22b8e15b075d"
      },
      "execution_count": null,
      "outputs": [
        {
          "output_type": "stream",
          "name": "stdout",
          "text": [
            "26\n",
            "4\n"
          ]
        }
      ]
    },
    {
      "cell_type": "code",
      "source": [
        "#1110 더하기 사이클 - 함수 이용\n",
        "\n",
        "N=int(input())\n",
        "cnt=0\n",
        "\n",
        "new=N\n",
        "\n",
        "def new_num(num):\n",
        "  temp=(num//10)+(num%10)\n",
        "  num=(num%10)*10+(temp%10)\n",
        "  return num\n",
        "\n",
        "while True:\n",
        "  new=new_num(new)\n",
        "  cnt+=1\n",
        "  if N==new:\n",
        "    break\n",
        "\n",
        "print(cnt)"
      ],
      "metadata": {
        "colab": {
          "base_uri": "https://localhost:8080/"
        },
        "id": "er9dUAB27uxK",
        "outputId": "818f2e94-3042-4c4c-b449-15b77faf63cf"
      },
      "execution_count": null,
      "outputs": [
        {
          "output_type": "stream",
          "name": "stdout",
          "text": [
            "26\n",
            "4\n"
          ]
        }
      ]
    },
    {
      "cell_type": "code",
      "source": [
        "#1929 소수 구하기\n",
        "\n",
        "M,N=map(int,input().split())\n",
        "\n",
        "for i in range(M,N+1):\n",
        "  if i==1:continue\n",
        "  for j in range(2,int(i**0.5)+1):\n",
        "    if i%j==0:\n",
        "      break\n",
        "  else:\n",
        "    print(i)"
      ],
      "metadata": {
        "colab": {
          "base_uri": "https://localhost:8080/"
        },
        "id": "lHKdVGur8P50",
        "outputId": "340a6192-4942-4110-8b41-4dbf92f6478a"
      },
      "execution_count": null,
      "outputs": [
        {
          "output_type": "stream",
          "name": "stdout",
          "text": [
            "1 16\n",
            "2\n",
            "3\n",
            "5\n",
            "7\n",
            "11\n",
            "13\n"
          ]
        }
      ]
    }
  ]
}