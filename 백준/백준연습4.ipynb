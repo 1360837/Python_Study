{
  "nbformat": 4,
  "nbformat_minor": 0,
  "metadata": {
    "colab": {
      "provenance": [],
      "authorship_tag": "ABX9TyMEy5dX4fhf8N4RETclCwUl",
      "include_colab_link": true
    },
    "kernelspec": {
      "name": "python3",
      "display_name": "Python 3"
    },
    "language_info": {
      "name": "python"
    }
  },
  "cells": [
    {
      "cell_type": "markdown",
      "metadata": {
        "id": "view-in-github",
        "colab_type": "text"
      },
      "source": [
        "<a href=\"https://colab.research.google.com/github/1360837/Python_Study/blob/main/%EB%B0%B1%EC%A4%80/%EB%B0%B1%EC%A4%80%EC%97%B0%EC%8A%B54.ipynb\" target=\"_parent\"><img src=\"https://colab.research.google.com/assets/colab-badge.svg\" alt=\"Open In Colab\"/></a>"
      ]
    },
    {
      "cell_type": "code",
      "execution_count": null,
      "metadata": {
        "colab": {
          "base_uri": "https://localhost:8080/"
        },
        "id": "mGHKRN8GDVjz",
        "outputId": "8b898a45-5a58-4f70-8cdb-25bdde1440be"
      },
      "outputs": [
        {
          "output_type": "stream",
          "name": "stdout",
          "text": [
            "10 7\n",
            "9\n"
          ]
        }
      ],
      "source": [
        "#2060 에라토스테네스의 체\n",
        "\n",
        "n,k =map(int,input().split())\n",
        "\n",
        "a=[]\n",
        "\n",
        "for i in range(n-1):\n",
        "  a.append(i+2)\n",
        "\n",
        "count =0\n",
        "\n",
        "while count<k:\n",
        "  c=a[0]\n",
        "  b=a.pop(0)\n",
        "  count = count + 1\n",
        "  for i in a:\n",
        "    if i%c==0:\n",
        "      b=i\n",
        "      a.remove(i)\n",
        "      count = count +1\n",
        "    if count ==k : break\n",
        "\n",
        "print(b)"
      ]
    },
    {
      "cell_type": "code",
      "source": [
        "#1652 누울 자리를 찾아라\n",
        "\n",
        "N=int(input())\n",
        "\n",
        "A=[]\n",
        "Row=0\n",
        "Column=0\n",
        "\n",
        "for _ in range (N):\n",
        "  A.append(list(input()))\n",
        "\n",
        "for i in range (N):\n",
        "  Count=0\n",
        "  for j in range (N):\n",
        "    if A[i][j] == \".\":\n",
        "      Count += 1\n",
        "    else:\n",
        "      Count = 0\n",
        "    if Count == 2:\n",
        "      Row += 1\n",
        "for i in range (N):\n",
        "  Count=0\n",
        "  for j in range (N):\n",
        "    if A[j][i] == \".\":\n",
        "      Count += 1\n",
        "    else:\n",
        "      Count = 0\n",
        "    if Count == 2:\n",
        "      Column += 1\n",
        "\n",
        "print(Row,Column)"
      ],
      "metadata": {
        "colab": {
          "base_uri": "https://localhost:8080/"
        },
        "id": "ep4pO3S53-u4",
        "outputId": "6779f236-e29c-4e67-9fd9-f8199bdc072b"
      },
      "execution_count": 2,
      "outputs": [
        {
          "output_type": "stream",
          "name": "stdout",
          "text": [
            "5\n",
            "....X\n",
            "..XX.\n",
            ".....\n",
            ".XX..\n",
            "X....\n",
            "5 4\n"
          ]
        }
      ]
    },
    {
      "cell_type": "code",
      "source": [
        "#1764 듣보잡 // 시간초과\n",
        "\n",
        "N,M=map(int,input().split())\n",
        "\n",
        "N_L=[]\n",
        "N_S=[]\n",
        "\n",
        "for _ in range(N):\n",
        "  N_L.append(input())\n",
        "for _ in range(M):\n",
        "  N_S.append(input())\n",
        "\n",
        "Count =0\n",
        "N_LS=[]\n",
        "\n",
        "for i in range(N):\n",
        "  for j in range(M):\n",
        "    if N_L[i]==N_S[j]:\n",
        "      N_LS.append(N_L[i])\n",
        "      Count+=1\n",
        "\n",
        "print(Count)\n",
        "for i in sorted(N_LS):\n",
        "  print(i)"
      ],
      "metadata": {
        "colab": {
          "base_uri": "https://localhost:8080/"
        },
        "id": "O4aO46ao7RZZ",
        "outputId": "84ae0c94-fb32-4729-bf7d-dd4dd3139351"
      },
      "execution_count": 9,
      "outputs": [
        {
          "output_type": "stream",
          "name": "stdout",
          "text": [
            "3 4\n",
            "o\n",
            "c\n",
            "b\n",
            "m\n",
            "b\n",
            "o\n",
            "l\n",
            "2\n",
            "b\n",
            "o\n"
          ]
        }
      ]
    },
    {
      "cell_type": "code",
      "source": [
        "#1764 듣보잡\n",
        "\n",
        "N,M=map(int,input().split())\n",
        "\n",
        "N_L=[]\n",
        "N_S=[]\n",
        "\n",
        "for _ in range(N):\n",
        "  N_L.append(input())\n",
        "for _ in range(M):\n",
        "  N_S.append(input())\n",
        "\n",
        "N_LS=list(set(N_L)&set(N_S))\n",
        "\n",
        "print(len(N_LS))\n",
        "for i in sorted(N_LS):\n",
        "  print(i)"
      ],
      "metadata": {
        "colab": {
          "base_uri": "https://localhost:8080/"
        },
        "id": "-bBzJLzR-isq",
        "outputId": "dd93184c-d7f3-49d3-a109-88d9b09f4ec7"
      },
      "execution_count": 10,
      "outputs": [
        {
          "output_type": "stream",
          "name": "stdout",
          "text": [
            "3 4\n",
            "o\n",
            "c\n",
            "b\n",
            "m\n",
            "b\n",
            "o\n",
            "l\n",
            "2\n",
            "b\n",
            "o\n"
          ]
        }
      ]
    }
  ]
}