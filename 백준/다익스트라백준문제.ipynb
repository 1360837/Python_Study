{
  "nbformat": 4,
  "nbformat_minor": 0,
  "metadata": {
    "colab": {
      "provenance": [],
      "authorship_tag": "ABX9TyMiUMlwXPrNG+rJ+2xy/72d",
      "include_colab_link": true
    },
    "kernelspec": {
      "name": "python3",
      "display_name": "Python 3"
    },
    "language_info": {
      "name": "python"
    }
  },
  "cells": [
    {
      "cell_type": "markdown",
      "metadata": {
        "id": "view-in-github",
        "colab_type": "text"
      },
      "source": [
        "<a href=\"https://colab.research.google.com/github/1360837/Python_Study/blob/main/%EB%B0%B1%EC%A4%80/%EB%8B%A4%EC%9D%B5%EC%8A%A4%ED%8A%B8%EB%9D%BC%EB%B0%B1%EC%A4%80%EB%AC%B8%EC%A0%9C.ipynb\" target=\"_parent\"><img src=\"https://colab.research.google.com/assets/colab-badge.svg\" alt=\"Open In Colab\"/></a>"
      ]
    },
    {
      "cell_type": "code",
      "execution_count": null,
      "metadata": {
        "id": "x5dLSjZKeTCV"
      },
      "outputs": [],
      "source": [
        "#1446 지름길\n",
        "\n",
        "import heapq\n",
        "import sys\n",
        "input = sys.stdin.readline\n",
        "\n",
        "def shortcut(start) :\n",
        "    q = []\n",
        "    heapq.heappush(q, (0, start))\n",
        "    dist[start] = 0\n",
        "\n",
        "    while q:\n",
        "        dist_stat, stat = heapq.heappop(q)\n",
        "\n",
        "        if dist_stat > dist[stat]: continue\n",
        "        for i in node[stat] :\n",
        "            dist_i = dist_stat + i[1]\n",
        "            if dist_i < dist[i[0]]:\n",
        "                dist[i[0]] = dist_i #최솟값 갱신\n",
        "                heapq.heappush(q, (dist_i, i[0]))\n",
        "\n",
        "N, D = map(int,input().split())\n",
        "\n",
        "node = [[(i + 1,1)] for i in range(D + 1)]\n",
        "node[D] = [] #도착지점이기 때문에 비워주기\n",
        "dist = [10000] * (D + 1) #D의 최대값이 10000이라 10000으로 설\n",
        "\n",
        "for _ in range(N):\n",
        "    s, e, l = map(int,input().split())\n",
        "    if e > D :continue #일방통행 : 도착지점을 지나치면 의미없음\n",
        "    node[s].append((e,l))\n",
        "\n",
        "shortcut(0)\n",
        "print(dist[D])"
      ]
    },
    {
      "cell_type": "code",
      "source": [
        "#18352 특정 거리의 도시 찾기\n",
        "\n",
        "import heapq\n",
        "import sys\n",
        "input = sys.stdin.readline\n",
        "\n",
        "def city(start, K):\n",
        "    check = True #-1 출력 유무 판단\n",
        "    q =[]\n",
        "    heapq.heappush(q, (0, start))\n",
        "    dist[start] = 0\n",
        "\n",
        "    while q:\n",
        "        dist_stat, stat = heapq.heappop(q)\n",
        "\n",
        "        if dist_stat > dist[stat]: continue\n",
        "        for i in node[stat] :\n",
        "            dist_i = dist_stat + 1\n",
        "            if dist_i < dist[i]:\n",
        "                dist[i] = dist_i\n",
        "                heapq.heappush(q, (dist_i, i))\n",
        "        if dist[stat] == K : #stat와 연결된 모든 도시를 다 돌고 난 후 최솟값이 K면 출력\n",
        "            check = False #출력을 했기 때문에 -1 출력은 False\n",
        "            print(stat)\n",
        "\n",
        "    if check: print(-1)\n",
        "\n",
        "N, M, K, X = map(int,input().split())\n",
        "\n",
        "node = [[] for _ in range(N + 1)]\n",
        "dist = [N] * (N + 1)\n",
        "\n",
        "for _ in range(M):\n",
        "    A, B = map(int,input().split())\n",
        "    node[A].append(B)\n",
        "\n",
        "city(X, K)"
      ],
      "metadata": {
        "id": "Jw15TDkvfFgf"
      },
      "execution_count": null,
      "outputs": []
    },
    {
      "cell_type": "code",
      "source": [
        "#4485 녹색 옷 입은 애가 젤다지?\n",
        "\n",
        "import heapq\n",
        "import sys\n",
        "input = sys.stdin.readline\n",
        "\n",
        "dxdy = [(1,0),(-1,0),(0,1),(0,-1)]\n",
        "\n",
        "def findmincost(x,y):\n",
        "    q = []\n",
        "    cost[x][y] = cave[x][y]\n",
        "\n",
        "    heapq.heappush(q, (cost[x][y], (x,y)))\n",
        "\n",
        "    while q:\n",
        "        cost_stat, (x_stat, y_stat) = heapq.heappop(q)\n",
        "        if cost_stat > cost[x_stat][y_stat]: continue\n",
        "        for dx,dy in dxdy :\n",
        "            xi = x_stat + dx\n",
        "            yi = y_stat + dy\n",
        "            if xi < 0 or xi >= N or yi < 0 or yi >= N : continue #index를 벗어나면 무시하기\n",
        "            cost_dxdy = cost_stat + cave[xi][yi] #가중치\n",
        "            if cost_dxdy < cost[xi][yi]:\n",
        "                cost[xi][yi] = cost_dxdy\n",
        "                heapq.heappush(q, (cost[xi][yi],(xi,yi)))\n",
        "\n",
        "T = 0\n",
        "while True:\n",
        "    N = int(input())\n",
        "    if N == 0: break\n",
        "    T += 1\n",
        "    cave = [list(map(int,input().split())) for _ in range(N)]\n",
        "    cost = [[100000] * N for _ in range(N)]  #125*125의 모든 칸의 값이 9라도 100000를 안넘어감\n",
        "    findmincost(0,0)\n",
        "    print(\"Problem %d: %d\" %(T, cost[-1][-1]))"
      ],
      "metadata": {
        "id": "NWAvA_tYha0C"
      },
      "execution_count": null,
      "outputs": []
    }
  ]
}