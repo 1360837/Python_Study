{
  "nbformat": 4,
  "nbformat_minor": 0,
  "metadata": {
    "colab": {
      "provenance": [],
      "authorship_tag": "ABX9TyNVyeuuBPiKi8c7iLv+3tH2",
      "include_colab_link": true
    },
    "kernelspec": {
      "name": "python3",
      "display_name": "Python 3"
    },
    "language_info": {
      "name": "python"
    }
  },
  "cells": [
    {
      "cell_type": "markdown",
      "metadata": {
        "id": "view-in-github",
        "colab_type": "text"
      },
      "source": [
        "<a href=\"https://colab.research.google.com/github/1360837/Python_Study/blob/main/%EB%B0%B1%EC%A4%80/Greedy_Alg.ipynb\" target=\"_parent\"><img src=\"https://colab.research.google.com/assets/colab-badge.svg\" alt=\"Open In Colab\"/></a>"
      ]
    },
    {
      "cell_type": "code",
      "execution_count": null,
      "metadata": {
        "colab": {
          "base_uri": "https://localhost:8080/"
        },
        "id": "nQ6YQorl5sP8",
        "outputId": "ff6ad378-b69f-4a39-c987-fb60d65dccd8"
      },
      "outputs": [
        {
          "output_type": "stream",
          "name": "stdout",
          "text": [
            "10 4790\n",
            "1\n",
            "5\n",
            "10\n",
            "50\n",
            "100\n",
            "500\n",
            "1000\n",
            "5000\n",
            "10000\n",
            "50000\n",
            "12\n"
          ]
        }
      ],
      "source": [
        "#11047 동전 0\n",
        "\n",
        "N,K=map(int,input().split())\n",
        "coin=[int(input()) for _ in range(N)]\n",
        "cnt=0\n",
        "while K>0:\n",
        "  if K<coin[N-1]:\n",
        "    N-=1\n",
        "    continue\n",
        "  cnt+=K//coin[N-1]\n",
        "  K%=coin[N-1]\n",
        "print(cnt)"
      ]
    },
    {
      "cell_type": "code",
      "source": [
        "#11399 ATM\n",
        "\n",
        "N=int(input())\n",
        "time=list(map(int,input().split()))\n",
        "time.sort()\n",
        "result=0\n",
        "for i in range(N):\n",
        "  result+=sum(time[:i+1])\n",
        "print(result)"
      ],
      "metadata": {
        "colab": {
          "base_uri": "https://localhost:8080/"
        },
        "id": "Zfudc5Nd8Cf9",
        "outputId": "5465ec9d-b5b0-4eb6-b41d-447224aac26e"
      },
      "execution_count": null,
      "outputs": [
        {
          "output_type": "stream",
          "name": "stdout",
          "text": [
            "5\n",
            "3 1 4 3 2\n",
            "32\n"
          ]
        }
      ]
    },
    {
      "cell_type": "code",
      "source": [
        "#5585 거스름돈\n",
        "\n",
        "n=int(input())\n",
        "moneys=[500,100,50,10,5,1]\n",
        "money=1000-n\n",
        "cnt=0\n",
        "for i in moneys:\n",
        "  cnt+=(money//i)\n",
        "  money%=i\n",
        "print(cnt)"
      ],
      "metadata": {
        "colab": {
          "base_uri": "https://localhost:8080/"
        },
        "id": "pVN1-_5290iK",
        "outputId": "25e69772-fdb6-4ca2-f21a-190fb0c058ad"
      },
      "execution_count": null,
      "outputs": [
        {
          "output_type": "stream",
          "name": "stdout",
          "text": [
            "1\n",
            "15\n"
          ]
        }
      ]
    },
    {
      "cell_type": "code",
      "source": [
        "#1931 회의실 배정\n",
        "\n",
        "N=int(input())\n",
        "meeting=[list(map(int,input().split())) for _ in range(N)]\n",
        "\n",
        "meeting.sort(key=lambda x:(x[1],x[0]))\n",
        "\n",
        "cnt=1\n",
        "endmeeting=meeting[0][1]\n",
        "for i in range(1,N):\n",
        "  if meeting[i][0]>=endmeeting:\n",
        "    cnt+=1\n",
        "    endmeeting=meeting[i][1]\n",
        "print(cnt)"
      ],
      "metadata": {
        "id": "YhsiQf2Q_ctn",
        "colab": {
          "base_uri": "https://localhost:8080/"
        },
        "outputId": "7f6a6ab6-ca93-4e10-ef13-9cff2a8090cc"
      },
      "execution_count": 4,
      "outputs": [
        {
          "output_type": "stream",
          "name": "stdout",
          "text": [
            "11\n",
            "1 4\n",
            "3 5\n",
            "0 6\n",
            "5 7\n",
            "3 8\n",
            "5 9\n",
            "6 10\n",
            "8 11\n",
            "8 12\n",
            "2 13\n",
            "12 14\n",
            "4\n"
          ]
        }
      ]
    },
    {
      "cell_type": "code",
      "source": [
        "#2217 로프\n",
        "\n",
        "N=int(input())\n",
        "Lwe=list(int(input()) for _ in range(N))\n",
        "Lwe.sort()\n",
        "\n",
        "cnt=N\n",
        "wemin=Lwe[0]\n",
        "result=wemin*cnt\n",
        "for i in range(N):\n",
        "  if result<Lwe[i]*(cnt-i):\n",
        "    result=Lwe[i]*(cnt-i)\n",
        "print(result)"
      ],
      "metadata": {
        "colab": {
          "base_uri": "https://localhost:8080/"
        },
        "id": "9VvvwYwugTrR",
        "outputId": "041c3343-b7e8-4ba0-8c28-0cb2db015cb9"
      },
      "execution_count": 8,
      "outputs": [
        {
          "output_type": "stream",
          "name": "stdout",
          "text": [
            "4\n",
            "2\n",
            "3\n",
            "4\n",
            "100\n",
            "100\n"
          ]
        }
      ]
    },
    {
      "cell_type": "code",
      "source": [
        "#13305 주유소\n",
        "\n"
      ],
      "metadata": {
        "id": "EsjfqdQclg-5"
      },
      "execution_count": null,
      "outputs": []
    }
  ]
}