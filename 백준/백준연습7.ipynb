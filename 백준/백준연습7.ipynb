{
  "nbformat": 4,
  "nbformat_minor": 0,
  "metadata": {
    "colab": {
      "provenance": [],
      "authorship_tag": "ABX9TyP5ltuD3A76KRhYHemy+7eH",
      "include_colab_link": true
    },
    "kernelspec": {
      "name": "python3",
      "display_name": "Python 3"
    },
    "language_info": {
      "name": "python"
    }
  },
  "cells": [
    {
      "cell_type": "markdown",
      "metadata": {
        "id": "view-in-github",
        "colab_type": "text"
      },
      "source": [
        "<a href=\"https://colab.research.google.com/github/1360837/Python_Study/blob/main/%EB%B0%B1%EC%A4%80/%EB%B0%B1%EC%A4%80%EC%97%B0%EC%8A%B57.ipynb\" target=\"_parent\"><img src=\"https://colab.research.google.com/assets/colab-badge.svg\" alt=\"Open In Colab\"/></a>"
      ]
    },
    {
      "cell_type": "code",
      "source": [
        "#python 시간초과 나서 pypy3으로 제출함 - pypy3이 시간초과 안나는 경우도 있어서 시간초과 난 사람은 한 번 제출해보기\n",
        "\n",
        "#18111 마인크래프트\n",
        "\n",
        "import sys\n",
        "input=sys.stdin.readline\n",
        "\n",
        "N,M,B=map(int,input().split())\n",
        "land=[]\n",
        "for _ in range(N):land=land[:]+list(map(int,input().split())) #최대값 최소값 구하기 위해 1차원 배열로 만들어줌\n",
        "hmin=min(land) #최대값 최소값을 벗어나는 영역의 높이의 땅은 필요없어서 범위 설정해줌\n",
        "hmax=max(land)\n",
        "result=sys.maxsize #int값중 최댓값\n",
        "\n",
        "for i in range(hmin,hmax+1): #i는 맞추고자하는 땅의 높이\n",
        "  inb,outb=0,0 #inb설치하는 땅의 수 outb제거하는 땅의 수\n",
        "  for j in land:\n",
        "    if (i-j)<0:outb+=(j-i)\n",
        "    else:inb+=(i-j)\n",
        "  if inb<=(outb+B):\n",
        "    if inb+(outb*2)<=result: #\"<=\"해준 이유 최소값이 많다면 가장 높은 땅의 높이 출력\n",
        "      result=inb+(outb*2)\n",
        "      idx=i #최소값이라면 저장해주기\n",
        "print(result,idx)"
      ],
      "metadata": {
        "colab": {
          "base_uri": "https://localhost:8080/"
        },
        "id": "fENC8cVo1XF1",
        "outputId": "1c7f5f9d-941c-4c48-9b09-fadfa5886067"
      },
      "execution_count": null,
      "outputs": [
        {
          "name": "stdout",
          "output_type": "stream",
          "text": [
            "1 3 0\n",
            "1 3 3\n"
          ]
        }
      ]
    },
    {
      "cell_type": "code",
      "execution_count": null,
      "metadata": {
        "id": "nVQIm3iRqTE7"
      },
      "outputs": [],
      "source": [
        "#9655 돌 게임\n",
        "\n",
        "N=int(input())\n",
        "result=N//3+N%3 #돌 세개씩 다 가져가고 남은 2개이하의 돌의 개수까지 가져가는 총 횟수\n",
        "if result%2==0:print(\"CY\") #그 횟수가 짝수라면 CY승\n",
        "else: print(\"SK\")"
      ]
    },
    {
      "cell_type": "code",
      "source": [
        "#1932 정수 삼각형\n",
        "\n",
        "n=int(input())\n",
        "tri=[]\n",
        "for _ in range(n):tri.append(list(map(int,input().split())))\n",
        "\n",
        "for i in range(1,n):\n",
        "  for j in range(i+1):\n",
        "    if j==0:tri[i][j]+=tri[i-1][j] #왼쪽 끝이면 왼쪽끝값만 더해주기\n",
        "    elif j==i:tri[i][j]+=tri[i-1][j-1] #오른쪽 끝이면 오른쪽 끝 값만 더해주기\n",
        "    else:tri[i][j]+=max(tri[i-1][j-1],tri[i-1][j]) #중간값이면 양쪽 위에 값 더해주기\n",
        "print(max(tri[n-1])) #최하층에 각 위치에 도달하기 위한 최대값이 저장되어 있으니 그 중 최대값 출력"
      ],
      "metadata": {
        "colab": {
          "base_uri": "https://localhost:8080/"
        },
        "id": "SUyo9hwRqaQn",
        "outputId": "02b174b7-7d5d-4c10-87bb-5fee9cad7aca"
      },
      "execution_count": null,
      "outputs": [
        {
          "output_type": "stream",
          "name": "stdout",
          "text": [
            "5\n",
            "7\n",
            "3 8\n",
            "8 1 0\n",
            "2 7 4 4\n",
            "4 5 2 6 5\n",
            "28\n"
          ]
        }
      ]
    },
    {
      "cell_type": "code",
      "source": [
        "#1002 터렛\n",
        "\n",
        "T=int(input())\n",
        "for _ in range(T):\n",
        "  x1,y1,r1,x2,y2,r2=map(int,input().split())\n",
        "  if x1==x2 and y1==y2:\n",
        "    if r1==r2==0:print(1) #두 점의 위치가 같고 반지름이 0일때는 1 (반지름이 0이라 한 점만 만남)\n",
        "    elif r1==r2:print(-1) #두 점의 위치가 같고 반지름도 같다면 겹쳐진 원이기에 무한대\n",
        "    elif r1!=r2:print(0) #반지름이 다르다면 원안에 원 형태라 안만남\n",
        "  else:\n",
        "    dis=((x1-x2)**2+(y1-y2)**2)**0.5 #두 점 사이의 거리\n",
        "    if (r1+r2)<dis:print(0) #두 점 사이의 거리가 반지름 합보다 크다면 안만남\n",
        "    elif (r1+r2)==dis:print(1) #같으면 접함\n",
        "    else:\n",
        "      if dis<abs(r1-r2):print(0) #이것도 원 안에 원형태\n",
        "      elif dis==abs(r1-r2):print(1) #내접원 외접원같이 접하는 형태\n",
        "      else:print(2) #일반적인 두점이 접하는 형태"
      ],
      "metadata": {
        "colab": {
          "base_uri": "https://localhost:8080/"
        },
        "id": "0WiucBvg2BDJ",
        "outputId": "5a745a84-c4dc-4207-d561-d35c1c58c88b"
      },
      "execution_count": null,
      "outputs": [
        {
          "output_type": "stream",
          "name": "stdout",
          "text": [
            "1\n",
            "0 0 5 0 1 2\n",
            "0\n"
          ]
        }
      ]
    }
  ]
}