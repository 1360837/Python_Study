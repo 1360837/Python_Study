{
  "nbformat": 4,
  "nbformat_minor": 0,
  "metadata": {
    "colab": {
      "provenance": [],
      "authorship_tag": "ABX9TyOnnaRXgo9ZKixnA2VJxBiG",
      "include_colab_link": true
    },
    "kernelspec": {
      "name": "python3",
      "display_name": "Python 3"
    },
    "language_info": {
      "name": "python"
    }
  },
  "cells": [
    {
      "cell_type": "markdown",
      "metadata": {
        "id": "view-in-github",
        "colab_type": "text"
      },
      "source": [
        "<a href=\"https://colab.research.google.com/github/1360837/Python_Study/blob/main/%EB%B0%B1%EC%A4%80/%EB%B0%B1%EC%A4%80%EC%97%B0%EC%8A%B57.ipynb\" target=\"_parent\"><img src=\"https://colab.research.google.com/assets/colab-badge.svg\" alt=\"Open In Colab\"/></a>"
      ]
    },
    {
      "cell_type": "code",
      "source": [
        "#18111 마인크래프트\n",
        "\n",
        "N,M,B=map(int,input().split())\n",
        "land=[]\n",
        "for _ in range(N):land=land[:]+list(map(int,input().split()))\n",
        "land.sort(reverse=True)\n",
        "timecnt=0\n",
        "h=land(0)"
      ],
      "metadata": {
        "colab": {
          "base_uri": "https://localhost:8080/"
        },
        "id": "fENC8cVo1XF1",
        "outputId": "879fb2ce-dc97-46e2-d03f-cc194ba6930e"
      },
      "execution_count": 32,
      "outputs": [
        {
          "output_type": "stream",
          "name": "stdout",
          "text": [
            "2 2 1\n",
            "1 2\n",
            "3 4\n",
            "[4, 3, 2, 1]\n"
          ]
        }
      ]
    },
    {
      "cell_type": "code",
      "execution_count": null,
      "metadata": {
        "id": "nVQIm3iRqTE7"
      },
      "outputs": [],
      "source": [
        "#9655 돌 게임\n",
        "\n",
        "N=int(input())\n",
        "result=N//3+N%3\n",
        "if result%2==0:print(\"CY\")\n",
        "else: print(\"SK\")"
      ]
    },
    {
      "cell_type": "code",
      "source": [
        "#1932 정수 삼각형\n",
        "\n",
        "n=int(input())\n",
        "tri=[]\n",
        "for _ in range(n):tri.append(list(map(int,input().split())))\n",
        "\n",
        "for i in range(1,n):\n",
        "  for j in range(i+1):\n",
        "    if j==0:tri[i][j]+=tri[i-1][j]\n",
        "    elif j==i:tri[i][j]+=tri[i-1][j-1]\n",
        "    else:tri[i][j]+=max(tri[i-1][j-1],tri[i-1][j])\n",
        "print(max(tri[n-1]))"
      ],
      "metadata": {
        "colab": {
          "base_uri": "https://localhost:8080/"
        },
        "id": "SUyo9hwRqaQn",
        "outputId": "02b174b7-7d5d-4c10-87bb-5fee9cad7aca"
      },
      "execution_count": 2,
      "outputs": [
        {
          "output_type": "stream",
          "name": "stdout",
          "text": [
            "5\n",
            "7\n",
            "3 8\n",
            "8 1 0\n",
            "2 7 4 4\n",
            "4 5 2 6 5\n",
            "28\n"
          ]
        }
      ]
    },
    {
      "cell_type": "code",
      "source": [
        "#1002 터렛\n",
        "\n",
        "T=int(input())\n",
        "for _ in range(T):\n",
        "  x1,y1,r1,x2,y2,r2=map(int,input().split())\n",
        "  if x1==x2 and y1==y2:\n",
        "    if r1==r2==0:print(1)\n",
        "    elif r1==r2:print(-1)\n",
        "    elif r1!=r2:print(0)\n",
        "  else:\n",
        "    dis=((x1-x2)**2+(y1-y2)**2)**0.5\n",
        "    if (r1+r2)<dis:print(0)\n",
        "    elif (r1+r2)==dis:print(1)\n",
        "    else:\n",
        "      if dis<abs(r1-r2):print(0)\n",
        "      elif dis==abs(r1-r2):print(1)\n",
        "      else:print(2)"
      ],
      "metadata": {
        "colab": {
          "base_uri": "https://localhost:8080/"
        },
        "id": "0WiucBvg2BDJ",
        "outputId": "5a745a84-c4dc-4207-d561-d35c1c58c88b"
      },
      "execution_count": 16,
      "outputs": [
        {
          "output_type": "stream",
          "name": "stdout",
          "text": [
            "1\n",
            "0 0 5 0 1 2\n",
            "0\n"
          ]
        }
      ]
    }
  ]
}