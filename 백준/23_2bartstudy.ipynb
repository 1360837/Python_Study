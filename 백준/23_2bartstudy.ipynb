{
  "nbformat": 4,
  "nbformat_minor": 0,
  "metadata": {
    "colab": {
      "provenance": [],
      "authorship_tag": "ABX9TyMaFHnsbYmENCFQ0qKNnnsG",
      "include_colab_link": true
    },
    "kernelspec": {
      "name": "python3",
      "display_name": "Python 3"
    },
    "language_info": {
      "name": "python"
    }
  },
  "cells": [
    {
      "cell_type": "markdown",
      "metadata": {
        "id": "view-in-github",
        "colab_type": "text"
      },
      "source": [
        "<a href=\"https://colab.research.google.com/github/1360837/Python_Study/blob/main/%EB%B0%B1%EC%A4%80/23_2bartstudy.ipynb\" target=\"_parent\"><img src=\"https://colab.research.google.com/assets/colab-badge.svg\" alt=\"Open In Colab\"/></a>"
      ]
    },
    {
      "cell_type": "code",
      "execution_count": null,
      "metadata": {
        "colab": {
          "base_uri": "https://localhost:8080/"
        },
        "id": "Isqxvk2PLcbG",
        "outputId": "42c27421-b5a2-4d17-92c3-9c5194aea7d3"
      },
      "outputs": [
        {
          "output_type": "stream",
          "name": "stdout",
          "text": [
            "5\n",
            "1 8 2 3 9\n",
            "18\n"
          ]
        }
      ],
      "source": [
        "#11055 가장 큰 증가하는 부분 수열\n",
        "\n",
        "N=int(input())\n",
        "A=list(map(int,input().split()))\n",
        "\n",
        "seqsum=[1]*N\n",
        "seqsum[0]=A[0]\n",
        "seqmax=seqsum[0]\n",
        "for i in range(1,N):\n",
        "  for j in range(i):\n",
        "    if A[j]<A[i]:\n",
        "      seqsum[i]=max(seqsum[i],seqsum[j]+A[i])\n",
        "    else:\n",
        "      seqsum[i]=max(seqsum[i],A[i])\n",
        "  seqmax=max(seqmax,seqsum[i])\n",
        "print(seqmax)"
      ]
    },
    {
      "cell_type": "code",
      "source": [
        "#1065 한수\n",
        "\n",
        "N=int(input())\n",
        "cnt=0\n",
        "for i in range(1,N+1):\n",
        "  J=list(map(int,str(i)))\n",
        "  if len(J)%2==0:\n",
        "    if sum(J)/len(J)==(J[len(J)//2-1]+J[len(J)//2])/2:cnt+=1\n",
        "  else:\n",
        "    if sum(J)/len(J)==J[len(J)//2]:cnt+=1\n",
        "print(cnt)"
      ],
      "metadata": {
        "id": "3ztBoDuoPRqb"
      },
      "execution_count": null,
      "outputs": []
    },
    {
      "cell_type": "code",
      "source": [
        "#10610 30\n",
        "\n",
        "N=input()\n",
        "N=sorted(N,reverse=True)\n",
        "N_sum=sum(list(map(int,N)))\n",
        "if N_sum%3!=0:\n",
        "  print(-1)\n",
        "elif '0' not in N:\n",
        "  print(-1)\n",
        "else:\n",
        "  print(*N,sep=\"\")"
      ],
      "metadata": {
        "colab": {
          "base_uri": "https://localhost:8080/"
        },
        "id": "9zR-KnlqPgNj",
        "outputId": "7157937c-31f1-4f2f-ce4c-2db463b0ca36"
      },
      "execution_count": null,
      "outputs": [
        {
          "output_type": "stream",
          "name": "stdout",
          "text": [
            "30\n",
            "<map object at 0x79bbe67b2440>\n",
            "30\n"
          ]
        }
      ]
    },
    {
      "cell_type": "code",
      "source": [
        "N=input()\n",
        "N=sorted(N,reverse=True)\n",
        "N_sum=0\n",
        "\n",
        "for i in N:\n",
        "  N_sum+=int(i)\n",
        "if N[-1]!='0':print(-1)\n",
        "elif N_sum%3!=0:print(-1)\n",
        "else:print(''.join(N))"
      ],
      "metadata": {
        "colab": {
          "base_uri": "https://localhost:8080/"
        },
        "id": "xomVpRYcVHHe",
        "outputId": "87f3e065-87d5-4c6d-b338-9c76885d932d"
      },
      "execution_count": null,
      "outputs": [
        {
          "output_type": "stream",
          "name": "stdout",
          "text": [
            "80875542\n",
            "88755420\n"
          ]
        }
      ]
    },
    {
      "cell_type": "code",
      "source": [
        "#4659 비밀번호 발음하기\n",
        "vowels=['a','e','i','o','u']\n",
        "\n",
        "while True:\n",
        "  s=input()\n",
        "  if s==\"end\" : break\n",
        "\n",
        "  cnt=0\n",
        "  result=\"acceptable\"\n",
        "\n",
        "  cont=0 #자음모음 연속 3개 판별\n",
        "  test=0 #자음이면0 모음이면1\n",
        "  for i in range(len(s)):\n",
        "    if test==1 and s[i] in vowels:cont+=1 #자음모음 3개연속 불가\n",
        "    elif test==0 and s[i] not in vowels:cont+=1\n",
        "    else:\n",
        "      if s[i] in vowels:test=1\n",
        "      else:test=0\n",
        "      cont=1\n",
        "    if cont==3:\n",
        "      result=\"not acceptable\"\n",
        "      break\n",
        "    if s[i] in vowels:cnt+=1 #모음 하나 반드시 포함\n",
        "    if i>0 and s[i]==s[i-1]: #같은 글자 연속불가(e,o제외)\n",
        "      if s[i]=='e' or s[i]=='o': continue\n",
        "      result=\"not acceptable\"\n",
        "\n",
        "  if cnt==0:result=\"not acceptable\"\n",
        "  print(\"<%s> is %s.\"%(s,result))"
      ],
      "metadata": {
        "colab": {
          "base_uri": "https://localhost:8080/",
          "height": 430
        },
        "id": "v_1tpqZUXHUi",
        "outputId": "eed44ede-cce9-4f8c-b10c-7e2c616a0931"
      },
      "execution_count": 15,
      "outputs": [
        {
          "output_type": "stream",
          "name": "stdout",
          "text": [
            "a\n",
            "<a> is acceptable.\n"
          ]
        },
        {
          "output_type": "error",
          "ename": "KeyboardInterrupt",
          "evalue": "ignored",
          "traceback": [
            "\u001b[0;31m---------------------------------------------------------------------------\u001b[0m",
            "\u001b[0;31mKeyboardInterrupt\u001b[0m                         Traceback (most recent call last)",
            "\u001b[0;32m<ipython-input-15-a1779c1dd9dd>\u001b[0m in \u001b[0;36m<cell line: 4>\u001b[0;34m()\u001b[0m\n\u001b[1;32m      3\u001b[0m \u001b[0;34m\u001b[0m\u001b[0m\n\u001b[1;32m      4\u001b[0m \u001b[0;32mwhile\u001b[0m \u001b[0;32mTrue\u001b[0m\u001b[0;34m:\u001b[0m\u001b[0;34m\u001b[0m\u001b[0;34m\u001b[0m\u001b[0m\n\u001b[0;32m----> 5\u001b[0;31m   \u001b[0ms\u001b[0m\u001b[0;34m=\u001b[0m\u001b[0minput\u001b[0m\u001b[0;34m(\u001b[0m\u001b[0;34m)\u001b[0m\u001b[0;34m\u001b[0m\u001b[0;34m\u001b[0m\u001b[0m\n\u001b[0m\u001b[1;32m      6\u001b[0m   \u001b[0;32mif\u001b[0m \u001b[0ms\u001b[0m\u001b[0;34m==\u001b[0m\u001b[0;34m\"end\"\u001b[0m \u001b[0;34m:\u001b[0m \u001b[0;32mbreak\u001b[0m\u001b[0;34m\u001b[0m\u001b[0;34m\u001b[0m\u001b[0m\n\u001b[1;32m      7\u001b[0m \u001b[0;34m\u001b[0m\u001b[0m\n",
            "\u001b[0;32m/usr/local/lib/python3.10/dist-packages/ipykernel/kernelbase.py\u001b[0m in \u001b[0;36mraw_input\u001b[0;34m(self, prompt)\u001b[0m\n\u001b[1;32m    849\u001b[0m                 \u001b[0;34m\"raw_input was called, but this frontend does not support input requests.\"\u001b[0m\u001b[0;34m\u001b[0m\u001b[0;34m\u001b[0m\u001b[0m\n\u001b[1;32m    850\u001b[0m             )\n\u001b[0;32m--> 851\u001b[0;31m         return self._input_request(str(prompt),\n\u001b[0m\u001b[1;32m    852\u001b[0m             \u001b[0mself\u001b[0m\u001b[0;34m.\u001b[0m\u001b[0m_parent_ident\u001b[0m\u001b[0;34m,\u001b[0m\u001b[0;34m\u001b[0m\u001b[0;34m\u001b[0m\u001b[0m\n\u001b[1;32m    853\u001b[0m             \u001b[0mself\u001b[0m\u001b[0;34m.\u001b[0m\u001b[0m_parent_header\u001b[0m\u001b[0;34m,\u001b[0m\u001b[0;34m\u001b[0m\u001b[0;34m\u001b[0m\u001b[0m\n",
            "\u001b[0;32m/usr/local/lib/python3.10/dist-packages/ipykernel/kernelbase.py\u001b[0m in \u001b[0;36m_input_request\u001b[0;34m(self, prompt, ident, parent, password)\u001b[0m\n\u001b[1;32m    893\u001b[0m             \u001b[0;32mexcept\u001b[0m \u001b[0mKeyboardInterrupt\u001b[0m\u001b[0;34m:\u001b[0m\u001b[0;34m\u001b[0m\u001b[0;34m\u001b[0m\u001b[0m\n\u001b[1;32m    894\u001b[0m                 \u001b[0;31m# re-raise KeyboardInterrupt, to truncate traceback\u001b[0m\u001b[0;34m\u001b[0m\u001b[0;34m\u001b[0m\u001b[0m\n\u001b[0;32m--> 895\u001b[0;31m                 \u001b[0;32mraise\u001b[0m \u001b[0mKeyboardInterrupt\u001b[0m\u001b[0;34m(\u001b[0m\u001b[0;34m\"Interrupted by user\"\u001b[0m\u001b[0;34m)\u001b[0m \u001b[0;32mfrom\u001b[0m \u001b[0;32mNone\u001b[0m\u001b[0;34m\u001b[0m\u001b[0;34m\u001b[0m\u001b[0m\n\u001b[0m\u001b[1;32m    896\u001b[0m             \u001b[0;32mexcept\u001b[0m \u001b[0mException\u001b[0m \u001b[0;32mas\u001b[0m \u001b[0me\u001b[0m\u001b[0;34m:\u001b[0m\u001b[0;34m\u001b[0m\u001b[0;34m\u001b[0m\u001b[0m\n\u001b[1;32m    897\u001b[0m                 \u001b[0mself\u001b[0m\u001b[0;34m.\u001b[0m\u001b[0mlog\u001b[0m\u001b[0;34m.\u001b[0m\u001b[0mwarning\u001b[0m\u001b[0;34m(\u001b[0m\u001b[0;34m\"Invalid Message:\"\u001b[0m\u001b[0;34m,\u001b[0m \u001b[0mexc_info\u001b[0m\u001b[0;34m=\u001b[0m\u001b[0;32mTrue\u001b[0m\u001b[0;34m)\u001b[0m\u001b[0;34m\u001b[0m\u001b[0;34m\u001b[0m\u001b[0m\n",
            "\u001b[0;31mKeyboardInterrupt\u001b[0m: Interrupted by user"
          ]
        }
      ]
    }
  ]
}