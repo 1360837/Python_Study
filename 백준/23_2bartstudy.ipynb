{
  "nbformat": 4,
  "nbformat_minor": 0,
  "metadata": {
    "colab": {
      "provenance": [],
      "authorship_tag": "ABX9TyO8IDu0yfIdLJeesebFr/w6",
      "include_colab_link": true
    },
    "kernelspec": {
      "name": "python3",
      "display_name": "Python 3"
    },
    "language_info": {
      "name": "python"
    }
  },
  "cells": [
    {
      "cell_type": "markdown",
      "metadata": {
        "id": "view-in-github",
        "colab_type": "text"
      },
      "source": [
        "<a href=\"https://colab.research.google.com/github/1360837/Python_Study/blob/main/%EB%B0%B1%EC%A4%80/23_2bartstudy.ipynb\" target=\"_parent\"><img src=\"https://colab.research.google.com/assets/colab-badge.svg\" alt=\"Open In Colab\"/></a>"
      ]
    },
    {
      "cell_type": "code",
      "execution_count": 7,
      "metadata": {
        "colab": {
          "base_uri": "https://localhost:8080/"
        },
        "id": "Isqxvk2PLcbG",
        "outputId": "42c27421-b5a2-4d17-92c3-9c5194aea7d3"
      },
      "outputs": [
        {
          "output_type": "stream",
          "name": "stdout",
          "text": [
            "5\n",
            "1 8 2 3 9\n",
            "18\n"
          ]
        }
      ],
      "source": [
        "#11055 가장 큰 증가하는 부분 수열\n",
        "\n",
        "N=int(input())\n",
        "A=list(map(int,input().split()))\n",
        "\n",
        "seqsum=[1]*N\n",
        "seqsum[0]=A[0]\n",
        "seqmax=seqsum[0]\n",
        "for i in range(1,N):\n",
        "  for j in range(i):\n",
        "    if A[j]<A[i]:\n",
        "      seqsum[i]=max(seqsum[i],seqsum[j]+A[i])\n",
        "    else:\n",
        "      seqsum[i]=max(seqsum[i],A[i])\n",
        "  seqmax=max(seqmax,seqsum[i])\n",
        "print(seqmax)"
      ]
    },
    {
      "cell_type": "code",
      "source": [
        "#1065 한수\n",
        "\n",
        "N=int(input())\n",
        "cnt=0\n",
        "for i in range(1,N+1):\n",
        "  J=list(map(int,str(i)))\n",
        "  if len(J)%2==0:\n",
        "    if sum(J)/len(J)==(J[len(J)//2-1]+J[len(J)//2])/2:cnt+=1\n",
        "  else:\n",
        "    if sum(J)/len(J)==J[len(J)//2]:cnt+=1\n",
        "print(cnt)"
      ],
      "metadata": {
        "id": "3ztBoDuoPRqb"
      },
      "execution_count": null,
      "outputs": []
    },
    {
      "cell_type": "code",
      "source": [
        "#10610 30\n",
        "\n",
        "N=input()\n",
        "N=sorted(N,reverse=True)\n",
        "N_sum=sum(list(map(int,N)))\n",
        "if N_sum%3!=0:\n",
        "  print(-1)\n",
        "elif '0' not in N:\n",
        "  print(-1)\n",
        "else:\n",
        "  print(*N,sep=\"\")"
      ],
      "metadata": {
        "colab": {
          "base_uri": "https://localhost:8080/"
        },
        "id": "9zR-KnlqPgNj",
        "outputId": "7157937c-31f1-4f2f-ce4c-2db463b0ca36"
      },
      "execution_count": 14,
      "outputs": [
        {
          "output_type": "stream",
          "name": "stdout",
          "text": [
            "30\n",
            "<map object at 0x79bbe67b2440>\n",
            "30\n"
          ]
        }
      ]
    },
    {
      "cell_type": "code",
      "source": [
        "N=input()\n",
        "N=sorted(N,reverse=True)\n",
        "N_sum=0\n",
        "\n",
        "for i in N:\n",
        "  N_sum+=int(i)\n",
        "if N[-1]!='0':print(-1)\n",
        "elif N_sum%3!=0:print(-1)\n",
        "else:print(''.join(N))"
      ],
      "metadata": {
        "colab": {
          "base_uri": "https://localhost:8080/"
        },
        "id": "xomVpRYcVHHe",
        "outputId": "87f3e065-87d5-4c6d-b338-9c76885d932d"
      },
      "execution_count": 21,
      "outputs": [
        {
          "output_type": "stream",
          "name": "stdout",
          "text": [
            "80875542\n",
            "88755420\n"
          ]
        }
      ]
    }
  ]
}