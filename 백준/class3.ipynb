{
  "nbformat": 4,
  "nbformat_minor": 0,
  "metadata": {
    "colab": {
      "provenance": [],
      "authorship_tag": "ABX9TyN7vZJkRgsdjbLFLAUjXIYc",
      "include_colab_link": true
    },
    "kernelspec": {
      "name": "python3",
      "display_name": "Python 3"
    },
    "language_info": {
      "name": "python"
    }
  },
  "cells": [
    {
      "cell_type": "markdown",
      "metadata": {
        "id": "view-in-github",
        "colab_type": "text"
      },
      "source": [
        "<a href=\"https://colab.research.google.com/github/1360837/Python_Study/blob/main/%EB%B0%B1%EC%A4%80/class3.ipynb\" target=\"_parent\"><img src=\"https://colab.research.google.com/assets/colab-badge.svg\" alt=\"Open In Colab\"/></a>"
      ]
    },
    {
      "cell_type": "code",
      "execution_count": null,
      "metadata": {
        "colab": {
          "base_uri": "https://localhost:8080/"
        },
        "id": "suz3WKXBmPPK",
        "outputId": "5b30b82f-ef00-40de-f893-5417314a899f"
      },
      "outputs": [
        {
          "output_type": "stream",
          "name": "stdout",
          "text": [
            "6\n",
            "5\n",
            "3 5\n",
            "6\n",
            "5 8\n",
            "7\n",
            "8 13\n",
            "8\n",
            "13 21\n",
            "9\n",
            "21 34\n",
            "10\n",
            "34 55\n"
          ]
        }
      ],
      "source": [
        "#1003 피보나치 함수\n",
        "\n",
        "T=int(input())\n",
        "for _ in range(T):\n",
        "  N=int(input())\n",
        "  if N==0:print(1,0)\n",
        "  elif N==1:print(0,1)\n",
        "  else:\n",
        "    li=[0]*(N+1)\n",
        "    li[0],li[1]=0,1\n",
        "    for i in range(2,N+1):\n",
        "      li[i]=li[i-1]+li[i-2]\n",
        "    print(li[N-1],li[N])"
      ]
    },
    {
      "cell_type": "code",
      "source": [
        "#1012 유기농 배추\n",
        "\n",
        "def BFS(x,y):\n",
        "  dx=[0,0,-1,1]\n",
        "  dy=[1,-1,0,0]\n",
        "  queue = [(x,y)]\n",
        "  land[x][y]=0\n",
        "\n",
        "  while queue:\n",
        "    x,y=queue.pop(0)\n",
        "\n",
        "    for i in range(4):\n",
        "      nx=x+dx[i]\n",
        "      ny=y+dy[i]\n",
        "\n",
        "      if nx<0 or nx>=M or ny<0 or ny>=N:continue\n",
        "      if land[nx][ny]==1:\n",
        "        queue.append((nx,ny))\n",
        "        land[nx][ny]=0\n",
        "\n",
        "T=int(input())\n",
        "for _ in range(T):\n",
        "  M,N,K=map(int,input().split())\n",
        "  land=list([0 for _ in range(N)] for _ in range(M))\n",
        "  cnt=0\n",
        "\n",
        "  for _ in range(K):\n",
        "    x,y=map(int,input().split())\n",
        "    land[x][y]=1\n",
        "\n",
        "  for x in range(M):\n",
        "    for y in range(N):\n",
        "      if land[x][y]==1:\n",
        "        BFS(x,y)\n",
        "        cnt+=1\n",
        "  print(cnt)"
      ],
      "metadata": {
        "id": "LdImg12vs6Pk",
        "colab": {
          "base_uri": "https://localhost:8080/"
        },
        "outputId": "85a6fbf1-8062-47da-a709-f6c5982a2b16"
      },
      "execution_count": null,
      "outputs": [
        {
          "output_type": "stream",
          "name": "stdout",
          "text": [
            "1\n",
            "5 3 6\n",
            "0 2\n",
            "1 2\n",
            "2 2\n",
            "3 2\n",
            "4 2\n",
            "4 0\n",
            "2\n"
          ]
        }
      ]
    },
    {
      "cell_type": "code",
      "source": [
        "#Z풀기 위한 공부\n",
        "#4770 칸토어 집합\n",
        "\n",
        "def Can(S,n):\n",
        "  temp=3**n\n",
        "  for i in range(len(S)):\n",
        "    if (i//temp)%2==1:S[i]=False\n",
        "  if n==0: return S\n",
        "  return Can(S,n-1)\n",
        "\n",
        "while True:\n",
        "  try:\n",
        "    N=int(input())\n",
        "    CanSet=[True]*(3**N)\n",
        "    CanSet=Can(CanSet,N)\n",
        "    for i in CanSet:\n",
        "      if i:print(\"-\",end=\"\")\n",
        "      else:print(\" \",end=\"\")\n",
        "    print(\"\")\n",
        "  except:break"
      ],
      "metadata": {
        "colab": {
          "base_uri": "https://localhost:8080/"
        },
        "id": "xC8xzk-FLd56",
        "outputId": "83f8035f-dbcc-40b0-961a-cfee5f8e37d3"
      },
      "execution_count": null,
      "outputs": [
        {
          "name": "stdout",
          "output_type": "stream",
          "text": [
            "3\n",
            "- -   - -         - -   - -\n",
            "2\n",
            "- -   - -\n",
            "\n"
          ]
        }
      ]
    },
    {
      "cell_type": "code",
      "source": [
        "#1074 Z\n",
        "\n",
        "def Z(N,r,c):\n",
        "  if N==1:\n",
        "    if r==0:\n",
        "      if c==0:return 0\n",
        "      else:return 1\n",
        "    else:\n",
        "      if c==0:return 2\n",
        "      else: return 3\n",
        "  else:\n",
        "    if r<2**(N-1):\n",
        "      if c<2**(N-1):temp=0\n",
        "      else:\n",
        "        temp=(2**(N-1))**2\n",
        "        c-=2**(N-1)\n",
        "    else:\n",
        "      if c<2**(N-1):\n",
        "        temp=((2**(N-1))**2)*2\n",
        "        r-=2**(N-1)\n",
        "      else:\n",
        "        temp=((2**(N-1))**2)*3\n",
        "        c-=2**(N-1)\n",
        "\n",
        "    return temp+Z(N-1,r,c)\n",
        "\n",
        "N,r,c=map(int,input().split())\n",
        "print(Z(N,r,c))"
      ],
      "metadata": {
        "id": "jjIGw3SNWigf",
        "colab": {
          "base_uri": "https://localhost:8080/"
        },
        "outputId": "31cf8263-c13e-4fa4-c30c-6c56d2a099d4"
      },
      "execution_count": null,
      "outputs": [
        {
          "output_type": "stream",
          "name": "stdout",
          "text": [
            "10 512 512\n",
            "961194\n"
          ]
        }
      ]
    },
    {
      "cell_type": "code",
      "source": [
        "def Z(N,r,c):\n",
        "  if N==0:return 0\n",
        "\n",
        "  return Z(N-1,r,c)\n",
        "\n",
        "N,r,c=map(int,input().split())\n",
        "print(Z(N,r,c))"
      ],
      "metadata": {
        "id": "td3JjkNODcC4"
      },
      "execution_count": null,
      "outputs": []
    },
    {
      "cell_type": "code",
      "source": [
        "#1107 리모컨\n",
        "\n",
        "N=int(input())\n",
        "M=int(input())\n",
        "L=[]\n",
        "if M:L=list(input().split())\n",
        "ans=abs(N-100)\n",
        "\n",
        "for i in range(1000001):\n",
        "  for j in str(i):\n",
        "    if j in L:break\n",
        "  else:ans=min(ans,len(str(i))+abs(N-i))\n",
        "print(ans)"
      ],
      "metadata": {
        "colab": {
          "base_uri": "https://localhost:8080/"
        },
        "id": "t23pbh_2WkN_",
        "outputId": "5cb2f4ce-17dd-4e89-a17d-61a17ceb77da"
      },
      "execution_count": null,
      "outputs": [
        {
          "output_type": "stream",
          "name": "stdout",
          "text": [
            "99999\n",
            "9\n",
            "0 2 3 4 5 6 7 8 9\n",
            "11118\n"
          ]
        }
      ]
    },
    {
      "cell_type": "code",
      "source": [
        "#1260 DFS와 BFS"
      ],
      "metadata": {
        "id": "YURJfqu9xR7n"
      },
      "execution_count": null,
      "outputs": []
    },
    {
      "cell_type": "code",
      "source": [
        "#1389 케빈 베이컨의 6단계 법칙"
      ],
      "metadata": {
        "id": "wtHad05XxVOH"
      },
      "execution_count": null,
      "outputs": []
    },
    {
      "cell_type": "code",
      "source": [
        "#1463 1로 만들기"
      ],
      "metadata": {
        "id": "Bd-pHdRZxY9A"
      },
      "execution_count": null,
      "outputs": []
    },
    {
      "cell_type": "code",
      "source": [
        "#1541 잃어버린 괄호"
      ],
      "metadata": {
        "id": "_ikMrHagxbES"
      },
      "execution_count": null,
      "outputs": []
    },
    {
      "cell_type": "code",
      "source": [
        "#1620 나는야 포켓몬 마스터 이다솜"
      ],
      "metadata": {
        "id": "CoHzC1QqxdGp"
      },
      "execution_count": null,
      "outputs": []
    },
    {
      "cell_type": "code",
      "source": [
        "#1697 숨바꼭질"
      ],
      "metadata": {
        "id": "Gs9ZnzFjxfiz"
      },
      "execution_count": null,
      "outputs": []
    },
    {
      "cell_type": "code",
      "source": [
        "#1764 듣보잡\n",
        "\n",
        "N,M=map(int,input().split())\n",
        "\n",
        "N_L=[]\n",
        "N_S=[]\n",
        "\n",
        "for _ in range(N):\n",
        "  N_L.append(input())\n",
        "for _ in range(M):\n",
        "  N_S.append(input())\n",
        "\n",
        "N_LS=list(set(N_L)&set(N_S))\n",
        "\n",
        "print(len(N_LS))\n",
        "for i in sorted(N_LS):\n",
        "  print(i)"
      ],
      "metadata": {
        "id": "XSYQFWcZxi8_"
      },
      "execution_count": null,
      "outputs": []
    },
    {
      "cell_type": "code",
      "source": [
        "#1927 최소 합"
      ],
      "metadata": {
        "id": "GBvjUSlMx0eK"
      },
      "execution_count": null,
      "outputs": []
    },
    {
      "cell_type": "code",
      "source": [
        "#1931 회의실 배정"
      ],
      "metadata": {
        "id": "7a1KHcJWx2Um"
      },
      "execution_count": null,
      "outputs": []
    },
    {
      "cell_type": "code",
      "source": [
        "#2178 미로 탐색"
      ],
      "metadata": {
        "id": "pHLa_e26x32f"
      },
      "execution_count": null,
      "outputs": []
    },
    {
      "cell_type": "code",
      "source": [
        "#2579 계단 오르기"
      ],
      "metadata": {
        "id": "OB045oX-x5Xm"
      },
      "execution_count": null,
      "outputs": []
    },
    {
      "cell_type": "code",
      "source": [
        "#2606 바이러스"
      ],
      "metadata": {
        "id": "Z3Aubv6lx7aT"
      },
      "execution_count": null,
      "outputs": []
    }
  ]
}