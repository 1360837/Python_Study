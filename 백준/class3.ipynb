{
  "nbformat": 4,
  "nbformat_minor": 0,
  "metadata": {
    "colab": {
      "provenance": [],
      "authorship_tag": "ABX9TyOujj30ct3DrZ75paOsGcKE",
      "include_colab_link": true
    },
    "kernelspec": {
      "name": "python3",
      "display_name": "Python 3"
    },
    "language_info": {
      "name": "python"
    }
  },
  "cells": [
    {
      "cell_type": "markdown",
      "metadata": {
        "id": "view-in-github",
        "colab_type": "text"
      },
      "source": [
        "<a href=\"https://colab.research.google.com/github/1360837/Python_Study/blob/main/%EB%B0%B1%EC%A4%80/class3.ipynb\" target=\"_parent\"><img src=\"https://colab.research.google.com/assets/colab-badge.svg\" alt=\"Open In Colab\"/></a>"
      ]
    },
    {
      "cell_type": "code",
      "execution_count": null,
      "metadata": {
        "colab": {
          "base_uri": "https://localhost:8080/"
        },
        "id": "suz3WKXBmPPK",
        "outputId": "5b30b82f-ef00-40de-f893-5417314a899f"
      },
      "outputs": [
        {
          "output_type": "stream",
          "name": "stdout",
          "text": [
            "6\n",
            "5\n",
            "3 5\n",
            "6\n",
            "5 8\n",
            "7\n",
            "8 13\n",
            "8\n",
            "13 21\n",
            "9\n",
            "21 34\n",
            "10\n",
            "34 55\n"
          ]
        }
      ],
      "source": [
        "#1003 피보나치 함수\n",
        "\n",
        "T=int(input())\n",
        "for _ in range(T):\n",
        "  N=int(input())\n",
        "  if N==0:print(1,0)\n",
        "  elif N==1:print(0,1)\n",
        "  else:\n",
        "    li=[0]*(N+1)\n",
        "    li[0],li[1]=0,1\n",
        "    for i in range(2,N+1):\n",
        "      li[i]=li[i-1]+li[i-2]\n",
        "    print(li[N-1],li[N])"
      ]
    },
    {
      "cell_type": "code",
      "source": [
        "#1012 유기농 배추\n",
        "\n",
        "def BFS(x,y):\n",
        "  dx=[0,0,-1,1]\n",
        "  dy=[1,-1,0,0]\n",
        "  queue = [(x,y)]\n",
        "  land[x][y]=0\n",
        "\n",
        "  while queue:\n",
        "    x,y=queue.pop(0)\n",
        "\n",
        "    for i in range(4):\n",
        "      nx=x+dx[i]\n",
        "      ny=y+dy[i]\n",
        "\n",
        "      if nx<0 or nx>=M or ny<0 or ny>=N:continue\n",
        "      if land[nx][ny]==1:\n",
        "        queue.append((nx,ny))\n",
        "        land[nx][ny]=0\n",
        "\n",
        "T=int(input())\n",
        "for _ in range(T):\n",
        "  M,N,K=map(int,input().split())\n",
        "  land=list([0 for _ in range(N)] for _ in range(M))\n",
        "  cnt=0\n",
        "\n",
        "  for _ in range(K):\n",
        "    x,y=map(int,input().split())\n",
        "    land[x][y]=1\n",
        "\n",
        "  for x in range(M):\n",
        "    for y in range(N):\n",
        "      if land[x][y]==1:\n",
        "        BFS(x,y)\n",
        "        cnt+=1\n",
        "  print(cnt)"
      ],
      "metadata": {
        "id": "LdImg12vs6Pk",
        "colab": {
          "base_uri": "https://localhost:8080/"
        },
        "outputId": "85a6fbf1-8062-47da-a709-f6c5982a2b16"
      },
      "execution_count": null,
      "outputs": [
        {
          "output_type": "stream",
          "name": "stdout",
          "text": [
            "1\n",
            "5 3 6\n",
            "0 2\n",
            "1 2\n",
            "2 2\n",
            "3 2\n",
            "4 2\n",
            "4 0\n",
            "2\n"
          ]
        }
      ]
    },
    {
      "cell_type": "code",
      "source": [
        "#Z풀기 위한 공부\n",
        "#4770 칸토어 집합\n",
        "\n",
        "def Can(S,n):\n",
        "  temp=3**n\n",
        "  for i in range(len(S)):\n",
        "    if (i//temp)%2==1:S[i]=False\n",
        "  if n==0: return S\n",
        "  return Can(S,n-1)\n",
        "\n",
        "while True:\n",
        "  try:\n",
        "    N=int(input())\n",
        "    CanSet=[True]*(3**N)\n",
        "    CanSet=Can(CanSet,N)\n",
        "    for i in CanSet:\n",
        "      if i:print(\"-\",end=\"\")\n",
        "      else:print(\" \",end=\"\")\n",
        "    print(\"\")\n",
        "  except:break"
      ],
      "metadata": {
        "colab": {
          "base_uri": "https://localhost:8080/"
        },
        "id": "xC8xzk-FLd56",
        "outputId": "83f8035f-dbcc-40b0-961a-cfee5f8e37d3"
      },
      "execution_count": null,
      "outputs": [
        {
          "name": "stdout",
          "output_type": "stream",
          "text": [
            "3\n",
            "- -   - -         - -   - -\n",
            "2\n",
            "- -   - -\n",
            "\n"
          ]
        }
      ]
    },
    {
      "cell_type": "code",
      "source": [
        "#1074 Z\n",
        "\n",
        "def Z(N,r,c):\n",
        "  if N==0:return 0\n",
        "  k=2**(N-1)\n",
        "  if r<k and c<k: return Z(N-1,r,c)\n",
        "  elif r<k and c>=k: return (k**2)+Z(N-1,r,c-k)\n",
        "  elif r>=k and c<k:return (k**2)*2+Z(N-1,r-k,c)\n",
        "  elif r>=k and c>=k:return (k**2)*3+Z(N-1,r-k,c-k)\n",
        "\n",
        "N,r,c=map(int,input().split())\n",
        "print(Z(N,r,c))"
      ],
      "metadata": {
        "id": "jjIGw3SNWigf",
        "colab": {
          "base_uri": "https://localhost:8080/"
        },
        "outputId": "31cf8263-c13e-4fa4-c30c-6c56d2a099d4"
      },
      "execution_count": null,
      "outputs": [
        {
          "output_type": "stream",
          "name": "stdout",
          "text": [
            "10 512 512\n",
            "961194\n"
          ]
        }
      ]
    },
    {
      "cell_type": "code",
      "source": [
        "#1107 리모컨\n",
        "\n",
        "N=int(input())\n",
        "M=int(input())\n",
        "L=[]\n",
        "if M:L=list(input().split())\n",
        "ans=abs(N-100)\n",
        "\n",
        "for i in range(1000001):\n",
        "  for j in str(i):\n",
        "    if j in L:break\n",
        "  else:ans=min(ans,len(str(i))+abs(N-i))\n",
        "print(ans)"
      ],
      "metadata": {
        "colab": {
          "base_uri": "https://localhost:8080/"
        },
        "id": "t23pbh_2WkN_",
        "outputId": "5cb2f4ce-17dd-4e89-a17d-61a17ceb77da"
      },
      "execution_count": null,
      "outputs": [
        {
          "output_type": "stream",
          "name": "stdout",
          "text": [
            "99999\n",
            "9\n",
            "0 2 3 4 5 6 7 8 9\n",
            "11118\n"
          ]
        }
      ]
    },
    {
      "cell_type": "code",
      "source": [
        "#1260 DFS와 BFS - 풀이 참고함\n",
        "\n",
        "N,M,V=map(int,input().split())\n",
        "\n",
        "node=list([] for _ in range(N+1))\n",
        "for _ in range(M):\n",
        "  a,b=map(int,input().split())\n",
        "  node[a].append(b)\n",
        "  node[b].append(a)\n",
        "for i in node:\n",
        "  i.sort()\n",
        "\n",
        "visitedD=[False]*(N+1)\n",
        "visitedB=[False]*(N+1)\n",
        "\n",
        "def DFS(start):\n",
        "  visitedD[start]=True\n",
        "  print(start,end=\" \")\n",
        "  for i in node[start]:\n",
        "    if not visitedD[i]:\n",
        "      DFS(i)\n",
        "\n",
        "def BFS(start):\n",
        "  visitedB[start]=True\n",
        "  queue=[start]\n",
        "  while queue:\n",
        "    start=queue.pop(0)\n",
        "    print(start,end=\" \")\n",
        "    for i in node[start]:\n",
        "      if not visitedB[i]:\n",
        "        queue.append(i)\n",
        "        visitedB[i]=True\n",
        "\n",
        "DFS(V)\n",
        "print()\n",
        "BFS(V)"
      ],
      "metadata": {
        "id": "YURJfqu9xR7n",
        "colab": {
          "base_uri": "https://localhost:8080/"
        },
        "outputId": "2bfd59ec-7e8f-4206-d753-181519ace9b8"
      },
      "execution_count": null,
      "outputs": [
        {
          "output_type": "stream",
          "name": "stdout",
          "text": [
            "1000 1 1000\n",
            "999 1000\n",
            "1000 999 \n",
            "1000 999 "
          ]
        }
      ]
    },
    {
      "cell_type": "code",
      "source": [
        "#1389 케빈 베이컨의 6단계 법칙 - 풀이 참고함\n",
        "\n",
        "N,M=map(int,input().split())\n",
        "node=list([] for _ in range(N+1))\n",
        "for _ in range(M):\n",
        "  a,b=map(int,input().split())\n",
        "  node[a].append(b)\n",
        "  node[b].append(a)\n",
        "\n",
        "def BFS(node,start):\n",
        "  num=[0]*(N+1)\n",
        "  visited[start]=True\n",
        "  queue=[start]\n",
        "  while queue:\n",
        "    start=queue.pop(0)\n",
        "    for i in node[start]:\n",
        "      if not visited[i]:\n",
        "        num[i]=num[start]+1\n",
        "        queue.append(i)\n",
        "        visited[i]=True\n",
        "  return sum(num)\n",
        "\n",
        "result=[]\n",
        "for i in range(1,N+1):\n",
        "  visited=[False]*(N+1)\n",
        "  result.append(BFS(node,i))\n",
        "print(result.index(min(result))+1)"
      ],
      "metadata": {
        "id": "wtHad05XxVOH",
        "colab": {
          "base_uri": "https://localhost:8080/"
        },
        "outputId": "ed944074-31b2-4cb5-f796-bf1761daaadb"
      },
      "execution_count": null,
      "outputs": [
        {
          "output_type": "stream",
          "name": "stdout",
          "text": [
            "5 5\n",
            "1 3\n",
            "1 4\n",
            "4 5\n",
            "4 3\n",
            "3 2\n",
            "3\n"
          ]
        }
      ]
    },
    {
      "cell_type": "code",
      "source": [
        "#1463 1로 만들기 - 풀이 참고\n",
        "\n",
        "N=int(input())\n",
        "cnt=[0]*(N+1)\n",
        "\n",
        "for i in range(2,N+1):\n",
        "  cnt[i]=cnt[i-1]+1\n",
        "  if i%2==0:\n",
        "    cnt[i]=min(cnt[i],cnt[i//2]+1)\n",
        "  if i%3==0:\n",
        "    cnt[i]=min(cnt[i],cnt[i//3]+1)\n",
        "print(cnt[N])"
      ],
      "metadata": {
        "id": "Bd-pHdRZxY9A",
        "colab": {
          "base_uri": "https://localhost:8080/"
        },
        "outputId": "8eceb0d6-75a8-4806-bf00-008d1a23e49a"
      },
      "execution_count": null,
      "outputs": [
        {
          "output_type": "stream",
          "name": "stdout",
          "text": [
            "10\n",
            "3\n"
          ]
        }
      ]
    },
    {
      "cell_type": "code",
      "source": [
        "#1541 잃어버린 괄호\n",
        "\n",
        "eq=input().split('-')\n",
        "result=0\n",
        "for i in eq[0].split('+'):\n",
        "  result+=int(i)\n",
        "for i in eq[1:]:\n",
        "  for j in i.split('+'):\n",
        "    result-=int(j)\n",
        "print(result)"
      ],
      "metadata": {
        "id": "_ikMrHagxbES",
        "colab": {
          "base_uri": "https://localhost:8080/"
        },
        "outputId": "0695eea4-69a6-4af3-9c86-1353d627aab3"
      },
      "execution_count": 4,
      "outputs": [
        {
          "output_type": "stream",
          "name": "stdout",
          "text": [
            "00009-00009\n",
            "0\n"
          ]
        }
      ]
    },
    {
      "cell_type": "code",
      "source": [
        "#1620 나는야 포켓몬 마스터 이다솜\n",
        "\n",
        "N,M=map(int,input().split())\n",
        "poketmon={}\n",
        "for i in range(1,N+1):\n",
        "  a=input().rstrip()\n",
        "  poketmon[i]=a\n",
        "  poketmon[a]=i\n",
        "for i in range(M):\n",
        "  Q=input().rstrip()\n",
        "  if Q.isdigit():\n",
        "    print(poketmon[int(Q)])\n",
        "  else:\n",
        "    print(poketmon[Q])"
      ],
      "metadata": {
        "id": "CoHzC1QqxdGp",
        "colab": {
          "base_uri": "https://localhost:8080/",
          "height": 428
        },
        "outputId": "8b345697-ee7c-4e85-cd33-25689d0bd783"
      },
      "execution_count": null,
      "outputs": [
        {
          "output_type": "error",
          "ename": "KeyboardInterrupt",
          "evalue": "ignored",
          "traceback": [
            "\u001b[0;31m---------------------------------------------------------------------------\u001b[0m",
            "\u001b[0;31mKeyboardInterrupt\u001b[0m                         Traceback (most recent call last)",
            "\u001b[0;32m<ipython-input-4-2c95a1ea03ea>\u001b[0m in \u001b[0;36m<cell line: 3>\u001b[0;34m()\u001b[0m\n\u001b[1;32m      1\u001b[0m \u001b[0;31m#1620 나는야 포켓몬 마스터 이다솜\u001b[0m\u001b[0;34m\u001b[0m\u001b[0;34m\u001b[0m\u001b[0m\n\u001b[1;32m      2\u001b[0m \u001b[0;34m\u001b[0m\u001b[0m\n\u001b[0;32m----> 3\u001b[0;31m \u001b[0mN\u001b[0m\u001b[0;34m,\u001b[0m\u001b[0mM\u001b[0m\u001b[0;34m=\u001b[0m\u001b[0mmap\u001b[0m\u001b[0;34m(\u001b[0m\u001b[0mint\u001b[0m\u001b[0;34m,\u001b[0m\u001b[0minput\u001b[0m\u001b[0;34m(\u001b[0m\u001b[0;34m)\u001b[0m\u001b[0;34m.\u001b[0m\u001b[0msplit\u001b[0m\u001b[0;34m(\u001b[0m\u001b[0;34m)\u001b[0m\u001b[0;34m)\u001b[0m\u001b[0;34m\u001b[0m\u001b[0;34m\u001b[0m\u001b[0m\n\u001b[0m\u001b[1;32m      4\u001b[0m \u001b[0mpoketmon\u001b[0m\u001b[0;34m=\u001b[0m\u001b[0;34m[\u001b[0m\u001b[0minput\u001b[0m\u001b[0;34m(\u001b[0m\u001b[0;34m)\u001b[0m \u001b[0;32mfor\u001b[0m \u001b[0m_\u001b[0m \u001b[0;32min\u001b[0m \u001b[0mrange\u001b[0m\u001b[0;34m(\u001b[0m\u001b[0mN\u001b[0m\u001b[0;34m)\u001b[0m\u001b[0;34m]\u001b[0m\u001b[0;34m\u001b[0m\u001b[0;34m\u001b[0m\u001b[0m\n\u001b[1;32m      5\u001b[0m \u001b[0;34m\u001b[0m\u001b[0m\n",
            "\u001b[0;32m/usr/local/lib/python3.10/dist-packages/ipykernel/kernelbase.py\u001b[0m in \u001b[0;36mraw_input\u001b[0;34m(self, prompt)\u001b[0m\n\u001b[1;32m    849\u001b[0m                 \u001b[0;34m\"raw_input was called, but this frontend does not support input requests.\"\u001b[0m\u001b[0;34m\u001b[0m\u001b[0;34m\u001b[0m\u001b[0m\n\u001b[1;32m    850\u001b[0m             )\n\u001b[0;32m--> 851\u001b[0;31m         return self._input_request(str(prompt),\n\u001b[0m\u001b[1;32m    852\u001b[0m             \u001b[0mself\u001b[0m\u001b[0;34m.\u001b[0m\u001b[0m_parent_ident\u001b[0m\u001b[0;34m,\u001b[0m\u001b[0;34m\u001b[0m\u001b[0;34m\u001b[0m\u001b[0m\n\u001b[1;32m    853\u001b[0m             \u001b[0mself\u001b[0m\u001b[0;34m.\u001b[0m\u001b[0m_parent_header\u001b[0m\u001b[0;34m,\u001b[0m\u001b[0;34m\u001b[0m\u001b[0;34m\u001b[0m\u001b[0m\n",
            "\u001b[0;32m/usr/local/lib/python3.10/dist-packages/ipykernel/kernelbase.py\u001b[0m in \u001b[0;36m_input_request\u001b[0;34m(self, prompt, ident, parent, password)\u001b[0m\n\u001b[1;32m    893\u001b[0m             \u001b[0;32mexcept\u001b[0m \u001b[0mKeyboardInterrupt\u001b[0m\u001b[0;34m:\u001b[0m\u001b[0;34m\u001b[0m\u001b[0;34m\u001b[0m\u001b[0m\n\u001b[1;32m    894\u001b[0m                 \u001b[0;31m# re-raise KeyboardInterrupt, to truncate traceback\u001b[0m\u001b[0;34m\u001b[0m\u001b[0;34m\u001b[0m\u001b[0m\n\u001b[0;32m--> 895\u001b[0;31m                 \u001b[0;32mraise\u001b[0m \u001b[0mKeyboardInterrupt\u001b[0m\u001b[0;34m(\u001b[0m\u001b[0;34m\"Interrupted by user\"\u001b[0m\u001b[0;34m)\u001b[0m \u001b[0;32mfrom\u001b[0m \u001b[0;32mNone\u001b[0m\u001b[0;34m\u001b[0m\u001b[0;34m\u001b[0m\u001b[0m\n\u001b[0m\u001b[1;32m    896\u001b[0m             \u001b[0;32mexcept\u001b[0m \u001b[0mException\u001b[0m \u001b[0;32mas\u001b[0m \u001b[0me\u001b[0m\u001b[0;34m:\u001b[0m\u001b[0;34m\u001b[0m\u001b[0;34m\u001b[0m\u001b[0m\n\u001b[1;32m    897\u001b[0m                 \u001b[0mself\u001b[0m\u001b[0;34m.\u001b[0m\u001b[0mlog\u001b[0m\u001b[0;34m.\u001b[0m\u001b[0mwarning\u001b[0m\u001b[0;34m(\u001b[0m\u001b[0;34m\"Invalid Message:\"\u001b[0m\u001b[0;34m,\u001b[0m \u001b[0mexc_info\u001b[0m\u001b[0;34m=\u001b[0m\u001b[0;32mTrue\u001b[0m\u001b[0;34m)\u001b[0m\u001b[0;34m\u001b[0m\u001b[0;34m\u001b[0m\u001b[0m\n",
            "\u001b[0;31mKeyboardInterrupt\u001b[0m: Interrupted by user"
          ]
        }
      ]
    },
    {
      "cell_type": "code",
      "source": [
        "if type(123)==int:print(1)"
      ],
      "metadata": {
        "colab": {
          "base_uri": "https://localhost:8080/"
        },
        "id": "IsCv47yIAkfo",
        "outputId": "02753d8d-e86f-4091-c2f4-4442bb032574"
      },
      "execution_count": null,
      "outputs": [
        {
          "output_type": "stream",
          "name": "stdout",
          "text": [
            "1\n"
          ]
        }
      ]
    },
    {
      "cell_type": "code",
      "source": [
        "#1697 숨바꼭질"
      ],
      "metadata": {
        "id": "Gs9ZnzFjxfiz"
      },
      "execution_count": null,
      "outputs": []
    },
    {
      "cell_type": "code",
      "source": [
        "#1764 듣보잡\n",
        "\n",
        "N,M=map(int,input().split())\n",
        "\n",
        "N_L=[]\n",
        "N_S=[]\n",
        "\n",
        "for _ in range(N):\n",
        "  N_L.append(input())\n",
        "for _ in range(M):\n",
        "  N_S.append(input())\n",
        "\n",
        "N_LS=list(set(N_L)&set(N_S))\n",
        "\n",
        "print(len(N_LS))\n",
        "for i in sorted(N_LS):\n",
        "  print(i)"
      ],
      "metadata": {
        "id": "XSYQFWcZxi8_"
      },
      "execution_count": null,
      "outputs": []
    },
    {
      "cell_type": "code",
      "source": [
        "#1927 최소 힙 - 시간초과 : heapq모듈 사용해야함\n",
        "\n",
        "N=int(input())\n",
        "X=[]\n",
        "for _ in range(N):\n",
        "  x=int(input())\n",
        "  if x==0:\n",
        "    if X:print(X.pop(X.index(min(X))))\n",
        "    else:print(0)\n",
        "  else: X.append(x)"
      ],
      "metadata": {
        "id": "GBvjUSlMx0eK",
        "colab": {
          "base_uri": "https://localhost:8080/"
        },
        "outputId": "09c6c877-1c36-4d2d-d138-b39cb94afb8a"
      },
      "execution_count": 8,
      "outputs": [
        {
          "name": "stdout",
          "output_type": "stream",
          "text": [
            "9\n",
            "0\n",
            "0\n",
            "12345678\n",
            "1\n",
            "2\n",
            "0\n",
            "1\n",
            "0\n",
            "2\n",
            "0\n",
            "12345678\n",
            "0\n",
            "0\n",
            "32\n"
          ]
        }
      ]
    },
    {
      "cell_type": "code",
      "source": [
        "#1927 최소 힙\n",
        "\n",
        "import heapq\n",
        "import sys\n",
        "\n",
        "input=sys.stdin.readline\n",
        "\n",
        "N=int(input())\n",
        "X=[]\n",
        "for _ in range(N):\n",
        "  x=int(input())\n",
        "  if x==0:\n",
        "    if not X: print(0)\n",
        "    else: print(heapq.heappop(X))\n",
        "  else: heapq.heappush(X,x)"
      ],
      "metadata": {
        "id": "UCnD48_hhFKW"
      },
      "execution_count": null,
      "outputs": []
    },
    {
      "cell_type": "code",
      "source": [
        "#1931 회의실 배정\n",
        "\n",
        "N=input(int)\n",
        "\n"
      ],
      "metadata": {
        "id": "7a1KHcJWx2Um"
      },
      "execution_count": null,
      "outputs": []
    },
    {
      "cell_type": "code",
      "source": [
        "#2178 미로 탐색"
      ],
      "metadata": {
        "id": "pHLa_e26x32f"
      },
      "execution_count": null,
      "outputs": []
    },
    {
      "cell_type": "code",
      "source": [
        "#2579 계단 오르기\n",
        "\n",
        "N=int(input())\n",
        "scores=list(int(input()) for _ in range(N))\n",
        "\n",
        "step=[0]*N\n",
        "if N<=2:print(sum(scores))\n",
        "else:\n",
        "  step[0]=scores[0]\n",
        "  step[1]=scores[0]+scores[1]\n",
        "  for i in range(2,N):\n",
        "    step[i]=max(step[i-3]+scores[i-1]+scores[i],step[i-2]+scores[i])\n",
        "  print(step[N-1])"
      ],
      "metadata": {
        "id": "OB045oX-x5Xm"
      },
      "execution_count": null,
      "outputs": []
    },
    {
      "cell_type": "code",
      "source": [
        "#2606 바이러스"
      ],
      "metadata": {
        "id": "Z3Aubv6lx7aT"
      },
      "execution_count": null,
      "outputs": []
    },
    {
      "cell_type": "code",
      "source": [
        "#2630 색종이 만들기"
      ],
      "metadata": {
        "id": "Bn0o3f6XGqXJ"
      },
      "execution_count": null,
      "outputs": []
    },
    {
      "cell_type": "code",
      "source": [
        "#2667 단지번호붙이기"
      ],
      "metadata": {
        "id": "TJ6rND2XGs4d"
      },
      "execution_count": null,
      "outputs": []
    },
    {
      "cell_type": "code",
      "source": [
        "#2805 나무 자르기"
      ],
      "metadata": {
        "id": "1OWdichbGuUD"
      },
      "execution_count": null,
      "outputs": []
    },
    {
      "cell_type": "code",
      "source": [
        "#5430 AC"
      ],
      "metadata": {
        "id": "rwdmhpCiGw2x"
      },
      "execution_count": null,
      "outputs": []
    },
    {
      "cell_type": "code",
      "source": [
        "#5525 IOIOI"
      ],
      "metadata": {
        "id": "ivLSh95-Gywv"
      },
      "execution_count": null,
      "outputs": []
    },
    {
      "cell_type": "code",
      "source": [
        "#6064 카잉 달력"
      ],
      "metadata": {
        "id": "SP8HKQvTG0_P"
      },
      "execution_count": null,
      "outputs": []
    },
    {
      "cell_type": "code",
      "source": [
        "#7569 토마토"
      ],
      "metadata": {
        "id": "ghw60WgIG3CX"
      },
      "execution_count": null,
      "outputs": []
    },
    {
      "cell_type": "code",
      "source": [
        "#7576 토마토"
      ],
      "metadata": {
        "id": "vyGvNSm0G5Kt"
      },
      "execution_count": null,
      "outputs": []
    },
    {
      "cell_type": "code",
      "source": [
        "#7662 이중 우선순위 큐"
      ],
      "metadata": {
        "id": "4ufTG9jbG8xo"
      },
      "execution_count": null,
      "outputs": []
    },
    {
      "cell_type": "code",
      "source": [
        "#9019 DSLR"
      ],
      "metadata": {
        "id": "fo21o69aG-gQ"
      },
      "execution_count": null,
      "outputs": []
    },
    {
      "cell_type": "code",
      "source": [
        "#9095 1,2 3 더하기\n",
        "\n",
        "def findcase(num):\n",
        "  if num==1:return 1\n",
        "  elif num==2:return 2\n",
        "  elif num==3:return 4\n",
        "  else:return findcase(num-3)+findcase(num-2)+findcase(num-1)\n",
        "\n",
        "T=int(input())\n",
        "for _ in range(T):\n",
        "  n=int(input())\n",
        "  print(findcase(n))"
      ],
      "metadata": {
        "id": "a-K6vgPdHAe5"
      },
      "execution_count": null,
      "outputs": []
    },
    {
      "cell_type": "code",
      "source": [
        "#9375 패션왕 신해빈"
      ],
      "metadata": {
        "id": "GTo98l1lHC3_"
      },
      "execution_count": null,
      "outputs": []
    },
    {
      "cell_type": "code",
      "source": [
        "#9461 파도반 수열\n",
        "\n",
        "T=int(input())\n",
        "\n",
        "for _ in range(T):\n",
        "  N=int(input())\n",
        "  num=[0,1,1,1,2]\n",
        "  if N<=4:\n",
        "    print(num[N])\n",
        "  else:\n",
        "    for i in range(N-4):\n",
        "      num[i%5]=num[i%5]+num[(i+4)%5]\n",
        "    print(num[i%5])"
      ],
      "metadata": {
        "id": "xtREEyQlHE_8"
      },
      "execution_count": null,
      "outputs": []
    },
    {
      "cell_type": "code",
      "source": [
        "#10026 적록색약"
      ],
      "metadata": {
        "id": "3FnGu3ogHPom"
      },
      "execution_count": null,
      "outputs": []
    },
    {
      "cell_type": "code",
      "source": [
        "#11047 동전 0"
      ],
      "metadata": {
        "id": "63r3iEcSHRKd"
      },
      "execution_count": null,
      "outputs": []
    },
    {
      "cell_type": "code",
      "source": [
        "#11279 최대 합"
      ],
      "metadata": {
        "id": "RlU5Nkf6HS1c"
      },
      "execution_count": null,
      "outputs": []
    },
    {
      "cell_type": "code",
      "source": [
        "#11286 절댓값 합"
      ],
      "metadata": {
        "id": "U_SieQvWHUgw"
      },
      "execution_count": null,
      "outputs": []
    },
    {
      "cell_type": "code",
      "source": [
        "#11399 ATM"
      ],
      "metadata": {
        "id": "84Nq4iIiHWmg"
      },
      "execution_count": null,
      "outputs": []
    },
    {
      "cell_type": "code",
      "source": [
        "#11403 경로 찾기"
      ],
      "metadata": {
        "id": "QvMnV56MHYpw"
      },
      "execution_count": null,
      "outputs": []
    },
    {
      "cell_type": "code",
      "source": [
        "#11659 구간 합 구하기 4"
      ],
      "metadata": {
        "id": "V7u0OCFAHanw"
      },
      "execution_count": null,
      "outputs": []
    },
    {
      "cell_type": "code",
      "source": [
        "#11723 집합"
      ],
      "metadata": {
        "id": "ZnfK-_RUHc7m"
      },
      "execution_count": null,
      "outputs": []
    },
    {
      "cell_type": "code",
      "source": [
        "#11724 연결 요소의 개수"
      ],
      "metadata": {
        "id": "oQswohF4HedU"
      },
      "execution_count": null,
      "outputs": []
    },
    {
      "cell_type": "code",
      "source": [
        "#11726 2xn 타일링"
      ],
      "metadata": {
        "id": "iTIPh8JYHgvm"
      },
      "execution_count": null,
      "outputs": []
    },
    {
      "cell_type": "code",
      "source": [
        "#11727 2xn 타일링 2\n",
        "\n",
        "n=int(input())\n",
        "\n",
        "dp=[0]*(n+1)\n",
        "dp[0]=1\n",
        "dp[1]=1\n",
        "for i in range(2,n+1):\n",
        "  dp[i]=dp[i-1]+2*dp[i-2]\n",
        "print(dp[n]%10007)"
      ],
      "metadata": {
        "id": "j0vmRhPnHjmg"
      },
      "execution_count": null,
      "outputs": []
    },
    {
      "cell_type": "code",
      "source": [
        "#14500 테트로미노"
      ],
      "metadata": {
        "id": "wkHrDwWKHr3I"
      },
      "execution_count": null,
      "outputs": []
    },
    {
      "cell_type": "code",
      "source": [
        "#14940 쉬운 최단거리"
      ],
      "metadata": {
        "id": "lpdnJpIIHtjn"
      },
      "execution_count": null,
      "outputs": []
    },
    {
      "cell_type": "code",
      "source": [
        "#16928 뱀과 사다리 게임"
      ],
      "metadata": {
        "id": "ytrBi-x4HvqF"
      },
      "execution_count": null,
      "outputs": []
    },
    {
      "cell_type": "code",
      "source": [
        "#17219 비밀번호 찾기"
      ],
      "metadata": {
        "id": "0IM6YuITHxpG"
      },
      "execution_count": null,
      "outputs": []
    },
    {
      "cell_type": "code",
      "source": [
        "#17626 Four Squares"
      ],
      "metadata": {
        "id": "gVkZVmAmH0DV"
      },
      "execution_count": null,
      "outputs": []
    },
    {
      "cell_type": "code",
      "source": [
        "#18870 좌표 압축"
      ],
      "metadata": {
        "id": "CwluWP-lH4H8"
      },
      "execution_count": null,
      "outputs": []
    },
    {
      "cell_type": "code",
      "source": [
        "#20529 가장 가까운 세 사람의 심리적 거리"
      ],
      "metadata": {
        "id": "4tVgJ5kkH5oc"
      },
      "execution_count": null,
      "outputs": []
    },
    {
      "cell_type": "code",
      "source": [
        "#21736 헌내기는 친구가 필요해\n",
        "\n",
        "N,M=map(int,input().split())\n",
        "campus=[input() for _ in range(N)]\n"
      ],
      "metadata": {
        "id": "W4D-jGtwH8As"
      },
      "execution_count": null,
      "outputs": []
    }
  ]
}