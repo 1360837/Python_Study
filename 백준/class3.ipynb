{
  "nbformat": 4,
  "nbformat_minor": 0,
  "metadata": {
    "colab": {
      "provenance": [],
      "authorship_tag": "ABX9TyNzjuU7KqTJ/hs8HavXRrUP",
      "include_colab_link": true
    },
    "kernelspec": {
      "name": "python3",
      "display_name": "Python 3"
    },
    "language_info": {
      "name": "python"
    }
  },
  "cells": [
    {
      "cell_type": "markdown",
      "metadata": {
        "id": "view-in-github",
        "colab_type": "text"
      },
      "source": [
        "<a href=\"https://colab.research.google.com/github/1360837/Python_Study/blob/main/%EB%B0%B1%EC%A4%80/class3.ipynb\" target=\"_parent\"><img src=\"https://colab.research.google.com/assets/colab-badge.svg\" alt=\"Open In Colab\"/></a>"
      ]
    },
    {
      "cell_type": "code",
      "execution_count": null,
      "metadata": {
        "colab": {
          "base_uri": "https://localhost:8080/"
        },
        "id": "suz3WKXBmPPK",
        "outputId": "5b30b82f-ef00-40de-f893-5417314a899f"
      },
      "outputs": [
        {
          "output_type": "stream",
          "name": "stdout",
          "text": [
            "6\n",
            "5\n",
            "3 5\n",
            "6\n",
            "5 8\n",
            "7\n",
            "8 13\n",
            "8\n",
            "13 21\n",
            "9\n",
            "21 34\n",
            "10\n",
            "34 55\n"
          ]
        }
      ],
      "source": [
        "#1003 피보나치 함수\n",
        "\n",
        "T=int(input())\n",
        "for _ in range(T):\n",
        "  N=int(input())\n",
        "  if N==0:print(1,0)\n",
        "  elif N==1:print(0,1)\n",
        "  else:\n",
        "    li=[0]*(N+1)\n",
        "    li[0],li[1]=0,1\n",
        "    for i in range(2,N+1):\n",
        "      li[i]=li[i-1]+li[i-2]\n",
        "    print(li[N-1],li[N])"
      ]
    },
    {
      "cell_type": "code",
      "source": [
        "#1012 유기농 배추\n",
        "\n"
      ],
      "metadata": {
        "id": "LdImg12vs6Pk"
      },
      "execution_count": null,
      "outputs": []
    },
    {
      "cell_type": "code",
      "source": [
        "#1074 Z"
      ],
      "metadata": {
        "id": "jjIGw3SNWigf"
      },
      "execution_count": null,
      "outputs": []
    },
    {
      "cell_type": "code",
      "source": [
        "#1107 리모컨\n",
        "\n",
        "N=int(input())\n",
        "M=int(input())\n",
        "L=[]\n",
        "if M:L=list(input().split())\n",
        "ans=abs(N-100)\n",
        "\n",
        "for i in range(1000001):\n",
        "  for j in str(i):\n",
        "    if j in L:break\n",
        "  else:ans=min(ans,len(str(i))+abs(N-i))\n",
        "print(ans)"
      ],
      "metadata": {
        "colab": {
          "base_uri": "https://localhost:8080/"
        },
        "id": "t23pbh_2WkN_",
        "outputId": "5cb2f4ce-17dd-4e89-a17d-61a17ceb77da"
      },
      "execution_count": 57,
      "outputs": [
        {
          "output_type": "stream",
          "name": "stdout",
          "text": [
            "99999\n",
            "9\n",
            "0 2 3 4 5 6 7 8 9\n",
            "11118\n"
          ]
        }
      ]
    }
  ]
}