{
  "nbformat": 4,
  "nbformat_minor": 0,
  "metadata": {
    "colab": {
      "provenance": [],
      "authorship_tag": "ABX9TyOxj790BZ5GtpbFeJSQFwGT",
      "include_colab_link": true
    },
    "kernelspec": {
      "name": "python3",
      "display_name": "Python 3"
    },
    "language_info": {
      "name": "python"
    }
  },
  "cells": [
    {
      "cell_type": "markdown",
      "metadata": {
        "id": "view-in-github",
        "colab_type": "text"
      },
      "source": [
        "<a href=\"https://colab.research.google.com/github/1360837/Python_Study/blob/main/%EB%B0%B1%EC%A4%80/Geometry_Alg.ipynb\" target=\"_parent\"><img src=\"https://colab.research.google.com/assets/colab-badge.svg\" alt=\"Open In Colab\"/></a>"
      ]
    },
    {
      "cell_type": "code",
      "execution_count": 5,
      "metadata": {
        "colab": {
          "base_uri": "https://localhost:8080/"
        },
        "id": "hi6IR2iVGv6Z",
        "outputId": "0334a06f-38c7-4302-a6bb-7b50ac5bb7f7"
      },
      "outputs": [
        {
          "output_type": "stream",
          "name": "stdout",
          "text": [
            "161 181 762 375\n",
            "161\n"
          ]
        }
      ],
      "source": [
        "#1085 직사각형에서 탈출\n",
        "\n",
        "x,y,w,h=map(int,input().split())\n",
        "\n",
        "dis_min=w\n",
        "if abs(x-0)<dis_min:dis_min=abs(x-0)\n",
        "if abs(y-0)<dis_min:dis_min=abs(y-0)\n",
        "if abs(x-w)<dis_min:dis_min=abs(w-x)\n",
        "if abs(y-h)<dis_min:dis_min=abs(y-h)\n",
        "print(dis_min)"
      ]
    },
    {
      "cell_type": "code",
      "source": [
        "#3009 네 번째 점\n",
        "\n",
        "x=[]\n",
        "y=[]\n",
        "for _ in range(3):\n",
        "  a,b=map(int,input().split())\n",
        "  if a not in x:\n",
        "    x.append(a)\n",
        "  elif a in x:\n",
        "    x.remove(a)\n",
        "  if b not in y:\n",
        "    y.append(b)\n",
        "  elif b in y:\n",
        "    y.remove(b)\n",
        "print(x[0],y[0])"
      ],
      "metadata": {
        "colab": {
          "base_uri": "https://localhost:8080/"
        },
        "id": "i-gm-ENELKcJ",
        "outputId": "c6b33110-8353-4793-f044-8630efa33804"
      },
      "execution_count": 16,
      "outputs": [
        {
          "output_type": "stream",
          "name": "stdout",
          "text": [
            "30 20\n",
            "10 10\n",
            "10 20\n",
            "30 10\n"
          ]
        }
      ]
    },
    {
      "cell_type": "code",
      "source": [
        "#3053 택시 기하학\n",
        "\n",
        "R=int(input())\n",
        "pi=3.14159265359\n",
        "print(\"{:.6f}\".format(pi*R*R))\n",
        "print(\"{:.6f}\".format(R*R*2))"
      ],
      "metadata": {
        "colab": {
          "base_uri": "https://localhost:8080/"
        },
        "id": "8IQGRXipPfOq",
        "outputId": "9a7bfb4c-3faa-46aa-ec99-85625f788609"
      },
      "execution_count": 22,
      "outputs": [
        {
          "output_type": "stream",
          "name": "stdout",
          "text": [
            "42\n",
            "5541.769441\n",
            "3528.000000\n"
          ]
        }
      ]
    },
    {
      "cell_type": "code",
      "source": [
        "#10101 삼각형 외우기\n",
        "\n",
        "angle=[int(input()) for _ in range(3)]\n",
        "if sum(angle)==180:\n",
        "  if angle[0]==angle[1] and angle[1]==angle[2]:print(\"Equilateral\")\n",
        "  elif angle[0]==angle[1] or angle[0]==angle[2] or angle[1]==angle[2]:print(\"Isosceles\")\n",
        "  else:print(\"Scalene\")\n",
        "else: print(\"Error\")"
      ],
      "metadata": {
        "colab": {
          "base_uri": "https://localhost:8080/"
        },
        "id": "bLesYO44Ruh1",
        "outputId": "7dc2dceb-2082-4b8e-bf59-79689303f2ca"
      },
      "execution_count": 26,
      "outputs": [
        {
          "output_type": "stream",
          "name": "stdout",
          "text": [
            "100\n",
            "20\n",
            "10\n",
            "Error\n"
          ]
        }
      ]
    },
    {
      "cell_type": "code",
      "source": [
        "#5073 삼각형과 세 변\n",
        "\n",
        "while True:\n",
        "  side=list(map(int,input().split()))\n",
        "  side.sort()\n",
        "  if sum(side)==0:break\n",
        "  if side[0]+side[1]<=side[2]:print(\"Invalid\")\n",
        "  else:\n",
        "    if side[0]==side[1] and side[1]==side[2]:print(\"Equilateral\")\n",
        "    elif side[0]==side[1] or side[1]==side[2] or side[0]==side[2]:print(\"Isosceles\")\n",
        "    else:print(\"Scalene\")"
      ],
      "metadata": {
        "colab": {
          "base_uri": "https://localhost:8080/"
        },
        "id": "lfSp7sI9XWHZ",
        "outputId": "f2963e8f-41be-4f2a-f293-fb9c4a27452c"
      },
      "execution_count": 28,
      "outputs": [
        {
          "name": "stdout",
          "output_type": "stream",
          "text": [
            "7 7 7\n",
            "Equilateral\n",
            "6 5 4\n",
            "Scalene\n",
            "3 2 5\n",
            "Invalid\n",
            "6 2 6\n",
            "Isosceles\n",
            "5 2 3\n",
            "Invalid\n",
            "0 0 0\n"
          ]
        }
      ]
    },
    {
      "cell_type": "code",
      "source": [
        "#27323 직사각형\n",
        "\n",
        "A=int(input())\n",
        "B=int(input())\n",
        "\n",
        "print(A*B)"
      ],
      "metadata": {
        "colab": {
          "base_uri": "https://localhost:8080/"
        },
        "id": "c3GadTEnZoTx",
        "outputId": "bd1ca9d8-9e8a-49f9-9885-10e733a72a4e"
      },
      "execution_count": 31,
      "outputs": [
        {
          "output_type": "stream",
          "name": "stdout",
          "text": [
            "4\n",
            "4\n",
            "16\n"
          ]
        }
      ]
    }
  ]
}