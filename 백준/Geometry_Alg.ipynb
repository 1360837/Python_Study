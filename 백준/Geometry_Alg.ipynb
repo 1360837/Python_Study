{
  "nbformat": 4,
  "nbformat_minor": 0,
  "metadata": {
    "colab": {
      "provenance": [],
      "authorship_tag": "ABX9TyNNxSfCFiSAcnscALIvStBH",
      "include_colab_link": true
    },
    "kernelspec": {
      "name": "python3",
      "display_name": "Python 3"
    },
    "language_info": {
      "name": "python"
    }
  },
  "cells": [
    {
      "cell_type": "markdown",
      "metadata": {
        "id": "view-in-github",
        "colab_type": "text"
      },
      "source": [
        "<a href=\"https://colab.research.google.com/github/1360837/Python_Study/blob/main/%EB%B0%B1%EC%A4%80/Geometry_Alg.ipynb\" target=\"_parent\"><img src=\"https://colab.research.google.com/assets/colab-badge.svg\" alt=\"Open In Colab\"/></a>"
      ]
    },
    {
      "cell_type": "code",
      "execution_count": null,
      "metadata": {
        "colab": {
          "base_uri": "https://localhost:8080/"
        },
        "id": "hi6IR2iVGv6Z",
        "outputId": "0334a06f-38c7-4302-a6bb-7b50ac5bb7f7"
      },
      "outputs": [
        {
          "output_type": "stream",
          "name": "stdout",
          "text": [
            "161 181 762 375\n",
            "161\n"
          ]
        }
      ],
      "source": [
        "#1085 직사각형에서 탈출\n",
        "\n",
        "x,y,w,h=map(int,input().split())\n",
        "\n",
        "dis_min=w\n",
        "if abs(x-0)<dis_min:dis_min=abs(x-0)\n",
        "if abs(y-0)<dis_min:dis_min=abs(y-0)\n",
        "if abs(x-w)<dis_min:dis_min=abs(w-x)\n",
        "if abs(y-h)<dis_min:dis_min=abs(y-h)\n",
        "print(dis_min)"
      ]
    },
    {
      "cell_type": "code",
      "source": [
        "#3009 네 번째 점\n",
        "\n",
        "x=[]\n",
        "y=[]\n",
        "for _ in range(3):\n",
        "  a,b=map(int,input().split())\n",
        "  if a not in x:\n",
        "    x.append(a)\n",
        "  elif a in x:\n",
        "    x.remove(a)\n",
        "  if b not in y:\n",
        "    y.append(b)\n",
        "  elif b in y:\n",
        "    y.remove(b)\n",
        "print(x[0],y[0])"
      ],
      "metadata": {
        "colab": {
          "base_uri": "https://localhost:8080/"
        },
        "id": "i-gm-ENELKcJ",
        "outputId": "c6b33110-8353-4793-f044-8630efa33804"
      },
      "execution_count": null,
      "outputs": [
        {
          "output_type": "stream",
          "name": "stdout",
          "text": [
            "30 20\n",
            "10 10\n",
            "10 20\n",
            "30 10\n"
          ]
        }
      ]
    },
    {
      "cell_type": "code",
      "source": [
        "#3053 택시 기하학\n",
        "\n",
        "R=int(input())\n",
        "pi=3.14159265359\n",
        "print(\"{:.6f}\".format(pi*R*R))\n",
        "print(\"{:.6f}\".format(R*R*2))"
      ],
      "metadata": {
        "colab": {
          "base_uri": "https://localhost:8080/"
        },
        "id": "8IQGRXipPfOq",
        "outputId": "9a7bfb4c-3faa-46aa-ec99-85625f788609"
      },
      "execution_count": null,
      "outputs": [
        {
          "output_type": "stream",
          "name": "stdout",
          "text": [
            "42\n",
            "5541.769441\n",
            "3528.000000\n"
          ]
        }
      ]
    },
    {
      "cell_type": "code",
      "source": [
        "#10101 삼각형 외우기\n",
        "\n",
        "angle=[int(input()) for _ in range(3)]\n",
        "if sum(angle)==180:\n",
        "  if angle[0]==angle[1] and angle[1]==angle[2]:print(\"Equilateral\")\n",
        "  elif angle[0]==angle[1] or angle[0]==angle[2] or angle[1]==angle[2]:print(\"Isosceles\")\n",
        "  else:print(\"Scalene\")\n",
        "else: print(\"Error\")"
      ],
      "metadata": {
        "colab": {
          "base_uri": "https://localhost:8080/"
        },
        "id": "bLesYO44Ruh1",
        "outputId": "7dc2dceb-2082-4b8e-bf59-79689303f2ca"
      },
      "execution_count": null,
      "outputs": [
        {
          "output_type": "stream",
          "name": "stdout",
          "text": [
            "100\n",
            "20\n",
            "10\n",
            "Error\n"
          ]
        }
      ]
    },
    {
      "cell_type": "code",
      "source": [
        "#5073 삼각형과 세 변\n",
        "\n",
        "while True:\n",
        "  side=list(map(int,input().split()))\n",
        "  side.sort()\n",
        "  if sum(side)==0:break\n",
        "  if side[0]+side[1]<=side[2]:print(\"Invalid\")\n",
        "  else:\n",
        "    if side[0]==side[1] and side[1]==side[2]:print(\"Equilateral\")\n",
        "    elif side[0]==side[1] or side[1]==side[2] or side[0]==side[2]:print(\"Isosceles\")\n",
        "    else:print(\"Scalene\")"
      ],
      "metadata": {
        "colab": {
          "base_uri": "https://localhost:8080/"
        },
        "id": "lfSp7sI9XWHZ",
        "outputId": "f2963e8f-41be-4f2a-f293-fb9c4a27452c"
      },
      "execution_count": null,
      "outputs": [
        {
          "name": "stdout",
          "output_type": "stream",
          "text": [
            "7 7 7\n",
            "Equilateral\n",
            "6 5 4\n",
            "Scalene\n",
            "3 2 5\n",
            "Invalid\n",
            "6 2 6\n",
            "Isosceles\n",
            "5 2 3\n",
            "Invalid\n",
            "0 0 0\n"
          ]
        }
      ]
    },
    {
      "cell_type": "code",
      "source": [
        "#27323 직사각형\n",
        "\n",
        "A=int(input())\n",
        "B=int(input())\n",
        "\n",
        "print(A*B)"
      ],
      "metadata": {
        "colab": {
          "base_uri": "https://localhost:8080/"
        },
        "id": "c3GadTEnZoTx",
        "outputId": "bd1ca9d8-9e8a-49f9-9885-10e733a72a4e"
      },
      "execution_count": null,
      "outputs": [
        {
          "output_type": "stream",
          "name": "stdout",
          "text": [
            "4\n",
            "4\n",
            "16\n"
          ]
        }
      ]
    },
    {
      "cell_type": "code",
      "source": [
        "#11758 CCW\n",
        "\n",
        "px=[0]*3\n",
        "py=[0]*3\n",
        "for i in range(3):\n",
        "  px[i],py[i]=map(int,input().split())\n",
        "temp=px[0]*py[1]+px[1]*py[2]+px[2]*py[0]\n",
        "temp-=py[0]*px[1]+py[1]*px[2]+py[2]*px[0]\n",
        "if temp==0:print(0)\n",
        "elif temp>0:print(1)\n",
        "else:print(-1)"
      ],
      "metadata": {
        "colab": {
          "base_uri": "https://localhost:8080/"
        },
        "id": "H4OFHIlGZ58N",
        "outputId": "40be0a70-e1d5-472d-8673-837d01d9a119"
      },
      "execution_count": null,
      "outputs": [
        {
          "output_type": "stream",
          "name": "stdout",
          "text": [
            "1 1\n",
            "3 3\n",
            "5 5\n",
            "[[2, 2, 1.0], [2, 2, 1.0]]\n",
            "0\n"
          ]
        }
      ]
    },
    {
      "cell_type": "code",
      "source": [
        "#2166 다각형의 면적\n",
        "\n",
        "N=int(input())\n",
        "x=[0]*N\n",
        "y=[0]*N\n",
        "for i in range(N):\n",
        "  x[i],y[i]=map(int,input().split())\n",
        "x.append(x[0])\n",
        "y.append(y[0])\n",
        "result=0\n",
        "for i in range(N):\n",
        "    result+=x[i]*y[i+1]\n",
        "    result-=y[i]*x[i+1]\n",
        "print(round(abs(result/2),2))"
      ],
      "metadata": {
        "colab": {
          "base_uri": "https://localhost:8080/"
        },
        "id": "GUJxD6eJtM6F",
        "outputId": "0b4147d3-92c0-4fc5-afe5-cdefd04fb44e"
      },
      "execution_count": null,
      "outputs": [
        {
          "output_type": "stream",
          "name": "stdout",
          "text": [
            "4\n",
            "0 0\n",
            "0 10\n",
            "10 10\n",
            "10 0\n",
            "100.0\n"
          ]
        }
      ]
    },
    {
      "cell_type": "code",
      "source": [
        "#1297 TV크기\n",
        "\n",
        "D,H,W=map(int,input().split())\n",
        "\n"
      ],
      "metadata": {
        "id": "AAYXSEOS4B83"
      },
      "execution_count": null,
      "outputs": []
    },
    {
      "cell_type": "code",
      "source": [
        "#16486 운동장 한 바퀴\n",
        "\n",
        "d1=int(input())\n",
        "d2=int(input())\n",
        "\n",
        "print(2*d1+2*d2*(3.141592))"
      ],
      "metadata": {
        "colab": {
          "base_uri": "https://localhost:8080/"
        },
        "id": "ge--t54-8hyj",
        "outputId": "fdf615b3-a653-44a9-8acf-9b7a207acb3d"
      },
      "execution_count": 3,
      "outputs": [
        {
          "output_type": "stream",
          "name": "stdout",
          "text": [
            "13\n",
            "8\n",
            "76.265472\n"
          ]
        }
      ]
    }
  ]
}