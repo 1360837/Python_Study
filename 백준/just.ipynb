{
  "nbformat": 4,
  "nbformat_minor": 0,
  "metadata": {
    "colab": {
      "provenance": [],
      "authorship_tag": "ABX9TyPvXmOO8ihgWNHlrvT5XO8A",
      "include_colab_link": true
    },
    "kernelspec": {
      "name": "python3",
      "display_name": "Python 3"
    },
    "language_info": {
      "name": "python"
    }
  },
  "cells": [
    {
      "cell_type": "markdown",
      "metadata": {
        "id": "view-in-github",
        "colab_type": "text"
      },
      "source": [
        "<a href=\"https://colab.research.google.com/github/1360837/Python_Study/blob/main/%EB%B0%B1%EC%A4%80/just.ipynb\" target=\"_parent\"><img src=\"https://colab.research.google.com/assets/colab-badge.svg\" alt=\"Open In Colab\"/></a>"
      ]
    },
    {
      "cell_type": "code",
      "execution_count": null,
      "metadata": {
        "id": "cibJE6msQkPI"
      },
      "outputs": [],
      "source": [
        "#4770 칸토어 집합\n",
        "\n",
        "def Can(S,n):\n",
        "  temp=3**n\n",
        "  for i in range(len(S)):\n",
        "    if (i//temp)%2==1:S[i]=False\n",
        "  if n==0: return S\n",
        "  return Can(S,n-1)\n",
        "\n",
        "while True:\n",
        "  try:\n",
        "    N=int(input())\n",
        "    CanSet=[True]*(3**N)\n",
        "    CanSet=Can(CanSet,N)\n",
        "    for i in CanSet:\n",
        "      if i:print(\"-\",end=\"\")\n",
        "      else:print(\" \",end=\"\")\n",
        "    print(\"\")\n",
        "  except:break"
      ]
    },
    {
      "cell_type": "code",
      "source": [
        "#2447 별 찍기\n",
        "\n",
        "\n",
        "N=int(input())\n",
        "Starlist=[\"*\"]*N\n",
        "Starlist=Starlist[:]*N\n",
        "Starlist[1][1]=\" \"\n",
        "print(Starlist)"
      ],
      "metadata": {
        "colab": {
          "base_uri": "https://localhost:8080/",
          "height": 248
        },
        "id": "9421Sz_0Qq-M",
        "outputId": "fbc1a964-5a97-44d8-ea79-0f3e31fe3ef0"
      },
      "execution_count": null,
      "outputs": [
        {
          "name": "stdout",
          "output_type": "stream",
          "text": [
            "3\n"
          ]
        },
        {
          "output_type": "error",
          "ename": "TypeError",
          "evalue": "ignored",
          "traceback": [
            "\u001b[0;31m---------------------------------------------------------------------------\u001b[0m",
            "\u001b[0;31mTypeError\u001b[0m                                 Traceback (most recent call last)",
            "\u001b[0;32m<ipython-input-12-6e65954276bb>\u001b[0m in \u001b[0;36m<cell line: 7>\u001b[0;34m()\u001b[0m\n\u001b[1;32m      5\u001b[0m \u001b[0mStarlist\u001b[0m\u001b[0;34m=\u001b[0m\u001b[0;34m[\u001b[0m\u001b[0;34m\"*\"\u001b[0m\u001b[0;34m]\u001b[0m\u001b[0;34m*\u001b[0m\u001b[0mN\u001b[0m\u001b[0;34m\u001b[0m\u001b[0;34m\u001b[0m\u001b[0m\n\u001b[1;32m      6\u001b[0m \u001b[0mStarlist\u001b[0m\u001b[0;34m=\u001b[0m\u001b[0mStarlist\u001b[0m\u001b[0;34m[\u001b[0m\u001b[0;34m:\u001b[0m\u001b[0;34m]\u001b[0m\u001b[0;34m*\u001b[0m\u001b[0mN\u001b[0m\u001b[0;34m\u001b[0m\u001b[0;34m\u001b[0m\u001b[0m\n\u001b[0;32m----> 7\u001b[0;31m \u001b[0mStarlist\u001b[0m\u001b[0;34m[\u001b[0m\u001b[0;36m1\u001b[0m\u001b[0;34m]\u001b[0m\u001b[0;34m[\u001b[0m\u001b[0;36m1\u001b[0m\u001b[0;34m]\u001b[0m\u001b[0;34m=\u001b[0m\u001b[0;34m\" \"\u001b[0m\u001b[0;34m\u001b[0m\u001b[0;34m\u001b[0m\u001b[0m\n\u001b[0m\u001b[1;32m      8\u001b[0m \u001b[0mprint\u001b[0m\u001b[0;34m(\u001b[0m\u001b[0mStarlist\u001b[0m\u001b[0;34m)\u001b[0m\u001b[0;34m\u001b[0m\u001b[0;34m\u001b[0m\u001b[0m\n",
            "\u001b[0;31mTypeError\u001b[0m: 'str' object does not support item assignment"
          ]
        }
      ]
    },
    {
      "cell_type": "code",
      "source": [
        "#11021 A+B -7\n",
        "T=int(input())\n",
        "for i in range(T):\n",
        "  A,B=map(int,input().split())\n",
        "  print(\"Case #%d: %d\"%(i+1,A+B))"
      ],
      "metadata": {
        "colab": {
          "base_uri": "https://localhost:8080/"
        },
        "id": "TstOShlV5Cd7",
        "outputId": "6def559b-9a83-4796-e3c2-e87605990795"
      },
      "execution_count": null,
      "outputs": [
        {
          "output_type": "stream",
          "name": "stdout",
          "text": [
            "5\n",
            "1 1\n",
            "Case #1: 2\n",
            "2 3\n",
            "Case #2: 5\n",
            "3 4\n",
            "Case #3: 7\n",
            "9 8\n",
            "Case #4: 17\n",
            "5 2\n",
            "Case #5: 7\n"
          ]
        }
      ]
    },
    {
      "cell_type": "code",
      "source": [
        "A,B=input().split()\n",
        "\n",
        "ABmin=int(A.replace(\"6\",\"5\"))+int(B.replace(\"6\",\"5\"))\n",
        "ABmax=int(A.replace(\"5\",\"6\"))+int(B.replace(\"5\",\"6\"))\n",
        "\n",
        "print(ABmin,ABmax)"
      ],
      "metadata": {
        "colab": {
          "base_uri": "https://localhost:8080/"
        },
        "id": "Vl1eb2Gl3x5E",
        "outputId": "9c36359d-fc9b-4f69-9863-2e428082506e"
      },
      "execution_count": null,
      "outputs": [
        {
          "output_type": "stream",
          "name": "stdout",
          "text": [
            "1430 4862\n",
            "6282 6292\n"
          ]
        }
      ]
    },
    {
      "cell_type": "code",
      "source": [
        "#2747 피보나치 수\n",
        "\n",
        "N=int(input())\n",
        "if N==0:print(0)\n",
        "elif N==1:print(1)\n",
        "else:\n",
        "  pinum=[0]*N\n",
        "  pinum[0],pinum[1]=1,1\n",
        "  for i in range(2,N):\n",
        "    pinum[i]=pinum[i-1]+pinum[i-2]\n",
        "  print(pinum[N-1])"
      ],
      "metadata": {
        "colab": {
          "base_uri": "https://localhost:8080/"
        },
        "id": "xtt6Tbl7WuVX",
        "outputId": "9e091b43-582c-4d8a-d3e3-4428471cbb43"
      },
      "execution_count": null,
      "outputs": [
        {
          "output_type": "stream",
          "name": "stdout",
          "text": [
            "1\n",
            "1\n"
          ]
        }
      ]
    },
    {
      "cell_type": "code",
      "source": [
        "#1065 한수\n",
        "\n",
        "N=int(input())\n",
        "cnt=0\n",
        "for i in range(1,N+1):\n",
        "  J=list(map(int,str(i)))\n",
        "  if len(J)%2==0:\n",
        "    if sum(J)/len(J)==(J[len(J)//2-1]+J[len(J)//2])/2:cnt+=1\n",
        "  else:\n",
        "    if sum(J)/len(J)==J[len(J)//2]:cnt+=1\n",
        "print(cnt)"
      ],
      "metadata": {
        "colab": {
          "base_uri": "https://localhost:8080/"
        },
        "id": "9pUj6ZcusnB3",
        "outputId": "3467e7b5-99a0-499a-c765-b40074ff9a70"
      },
      "execution_count": null,
      "outputs": [
        {
          "output_type": "stream",
          "name": "stdout",
          "text": [
            "500\n",
            "119\n"
          ]
        }
      ]
    },
    {
      "cell_type": "code",
      "source": [
        "T=int(input())\n",
        "for i in range(T):\n",
        "    A,B=map(int,input().split())\n",
        "    print(\"Case #%d: %d + %d = %d\"%(i+1,A,B,A+B))"
      ],
      "metadata": {
        "colab": {
          "base_uri": "https://localhost:8080/"
        },
        "id": "zcfm0YLZ0GKw",
        "outputId": "b413142f-2f7b-4876-d51b-7a546f3a59a9"
      },
      "execution_count": 3,
      "outputs": [
        {
          "output_type": "stream",
          "name": "stdout",
          "text": [
            "2\n",
            "1 3\n",
            "Case #1: 1 + 3 = 4\n",
            "2 4\n",
            "Case #2: 2 + 4 = 6\n"
          ]
        }
      ]
    }
  ]
}