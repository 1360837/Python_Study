{
  "nbformat": 4,
  "nbformat_minor": 0,
  "metadata": {
    "colab": {
      "provenance": [],
      "authorship_tag": "ABX9TyPAoSc3n/oJpJWrQcmWsBz1",
      "include_colab_link": true
    },
    "kernelspec": {
      "name": "python3",
      "display_name": "Python 3"
    },
    "language_info": {
      "name": "python"
    }
  },
  "cells": [
    {
      "cell_type": "markdown",
      "metadata": {
        "id": "view-in-github",
        "colab_type": "text"
      },
      "source": [
        "<a href=\"https://colab.research.google.com/github/1360837/Python_Study/blob/main/%EB%B0%B1%EC%A4%80/just.ipynb\" target=\"_parent\"><img src=\"https://colab.research.google.com/assets/colab-badge.svg\" alt=\"Open In Colab\"/></a>"
      ]
    },
    {
      "cell_type": "code",
      "execution_count": null,
      "metadata": {
        "id": "cibJE6msQkPI"
      },
      "outputs": [],
      "source": [
        "#4770 칸토어 집합\n",
        "\n",
        "def Can(S,n):\n",
        "  temp=3**n\n",
        "  for i in range(len(S)):\n",
        "    if (i//temp)%2==1:S[i]=False\n",
        "  if n==0: return S\n",
        "  return Can(S,n-1)\n",
        "\n",
        "while True:\n",
        "  try:\n",
        "    N=int(input())\n",
        "    CanSet=[True]*(3**N)\n",
        "    CanSet=Can(CanSet,N)\n",
        "    for i in CanSet:\n",
        "      if i:print(\"-\",end=\"\")\n",
        "      else:print(\" \",end=\"\")\n",
        "    print(\"\")\n",
        "  except:break"
      ]
    },
    {
      "cell_type": "code",
      "source": [
        "#11021 A+B -7\n",
        "T=int(input())\n",
        "for i in range(T):\n",
        "  A,B=map(int,input().split())\n",
        "  print(\"Case #%d: %d\"%(i+1,A+B))"
      ],
      "metadata": {
        "colab": {
          "base_uri": "https://localhost:8080/"
        },
        "id": "TstOShlV5Cd7",
        "outputId": "6def559b-9a83-4796-e3c2-e87605990795"
      },
      "execution_count": null,
      "outputs": [
        {
          "output_type": "stream",
          "name": "stdout",
          "text": [
            "5\n",
            "1 1\n",
            "Case #1: 2\n",
            "2 3\n",
            "Case #2: 5\n",
            "3 4\n",
            "Case #3: 7\n",
            "9 8\n",
            "Case #4: 17\n",
            "5 2\n",
            "Case #5: 7\n"
          ]
        }
      ]
    },
    {
      "cell_type": "code",
      "source": [
        "A,B=input().split()\n",
        "\n",
        "ABmin=int(A.replace(\"6\",\"5\"))+int(B.replace(\"6\",\"5\"))\n",
        "ABmax=int(A.replace(\"5\",\"6\"))+int(B.replace(\"5\",\"6\"))\n",
        "\n",
        "print(ABmin,ABmax)"
      ],
      "metadata": {
        "colab": {
          "base_uri": "https://localhost:8080/"
        },
        "id": "Vl1eb2Gl3x5E",
        "outputId": "9c36359d-fc9b-4f69-9863-2e428082506e"
      },
      "execution_count": null,
      "outputs": [
        {
          "output_type": "stream",
          "name": "stdout",
          "text": [
            "1430 4862\n",
            "6282 6292\n"
          ]
        }
      ]
    },
    {
      "cell_type": "code",
      "source": [
        "#2747 피보나치 수\n",
        "\n",
        "N=int(input())\n",
        "if N==0:print(0)\n",
        "elif N==1:print(1)\n",
        "else:\n",
        "  pinum=[0]*N\n",
        "  pinum[0],pinum[1]=1,1\n",
        "  for i in range(2,N):\n",
        "    pinum[i]=pinum[i-1]+pinum[i-2]\n",
        "  print(pinum[N-1])"
      ],
      "metadata": {
        "colab": {
          "base_uri": "https://localhost:8080/"
        },
        "id": "xtt6Tbl7WuVX",
        "outputId": "9e091b43-582c-4d8a-d3e3-4428471cbb43"
      },
      "execution_count": null,
      "outputs": [
        {
          "output_type": "stream",
          "name": "stdout",
          "text": [
            "1\n",
            "1\n"
          ]
        }
      ]
    },
    {
      "cell_type": "code",
      "source": [
        "#1065 한수\n",
        "\n",
        "N=int(input())\n",
        "cnt=0\n",
        "for i in range(1,N+1):\n",
        "  J=list(map(int,str(i)))\n",
        "  if len(J)%2==0:\n",
        "    if sum(J)/len(J)==(J[len(J)//2-1]+J[len(J)//2])/2:cnt+=1\n",
        "  else:\n",
        "    if sum(J)/len(J)==J[len(J)//2]:cnt+=1\n",
        "print(cnt)"
      ],
      "metadata": {
        "colab": {
          "base_uri": "https://localhost:8080/"
        },
        "id": "9pUj6ZcusnB3",
        "outputId": "3467e7b5-99a0-499a-c765-b40074ff9a70"
      },
      "execution_count": null,
      "outputs": [
        {
          "output_type": "stream",
          "name": "stdout",
          "text": [
            "500\n",
            "119\n"
          ]
        }
      ]
    },
    {
      "cell_type": "code",
      "source": [
        "T=int(input())\n",
        "for i in range(T):\n",
        "    A,B=map(int,input().split())\n",
        "    print(\"Case #%d: %d + %d = %d\"%(i+1,A,B,A+B))"
      ],
      "metadata": {
        "colab": {
          "base_uri": "https://localhost:8080/"
        },
        "id": "zcfm0YLZ0GKw",
        "outputId": "b413142f-2f7b-4876-d51b-7a546f3a59a9"
      },
      "execution_count": null,
      "outputs": [
        {
          "output_type": "stream",
          "name": "stdout",
          "text": [
            "2\n",
            "1 3\n",
            "Case #1: 1 + 3 = 4\n",
            "2 4\n",
            "Case #2: 2 + 4 = 6\n"
          ]
        }
      ]
    },
    {
      "cell_type": "code",
      "source": [
        "#1010 다리 놓기\n",
        "\n",
        "def Fac(num):\n",
        "  result=1\n",
        "  for i in range(1,num+1):\n",
        "    result*=i\n",
        "  return result\n",
        "\n",
        "T=int(input())\n",
        "for _ in range(T):\n",
        "  N,M=map(int,input().split())\n",
        "  print(Fac(M)//(Fac(M-N)*Fac(N)))"
      ],
      "metadata": {
        "colab": {
          "base_uri": "https://localhost:8080/"
        },
        "id": "zTAWRbHzI1pj",
        "outputId": "e4a9cbad-753f-40b0-b6ef-a6d0300a0c0e"
      },
      "execution_count": null,
      "outputs": [
        {
          "output_type": "stream",
          "name": "stdout",
          "text": [
            "3\n",
            "2 2\n",
            "1\n",
            "1 5\n",
            "5\n",
            "13 29\n",
            "67863915\n"
          ]
        }
      ]
    },
    {
      "cell_type": "code",
      "source": [
        "#11726 2xn 타일링\n",
        "\n",
        "n=int(input())\n",
        "\n",
        "dp=[0]*(n+1)\n",
        "dp[0]=1\n",
        "dp[1]=1\n",
        "for i in range(2,n+1):\n",
        "  dp[i]=dp[i-1]+dp[i-2]\n",
        "print(dp[n]%10007)"
      ],
      "metadata": {
        "colab": {
          "base_uri": "https://localhost:8080/"
        },
        "id": "DwZoL24yOi5g",
        "outputId": "bb533e48-50ba-4fdc-c733-c5a08ea64bb7"
      },
      "execution_count": 2,
      "outputs": [
        {
          "output_type": "stream",
          "name": "stdout",
          "text": [
            "9\n",
            "55\n"
          ]
        }
      ]
    },
    {
      "cell_type": "code",
      "source": [
        "#11727 2xn 타일링 2\n",
        "\n",
        "n=int(input())\n",
        "\n",
        "dp=[0]*(n+1)\n",
        "dp[0]=1\n",
        "dp[1]=1\n",
        "for i in range(2,n+1):\n",
        "  dp[i]=dp[i-1]+2*dp[i-2]\n",
        "print(dp[n]%10007)"
      ],
      "metadata": {
        "colab": {
          "base_uri": "https://localhost:8080/"
        },
        "id": "r8y8EXj8Jz_S",
        "outputId": "c979b92f-bce5-4921-d506-de292715f686"
      },
      "execution_count": null,
      "outputs": [
        {
          "output_type": "stream",
          "name": "stdout",
          "text": [
            "12\n",
            "2731\n"
          ]
        }
      ]
    },
    {
      "cell_type": "code",
      "source": [
        "#12865 평범한 배낭\n",
        "\n",
        "N,K=map(int,input().split())\n"
      ],
      "metadata": {
        "id": "_lnnXg07PC0z"
      },
      "execution_count": null,
      "outputs": []
    },
    {
      "cell_type": "code",
      "source": [
        "#1535 안녕\n",
        "\n",
        "N=int(input())\n",
        "L=list(map(int,input().split()))\n",
        "J=list(map(int,input().split()))\n",
        "joy=[[0]*100 for _ in range(N+1)]\n",
        "\n",
        "for i in range(N):\n",
        "  for j in range(100):\n",
        "    if"
      ],
      "metadata": {
        "colab": {
          "base_uri": "https://localhost:8080/"
        },
        "id": "it9ffZ3yVSZ3",
        "outputId": "eb46beab-057e-4293-9b13-bcf7abd56a2e"
      },
      "execution_count": 5,
      "outputs": [
        {
          "output_type": "stream",
          "name": "stdout",
          "text": [
            "1 \n",
            "2\n",
            "2\n",
            "[[0, 0, 2, 0, 0, 0, 0, 0, 0], [0, 0, 0, 0, 0, 0, 0, 0, 0], [0, 0, 0, 0, 0, 0, 0, 0, 0], [0, 0, 0, 0, 0, 0, 0, 0, 0], [0, 0, 0, 0, 0, 0, 0, 0, 0], [0, 0, 0, 0, 0, 0, 0, 0, 0], [0, 0, 0, 0, 0, 0, 0, 0, 0], [0, 0, 0, 0, 0, 0, 0, 0, 0], [0, 0, 0, 0, 0, 0, 0, 0, 0]]\n"
          ]
        }
      ]
    },
    {
      "cell_type": "code",
      "source": [
        "#4108 지뢰찾기\n",
        "\n",
        "dc=[-1,-1,-1,0,0,1,1,1]\n",
        "dr=[-1,0,1,-1,1,-1,0,1]\n",
        "def findmine(r,c):\n",
        "  cnt=0\n",
        "  for i in range(8):\n",
        "    r_=r+dr[i]\n",
        "    c_=c+dc[i]\n",
        "    if 0<=r_<R and 0<=c_<C:\n",
        "      if mine[r_][c_]==\"*\":cnt+=1\n",
        "  return cnt\n",
        "\n",
        "while True:\n",
        "  R,C=map(int,input().split())\n",
        "  if R==0 and C==0: break\n",
        "  mine=list(input() for _ in range(R))\n",
        "  for i in range(R):\n",
        "    for j in range(C):\n",
        "      if mine[i][j]==\".\":\n",
        "        print(findmine(i,j),end=\"\")\n",
        "      else:print(\"*\",end=\"\")\n",
        "    print()"
      ],
      "metadata": {
        "colab": {
          "base_uri": "https://localhost:8080/"
        },
        "id": "PYs0d8Ple6TT",
        "outputId": "61c5541c-fd56-4587-ead0-38dba2fc2257"
      },
      "execution_count": 12,
      "outputs": [
        {
          "name": "stdout",
          "output_type": "stream",
          "text": [
            "3 2\n",
            "..\n",
            ".*\n",
            "..\n",
            "11\n",
            "1*\n",
            "11\n",
            "5 5\n",
            "*.*.*\n",
            "..*..\n",
            "*****\n",
            ".....\n",
            "..**.\n",
            "*3*3*\n",
            "36*63\n",
            "*****\n",
            "24553\n",
            "01**1\n",
            "0 0\n"
          ]
        }
      ]
    }
  ]
}