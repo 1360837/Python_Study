{
  "nbformat": 4,
  "nbformat_minor": 0,
  "metadata": {
    "colab": {
      "provenance": [],
      "authorship_tag": "ABX9TyN3enWmPc8LCElOem5GZOGL",
      "include_colab_link": true
    },
    "kernelspec": {
      "name": "python3",
      "display_name": "Python 3"
    },
    "language_info": {
      "name": "python"
    }
  },
  "cells": [
    {
      "cell_type": "markdown",
      "metadata": {
        "id": "view-in-github",
        "colab_type": "text"
      },
      "source": [
        "<a href=\"https://colab.research.google.com/github/1360837/Python_Study/blob/main/%EB%B0%B1%EC%A4%80/%EB%B0%B1%EC%A4%80%EC%97%B0%EC%8A%B5%2B1.ipynb\" target=\"_parent\"><img src=\"https://colab.research.google.com/assets/colab-badge.svg\" alt=\"Open In Colab\"/></a>"
      ]
    },
    {
      "cell_type": "code",
      "execution_count": 2,
      "metadata": {
        "colab": {
          "base_uri": "https://localhost:8080/"
        },
        "id": "JGuP5b2_n4L2",
        "outputId": "a9871fb0-35ba-46c7-f28b-7f34862f9705"
      },
      "outputs": [
        {
          "output_type": "stream",
          "name": "stdout",
          "text": [
            "\n",
            "\n"
          ]
        }
      ],
      "source": [
        "a=input() #input은 무조건 문자열로 받는다\n",
        "print(a)"
      ]
    },
    {
      "cell_type": "code",
      "source": [
        "A, B = input().split()\n",
        "A=int(A)\n",
        "B=int(B)\n",
        "print(A,B,type(A))\n",
        "print(A+B)"
      ],
      "metadata": {
        "colab": {
          "base_uri": "https://localhost:8080/"
        },
        "id": "wa1GPjc6ojU7",
        "outputId": "ce0fbe87-0cad-464d-ae8d-d6804507715e"
      },
      "execution_count": 5,
      "outputs": [
        {
          "output_type": "stream",
          "name": "stdout",
          "text": [
            "2 8\n",
            "2 8 <class 'int'>\n",
            "10\n"
          ]
        }
      ]
    },
    {
      "cell_type": "code",
      "source": [
        "v=[1,\"1\",\"325\"]\n",
        "list(map(int,v))"
      ],
      "metadata": {
        "colab": {
          "base_uri": "https://localhost:8080/"
        },
        "id": "K-ZohLmJo5yo",
        "outputId": "2ce9bc7b-fde5-4000-db76-6f13da843c33"
      },
      "execution_count": 8,
      "outputs": [
        {
          "output_type": "execute_result",
          "data": {
            "text/plain": [
              "[1, 1, 325]"
            ]
          },
          "metadata": {},
          "execution_count": 8
        }
      ]
    },
    {
      "cell_type": "code",
      "source": [
        "#1330\n",
        "A, B = map(int,input().split())\n",
        "\n",
        "if A > B:\n",
        "  print(\">\")\n",
        "elif A < B:\n",
        "  print(\"<\")\n",
        "else:\n",
        "  print(\"==\")"
      ],
      "metadata": {
        "colab": {
          "base_uri": "https://localhost:8080/"
        },
        "id": "-E2UGaLLqfG8",
        "outputId": "f2779257-ec24-4b67-acb5-a51fb4a4c14b"
      },
      "execution_count": 11,
      "outputs": [
        {
          "output_type": "stream",
          "name": "stdout",
          "text": [
            "5 5\n",
            "==\n"
          ]
        }
      ]
    },
    {
      "cell_type": "code",
      "source": [
        "#2753\n",
        "y=int(input())\n",
        "\n",
        "if ((y%4==0) and (y%100!=0)) or (y%400==0):\n",
        "  print('1')\n",
        "else :\n",
        "  print('0')"
      ],
      "metadata": {
        "colab": {
          "base_uri": "https://localhost:8080/"
        },
        "id": "hBuK-mCEqwqh",
        "outputId": "20d2c4e1-5d31-487d-e2d1-6bab99630f3d"
      },
      "execution_count": 16,
      "outputs": [
        {
          "output_type": "stream",
          "name": "stdout",
          "text": [
            "2000\n",
            "1\n"
          ]
        }
      ]
    },
    {
      "cell_type": "code",
      "source": [
        "#2480\n",
        "l=list(map(int,input().split()))\n",
        "l.sort()\n",
        "a,b,c=l\n",
        "\n",
        "if a==b and b==c:\n",
        "  print(10000+a*1000)\n",
        "elif (a==b and b!=c) or (a!=b and b==c):\n",
        "  print(1000+b*100)\n",
        "else:\n",
        "  print(c*100)"
      ],
      "metadata": {
        "colab": {
          "base_uri": "https://localhost:8080/"
        },
        "id": "SAIsgjfzsTs-",
        "outputId": "ea0df1ae-3f97-46f2-d27b-8fafb55b5fda"
      },
      "execution_count": 25,
      "outputs": [
        {
          "output_type": "stream",
          "name": "stdout",
          "text": [
            "6 2 5\n",
            "600\n"
          ]
        }
      ]
    }
  ]
}