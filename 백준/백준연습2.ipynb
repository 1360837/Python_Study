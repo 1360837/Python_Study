{
  "nbformat": 4,
  "nbformat_minor": 0,
  "metadata": {
    "colab": {
      "provenance": [],
      "authorship_tag": "ABX9TyMVIkJ5o2FJIjliPuA/lmSp",
      "include_colab_link": true
    },
    "kernelspec": {
      "name": "python3",
      "display_name": "Python 3"
    },
    "language_info": {
      "name": "python"
    }
  },
  "cells": [
    {
      "cell_type": "markdown",
      "metadata": {
        "id": "view-in-github",
        "colab_type": "text"
      },
      "source": [
        "<a href=\"https://colab.research.google.com/github/1360837/Python_Study/blob/main/%EB%B0%B1%EC%A4%80/%EB%B0%B1%EC%A4%80%EC%97%B0%EC%8A%B52.ipynb\" target=\"_parent\"><img src=\"https://colab.research.google.com/assets/colab-badge.svg\" alt=\"Open In Colab\"/></a>"
      ]
    },
    {
      "cell_type": "code",
      "execution_count": 37,
      "metadata": {
        "colab": {
          "base_uri": "https://localhost:8080/"
        },
        "id": "suT-qXuRrXST",
        "outputId": "860d8af5-effe-414a-cf1f-8a4cc9b835ba"
      },
      "outputs": [
        {
          "output_type": "stream",
          "name": "stdout",
          "text": [
            "20\n",
            "long long long long long int\n"
          ]
        }
      ],
      "source": [
        "#25314 코딩은 체육과목 입니다\n",
        "a=input()\n",
        "a=int(a)//4\n",
        "\n",
        "print(\"long \"*a +\"int\")"
      ]
    },
    {
      "cell_type": "code",
      "source": [
        "#10810 공 넣기 \n",
        "n,m = map(int,input().split())\n",
        "BOX=[0]*n\n",
        "\n",
        "for _ in range(m):\n",
        "  i,j,k=map(int,input().split())\n",
        "  for a in range(i-1,j):\n",
        "    BOX[a]=k\n",
        "\n",
        "for b in BOX:\n",
        "  print(b, end=\" \")"
      ],
      "metadata": {
        "colab": {
          "base_uri": "https://localhost:8080/"
        },
        "id": "71zmlKTmwz6j",
        "outputId": "b57a69a3-da6d-4a45-95c4-40ef4acbbe7e"
      },
      "execution_count": 23,
      "outputs": [
        {
          "output_type": "stream",
          "name": "stdout",
          "text": [
            "5 4\n",
            "1 2 3\n",
            "3 4 4\n",
            "1 4 1\n",
            "2 2 2\n",
            "1 2 1 1 0 "
          ]
        }
      ]
    },
    {
      "cell_type": "code",
      "source": [
        "#10813 공 바꾸기\n",
        "n,m = map(int,input().split())\n",
        "\n",
        "BOX=[a+1 for a in range(n)]\n",
        "\n",
        "for _ in range(m):\n",
        "  i,j=map(int,input().split())\n",
        "  BOX[i-1],BOX[j-1]=BOX[j-1],BOX[i-1]\n",
        "\n",
        "for b in BOX:\n",
        "  print(b, end=\" \")"
      ],
      "metadata": {
        "colab": {
          "base_uri": "https://localhost:8080/"
        },
        "id": "2WidMyksScQW",
        "outputId": "6a88a6a1-b350-46e8-c372-b5a26b67d04a"
      },
      "execution_count": 26,
      "outputs": [
        {
          "output_type": "stream",
          "name": "stdout",
          "text": [
            "5 4\n",
            "1 2\n",
            "3 4\n",
            "1 4\n",
            "2 2\n",
            "3 1 4 2 5 "
          ]
        }
      ]
    },
    {
      "cell_type": "code",
      "source": [
        "#3052 나머지\n",
        "n=[]\n",
        "\n",
        "for _ in range(10):\n",
        "  a=int(input())%42\n",
        "  n.append(a)\n",
        "\n",
        "n=set(n)\n",
        "print(len(n))"
      ],
      "metadata": {
        "colab": {
          "base_uri": "https://localhost:8080/"
        },
        "id": "V60hzbBnSzcu",
        "outputId": "57a1d4fb-66a0-4139-dbf2-a1ee8de93ff1"
      },
      "execution_count": 15,
      "outputs": [
        {
          "output_type": "stream",
          "name": "stdout",
          "text": [
            "42\n",
            "84\n",
            "252\n",
            "420\n",
            "840\n",
            "126\n",
            "42\n",
            "84\n",
            "420\n",
            "126\n",
            "1\n"
          ]
        }
      ]
    },
    {
      "cell_type": "code",
      "source": [
        "#2609 최대공약수와 최소공배수 \n",
        "a,b=map(int,input().split())\n",
        "m=a*b\n",
        "while b>0:\n",
        "  a,b=b,a%b\n",
        "\n",
        "print(a)\n",
        "print(m//a)"
      ],
      "metadata": {
        "colab": {
          "base_uri": "https://localhost:8080/"
        },
        "id": "boPWo9E0YASo",
        "outputId": "0ed5126b-6dd2-4a27-a74c-bbff808115a6"
      },
      "execution_count": 34,
      "outputs": [
        {
          "output_type": "stream",
          "name": "stdout",
          "text": [
            "24 18\n",
            "6\n",
            "72\n"
          ]
        }
      ]
    },
    {
      "cell_type": "code",
      "source": [
        "#2439 별찍기-2\n",
        "n=int(input())\n",
        "\n",
        "for i in range(n):\n",
        "  print(\" \"*(n-i-1) + \"*\"*(i+1))"
      ],
      "metadata": {
        "colab": {
          "base_uri": "https://localhost:8080/"
        },
        "id": "d3TO7WYpgmTO",
        "outputId": "8de0fdad-140b-435b-92aa-827155a3cf32"
      },
      "execution_count": 31,
      "outputs": [
        {
          "output_type": "stream",
          "name": "stdout",
          "text": [
            "5\n",
            "    *\n",
            "   **\n",
            "  ***\n",
            " ****\n",
            "*****\n"
          ]
        }
      ]
    },
    {
      "cell_type": "code",
      "source": [
        "#2675 문자열 반복\n",
        "T=int(input())\n",
        "S=[]\n",
        "N=[]\n",
        "\n",
        "for i in range(T):\n",
        "  n,s=input().split()\n",
        "  N.append(int(n))\n",
        "  S.append(s)\n",
        "for i in range(T):\n",
        "  for j in range(len(S[i])):\n",
        "    print(S[i][j]*N[i],end=\"\")\n",
        "  print(\"\")"
      ],
      "metadata": {
        "colab": {
          "base_uri": "https://localhost:8080/"
        },
        "id": "rQUlnUKXh755",
        "outputId": "f71c287e-1b43-43a2-e936-46570b6aa8ba"
      },
      "execution_count": 44,
      "outputs": [
        {
          "output_type": "stream",
          "name": "stdout",
          "text": [
            "2\n",
            "3 ABC\n",
            "5 /HTP\n",
            "AAABBBCCC\n",
            "/////HHHHHTTTTTPPPPP\n"
          ]
        }
      ]
    },
    {
      "cell_type": "code",
      "source": [
        "#1547 공\n",
        "M=int(input())\n",
        "Cups=[0,1,0,0]\n",
        "\n",
        "for _ in range(M):\n",
        "  a,b=map(int,input().split())\n",
        "  Cups[a],Cups[b]=Cups[b],Cups[a]\n",
        "\n",
        "print(Cups.index(1))"
      ],
      "metadata": {
        "colab": {
          "base_uri": "https://localhost:8080/",
          "height": 281
        },
        "id": "wyQDi8CJnyWY",
        "outputId": "0ca95432-6f61-4be0-8c47-9f3b51bc909f"
      },
      "execution_count": 49,
      "outputs": [
        {
          "name": "stdout",
          "output_type": "stream",
          "text": [
            "2\n",
            "1 4\n"
          ]
        },
        {
          "output_type": "error",
          "ename": "IndexError",
          "evalue": "ignored",
          "traceback": [
            "\u001b[0;31m---------------------------------------------------------------------------\u001b[0m",
            "\u001b[0;31mIndexError\u001b[0m                                Traceback (most recent call last)",
            "\u001b[0;32m<ipython-input-49-e191ca02951a>\u001b[0m in \u001b[0;36m<cell line: 5>\u001b[0;34m()\u001b[0m\n\u001b[1;32m      5\u001b[0m \u001b[0;32mfor\u001b[0m \u001b[0m_\u001b[0m \u001b[0;32min\u001b[0m \u001b[0mrange\u001b[0m\u001b[0;34m(\u001b[0m\u001b[0mM\u001b[0m\u001b[0;34m)\u001b[0m\u001b[0;34m:\u001b[0m\u001b[0;34m\u001b[0m\u001b[0;34m\u001b[0m\u001b[0m\n\u001b[1;32m      6\u001b[0m   \u001b[0ma\u001b[0m\u001b[0;34m,\u001b[0m\u001b[0mb\u001b[0m\u001b[0;34m=\u001b[0m\u001b[0mmap\u001b[0m\u001b[0;34m(\u001b[0m\u001b[0mint\u001b[0m\u001b[0;34m,\u001b[0m\u001b[0minput\u001b[0m\u001b[0;34m(\u001b[0m\u001b[0;34m)\u001b[0m\u001b[0;34m.\u001b[0m\u001b[0msplit\u001b[0m\u001b[0;34m(\u001b[0m\u001b[0;34m)\u001b[0m\u001b[0;34m)\u001b[0m\u001b[0;34m\u001b[0m\u001b[0;34m\u001b[0m\u001b[0m\n\u001b[0;32m----> 7\u001b[0;31m   \u001b[0mCups\u001b[0m\u001b[0;34m[\u001b[0m\u001b[0ma\u001b[0m\u001b[0;34m]\u001b[0m\u001b[0;34m,\u001b[0m\u001b[0mCups\u001b[0m\u001b[0;34m[\u001b[0m\u001b[0mb\u001b[0m\u001b[0;34m]\u001b[0m\u001b[0;34m=\u001b[0m\u001b[0mCups\u001b[0m\u001b[0;34m[\u001b[0m\u001b[0mb\u001b[0m\u001b[0;34m]\u001b[0m\u001b[0;34m,\u001b[0m\u001b[0mCups\u001b[0m\u001b[0;34m[\u001b[0m\u001b[0ma\u001b[0m\u001b[0;34m]\u001b[0m\u001b[0;34m\u001b[0m\u001b[0;34m\u001b[0m\u001b[0m\n\u001b[0m\u001b[1;32m      8\u001b[0m \u001b[0;34m\u001b[0m\u001b[0m\n\u001b[1;32m      9\u001b[0m \u001b[0mprint\u001b[0m\u001b[0;34m(\u001b[0m\u001b[0mCups\u001b[0m\u001b[0;34m.\u001b[0m\u001b[0mindex\u001b[0m\u001b[0;34m(\u001b[0m\u001b[0;36m1\u001b[0m\u001b[0;34m)\u001b[0m\u001b[0;34m)\u001b[0m\u001b[0;34m\u001b[0m\u001b[0;34m\u001b[0m\u001b[0m\n",
            "\u001b[0;31mIndexError\u001b[0m: list index out of range"
          ]
        }
      ]
    },
    {
      "cell_type": "code",
      "source": [
        "#1817 짐 챙기는 숌\n",
        "n,m=map(int,input().split())\n",
        "r=m\n",
        "c=1\n",
        "if n<=0:\n",
        "  print(0)\n",
        "else :\n",
        "  w=list(map(int,input().split()))\n",
        "  for i in range(n-1,-1,-1):\n",
        "    if (w[i]<=r):\n",
        "      r-=w[i]\n",
        "    else:\n",
        "      r=m-w[i]\n",
        "      c+=1\n",
        "  print(c)"
      ],
      "metadata": {
        "colab": {
          "base_uri": "https://localhost:8080/"
        },
        "id": "RlPV--66zU_Z",
        "outputId": "7573916d-de5f-4d8a-9145-393dc5a5322b"
      },
      "execution_count": 6,
      "outputs": [
        {
          "output_type": "stream",
          "name": "stdout",
          "text": [
            "5 100\n",
            "51 51 51 51 51\n",
            "5\n"
          ]
        }
      ]
    }
  ]
}