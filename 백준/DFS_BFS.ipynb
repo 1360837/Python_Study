{
  "nbformat": 4,
  "nbformat_minor": 0,
  "metadata": {
    "colab": {
      "provenance": [],
      "authorship_tag": "ABX9TyOywkcMrmmVIXFsZGG6TJjs",
      "include_colab_link": true
    },
    "kernelspec": {
      "name": "python3",
      "display_name": "Python 3"
    },
    "language_info": {
      "name": "python"
    }
  },
  "cells": [
    {
      "cell_type": "markdown",
      "metadata": {
        "id": "view-in-github",
        "colab_type": "text"
      },
      "source": [
        "<a href=\"https://colab.research.google.com/github/1360837/Python_Study/blob/main/%EB%B0%B1%EC%A4%80/DFS_BFS.ipynb\" target=\"_parent\"><img src=\"https://colab.research.google.com/assets/colab-badge.svg\" alt=\"Open In Colab\"/></a>"
      ]
    },
    {
      "cell_type": "code",
      "execution_count": null,
      "metadata": {
        "id": "im983XqWN8bD"
      },
      "outputs": [],
      "source": [
        "#1260 DFS와 BFS\n",
        "\n",
        "N,M,V=map(int,input().split())\n",
        "\n",
        "node=list([]*(N+1) for _ in range(N+1))\n",
        "for _ in range(M):\n",
        "  a,b=map(int,input().split())\n",
        "  node[a].append(b)\n",
        "  node[b].append(a)\n",
        "for i in node:\n",
        "  i.sort()\n",
        "\n",
        "visitedD=[False]*(N+1)\n",
        "visitedB=[False]*(N+1)\n",
        "\n",
        "def DFS(start):\n",
        "  visitedD[start]=True\n",
        "  print(start,end=\" \")\n",
        "  for i in node[start]:\n",
        "    if not visitedD[i]:\n",
        "      DFS(i)\n",
        "\n",
        "def BFS(start):\n",
        "  visitedB[start]=True\n",
        "  queue=[start]\n",
        "  while queue:\n",
        "    start=queue.pop(0)\n",
        "    print(start,end=\" \")\n",
        "    for i in node[start]:\n",
        "      if not visitedB[i]:\n",
        "        queue.append(i)\n",
        "        visitedB[i]=True\n",
        "\n",
        "DFS(V)\n",
        "print()\n",
        "BFS(V)"
      ]
    },
    {
      "cell_type": "code",
      "source": [
        "#2606 바이러스\n",
        "\n",
        "def DFS(num):\n",
        "  visited[num]=True\n",
        "  for i in node[num]:\n",
        "    if not visited[i]:DFS(i)\n",
        "\n",
        "n=int(input())\n",
        "node=[[] for _ in range(n+1)]\n",
        "\n",
        "k=int(input())\n",
        "for _ in range(k):\n",
        "  a,b=map(int,input().split())\n",
        "  node[a].append(b)\n",
        "  node[b].append(a)\n",
        "visited=[False]*(n+1)\n",
        "DFS(1)\n",
        "cnt=0\n",
        "for i in visited:\n",
        "  if i:cnt+=1\n",
        "print(cnt-1)"
      ],
      "metadata": {
        "id": "hSTtP-szOEQX"
      },
      "execution_count": null,
      "outputs": []
    },
    {
      "cell_type": "code",
      "source": [
        "#2667 단지번호붙이기\n",
        "\n",
        "dx=[0,0,-1,1]\n",
        "dy=[-1,1,0,0]\n",
        "\n",
        "def BFS(x,y):\n",
        "  cnt=1\n",
        "  queue=[(x,y)]\n",
        "  graph[x][y]=0\n",
        "  while queue:\n",
        "    x,y=queue.pop(0)\n",
        "\n",
        "    for i in range(4):\n",
        "      nx=x+dx[i]\n",
        "      ny=y+dy[i]\n",
        "\n",
        "      if nx<0 or nx>=N or ny<0 or ny>=N:continue\n",
        "      if graph[nx][ny]==1:\n",
        "        queue.append((nx,ny))\n",
        "        graph[nx][ny]=0\n",
        "        cnt+=1\n",
        "  return cnt\n",
        "\n",
        "\n",
        "N=int(input())\n",
        "graph=[list(map(int,input())) for _ in range(N)]\n",
        "result=[]\n",
        "for i in range(N):\n",
        "  for j in range(N):\n",
        "    if graph[i][j]==1:\n",
        "      result.append(BFS(i,j))\n",
        "print(len(result))\n",
        "for i in sorted(result):\n",
        "  print(i)"
      ],
      "metadata": {
        "colab": {
          "base_uri": "https://localhost:8080/"
        },
        "id": "Rz1eqjLGOL5e",
        "outputId": "dbd9ee35-bed5-4743-927f-a7b6eb9c8f51"
      },
      "execution_count": null,
      "outputs": [
        {
          "output_type": "stream",
          "name": "stdout",
          "text": [
            "7\n",
            "0110100\n",
            "0110101\n",
            "1110101\n",
            "0000111\n",
            "0100000\n",
            "0111110\n",
            "0111000\n",
            "3\n",
            "7\n",
            "8\n",
            "9\n"
          ]
        }
      ]
    },
    {
      "cell_type": "code",
      "source": [
        "#1012 유기농 배추\n",
        "\n",
        "def BFS(x,y):\n",
        "  dx=[0,0,-1,1]\n",
        "  dy=[1,-1,0,0]\n",
        "  queue = [(x,y)]\n",
        "  land[x][y]=0\n",
        "\n",
        "  while queue:\n",
        "    x,y=queue.pop(0)\n",
        "\n",
        "    for i in range(4):\n",
        "      nx=x+dx[i]\n",
        "      ny=y+dy[i]\n",
        "\n",
        "      if nx<0 or nx>=M or ny<0 or ny>=N:continue\n",
        "      if land[nx][ny]==1:\n",
        "        queue.append((nx,ny))\n",
        "        land[nx][ny]=0\n",
        "\n",
        "T=int(input())\n",
        "for _ in range(T):\n",
        "  M,N,K=map(int,input().split())\n",
        "  land=list([0 for _ in range(N)] for _ in range(M))\n",
        "  cnt=0\n",
        "\n",
        "  for _ in range(K):\n",
        "    x,y=map(int,input().split())\n",
        "    land[x][y]=1\n",
        "\n",
        "  for x in range(M):\n",
        "    for y in range(N):\n",
        "      if land[x][y]==1:\n",
        "        BFS(x,y)\n",
        "        cnt+=1\n",
        "  print(cnt)"
      ],
      "metadata": {
        "id": "NCvBjrglXsri"
      },
      "execution_count": null,
      "outputs": []
    },
    {
      "cell_type": "code",
      "source": [
        "#11724 연결 요소의 개수\n",
        "\n",
        "def BFS(num):\n",
        "  queue=[num]\n",
        "  visited[num]=True\n",
        "  while queue:\n",
        "    x=queue.pop(0)\n",
        "    for i in node[x]:\n",
        "      if not visited[i]:\n",
        "        visited[i]=True\n",
        "        queue.append(i)\n",
        "\n",
        "N,M=map(int,input().split())\n",
        "node=[[] for _ in range(N+1)]\n",
        "for _ in range(M):\n",
        "  a,b=map(int,input().split())\n",
        "  node[a].append(b)\n",
        "  node[b].append(a)\n",
        "\n",
        "visited=[False]*(N+1)\n",
        "cnt=0\n",
        "\n",
        "for i in range(1,N+1):\n",
        "  if not visited[i]:\n",
        "    if not node[i]:\n",
        "      cnt+=1\n",
        "      visited[i]=True\n",
        "    else:\n",
        "      BFS(i)\n",
        "      cnt+=1\n",
        "\n",
        "print(cnt)"
      ],
      "metadata": {
        "colab": {
          "base_uri": "https://localhost:8080/"
        },
        "id": "SIh4XXW3b4WU",
        "outputId": "01d16856-f2e1-4156-f84b-efeb8be49e22"
      },
      "execution_count": null,
      "outputs": [
        {
          "output_type": "stream",
          "name": "stdout",
          "text": [
            "4 3\n",
            "2 3\n",
            "3 4\n",
            "4 1\n",
            "1\n"
          ]
        }
      ]
    },
    {
      "cell_type": "code",
      "source": [
        "#10026 적록색약\n",
        "\n",
        "def BFS(x,y):\n",
        "  dx=[0,0,-1,1]\n",
        "  dy=[1,-1,0,0]\n",
        "  queue = [(x,y)]\n",
        "  visited[x][y]=True\n",
        "  while queue:\n",
        "    x,y=queue.pop(0)\n",
        "    for i in range(4):\n",
        "      nx=x+dx[i]\n",
        "      ny=y+dy[i]\n",
        "\n",
        "      if nx<0 or nx>=N or ny<0 or ny>=N:continue\n",
        "      if not visited[nx][ny] and graph[nx][ny]==graph[x][y]:\n",
        "        queue.append((nx,ny))\n",
        "        visited[nx][ny]=True\n",
        "\n",
        "N=int(input())\n",
        "graph=[list(input()) for _ in range(N)]\n",
        "\n",
        "visited=[[False]*(N+1) for _ in range(N)]\n",
        "cnt1=0\n",
        "for i in range(N):\n",
        "  for j in range(N):\n",
        "    if not visited[i][j]:\n",
        "      BFS(i,j)\n",
        "      cnt1+=1\n",
        "\n",
        "for i in range(N):\n",
        "  for j in range(N):\n",
        "    if graph[i][j]==\"R\":graph[i][j]=\"G\"\n",
        "\n",
        "visited=[[False]*(N+1) for _ in range(N)]\n",
        "cnt2=0\n",
        "for i in range(N):\n",
        "  for j in range(N):\n",
        "    if not visited[i][j]:\n",
        "      BFS(i,j)\n",
        "      cnt2+=1\n",
        "\n",
        "print(cnt1,cnt2)"
      ],
      "metadata": {
        "id": "kG4KUf7Ik3Q0",
        "colab": {
          "base_uri": "https://localhost:8080/"
        },
        "outputId": "aa603d22-b14b-4dcf-e4ef-4fc7fd7ae04d"
      },
      "execution_count": null,
      "outputs": [
        {
          "output_type": "stream",
          "name": "stdout",
          "text": [
            "5\n",
            "RRRBB\n",
            "GGBBB\n",
            "BBBRR\n",
            "BBRRR\n",
            "RRRRR\n",
            "4 3\n"
          ]
        }
      ]
    },
    {
      "cell_type": "code",
      "source": [
        "#4963 섬의 개수\n",
        "\n",
        "dx=[1,-1,0,0,1,1,-1,-1]\n",
        "dy=[0,0,1,-1,1,-1,1,-1]\n",
        "\n",
        "def BFS(x,y):\n",
        "  queue=[(x,y)]\n",
        "  land[x][y]=0\n",
        "  while queue:\n",
        "    x,y=queue.pop(0)\n",
        "    for i in range(8):\n",
        "      nx=x+dx[i]\n",
        "      ny=y+dy[i]\n",
        "      if nx<0 or ny<0 or nx>=h or ny>=w:continue\n",
        "      if land[nx][ny]==1:\n",
        "        queue.append((nx,ny))\n",
        "        land[nx][ny]=0\n",
        "\n",
        "while True:\n",
        "  w,h=map(int,input().split())\n",
        "  if w==0 and h==0:break\n",
        "  land=[list(map(int,input().split())) for _ in range(h)]\n",
        "  cnt=0\n",
        "  for i in range(h):\n",
        "    for j in range(w):\n",
        "      if land[i][j]==1:\n",
        "        BFS(i,j)\n",
        "        cnt+=1\n",
        "  print(cnt)"
      ],
      "metadata": {
        "colab": {
          "base_uri": "https://localhost:8080/"
        },
        "id": "eF9JymBSSBJv",
        "outputId": "ef26afa8-235f-43f2-a006-15aba5d39fbc"
      },
      "execution_count": null,
      "outputs": [
        {
          "name": "stdout",
          "output_type": "stream",
          "text": [
            "3 2\n",
            "1 1 1\n",
            "1 1 1\n",
            "1\n",
            "5 4\n",
            "1 0 1 0 0\n",
            "1 0 0 0 0\n",
            "1 0 1 0 1\n",
            "1 0 0 1 0\n",
            "3\n",
            "5 4\n",
            "1 1 1 0 1\n",
            "1 0 1 0 1\n",
            "1 0 1 0 1\n",
            "1 0 1 1 1\n",
            "1\n",
            "5 5\n",
            "1 0 1 0 1\n",
            "0 0 0 0 0\n",
            "1 0 1 0 1\n",
            "0 0 0 0 0\n",
            "1 0 1 0 1\n",
            "9\n",
            "0 0\n"
          ]
        }
      ]
    },
    {
      "cell_type": "code",
      "source": [
        "#1520 내리막길\n",
        "\n",
        "dx=[1,-1,0,0]\n",
        "dy=[0,0,1,-1]\n",
        "\n",
        "def DFS(x,y):\n",
        "  if x==M-1 and y==N-1:\n",
        "    return 1\n",
        "  if cnt[x][y]==-1:\n",
        "    cnt[x][y]=0\n",
        "\n",
        "    for i in range(4):\n",
        "      nx=x+dx[i]\n",
        "      ny=y+dy[i]\n",
        "\n",
        "      if nx<0 or ny<0 or nx>=M or ny>=N:continue\n",
        "      if highs[nx][ny]<highs[x][y]:\n",
        "        cnt[x][y]+=DFS(nx,ny)\n",
        "\n",
        "  return cnt[x][y]\n",
        "\n",
        "M,N=map(int,input().split())\n",
        "highs=[list(map(int,input().split())) for _ in range(M)]\n",
        "cnt=[[-1]*N for _ in range(M)]\n",
        "print(DFS(0,0))"
      ],
      "metadata": {
        "colab": {
          "base_uri": "https://localhost:8080/"
        },
        "id": "QoO0Pjf4l5mh",
        "outputId": "df256ba3-ff95-4567-c7a4-f2d475040bab"
      },
      "execution_count": null,
      "outputs": [
        {
          "output_type": "stream",
          "name": "stdout",
          "text": [
            "4 5\n",
            "50 45 37 32 30\n",
            "35 50 40 20 25\n",
            "30 30 25 17 28\n",
            "27 24 22 15 10\n",
            "3\n"
          ]
        }
      ]
    },
    {
      "cell_type": "code",
      "source": [
        "#2468 안전 영역\n",
        "\n",
        "dx=[1,-1,0,0]\n",
        "dy=[0,0,1,-1]\n",
        "\n",
        "def BFS(x,y,h):\n",
        "  queue=[(x,y)]\n",
        "  visited[x][y]=True\n",
        "\n",
        "  while queue:\n",
        "    x,y=queue.pop(0)\n",
        "    for i in range(4):\n",
        "      nx=x+dx[i]\n",
        "      ny=y+dy[i]\n",
        "      if nx<0 or ny<0 or nx>=N or ny>=N: continue\n",
        "      if land[nx][ny]>k and not visited[nx][ny]:\n",
        "        visited[nx][ny]=True\n",
        "        queue.append((nx,ny))\n",
        "\n",
        "\n",
        "N=int(input())\n",
        "land=[list(map(int,input().split())) for _ in range(N)]\n",
        "result=0\n",
        "visited=[[False]*(N+1) for _ in range(N+1)]\n",
        "for k in range(101):\n",
        "  visited=[[False]*(N+1) for _ in range(N+1)]\n",
        "  cnt=0\n",
        "  for i in range(N):\n",
        "    for j in range(N):\n",
        "      if land[i][j]>k and not visited[i][j]:\n",
        "        BFS(i,j,k)\n",
        "        cnt+=1\n",
        "  if cnt==0:break\n",
        "  if cnt>result:result=cnt\n",
        "print(result)"
      ],
      "metadata": {
        "colab": {
          "base_uri": "https://localhost:8080/"
        },
        "id": "FSclTKt2V6ws",
        "outputId": "297c2702-d4f5-497c-9213-ba8bb94e204f"
      },
      "execution_count": 8,
      "outputs": [
        {
          "output_type": "stream",
          "name": "stdout",
          "text": [
            "2\n",
            "1 1\n",
            "1 1\n",
            "1\n"
          ]
        }
      ]
    },
    {
      "cell_type": "code",
      "source": [
        "#11725 트리의 부모 찾기\n",
        "\n",
        "def DFS(num):\n",
        "  for i in node[num]:\n",
        "    if i in result:continue\n",
        "    result[i]=num\n",
        "    DFS(i)\n",
        "\n",
        "N=int(input())\n",
        "node=[[]*(N+1) for _ in range(N+1)]\n",
        "result={}\n",
        "for _ in range(N-1):\n",
        "  a,b=map(int,input().split())\n",
        "  node[a].append(b)\n",
        "  node[b].append(a)\n",
        "DFS(1)\n",
        "for i in range(2,N+1):\n",
        "  print(result[i])"
      ],
      "metadata": {
        "colab": {
          "base_uri": "https://localhost:8080/"
        },
        "id": "-OC-DbB1mSnh",
        "outputId": "98232977-40d8-49ba-89fe-0d5fcbd4aaad"
      },
      "execution_count": 16,
      "outputs": [
        {
          "output_type": "stream",
          "name": "stdout",
          "text": [
            "7\n",
            "1 6\n",
            "6 3\n",
            "3 5\n",
            "4 1\n",
            "2 4\n",
            "4 7\n",
            "4\n",
            "6\n",
            "1\n",
            "3\n",
            "1\n",
            "4\n"
          ]
        }
      ]
    },
    {
      "cell_type": "code",
      "source": [
        "#1987 알파벳\n",
        "\n",
        "R,C=map(int,input().split())\n",
        "\n"
      ],
      "metadata": {
        "id": "epV-dLdsrGqI"
      },
      "execution_count": null,
      "outputs": []
    }
  ]
}