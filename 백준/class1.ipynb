{
  "nbformat": 4,
  "nbformat_minor": 0,
  "metadata": {
    "colab": {
      "provenance": [],
      "authorship_tag": "ABX9TyNhTBrBFZq7Q31r9IJbDLO0",
      "include_colab_link": true
    },
    "kernelspec": {
      "name": "python3",
      "display_name": "Python 3"
    },
    "language_info": {
      "name": "python"
    }
  },
  "cells": [
    {
      "cell_type": "markdown",
      "metadata": {
        "id": "view-in-github",
        "colab_type": "text"
      },
      "source": [
        "<a href=\"https://colab.research.google.com/github/1360837/Python_Study/blob/main/%EB%B0%B1%EC%A4%80/class1.ipynb\" target=\"_parent\"><img src=\"https://colab.research.google.com/assets/colab-badge.svg\" alt=\"Open In Colab\"/></a>"
      ]
    },
    {
      "cell_type": "code",
      "execution_count": null,
      "metadata": {
        "colab": {
          "base_uri": "https://localhost:8080/"
        },
        "id": "_aojr04SUS34",
        "outputId": "710c0ce3-5b84-4c56-a831-9eb801e7b636"
      },
      "outputs": [
        {
          "output_type": "stream",
          "name": "stdout",
          "text": [
            "1 2\n",
            "3\n"
          ]
        }
      ],
      "source": [
        "#1000 A+B\n",
        "\n",
        "A,B=map(int,input().split())\n",
        "\n",
        "print(A+B)"
      ]
    },
    {
      "cell_type": "code",
      "source": [
        "#1001 A-B\n",
        "\n",
        "A,B=map(int,input().split())\n",
        "\n",
        "print(A-B)"
      ],
      "metadata": {
        "colab": {
          "base_uri": "https://localhost:8080/"
        },
        "id": "93MYRP2QUyBW",
        "outputId": "321f5b83-ea72-4280-fc6b-a343cde27e00"
      },
      "execution_count": null,
      "outputs": [
        {
          "output_type": "stream",
          "name": "stdout",
          "text": [
            "3 2\n",
            "1\n"
          ]
        }
      ]
    },
    {
      "cell_type": "code",
      "source": [
        "#1002 A/B\n",
        "\n",
        "A,B=map(int,input().split())\n",
        "\n",
        "print(A/B)"
      ],
      "metadata": {
        "colab": {
          "base_uri": "https://localhost:8080/"
        },
        "id": "RHfPvG1NU9L9",
        "outputId": "d4148853-6474-492d-e10c-5dd3d9d21983"
      },
      "execution_count": null,
      "outputs": [
        {
          "output_type": "stream",
          "name": "stdout",
          "text": [
            "4 5\n",
            "0.8\n"
          ]
        }
      ]
    },
    {
      "cell_type": "code",
      "source": [
        "#1152 단어의 개수\n",
        "\n",
        "S=input()\n",
        "\n",
        "S=list(S.split())\n",
        "print(len(S))"
      ],
      "metadata": {
        "colab": {
          "base_uri": "https://localhost:8080/"
        },
        "id": "sIlv58FhVKi1",
        "outputId": "3036cf18-1b55-4907-ba20-215174f0b20b"
      },
      "execution_count": null,
      "outputs": [
        {
          "output_type": "stream",
          "name": "stdout",
          "text": [
            "The last character is a blank \n",
            "6\n"
          ]
        }
      ]
    },
    {
      "cell_type": "code",
      "source": [
        "#1157 단어 공부\n",
        "\n",
        "W=input().upper()\n",
        "S_W=list(set(W))\n",
        "W_cnt=[]\n",
        "\n",
        "for i in S_W:\n",
        "  W_cnt.append(W.count(i))\n",
        "if W_cnt.count(max(W_cnt))>1:\n",
        "  print(\"?\")\n",
        "else:\n",
        "  print(S_W[W_cnt.index(max(W_cnt))])"
      ],
      "metadata": {
        "colab": {
          "base_uri": "https://localhost:8080/"
        },
        "id": "dZkFy3b6Vh9f",
        "outputId": "3769c3fb-59ad-491d-c5b1-f738a89c72ac"
      },
      "execution_count": null,
      "outputs": [
        {
          "output_type": "stream",
          "name": "stdout",
          "text": [
            "Mississipi\n",
            "?\n"
          ]
        }
      ]
    },
    {
      "cell_type": "code",
      "source": [
        "#1330 두 수 비교하기\n",
        "\n",
        "A,B=map(int,input().split())\n",
        "\n",
        "if A>B:\n",
        "  print(\">\")\n",
        "elif A<B:\n",
        "  print(\"<\")\n",
        "else:\n",
        "  print(\"==\")"
      ],
      "metadata": {
        "colab": {
          "base_uri": "https://localhost:8080/"
        },
        "id": "DV994O7IcwTC",
        "outputId": "7ddc5d0a-d0b1-4fdb-9ee9-0e6e560959ba"
      },
      "execution_count": null,
      "outputs": [
        {
          "output_type": "stream",
          "name": "stdout",
          "text": [
            "5 5\n",
            "==\n"
          ]
        }
      ]
    },
    {
      "cell_type": "code",
      "source": [
        "#2438 별 찍기-1\n",
        "\n",
        "N=int(input())\n",
        "\n",
        "for i in range(1,N+1):\n",
        "  print(\"*\"*i)"
      ],
      "metadata": {
        "colab": {
          "base_uri": "https://localhost:8080/"
        },
        "id": "CWqGwZq7dB20",
        "outputId": "3a150b3d-b682-4eed-bfe9-2c29bd75c2e7"
      },
      "execution_count": null,
      "outputs": [
        {
          "output_type": "stream",
          "name": "stdout",
          "text": [
            "5\n",
            "*\n",
            "**\n",
            "***\n",
            "****\n",
            "*****\n"
          ]
        }
      ]
    },
    {
      "cell_type": "code",
      "source": [
        "#2439 별 찍기-2\n",
        "\n",
        "N=int(input())\n",
        "\n",
        "for i in range(1,N+1):\n",
        "  print(\" \"*(N-i)+\"*\"*i)"
      ],
      "metadata": {
        "colab": {
          "base_uri": "https://localhost:8080/"
        },
        "id": "QISQmrXqdUlB",
        "outputId": "bcc64d1f-6d27-4dd2-9f29-87c6d62e95d2"
      },
      "execution_count": null,
      "outputs": [
        {
          "output_type": "stream",
          "name": "stdout",
          "text": [
            "5\n",
            "    *\n",
            "   **\n",
            "  ***\n",
            " ****\n",
            "*****\n"
          ]
        }
      ]
    },
    {
      "cell_type": "code",
      "source": [
        "#2475 검증수\n",
        "\n",
        "Num=map(int,input().split())\n",
        "Sum=0\n",
        "for i in Num:\n",
        "  Sum+=i**2\n",
        "\n",
        "print(Sum%10)"
      ],
      "metadata": {
        "colab": {
          "base_uri": "https://localhost:8080/"
        },
        "id": "Ki-QRNw0dzc0",
        "outputId": "8f7536c4-8946-4736-b131-f9556a897c6a"
      },
      "execution_count": null,
      "outputs": [
        {
          "output_type": "stream",
          "name": "stdout",
          "text": [
            "0 4 2 5 6\n",
            "1\n"
          ]
        }
      ]
    },
    {
      "cell_type": "code",
      "source": [
        "#2557 Hello World\n",
        "\n",
        "print(\"Hello World!\")"
      ],
      "metadata": {
        "colab": {
          "base_uri": "https://localhost:8080/"
        },
        "id": "5-DxNKMgha0S",
        "outputId": "6c8f7b10-b3a2-4041-9d02-4c1168c7c141"
      },
      "execution_count": null,
      "outputs": [
        {
          "output_type": "stream",
          "name": "stdout",
          "text": [
            "Hello World!\n"
          ]
        }
      ]
    },
    {
      "cell_type": "code",
      "source": [
        "#2562 최댓값\n",
        "\n",
        "N=list(int(input()) for _ in range(9))\n",
        "print(max(N))\n",
        "print(N.index(max(N))+1)"
      ],
      "metadata": {
        "colab": {
          "base_uri": "https://localhost:8080/"
        },
        "id": "hxhPhtF9hlri",
        "outputId": "d80afad4-262c-448e-89ec-a94544b2de9a"
      },
      "execution_count": null,
      "outputs": [
        {
          "output_type": "stream",
          "name": "stdout",
          "text": [
            "3\n",
            "29\n",
            "38\n",
            "12\n",
            "57\n",
            "74\n",
            "40\n",
            "85\n",
            "61\n",
            "85\n",
            "8\n"
          ]
        }
      ]
    },
    {
      "cell_type": "code",
      "source": [
        "#2577 숫자의 개수\n",
        "\n",
        "A=int(input())\n",
        "B=int(input())\n",
        "C=int(input())\n",
        "\n",
        "result=list(str(A*B*C))\n",
        "\n",
        "for i in range(10):\n",
        "  print(result.count(str(i)))"
      ],
      "metadata": {
        "colab": {
          "base_uri": "https://localhost:8080/"
        },
        "id": "N9VGNq8PiGvr",
        "outputId": "a8fb73d6-4219-4c15-fad3-b0fcaa63fdb2"
      },
      "execution_count": null,
      "outputs": [
        {
          "output_type": "stream",
          "name": "stdout",
          "text": [
            "150\n",
            "266\n",
            "427\n",
            "3\n",
            "1\n",
            "0\n",
            "2\n",
            "0\n",
            "0\n",
            "0\n",
            "2\n",
            "0\n",
            "0\n"
          ]
        }
      ]
    },
    {
      "cell_type": "code",
      "source": [
        "#2675 문자열 반복\n",
        "\n",
        "T=int(input())\n",
        "\n",
        "for _ in range(T):\n",
        "  R,S=input().split()\n",
        "  R=int(R)\n",
        "  for i in range(len(S)):\n",
        "    print(S[i]*R,end=\"\")\n",
        "  print()"
      ],
      "metadata": {
        "colab": {
          "base_uri": "https://localhost:8080/"
        },
        "id": "JJ3I989Vi9gA",
        "outputId": "8898b78b-b002-4655-cc52-918e8b171153"
      },
      "execution_count": null,
      "outputs": [
        {
          "output_type": "stream",
          "name": "stdout",
          "text": [
            "2\n",
            "3 ABC\n",
            "AAABBBCCC\n",
            "5 /HTP\n",
            "/////HHHHHTTTTTPPPPP\n"
          ]
        }
      ]
    },
    {
      "cell_type": "code",
      "source": [
        "#2739 구구단\n",
        "\n",
        "N=int(input())\n",
        "\n",
        "for i in range(1,10):\n",
        "  print(\"%d * %d = %d\"%(N,i,N*i))"
      ],
      "metadata": {
        "colab": {
          "base_uri": "https://localhost:8080/"
        },
        "id": "rmHxfV8QkIUk",
        "outputId": "cfb62ab2-99b1-4f24-9011-e9590732e27c"
      },
      "execution_count": null,
      "outputs": [
        {
          "output_type": "stream",
          "name": "stdout",
          "text": [
            "2\n",
            "2 * 1 = 2\n",
            "2 * 2 = 4\n",
            "2 * 3 = 6\n",
            "2 * 4 = 8\n",
            "2 * 5 = 10\n",
            "2 * 6 = 12\n",
            "2 * 7 = 14\n",
            "2 * 8 = 16\n",
            "2 * 9 = 18\n"
          ]
        }
      ]
    },
    {
      "cell_type": "code",
      "source": [
        "#2741 N 찍기\n",
        "\n",
        "N=int(input())\n",
        "\n",
        "for i in range(1,N+1):\n",
        "  print(i)"
      ],
      "metadata": {
        "colab": {
          "base_uri": "https://localhost:8080/"
        },
        "id": "JgiReIa7lElq",
        "outputId": "06cf251c-467d-42b2-9dc2-46c7b6fefbda"
      },
      "execution_count": null,
      "outputs": [
        {
          "output_type": "stream",
          "name": "stdout",
          "text": [
            "5\n",
            "1\n",
            "2\n",
            "3\n",
            "4\n",
            "5\n"
          ]
        }
      ]
    },
    {
      "cell_type": "code",
      "source": [
        "#2753 윤년\n",
        "\n",
        "Y=int(input())\n",
        "\n",
        "if (Y%4==0 and Y%100!=0) or (Y%400==0):\n",
        "  print(1)\n",
        "else:\n",
        "  print(0)"
      ],
      "metadata": {
        "colab": {
          "base_uri": "https://localhost:8080/"
        },
        "id": "qHvjLyyZlUcQ",
        "outputId": "b36ac6f8-e7fd-4e5b-c51d-a6caf1bdb7e4"
      },
      "execution_count": null,
      "outputs": [
        {
          "output_type": "stream",
          "name": "stdout",
          "text": [
            "1999\n",
            "0\n"
          ]
        }
      ]
    },
    {
      "cell_type": "code",
      "source": [
        "#2884 알람 시계\n",
        "\n",
        "H,M=map(int,input().split())\n",
        "\n",
        "if M>=45:\n",
        "  print(H,M-45)\n",
        "else:\n",
        "  print(H-1 if H!=0 else 23,M+15)"
      ],
      "metadata": {
        "colab": {
          "base_uri": "https://localhost:8080/"
        },
        "id": "dzEOlfVal2sJ",
        "outputId": "31bee111-7e9b-44c5-dae0-ca852119b294"
      },
      "execution_count": null,
      "outputs": [
        {
          "output_type": "stream",
          "name": "stdout",
          "text": [
            "10 10\n",
            "9 25\n"
          ]
        }
      ]
    },
    {
      "cell_type": "code",
      "source": [
        "#2920 음계\n",
        "\n",
        "note=list(map(int,input().split()))\n",
        "note1=sorted(note)\n",
        "\n",
        "if note==note1:\n",
        "  print(\"ascending\")\n",
        "elif note==note1[::-1]:\n",
        "  print(\"descending\")\n",
        "else:\n",
        "  print(\"mixed\")"
      ],
      "metadata": {
        "colab": {
          "base_uri": "https://localhost:8080/"
        },
        "id": "y3CeuK8qnDnW",
        "outputId": "9f90984a-524f-49d1-db3a-fab313ae6cff"
      },
      "execution_count": null,
      "outputs": [
        {
          "output_type": "stream",
          "name": "stdout",
          "text": [
            "8 1 7 2 6 3 5 4\n",
            "mixed\n"
          ]
        }
      ]
    },
    {
      "cell_type": "code",
      "source": [
        "#3052 나머지\n",
        "\n",
        "N=list(int(input()) for _ in range(10))\n",
        "last=[]\n",
        "cnt=0\n",
        "\n",
        "for i in N:\n",
        "  N_last=i%42\n",
        "  if N_last not in last:\n",
        "    cnt+=1\n",
        "    last.append(N_last)\n",
        "print(cnt)"
      ],
      "metadata": {
        "colab": {
          "base_uri": "https://localhost:8080/"
        },
        "id": "Z6JlsVThpLk2",
        "outputId": "28867b07-b58c-4ce5-9104-5bbd22ef157a"
      },
      "execution_count": null,
      "outputs": [
        {
          "output_type": "stream",
          "name": "stdout",
          "text": [
            "42\n",
            "84\n",
            "252\n",
            "420\n",
            "840\n",
            "126\n",
            "42\n",
            "84\n",
            "420\n",
            "126\n",
            "1\n"
          ]
        }
      ]
    },
    {
      "cell_type": "code",
      "source": [
        "#8958 OX퀴즈\n",
        "\n",
        "T=int(input())\n",
        "\n",
        "for _ in range(T):\n",
        "  Answer=list(str(input()))\n",
        "  cnt=sum=0\n",
        "  for i in Answer:\n",
        "    if i==\"O\":\n",
        "      cnt+=1\n",
        "    else:\n",
        "      cnt=0\n",
        "    sum+=cnt\n",
        "  print(sum)"
      ],
      "metadata": {
        "colab": {
          "base_uri": "https://localhost:8080/"
        },
        "id": "8eq651hystgA",
        "outputId": "6db1d496-b986-4379-c8bd-c832f5a7755d"
      },
      "execution_count": null,
      "outputs": [
        {
          "output_type": "stream",
          "name": "stdout",
          "text": [
            "5\n",
            "OOXXOXXOOO\n",
            "10\n",
            "OOXXOOXXOO\n",
            "9\n",
            "OXOXOXOXOXOXOX\n",
            "7\n",
            "OOOOOOOOOO\n",
            "55\n",
            "OOOOXOOOOXOOOOX\n",
            "30\n"
          ]
        }
      ]
    },
    {
      "cell_type": "code",
      "source": [
        "#9498 시험 성적\n",
        "\n",
        "Score=int(input())\n",
        "\n",
        "if Score >= 90:\n",
        "  print(\"A\")\n",
        "elif Score >= 80:\n",
        "  print(\"B\")\n",
        "elif Score >= 70:\n",
        "  print(\"C\")\n",
        "elif Score >= 60:\n",
        "  print(\"D\")\n",
        "else:\n",
        "  print(\"F\")"
      ],
      "metadata": {
        "colab": {
          "base_uri": "https://localhost:8080/"
        },
        "id": "wUuShugVwBwq",
        "outputId": "640421b7-21d4-4cdd-a99b-a90cb02179ee"
      },
      "execution_count": null,
      "outputs": [
        {
          "output_type": "stream",
          "name": "stdout",
          "text": [
            "69\n",
            "D\n"
          ]
        }
      ]
    },
    {
      "cell_type": "code",
      "source": [
        "#10171 고양이\n",
        "\n",
        "print(\"\\\\    /\\\\\")\n",
        "print(\" )  ( \\')\")\n",
        "print(\"(  /  )\")\n",
        "print(\" \\\\(__)|\")"
      ],
      "metadata": {
        "colab": {
          "base_uri": "https://localhost:8080/"
        },
        "id": "em5-S_MTwjQH",
        "outputId": "bb82cd82-48f4-4ec7-a4d9-923ced39a244"
      },
      "execution_count": null,
      "outputs": [
        {
          "output_type": "stream",
          "name": "stdout",
          "text": [
            "\\    /\\\n",
            " )  ( ')\n",
            "(  /  )\n",
            " \\(__)|\n"
          ]
        }
      ]
    },
    {
      "cell_type": "code",
      "source": [
        "#10172 개\n",
        "\n",
        "print(\"|\\\\_/|\")\n",
        "print(\"|q p|   /}\")\n",
        "print(\"( 0 )\\\"\\\"\\\"\\\\\")\n",
        "print(\"|\\\"^\\\"`    |\")\n",
        "print(\"||_/=\\\\\\\\__|\")"
      ],
      "metadata": {
        "colab": {
          "base_uri": "https://localhost:8080/"
        },
        "id": "PPaQqIb1w9xF",
        "outputId": "5388dea0-a150-4939-bd57-77b9dec25aae"
      },
      "execution_count": null,
      "outputs": [
        {
          "output_type": "stream",
          "name": "stdout",
          "text": [
            "|\\_/|\n",
            "|q p|   /}\n",
            "( 0 )\"\"\"\\\n",
            "|\"^\"`    |\n",
            "||_/=\\\\__|\n"
          ]
        }
      ]
    },
    {
      "cell_type": "code",
      "source": [
        "#10250 ACM 호텔\n",
        "\n",
        "T=int(input())\n",
        "\n",
        "for _ in range(T):\n",
        "  H,W,N=map(int,input().split())\n",
        "  if N%H==0:\n",
        "    floor=H\n",
        "    room=N//H\n",
        "  else:\n",
        "    floor=N%H\n",
        "    room=N//H+1\n",
        "  print(floor*100+room)"
      ],
      "metadata": {
        "colab": {
          "base_uri": "https://localhost:8080/"
        },
        "id": "vfHKBZDSxWJU",
        "outputId": "946f685f-577e-460a-b371-4b5e35fb2607"
      },
      "execution_count": null,
      "outputs": [
        {
          "output_type": "stream",
          "name": "stdout",
          "text": [
            "2\n",
            "6 12 10\n",
            "402\n",
            "30 50 72\n",
            "1203\n"
          ]
        }
      ]
    },
    {
      "cell_type": "code",
      "source": [
        "#10809 알파벳 찾기\n",
        "\n",
        "S=list(input())\n",
        "\n",
        "for i in range(97,123):\n",
        "  if chr(i) not in S:\n",
        "    print(-1, end=\" \")\n",
        "  else:\n",
        "    print(S.index(chr(i)),end=\" \")"
      ],
      "metadata": {
        "colab": {
          "base_uri": "https://localhost:8080/"
        },
        "id": "lk91T4PC1F3f",
        "outputId": "8cff6c30-86d1-4c11-fb0c-4d86c20a0931"
      },
      "execution_count": null,
      "outputs": [
        {
          "output_type": "stream",
          "name": "stdout",
          "text": [
            "baekjoon\n",
            "1 0 -1 -1 2 -1 -1 -1 -1 4 3 -1 -1 7 5 -1 -1 -1 -1 -1 -1 -1 -1 -1 -1 -1 "
          ]
        }
      ]
    },
    {
      "cell_type": "code",
      "source": [
        "#10818 최소, 최대\n",
        "\n",
        "N=int(input())\n",
        "S=list(map(int,input().split()))\n",
        "\n",
        "print(min(S[:]),max(S[:]))"
      ],
      "metadata": {
        "colab": {
          "base_uri": "https://localhost:8080/"
        },
        "id": "L87JIq7x2mA9",
        "outputId": "6547d42a-bba1-4439-977e-62645c75a9de"
      },
      "execution_count": null,
      "outputs": [
        {
          "output_type": "stream",
          "name": "stdout",
          "text": [
            "5\n",
            "20 10 35 30 7\n",
            "7 35\n"
          ]
        }
      ]
    },
    {
      "cell_type": "code",
      "source": [
        "#10869 사칙연산\n",
        "\n",
        "A,B=map(int,input().split())\n",
        "\n",
        "print(A+B)\n",
        "print(A-B)\n",
        "print(A*B)\n",
        "print(int(A/B))\n",
        "print(A%B)"
      ],
      "metadata": {
        "colab": {
          "base_uri": "https://localhost:8080/"
        },
        "id": "5JsMxVpA3n6r",
        "outputId": "c03d240e-9c52-44f3-a00f-bac92098150d"
      },
      "execution_count": null,
      "outputs": [
        {
          "output_type": "stream",
          "name": "stdout",
          "text": [
            "7 3\n",
            "10\n",
            "4\n",
            "21\n",
            "2\n",
            "1\n"
          ]
        }
      ]
    },
    {
      "cell_type": "code",
      "source": [
        "#10871 X보다 작은 수\n",
        "\n",
        "N,X=map(int,input().split())\n",
        "A=list(map(int,input().split()))\n",
        "\n",
        "for i in A:\n",
        "  if i<X:\n",
        "    print(i,end=\" \")"
      ],
      "metadata": {
        "colab": {
          "base_uri": "https://localhost:8080/"
        },
        "id": "gp-JMPvn381C",
        "outputId": "63a5b191-b5a9-4b68-d99c-f1ae3c3c813c"
      },
      "execution_count": null,
      "outputs": [
        {
          "output_type": "stream",
          "name": "stdout",
          "text": [
            "10 5\n",
            "1 10 4 9 2 3 8 5 7 6\n",
            "1 4 2 3 "
          ]
        }
      ]
    },
    {
      "cell_type": "code",
      "source": [
        "#10950 A+B-3\n",
        "\n",
        "T=int(input())\n",
        "\n",
        "for _ in range(T):\n",
        "  A,B=map(int,input().split())\n",
        "  print(A+B)"
      ],
      "metadata": {
        "colab": {
          "base_uri": "https://localhost:8080/"
        },
        "id": "0rFQPHXx4uQ_",
        "outputId": "6d73ef5e-42cf-4d96-ee72-15e25c23a7fe"
      },
      "execution_count": null,
      "outputs": [
        {
          "output_type": "stream",
          "name": "stdout",
          "text": [
            "5\n",
            "1 1\n",
            "2\n",
            "2 3\n",
            "5\n",
            "3 4\n",
            "7\n",
            "9 8\n",
            "17\n",
            "5 2\n",
            "7\n"
          ]
        }
      ]
    },
    {
      "cell_type": "code",
      "source": [
        "#10951 A+B-4\n",
        "#try,except\n",
        "\n",
        "while True:\n",
        "  try:\n",
        "    A,B=map(int,input().split())\n",
        "    print(A+B)\n",
        "  except:\n",
        "    break"
      ],
      "metadata": {
        "colab": {
          "base_uri": "https://localhost:8080/"
        },
        "id": "AKHKuyL1_bDu",
        "outputId": "cf52eac1-fe26-4a27-803d-081f4474711c"
      },
      "execution_count": null,
      "outputs": [
        {
          "name": "stdout",
          "output_type": "stream",
          "text": [
            "1 1\n",
            "2\n",
            "2 3\n",
            "5\n",
            "3 4\n",
            "7\n",
            "9 8\n",
            "17\n",
            "5 2\n",
            "7\n",
            "\n"
          ]
        }
      ]
    },
    {
      "cell_type": "code",
      "source": [
        "#10952 A+B-5\n",
        "\n",
        "while True:\n",
        "  A,B=map(int,input().split())\n",
        "  if A==B==0:\n",
        "    break\n",
        "  print(A+B)"
      ],
      "metadata": {
        "colab": {
          "base_uri": "https://localhost:8080/"
        },
        "id": "skVTb00XAT7q",
        "outputId": "59a0a715-7c30-493c-f3f3-ffe0448e44ab"
      },
      "execution_count": null,
      "outputs": [
        {
          "name": "stdout",
          "output_type": "stream",
          "text": [
            "1 1\n",
            "2\n",
            "2 3\n",
            "5\n",
            "3 4\n",
            "7\n",
            "9 8\n",
            "17\n",
            "5 2\n",
            "7\n",
            "0 0\n"
          ]
        }
      ]
    },
    {
      "cell_type": "code",
      "source": [
        "#10998 AxB\n",
        "\n",
        "A,B = map(int, input().split())\n",
        "\n",
        "print(A*B)"
      ],
      "metadata": {
        "id": "bzb6oeoEA8kR",
        "colab": {
          "base_uri": "https://localhost:8080/"
        },
        "outputId": "4f8ad6cc-f999-4ec0-8261-2e9a3cb7e4fb"
      },
      "execution_count": 1,
      "outputs": [
        {
          "output_type": "stream",
          "name": "stdout",
          "text": [
            "1 2\n",
            "2\n"
          ]
        }
      ]
    },
    {
      "cell_type": "code",
      "source": [
        "#11654 아스키 코드\n",
        "\n",
        "L=input()\n",
        "\n",
        "print(ord(L))"
      ],
      "metadata": {
        "colab": {
          "base_uri": "https://localhost:8080/"
        },
        "id": "Zvgc9IHaRYPP",
        "outputId": "4004eb3e-8500-4511-c472-5826851b3a7b"
      },
      "execution_count": 2,
      "outputs": [
        {
          "output_type": "stream",
          "name": "stdout",
          "text": [
            "0\n",
            "48\n"
          ]
        }
      ]
    },
    {
      "cell_type": "code",
      "source": [
        "#11720 숫자의 합\n",
        "\n",
        "N=int(input())\n",
        "Nums=list(str(input()))\n",
        "\n",
        "sum=0\n",
        "for i in Nums:\n",
        "  sum+=int(i)\n",
        "print(sum)"
      ],
      "metadata": {
        "colab": {
          "base_uri": "https://localhost:8080/"
        },
        "id": "2M3vBJKrRst_",
        "outputId": "33e19147-596e-411f-e5e5-cfbc6ed18f7b"
      },
      "execution_count": 4,
      "outputs": [
        {
          "output_type": "stream",
          "name": "stdout",
          "text": [
            "5\n",
            "54321\n",
            "15\n"
          ]
        }
      ]
    },
    {
      "cell_type": "code",
      "source": [
        "#25083 새싹\n",
        "\n",
        "print(\"         ,r\\'\\\"7\")\n",
        "print(\"r`-_   ,'  ,/\")\n",
        "print(\" \\\\. \\\". L_r\\'\")\n",
        "print(\"   `~\\\\/\")\n",
        "print(\"      |\")\n",
        "print(\"      |\")"
      ],
      "metadata": {
        "colab": {
          "base_uri": "https://localhost:8080/"
        },
        "id": "_r4wLi3VSPXz",
        "outputId": "3937eec6-e060-4ab7-97a8-6b157e413b0e"
      },
      "execution_count": 5,
      "outputs": [
        {
          "output_type": "stream",
          "name": "stdout",
          "text": [
            "         ,r'\"7\n",
            "r`-_   ,'  ,/\n",
            " \\. \". L_r'\n",
            "   `~\\/\n",
            "      |\n",
            "      |\n"
          ]
        }
      ]
    },
    {
      "cell_type": "code",
      "source": [
        "#27866 문자와 문자열\n",
        "\n",
        "S=input()\n",
        "i=int(input())\n",
        "\n",
        "print(S[i-1])"
      ],
      "metadata": {
        "colab": {
          "base_uri": "https://localhost:8080/"
        },
        "id": "aMbJqzULSpbW",
        "outputId": "aa729edc-4baa-4e35-a15a-e35e7da605a6"
      },
      "execution_count": 6,
      "outputs": [
        {
          "output_type": "stream",
          "name": "stdout",
          "text": [
            "Sprout\n",
            "3\n",
            "r\n"
          ]
        }
      ]
    }
  ]
}