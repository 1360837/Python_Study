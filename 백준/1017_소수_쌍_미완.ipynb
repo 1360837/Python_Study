{
  "nbformat": 4,
  "nbformat_minor": 0,
  "metadata": {
    "colab": {
      "provenance": [],
      "authorship_tag": "ABX9TyOYMp3hrLh+GCL3PIxRpZ/Y",
      "include_colab_link": true
    },
    "kernelspec": {
      "name": "python3",
      "display_name": "Python 3"
    },
    "language_info": {
      "name": "python"
    }
  },
  "cells": [
    {
      "cell_type": "markdown",
      "metadata": {
        "id": "view-in-github",
        "colab_type": "text"
      },
      "source": [
        "<a href=\"https://colab.research.google.com/github/1360837/Python_Study/blob/main/%EB%B0%B1%EC%A4%80/1017_%EC%86%8C%EC%88%98_%EC%8C%8D_%EB%AF%B8%EC%99%84.ipynb\" target=\"_parent\"><img src=\"https://colab.research.google.com/assets/colab-badge.svg\" alt=\"Open In Colab\"/></a>"
      ]
    },
    {
      "cell_type": "code",
      "execution_count": 33,
      "metadata": {
        "colab": {
          "base_uri": "https://localhost:8080/"
        },
        "id": "Y1sC-eg7DkO5",
        "outputId": "ac6ece65-3509-4b9e-ba43-c20904d9c7a2"
      },
      "outputs": [
        {
          "output_type": "stream",
          "name": "stdout",
          "text": [
            "8\n",
            "34 39 32 4 9 35 14 17\n",
            "-1\n"
          ]
        }
      ],
      "source": [
        "def is_prime(num):\n",
        "  if num==1:return False\n",
        "  for j in range(2,int(num**0.5)+1):\n",
        "    if num%j==0: return False\n",
        "  return True\n",
        "\n",
        "def is_primes(li):\n",
        "  if len(li)==2 and is_prime(sum(li)):return True\n",
        "  for i in range(1,len(li)):\n",
        "    li1=li[1:]\n",
        "    li1.remove(li[i])\n",
        "    if is_prime(li[0]+li[i]): return is_primes(li1)\n",
        "  return False\n",
        "\n",
        "N=int(input())\n",
        "L=list(map(int,input().split()))\n",
        "Result=[]\n",
        "for i in range(1,N):\n",
        "  L1=L[1:]\n",
        "  L1.remove(L[i])\n",
        "  if is_prime(L[0]+L[i]) and is_primes(L1):Result.append(L[i])\n",
        "\n",
        "if Result: print(*sorted(Result))\n",
        "else: print(-1)"
      ]
    },
    {
      "cell_type": "code",
      "source": [
        "primelist=[2]\n",
        "for i in range(3,2000):\n",
        "  for j in range(2,i):\n",
        "    if i%j==0:break\n",
        "  if j==i-1:primelist.append(i)\n",
        "\n",
        "def is_primes(li):\n",
        "  global primelist\n",
        "  if len(li)==2 and sum(li) in primelist:return True\n",
        "  for i in range(1,len(li)):\n",
        "    li1=li[1:]\n",
        "    li1.remove(li[i])\n",
        "    if (li[0]+li[i]) in primelist: return is_primes(li1)\n",
        "  return False\n",
        "\n",
        "N=int(input())\n",
        "L=list(map(int,input().split()))\n",
        "Result=[]\n",
        "for i in range(1,N):\n",
        "  L1=L[1:]\n",
        "  L1.remove(L[i])\n",
        "  if (L[0]+L[i]) in primelist and is_primes(L1):Result.append(L[i])\n",
        "\n",
        "if Result: print(*sorted(Result))\n",
        "else: print(-1)"
      ],
      "metadata": {
        "colab": {
          "base_uri": "https://localhost:8080/"
        },
        "id": "xXA4d3ll3DB8",
        "outputId": "eedc464d-b177-4349-f052-a919bddc9aa3"
      },
      "execution_count": 32,
      "outputs": [
        {
          "output_type": "stream",
          "name": "stdout",
          "text": [
            "20\n",
            "941 902 873 841 948 851 945 854 815 898 806 826 976 878 861 919 926 901 875 864\n",
            "806\n"
          ]
        }
      ]
    },
    {
      "cell_type": "code",
      "source": [
        "def is_prime(num):\n",
        "  if num==1:return False\n",
        "  for j in range(2,int(num**0.5)+1):\n",
        "    if num%j==0: return False\n",
        "  return True\n",
        "\n",
        "N=int(input())\n",
        "L=list(map(int,input().split()))\n",
        "\n",
        "L_odd=[]\n",
        "L_even=[]\n",
        "Result=[]\n",
        "\n",
        "for i in sorted(L):\n",
        "  if i%2==0:\n",
        "    L_even.append(i)\n",
        "  else:\n",
        "    L_odd.append(i)\n",
        "\n",
        "if L[0]%2==0:\n",
        "  for i in L_odd:\n",
        "    if is_prime(L[0]+i):\n",
        "      Result.append(i)\n",
        "\n",
        "  for i in Result:\n",
        "    Li=L_odd[:]\n",
        "    Li.remove(i)\n",
        "    for j in L_even[1:]:\n",
        "      for k in Li:\n",
        "        if is_prime(j+k):\n",
        "          Li.remove(k)\n",
        "    if Li:Result.remove(i)\n",
        "else:\n",
        "  for i in L_odd:\n",
        "    Li=L_even[:]\n",
        "    for j in Li:\n",
        "      if is_prime(i+j):\n",
        "        if i==L[0]:Result.append(j)\n",
        "        Li.remove(j)\n",
        "  if Li:Result.pop()\n",
        "\n",
        "if Result:print(Result)\n",
        "else:print(-1)"
      ],
      "metadata": {
        "colab": {
          "base_uri": "https://localhost:8080/"
        },
        "id": "td9hWtK7nl6K",
        "outputId": "9a5efb22-023a-4769-e2e9-b1ea04144a7a"
      },
      "execution_count": 18,
      "outputs": [
        {
          "output_type": "stream",
          "name": "stdout",
          "text": [
            "4\n",
            "8 9 1 14\n",
            "-1\n"
          ]
        }
      ]
    },
    {
      "cell_type": "code",
      "source": [
        "def is_prime(num):\n",
        "  if num==1:return False\n",
        "  for j in range(2,int(num**0.5)+1):\n",
        "    if num%j==0: return False\n",
        "  return True\n",
        "\n",
        "N=int(input())\n",
        "L=list(map(int,input().split()))\n",
        "Lo=[]\n",
        "Le=[]\n",
        "Re=[]\n",
        "\n",
        "for i in sorted(L):\n",
        "  if i%2==0: Le.append(i)\n",
        "  else: Lo.append(i)\n",
        "\n",
        "if L[0]%2==0:\n",
        "  for i in Lo:\n",
        "    temp=Lo[:]\n",
        "    if is_prime(L[0]+i):\n",
        "      temp.remove(i)\n",
        "      for j in Le[1:]:\n",
        "        for k in temp:\n",
        "          if is_prime(j+k):\n",
        "            temp.remove(k)\n",
        "            break\n",
        "      if temp==False: Re.append(i)\n",
        "if Re:print(*Re)\n",
        "else:print(-1)"
      ],
      "metadata": {
        "colab": {
          "base_uri": "https://localhost:8080/"
        },
        "id": "omdtB318wYh-",
        "outputId": "26bb75e4-86de-4540-b19d-1b79dc7e3980"
      },
      "execution_count": 22,
      "outputs": [
        {
          "output_type": "stream",
          "name": "stdout",
          "text": [
            "8\n",
            "34 39 32 4 9 35 14 17\n",
            "-1\n"
          ]
        }
      ]
    },
    {
      "cell_type": "code",
      "source": [
        "#예제입력5 오류\n",
        "\n",
        "primelist=[2]\n",
        "for i in range(3,2000):\n",
        "  for j in range(2,i):\n",
        "    if i%j==0:break\n",
        "  if j==i-1:primelist.append(i)\n",
        "\n",
        "def sprime(l1,l2):\n",
        "  global primelist\n",
        "  if len(l1)==0 and len(l2)==0: return True\n",
        "  for i in l2:\n",
        "    if l1[0]+i in primelist :\n",
        "      l2.remove(i)\n",
        "      return sprime(l1[1:],l2)\n",
        "  return False\n",
        "\n",
        "N=int(input())\n",
        "L=list(map(int,input().split()))\n",
        "Le=[]\n",
        "Lo=[]\n",
        "Re=[]\n",
        "\n",
        "for i in sorted(L):\n",
        "  if i%2==0: Le.append(i)\n",
        "  else: Lo.append(i)\n",
        "\n",
        "if L[0]%2==0:\n",
        "  Le.remove(L[0])\n",
        "  for i in Lo:\n",
        "    Li=Lo[:]\n",
        "    Li.remove(i)\n",
        "    if L[0]+i in primelist and sprime(Le,Li): Re.append(i)\n",
        "else:\n",
        "  Lo.remove(L[0])\n",
        "  for i in Le:\n",
        "    Li=Le[:]\n",
        "    Li.remove(i)\n",
        "    if L[0]+i in primelist and sprime(Lo,Li): Re.append(i)\n",
        "\n",
        "if Re:print(*Re)\n",
        "else:print(-1)"
      ],
      "metadata": {
        "colab": {
          "base_uri": "https://localhost:8080/"
        },
        "id": "yh22436m1Q8Z",
        "outputId": "eee547db-78b9-4e3e-a813-9a319d7001f4"
      },
      "execution_count": 50,
      "outputs": [
        {
          "output_type": "stream",
          "name": "stdout",
          "text": [
            "20\n",
            "34 39 32 4 9 35 14 17\n",
            "9 39\n"
          ]
        }
      ]
    },
    {
      "cell_type": "code",
      "source": [
        "primelist=[2]\n",
        "for i in range(3,2000):\n",
        "  for j in range(2,i):\n",
        "    if i%j==0:break\n",
        "  if j==i-1:primelist.append(i)\n",
        "\n",
        "def PP(num,l1):\n",
        "  global primelist\n",
        "  if len(l1)==1:\n",
        "    if num+l1[0] in primelist: return True\n",
        "    return False\n",
        "  for i in l1:\n",
        "    if num+i in primelist:\n",
        "      l1.remove(i)\n",
        "      return PP(l1[0],l1[1:])\n",
        "\n",
        "N=int(input())\n",
        "L=list(map(int,input().split()))\n",
        "Re=[]\n",
        "\n",
        "for i in L[1:]:\n",
        "  Li=L[1:]\n",
        "  Li.remove(i)\n",
        "  if L[0]+i in primelist and PP(Li[0],Li[1:]):Re.append(i)\n",
        "\n",
        "if Re:print(*sorted(Re))\n",
        "else:print(-1)"
      ],
      "metadata": {
        "colab": {
          "base_uri": "https://localhost:8080/"
        },
        "id": "sTarf45f-5K9",
        "outputId": "c8092bab-3ff3-45e5-f74e-8a7e6dcc3d71"
      },
      "execution_count": 64,
      "outputs": [
        {
          "output_type": "stream",
          "name": "stdout",
          "text": [
            "20\n",
            "941 902 873 841 948 851 945 854 815 898 806 826 976 878 861 919 926 901 875 864\n",
            "-1\n"
          ]
        }
      ]
    },
    {
      "cell_type": "markdown",
      "source": [
        "1298 노트북의 주인을 찾아서"
      ],
      "metadata": {
        "id": "MNySULpZKq9e"
      }
    },
    {
      "cell_type": "code",
      "source": [
        "N,M=map(int,input().split())"
      ],
      "metadata": {
        "id": "YXk8Q6-PKu0C"
      },
      "execution_count": null,
      "outputs": []
    }
  ]
}