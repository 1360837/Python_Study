{
  "nbformat": 4,
  "nbformat_minor": 0,
  "metadata": {
    "colab": {
      "provenance": [],
      "authorship_tag": "ABX9TyNoJE761ozbU1p/EADrU1mb",
      "include_colab_link": true
    },
    "kernelspec": {
      "name": "python3",
      "display_name": "Python 3"
    },
    "language_info": {
      "name": "python"
    }
  },
  "cells": [
    {
      "cell_type": "markdown",
      "metadata": {
        "id": "view-in-github",
        "colab_type": "text"
      },
      "source": [
        "<a href=\"https://colab.research.google.com/github/1360837/Python_Study/blob/main/%EB%B0%B1%EC%A4%80/Dynamic_Programming.ipynb\" target=\"_parent\"><img src=\"https://colab.research.google.com/assets/colab-badge.svg\" alt=\"Open In Colab\"/></a>"
      ]
    },
    {
      "cell_type": "code",
      "execution_count": 12,
      "metadata": {
        "colab": {
          "base_uri": "https://localhost:8080/"
        },
        "id": "uvqcPVh4n3vi",
        "outputId": "e53d2594-aa18-43aa-a494-6a9f3caf2eb3"
      },
      "outputs": [
        {
          "output_type": "stream",
          "name": "stdout",
          "text": [
            "8\n",
            "71 39 44\n",
            "32 83 55\n",
            "51 37 63\n",
            "89 29 100\n",
            "83 58 11\n",
            "65 13 15\n",
            "47 25 29\n",
            "60 66 19\n",
            "253\n"
          ]
        }
      ],
      "source": [
        "#1149 RGB거리\n",
        "\n",
        "N=int(input())\n",
        "pay=[[0]*3 for _ in range(N)]\n",
        "\n",
        "for i in range(N):\n",
        "  pay[i][0],pay[i][1],pay[i][2]=map(int,input().split())\n",
        "\n",
        "result=[[0]*3 for _ in range(N)]\n",
        "result[0]=pay[0]\n",
        "\n",
        "for i in range(1,N):\n",
        "  for j in range(3):\n",
        "    result[i][j]=pay[i][j]+min(result[i-1][j-1],result[i-1][j-2])\n",
        "print(min(result[N-1]))"
      ]
    }
  ]
}