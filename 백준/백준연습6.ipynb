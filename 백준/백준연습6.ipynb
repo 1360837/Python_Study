{
  "nbformat": 4,
  "nbformat_minor": 0,
  "metadata": {
    "colab": {
      "provenance": [],
      "authorship_tag": "ABX9TyMhM1n/o+3ecypS1Svg/qBi",
      "include_colab_link": true
    },
    "kernelspec": {
      "name": "python3",
      "display_name": "Python 3"
    },
    "language_info": {
      "name": "python"
    }
  },
  "cells": [
    {
      "cell_type": "markdown",
      "metadata": {
        "id": "view-in-github",
        "colab_type": "text"
      },
      "source": [
        "<a href=\"https://colab.research.google.com/github/1360837/Python_Study/blob/main/%EB%B0%B1%EC%A4%80/%EB%B0%B1%EC%A4%80%EC%97%B0%EC%8A%B56.ipynb\" target=\"_parent\"><img src=\"https://colab.research.google.com/assets/colab-badge.svg\" alt=\"Open In Colab\"/></a>"
      ]
    },
    {
      "cell_type": "code",
      "execution_count": null,
      "metadata": {
        "colab": {
          "base_uri": "https://localhost:8080/"
        },
        "id": "VxiyP3ygewyV",
        "outputId": "5a9890b6-ccd9-43c3-da30-810445511384"
      },
      "outputs": [
        {
          "output_type": "stream",
          "name": "stdout",
          "text": [
            "3\n",
            "-1\n"
          ]
        }
      ],
      "source": [
        "#2839 설탕 배달\n",
        "\n",
        "N=int(input())\n",
        "cnt3=0\n",
        "while N>=0:\n",
        "  if N%5==0:\n",
        "    print(N//5+cnt3)\n",
        "    break\n",
        "  N-=3\n",
        "  cnt3+=1\n",
        "if N<0:print(-1)"
      ]
    },
    {
      "cell_type": "code",
      "source": [
        "#1018 체스판 다시 칠하기\n",
        "\n",
        "N,M=map(int,input().split())\n",
        "arr=list(list(input()) for i in range(N))\n",
        "cnt=[]\n",
        "\n",
        "for i in range(N-7):\n",
        "  for j in range(M-7):\n",
        "    cnt1=0\n",
        "    cnt2=0\n",
        "    for k in range(i,i+8):\n",
        "      for l in range(j,j+8):\n",
        "        if (k+l)%2==0:\n",
        "          if arr[k][l]!=\"W\":cnt1+=1\n",
        "          if arr[k][l]!=\"B\":cnt2+=1\n",
        "        else:\n",
        "          if arr[k][l]!=\"B\":cnt1+=1\n",
        "          if arr[k][l]!=\"W\":cnt2+=1\n",
        "    cnt.append(min(cnt1,cnt2))\n",
        "print(min(cnt))"
      ],
      "metadata": {
        "colab": {
          "base_uri": "https://localhost:8080/"
        },
        "id": "brIv6aWrh8oL",
        "outputId": "34c1453b-33ab-44a5-a2d1-6ce17fd773d8"
      },
      "execution_count": null,
      "outputs": [
        {
          "output_type": "stream",
          "name": "stdout",
          "text": [
            "10 13\n",
            "BBBBBBBBWBWBW\n",
            "BBBBBBBBBWBWB\n",
            "BBBBBBBBWBWBW\n",
            "BBBBBBBBBWBWB\n",
            "BBBBBBBBWBWBW\n",
            "BBBBBBBBBWBWB\n",
            "BBBBBBBBWBWBW\n",
            "BBBBBBBBBWBWB\n",
            "WWWWWWWWWWBWB\n",
            "WWWWWWWWWWBWB\n",
            "12\n"
          ]
        }
      ]
    },
    {
      "cell_type": "code",
      "source": [
        "#1990 소수인팰린드롬\n",
        "\n",
        "import sys #시간초과해결1\n",
        "input=sys.stdin.readline\n",
        "\n",
        "def isprime(num):\n",
        "  if num==1:return False\n",
        "  for i in range(2,int(num**0.5)+1):\n",
        "    if num%i==0:return False\n",
        "  return True\n",
        "\n",
        "def ispal(num):\n",
        "  num=str(num)\n",
        "  if len(num)==1:return True\n",
        "  if num[:]==num[::-1]:return True\n",
        "  return False\n",
        "\n",
        "a,b=map(int,input().split())\n",
        "if b>10000000:b=10000000 #시간초과해결2\n",
        "\n",
        "L=[]\n",
        "for i in range(a,b+1):\n",
        "  if ispal(i):L.append(i)\n",
        "\n",
        "for i in L:\n",
        "  if isprime(i):print(i)\n",
        "\n",
        "print(-1)"
      ],
      "metadata": {
        "colab": {
          "base_uri": "https://localhost:8080/"
        },
        "id": "sh4yIgcjVKtq",
        "outputId": "6463b02c-84a2-4f97-ffc6-584ce5e2f535"
      },
      "execution_count": null,
      "outputs": [
        {
          "output_type": "stream",
          "name": "stdout",
          "text": [
            "5 550\n",
            "5\n",
            "7\n",
            "11\n",
            "101\n",
            "131\n",
            "151\n",
            "181\n",
            "191\n",
            "313\n",
            "353\n",
            "373\n",
            "383\n",
            "-1\n"
          ]
        }
      ]
    },
    {
      "cell_type": "code",
      "source": [
        "#1253 좋다\n",
        "\n",
        "N=int(input())\n",
        "li=list(map(int,input().split()))\n",
        "li.sort()\n",
        "cnt=0\n",
        "for i in range(N):\n",
        "  li1=li[:i]+li[i+1:]\n",
        "  L,R=0,len(li1)-1\n",
        "  while L<R:\n",
        "    S=li1[L]+li1[R]\n",
        "    if S==li[i]:\n",
        "      cnt+=1\n",
        "      break\n",
        "    if S<li[i]:L+=1\n",
        "    else:R-=1\n",
        "print(cnt)"
      ],
      "metadata": {
        "colab": {
          "base_uri": "https://localhost:8080/"
        },
        "id": "o4BqSkdzjy1X",
        "outputId": "8691bf93-0769-4bea-fac2-b57d0f116560"
      },
      "execution_count": null,
      "outputs": [
        {
          "output_type": "stream",
          "name": "stdout",
          "text": [
            "10\n",
            "1 2 3 4 5 6 7 8 9 10\n",
            "8\n"
          ]
        }
      ]
    },
    {
      "cell_type": "code",
      "source": [
        "#2579 계단 오르기\n",
        "\n",
        "N=int(input())\n",
        "scores=list(int(input()) for _ in range(N))\n",
        "\n",
        "step=[0]*N\n",
        "if N<=2:print(sum(scores))\n",
        "else:\n",
        "  step[0]=scores[0]\n",
        "  step[1]=scores[0]+scores[1]\n",
        "  for i in range(2,N):\n",
        "    step[i]=max(step[i-3]+scores[i-1]+scores[i],step[i-2]+scores[i])\n",
        "  print(step[N-1])"
      ],
      "metadata": {
        "colab": {
          "base_uri": "https://localhost:8080/"
        },
        "id": "MjkvJPF3Rweg",
        "outputId": "cea39c5f-bbd8-4d49-8b32-cf203dea2626"
      },
      "execution_count": 5,
      "outputs": [
        {
          "output_type": "stream",
          "name": "stdout",
          "text": [
            "6\n",
            "10\n",
            "20\n",
            "15\n",
            "25\n",
            "10\n",
            "20\n",
            "75\n"
          ]
        }
      ]
    },
    {
      "cell_type": "code",
      "source": [
        "#1,2,3 더하기\n",
        "\n",
        "def findcase(num):\n",
        "  if num==1:return 1\n",
        "  elif num==2:return 2\n",
        "  elif num==3:return 4\n",
        "  else:return findcase(num-3)+findcase(num-2)+findcase(num-1)\n",
        "\n",
        "T=int(input())\n",
        "for _ in range(T):\n",
        "  n=int(input())\n",
        "  print(findcase(n))"
      ],
      "metadata": {
        "colab": {
          "base_uri": "https://localhost:8080/"
        },
        "id": "_lxjU29ttlKz",
        "outputId": "25a8cbe5-757e-4984-8f03-e41fbcf200bf"
      },
      "execution_count": 6,
      "outputs": [
        {
          "output_type": "stream",
          "name": "stdout",
          "text": [
            "3\n",
            "4\n",
            "7\n",
            "7\n",
            "44\n",
            "10\n",
            "274\n"
          ]
        }
      ]
    }
  ]
}