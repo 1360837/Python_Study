{
  "nbformat": 4,
  "nbformat_minor": 0,
  "metadata": {
    "colab": {
      "provenance": [],
      "authorship_tag": "ABX9TyMViNChlztZduJBt0Kv9fjc",
      "include_colab_link": true
    },
    "kernelspec": {
      "name": "python3",
      "display_name": "Python 3"
    },
    "language_info": {
      "name": "python"
    }
  },
  "cells": [
    {
      "cell_type": "markdown",
      "metadata": {
        "id": "view-in-github",
        "colab_type": "text"
      },
      "source": [
        "<a href=\"https://colab.research.google.com/github/1360837/Python_Study/blob/main/C%EC%96%B8%EC%96%B4/C%EC%96%B8%EC%96%B4_3%ED%9A%8C%EC%B0%A8.ipynb\" target=\"_parent\"><img src=\"https://colab.research.google.com/assets/colab-badge.svg\" alt=\"Open In Colab\"/></a>"
      ]
    },
    {
      "cell_type": "markdown",
      "source": [
        "10강"
      ],
      "metadata": {
        "id": "EFbPKy-jY4k1"
      }
    },
    {
      "cell_type": "code",
      "execution_count": null,
      "metadata": {
        "id": "WrPGnkWNYp8S"
      },
      "outputs": [],
      "source": [
        "#숫자 피라미드 출력하기.c\n",
        "\n",
        "#include <stdio.h>\n",
        "\n",
        "void print(int a)\n",
        "{\n",
        "    int i,j;\n",
        "    for(i=0;i<a;i++)\n",
        "    {\n",
        "        for(j=0;j<=i;j++)\n",
        "        {\n",
        "            printf(\"%d \",j+1);\n",
        "        }\n",
        "    printf(\"\\n\");\n",
        "    }\n",
        "}\n",
        "\n",
        "int main(void)\n",
        "{\n",
        "    int a;\n",
        "    scanf(\"%d\",&a);\n",
        "    print(a);\n",
        "    return 0;\n",
        "}"
      ]
    },
    {
      "cell_type": "code",
      "source": [
        "#특정한 문자열을 재귀 함수 반복 출력하기.c\n",
        "\n",
        "#include <stdio.h>\n",
        "\n",
        "void print(int count)\n",
        "{\n",
        "    if(count==0)\n",
        "    {\n",
        "        return;\n",
        "    }\n",
        "    else\n",
        "    {\n",
        "        printf(\"문자열을 출력합니다.\\n\");\n",
        "        print(count-1);\n",
        "    }\n",
        "}\n",
        "\n",
        "int main(void)\n",
        "{\n",
        "    int number;\n",
        "    printf(\"문자열을 몇 개 출력할까요?\");\n",
        "    scanf(\"%d\",&number);\n",
        "    print(number);\n",
        "    return 0;\n",
        "}"
      ],
      "metadata": {
        "id": "K7ZQNBhXdOvU"
      },
      "execution_count": null,
      "outputs": []
    },
    {
      "cell_type": "code",
      "source": [
        "#재귀 함수로 조합 구현하기.c\n",
        "\n",
        "#include <stdio.h>\n",
        "\n",
        "int nCr(int n,int r)\n",
        "{\n",
        "    if(r==0||r==n)\n",
        "    {\n",
        "        return 1;\n",
        "    }\n",
        "    else\n",
        "    {\n",
        "        return nCr(n-1,r-1)+nCr(n-1,r);\n",
        "    }\n",
        "}\n",
        "\n",
        "int main(void)\n",
        "{\n",
        "    int n,r;\n",
        "    scanf(\"%d %d\",&n,&r);\n",
        "    printf(\"%d\",nCr(n,r));\n",
        "    return 0;\n",
        "}"
      ],
      "metadata": {
        "id": "tGVpY0s0ne8C"
      },
      "execution_count": null,
      "outputs": []
    },
    {
      "cell_type": "markdown",
      "source": [
        "11장"
      ],
      "metadata": {
        "id": "q9tY3rA8oGE4"
      }
    },
    {
      "cell_type": "code",
      "source": [
        "#5개의 정수 중에서 최댓값과 최솟값의 위치를 출력하는 프로그램.c\n",
        "\n",
        "#include <stdio.h>\n",
        "#include <limits.h>\n",
        "#define NUMBER 5\n",
        "\n",
        "int main(void)\n",
        "{\n",
        "    int i,max,min,index;\n",
        "    int array[NUMBER];\n",
        "    max=0;\n",
        "    index=0;\n",
        "\n",
        "    for(i=0;i<NUMBER;i++)\n",
        "    {\n",
        "        scanf(\"%d\",&array[i]);\n",
        "        if(max<array[i])\n",
        "        {\n",
        "            max=array[i];\n",
        "            index=i;\n",
        "        }\n",
        "    }\n",
        "    printf(\"가장 큰 값은 %d입니다. 그리고 %d번째에 있습니다.\\n\",max,index+1);\n",
        "    min=INT_MAX;\n",
        "    for(i=0;i<NUMBER;i++)\n",
        "    {\n",
        "        scanf(\"%d\",&array[i]);\n",
        "        if(min>array[i])\n",
        "        {\n",
        "            min=array[i];\n",
        "            index=i;\n",
        "        }\n",
        "    }\n",
        "    printf(\"가장 큰 값은 %d입니다. 그리고 %d번째에 있습니다.\\n\",min,index+1);\n",
        "\n",
        "    return 0;\n",
        "}"
      ],
      "metadata": {
        "id": "bLiadiRooHAU"
      },
      "execution_count": null,
      "outputs": []
    },
    {
      "cell_type": "code",
      "source": [
        "#5개의 정수 중에서 짝수 최댓값과 홀수 최댓갓을 구하는 프로그램.c\n",
        "\n",
        "#include <stdio.h>\n",
        "#define NUMBER 5\n",
        "\n",
        "int main(void)\n",
        "{\n",
        "    int array[NUMBER];\n",
        "    int i,oddMax,evenMax;\n",
        "    oddMax=0;\n",
        "    evenMax=0;\n",
        "    for(i=0;i<NUMBER;i++)\n",
        "    {\n",
        "        scanf(\"%d\",&array[i]);\n",
        "        if (array[i]%2==0)\n",
        "        {\n",
        "            if(evenMax<array[i])\n",
        "            {\n",
        "                evenMax=array[i];\n",
        "            }\n",
        "        }\n",
        "        else\n",
        "        {\n",
        "            if(oddMax<array[i])\n",
        "            {\n",
        "                oddMax=array[i];\n",
        "            }\n",
        "        }\n",
        "    }\n",
        "    printf(\"%d %d\",oddMax,evenMax);\n",
        "    return 0;\n",
        "}"
      ],
      "metadata": {
        "id": "7faIISPTDgTk"
      },
      "execution_count": null,
      "outputs": []
    }
  ]
}