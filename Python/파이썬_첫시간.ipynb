{
  "nbformat": 4,
  "nbformat_minor": 0,
  "metadata": {
    "colab": {
      "provenance": [],
      "toc_visible": true,
      "authorship_tag": "ABX9TyNOIMpmRongRVPVjxybQWYk",
      "include_colab_link": true
    },
    "kernelspec": {
      "name": "python3",
      "display_name": "Python 3"
    },
    "language_info": {
      "name": "python"
    }
  },
  "cells": [
    {
      "cell_type": "markdown",
      "metadata": {
        "id": "view-in-github",
        "colab_type": "text"
      },
      "source": [
        "<a href=\"https://colab.research.google.com/github/1360837/Python_Study/blob/main/Python/%ED%8C%8C%EC%9D%B4%EC%8D%AC_%EC%B2%AB%EC%8B%9C%EA%B0%84.ipynb\" target=\"_parent\"><img src=\"https://colab.research.google.com/assets/colab-badge.svg\" alt=\"Open In Colab\"/></a>"
      ]
    },
    {
      "cell_type": "code",
      "execution_count": 3,
      "metadata": {
        "id": "LjURxXDJLBin",
        "colab": {
          "base_uri": "https://localhost:8080/"
        },
        "outputId": "d1646e13-0442-4f3f-d4d8-828830278012"
      },
      "outputs": [
        {
          "output_type": "stream",
          "name": "stdout",
          "text": [
            "579\n",
            "15129\n"
          ]
        }
      ],
      "source": [
        "a=123\n",
        "b=456\n",
        "print(a+b)\n",
        "print(a**2)"
      ]
    },
    {
      "cell_type": "code",
      "source": [],
      "metadata": {
        "id": "ySRcE4ikNziO"
      },
      "execution_count": 2,
      "outputs": []
    },
    {
      "cell_type": "markdown",
      "source": [
        "# 제목1"
      ],
      "metadata": {
        "id": "NO0sxOR1OGqR"
      }
    },
    {
      "cell_type": "code",
      "source": [],
      "metadata": {
        "id": "ustSmn8vOSiq"
      },
      "execution_count": null,
      "outputs": []
    },
    {
      "cell_type": "markdown",
      "source": [
        "##제목2"
      ],
      "metadata": {
        "id": "uGn_pEQMOTZj"
      }
    },
    {
      "cell_type": "code",
      "source": [],
      "metadata": {
        "id": "R-epxjP-OWDS"
      },
      "execution_count": null,
      "outputs": []
    }
  ]
}