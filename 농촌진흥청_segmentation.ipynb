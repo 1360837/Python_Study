{
  "nbformat": 4,
  "nbformat_minor": 0,
  "metadata": {
    "colab": {
      "provenance": [],
      "authorship_tag": "ABX9TyPZzZ7+sjbYWdDye8VNt2+9",
      "include_colab_link": true
    },
    "kernelspec": {
      "name": "python3",
      "display_name": "Python 3"
    },
    "language_info": {
      "name": "python"
    }
  },
  "cells": [
    {
      "cell_type": "markdown",
      "metadata": {
        "id": "view-in-github",
        "colab_type": "text"
      },
      "source": [
        "<a href=\"https://colab.research.google.com/github/1360837/Python_Study/blob/main/%EB%86%8D%EC%B4%8C%EC%A7%84%ED%9D%A5%EC%B2%AD_segmentation.ipynb\" target=\"_parent\"><img src=\"https://colab.research.google.com/assets/colab-badge.svg\" alt=\"Open In Colab\"/></a>"
      ]
    },
    {
      "cell_type": "code",
      "execution_count": null,
      "metadata": {
        "id": "5oAqQ0yj51Xw"
      },
      "outputs": [],
      "source": [
        "import cv2\n",
        "import numpy as np\n",
        "\n",
        "\n",
        "''' 이 두 값만 조정하면 됩니다 '''\n",
        "#이미지 자르기용 좌표\n",
        "x_left,x_right,y_up,y_down = 1050, 4500, 760, 3700\n",
        "\n",
        "# 이미지 파일 경로 설정\n",
        "input_image_path = 'C:/Users/woowo/OneDrive/Desktop/2023_RDA_RICE_A_01_01_VIS_SV000_2023-09-10 06_03_46.png'\n",
        "output_image_path = 'C:/Users/woowo/OneDrive/Desktop/sample.png'\n",
        "\n",
        "\n",
        "\n",
        "#HSV를 이용한 segmentation\n",
        "def remove_blue_pixels_hsv(image_path):\n",
        "    image = cv2.imread(image_path)\n",
        "\n",
        "    hsv_image = cv2.cvtColor(image, cv2.COLOR_BGR2HSV)\n",
        "\n",
        "    lower_blue = np.array([105, 0, 0])\n",
        "    upper_blue = np.array([130, 255, 255])\n",
        "    blue_mask = cv2.inRange(hsv_image, lower_blue, upper_blue)\n",
        "    image_without_blue = cv2.bitwise_and(image, image, mask=cv2.bitwise_not(blue_mask))\n",
        "\n",
        "    return image_without_blue\n",
        "\n",
        "#BGR을 이용한 segmentation\n",
        "def remove_blue_pixels_rgb(image_path):\n",
        "    image = cv2.imread(image_path)\n",
        "\n",
        "    lower_blue = np.array([180, 0, 0])\n",
        "    upper_blue = np.array([255, 150, 150])\n",
        "    blue_mask = cv2.inRange(image, lower_blue, upper_blue)\n",
        "    image_without_blue = cv2.bitwise_and(image, image, mask=cv2.bitwise_not(blue_mask))\n",
        "\n",
        "    return image_without_blue\n",
        "\n",
        "#YSV를 이용한 segmentation\n",
        "def remove_blue_pixels_ycrcb(image_path):\n",
        "    image = cv2.imread(image_path)\n",
        "\n",
        "    ycrcb_image = cv2.cvtColor(image, cv2.COLOR_BGR2YCrCb)\n",
        "    lower_blue = np.array([0, 0, 160], dtype=np.uint8)\n",
        "    upper_blue = np.array([255, 240, 240], dtype=np.uint8)\n",
        "    blue_mask = cv2.inRange(ycrcb_image, lower_blue, upper_blue)\n",
        "    image_without_blue = cv2.bitwise_and(image, image, mask=cv2.bitwise_not(blue_mask))\n",
        "\n",
        "    return image_without_blue\n",
        "\n",
        "# 각 방법으로 파란색 픽셀 제거\n",
        "image_hsv = remove_blue_pixels_hsv(input_image_path)\n",
        "image_rgb = remove_blue_pixels_rgb(input_image_path)\n",
        "image_ycrcb = remove_blue_pixels_ycrcb(input_image_path)\n",
        "\n",
        "# 각 결과를 비트 AND 연산하여 교집합 생성\n",
        "final_result = cv2.bitwise_and(cv2.bitwise_and(image_hsv, image_rgb), image_ycrcb)\n",
        "final_result = final_result[x_left:x_right,y_up:y_down]\n",
        "\n",
        "# segmentation 결과 저장\n",
        "cv2.imwrite(output_image_path, final_result)"
      ]
    }
  ]
}