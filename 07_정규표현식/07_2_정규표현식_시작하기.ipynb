{
  "nbformat": 4,
  "nbformat_minor": 0,
  "metadata": {
    "colab": {
      "provenance": [],
      "authorship_tag": "ABX9TyMzKyOprbUDm4MeIp7mkD50",
      "include_colab_link": true
    },
    "kernelspec": {
      "name": "python3",
      "display_name": "Python 3"
    },
    "language_info": {
      "name": "python"
    }
  },
  "cells": [
    {
      "cell_type": "markdown",
      "metadata": {
        "id": "view-in-github",
        "colab_type": "text"
      },
      "source": [
        "<a href=\"https://colab.research.google.com/github/1360837/Python_Study/blob/main/07_%EC%A0%95%EA%B7%9C%ED%91%9C%ED%98%84%EC%8B%9D/07_2_%EC%A0%95%EA%B7%9C%ED%91%9C%ED%98%84%EC%8B%9D_%EC%8B%9C%EC%9E%91%ED%95%98%EA%B8%B0.ipynb\" target=\"_parent\"><img src=\"https://colab.research.google.com/assets/colab-badge.svg\" alt=\"Open In Colab\"/></a>"
      ]
    },
    {
      "cell_type": "markdown",
      "source": [
        "# 정규 표현식의 기초, 메타 문자\n",
        "\n",
        ". ^ $ * + ? { } [ ] \\ | ( )"
      ],
      "metadata": {
        "id": "Ca_rioSN76yw"
      }
    },
    {
      "cell_type": "markdown",
      "source": [
        "문자 클래스[ ]\n",
        "\n",
        "> [ ] 사이의 문자들과 매치\n",
        "\n",
        "> [abc] : 'a,b,c 중 한 개의 문자와 매치'\n",
        "\n",
        "\n",
        "\n"
      ],
      "metadata": {
        "id": "qYjYLfFe8HVD"
      }
    },
    {
      "cell_type": "code",
      "source": [
        "정규식 [abc]\n",
        "\n",
        "문자열 a 매치여부 Yes #\"a\"는 정규식과 일치하는 문자인 \"a\"가 있으므로 매치\n",
        "문자열 before 매치여부 Yes #\"before\"는 정규식과 일치하는 문자인 \"b\"가 있으므로 매치\n",
        "문자열 dude 매치여부 No #\"dude\"는 정규식과 일치하는 문자인 a,b,c 중 어느 하나도 포함하고 있지 않으므로 매치되지 않음\n",
        "\n",
        "[abc]=[a-c]\n",
        "[012345]=[0-5]"
      ],
      "metadata": {
        "id": "NGXT6uRI84co"
      },
      "execution_count": null,
      "outputs": []
    },
    {
      "cell_type": "code",
      "source": [
        "#자주 사용하는 문자 클래스\n",
        "\n",
        "\\d = [0-9] 숫자와 매치\n",
        "\\D = [^0-9] 숫자가 아닌 것과 매치\n",
        "\\s = [\\t\\n\\r\\f\\v] whitespace 문자(space나 tab처럼 공백을 표현하는 문자)와 매치\n",
        "\\S = [^\\t\\n\\r\\f\\v] whitespce 문자가 아닌 것과 매치\n",
        "\\w = [a-zA-Z0-9] 문자+숫자와 매치\n",
        "\\W = [^a-zA-Z0-9] 문자+숫자가 아닌 문자와 매치"
      ],
      "metadata": {
        "id": "aIAcYVcj9esb"
      },
      "execution_count": null,
      "outputs": []
    },
    {
      "cell_type": "markdown",
      "source": [
        "Dot(.)"
      ],
      "metadata": {
        "id": "_ZnrJys-hmy_"
      }
    },
    {
      "cell_type": "code",
      "source": [
        "a.b #a와 b 사이에 줄바꿈 문자를 제외한 어떤 문자가 들어가도 모두 매치"
      ],
      "metadata": {
        "id": "7Fcug5tnhpGw"
      },
      "execution_count": null,
      "outputs": []
    },
    {
      "cell_type": "code",
      "source": [
        "정규식 [a.b]\n",
        "\n",
        "문자열 aab 매치여부 Yes\n",
        "문자열 a0b 매치여부 Yes\n",
        "문자열 abc 매치여부 No #\"a\" 문자와 \"b\"문자 사이에 어떤 문자라도 하나는 있어야함"
      ],
      "metadata": {
        "id": "jmBlJbczh0g6"
      },
      "execution_count": null,
      "outputs": []
    },
    {
      "cell_type": "code",
      "source": [
        "a[.]b #a와 b사이에 Dot(.) 문자가 있으면 매치"
      ],
      "metadata": {
        "id": "sgTImBBIiNsG"
      },
      "execution_count": null,
      "outputs": []
    },
    {
      "cell_type": "markdown",
      "source": [
        "반복(*)"
      ],
      "metadata": {
        "id": "htHzSLkiiVzb"
      }
    },
    {
      "cell_type": "code",
      "source": [
        "ca*t #* 문자 바로 앞에 있는 a가 0번 이상 반복되면 매치"
      ],
      "metadata": {
        "id": "5Q9MR30qiXGw"
      },
      "execution_count": null,
      "outputs": []
    },
    {
      "cell_type": "code",
      "source": [
        "정규식 [ca*t]\n",
        "\n",
        "문자열 ct 매치여부 Yes #\"a\"가 0번 반복되어 매치\n",
        "문자열 cat 매치여부 Yes\n",
        "문자열 caaat 매치여부 Yes"
      ],
      "metadata": {
        "id": "t4x65_aLimhY"
      },
      "execution_count": null,
      "outputs": []
    },
    {
      "cell_type": "markdown",
      "source": [
        "반복(+)\n",
        "\n",
        "> 최소 1번 이상 반복\n",
        "\n"
      ],
      "metadata": {
        "id": "sxS0IaTNi3mU"
      }
    },
    {
      "cell_type": "code",
      "source": [
        "ca+t #+문자 바로 앞에 있는 a가 1번 이상 반복되면 매치"
      ],
      "metadata": {
        "id": "tsEvzjLfi-F0"
      },
      "execution_count": null,
      "outputs": []
    },
    {
      "cell_type": "code",
      "source": [
        "정규식 [ca+t]\n",
        "\n",
        "문자열 ct 매치여부 No #\"a\"가 0번 반복되어 매치되지 않음\n",
        "문자열 cat 매치여부 Yes\n",
        "문자열 caaat 매치여부 Yes"
      ],
      "metadata": {
        "id": "QsQjUDMgjONz"
      },
      "execution_count": null,
      "outputs": []
    },
    {
      "cell_type": "markdown",
      "source": [
        "반복({m,n},?)\n",
        "> 반복 횟수 제한(고정)"
      ],
      "metadata": {
        "id": "xiYOjKG9jbGa"
      }
    },
    {
      "cell_type": "code",
      "source": [
        "# 1. {m}\n",
        "\n",
        "ca{2}t #a가 2번 반복되면 매치\n",
        "\n",
        "문자열 cat 매치여부 No\n",
        "문자열 caat 매치여부 Yes"
      ],
      "metadata": {
        "id": "h4yOSCLXjsdW"
      },
      "execution_count": null,
      "outputs": []
    },
    {
      "cell_type": "code",
      "source": [
        "# 2. {m,n}\n",
        "\n",
        "ca{2,5}t #a가 2~5번 반복되면 매치\n",
        "\n",
        "문자열 cat 매치여부 No\n",
        "문자열 caat 매치여부 Yes\n",
        "문자열 caaaaat 매치여부 Yes"
      ],
      "metadata": {
        "id": "BxbY2075j--7"
      },
      "execution_count": null,
      "outputs": []
    },
    {
      "cell_type": "code",
      "source": [
        "# 3.? / ? = {0,1}\n",
        "\n",
        "ab?c # b가 0~1번 사용되면 매치\n",
        "\n",
        "문자열 abc 매치여부 Yes\n",
        "문자열 ac 매치여부 Yes"
      ],
      "metadata": {
        "id": "GIa4F7KNkMc4"
      },
      "execution_count": null,
      "outputs": []
    },
    {
      "cell_type": "markdown",
      "source": [
        "# 파이썬에서 정규 표현식을 지원하는 re 모듈"
      ],
      "metadata": {
        "id": "0zl1IM2gssHm"
      }
    },
    {
      "cell_type": "code",
      "source": [
        "import re\n",
        "p=re.complier('ab*')"
      ],
      "metadata": {
        "id": "nX7W9zWaswx9"
      },
      "execution_count": null,
      "outputs": []
    },
    {
      "cell_type": "markdown",
      "source": [
        "# 정규식을 사용한 문자열 검색"
      ],
      "metadata": {
        "id": "K54fEbOHaew_"
      }
    },
    {
      "cell_type": "markdown",
      "source": [
        "match() : 문자열의 처음부터 정규식과 매치되는지 조사한다\n",
        "\n",
        "search() : 문자열 전체를 검색하여 정규식과 매치되는지 조사한다.\n",
        "\n",
        "\n",
        "> match, search는 정규식과 매치될 때는 match 객체를 돌려주고, 매치되지 않을 때는 None을 돌려준다.\n",
        "\n",
        "\n",
        "findall() : 정규식과 매치되는 모든 문자열(substring)을 리스트로 돌려준다.\n",
        "\n",
        "finditer() : 정규식과 매치되는 모든 문자열(substring)을 반복 가능한 객체로 돌려준다."
      ],
      "metadata": {
        "id": "J1ImEBeyah0E"
      }
    },
    {
      "cell_type": "code",
      "source": [
        "import re\n",
        "p=re.compile('[a-z]+')"
      ],
      "metadata": {
        "id": "O6jXkMv4a74m"
      },
      "execution_count": null,
      "outputs": []
    },
    {
      "cell_type": "markdown",
      "source": [
        "match"
      ],
      "metadata": {
        "id": "HtwB59JWbEtT"
      }
    },
    {
      "cell_type": "code",
      "source": [
        "m=p.match(\"python\")\n",
        "print(m)"
      ],
      "metadata": {
        "id": "kENhu5aubEP8"
      },
      "execution_count": null,
      "outputs": []
    },
    {
      "cell_type": "code",
      "source": [
        "m=p.match(\"3 python\")\n",
        "print(m)"
      ],
      "metadata": {
        "id": "AMMO2PQSbmrr"
      },
      "execution_count": null,
      "outputs": []
    },
    {
      "cell_type": "code",
      "source": [
        "p=re.compile(정규 표현식)\n",
        "m=p.match(\"조사할 문자열\")\n",
        "if m:\n",
        "  print('Match found: ',m.group())\n",
        "else:\n",
        "  print('No match')"
      ],
      "metadata": {
        "id": "L3H-JXS8bvz0"
      },
      "execution_count": null,
      "outputs": []
    },
    {
      "cell_type": "markdown",
      "source": [
        "search"
      ],
      "metadata": {
        "id": "Qrojej_JcyvA"
      }
    },
    {
      "cell_type": "code",
      "source": [
        "m=p.search(\"python\")\n",
        "print(m)"
      ],
      "metadata": {
        "id": "tGctl-lNczoN"
      },
      "execution_count": null,
      "outputs": []
    },
    {
      "cell_type": "code",
      "source": [
        "m=p.search(\"3 python\")\n",
        "print(m)"
      ],
      "metadata": {
        "id": "3df1tnn4c8wn"
      },
      "execution_count": null,
      "outputs": []
    },
    {
      "cell_type": "markdown",
      "source": [
        "findall"
      ],
      "metadata": {
        "id": "y4hz1vbDdEe7"
      }
    },
    {
      "cell_type": "code",
      "source": [
        "result=p.findall(\"life is too short\")\n",
        "print(result)"
      ],
      "metadata": {
        "id": "KP4MXQNVdPOi"
      },
      "execution_count": null,
      "outputs": []
    },
    {
      "cell_type": "markdown",
      "source": [
        "finditer"
      ],
      "metadata": {
        "id": "q0BRtf-ghYtf"
      }
    },
    {
      "cell_type": "code",
      "source": [
        "result=p.finditer(\"life is too short\")\n",
        "print(result)\n",
        "\n",
        "for r in result:print(r)"
      ],
      "metadata": {
        "id": "h7Zq0FFihaNw"
      },
      "execution_count": null,
      "outputs": []
    },
    {
      "cell_type": "markdown",
      "source": [
        "# match 객체의 메서드\n",
        "\n",
        "group() : 매치된 문자열을 돌려준다\n",
        "start() : 매치된 문자열의 시작 위치를 돌려준다\n",
        "end() : 매치된 문자열의 끝 위치를 돌려준다\n",
        "span() : 매치된 문자열의 (시작,끝)에 해당하는 튜플을 돌려준다"
      ],
      "metadata": {
        "id": "mUW5mdTbhlZL"
      }
    },
    {
      "cell_type": "code",
      "source": [
        "from IPython.utils.process import get_output_error_code\n",
        "import re\n",
        "p=re.complie('[a-z]+')\n",
        "m=p.match(\"python\")\n",
        "m.group()\n",
        "m.start()\n",
        "m.end()\n",
        "m.span()"
      ],
      "metadata": {
        "id": "KKBtA0vDjS4j"
      },
      "execution_count": null,
      "outputs": []
    },
    {
      "cell_type": "code",
      "source": [
        "p=re.complie('[a-z]+')\n",
        "m=p.match(\"python\")\n",
        "-----------------------------\n",
        "m=re.match('[a-z]+',\"python\")"
      ],
      "metadata": {
        "id": "1E5CiSSpkAAD"
      },
      "execution_count": null,
      "outputs": []
    },
    {
      "cell_type": "markdown",
      "source": [
        "# 컴파일 옵션\n",
        "\n",
        "> DOTALL : S : dot 문자(.)가 줄바꿈 문자를 포함하여 모든 문자와 매치한다.\n",
        "\n",
        ">IGNORECASE : I : 대,소문자에 관계없이 매치한다.\n",
        "\n",
        ">MULTILINE : M : 여러 줄과 매치한다. (^,$메타 문자의 사용과 관계가 있는 옵션이다.)\n",
        "\n",
        ">VERBOSE : X : verbose 모드를 사용한다. (정규식을 보기 편하게 만들 수도 있고 주석 등을 사용할 수도 있다.)\n",
        "\n"
      ],
      "metadata": {
        "id": "UI6IYo3Ojmxp"
      }
    },
    {
      "cell_type": "markdown",
      "source": [
        "DOTALL, S"
      ],
      "metadata": {
        "id": "5viTukR_p8tE"
      }
    },
    {
      "cell_type": "code",
      "source": [
        "import re\n",
        "p=re.compile('a.b')\n",
        "m=p.match('a\\nb')\n",
        "print(m) #None"
      ],
      "metadata": {
        "id": "izWtOWp1p_Yq"
      },
      "execution_count": null,
      "outputs": []
    },
    {
      "cell_type": "code",
      "source": [
        "p=re.compile('a.b',re.DOTALL)\n",
        "m=p.match('a\\nb')\n",
        "print(m)"
      ],
      "metadata": {
        "id": "Bqg-cEzSqPVI"
      },
      "execution_count": null,
      "outputs": []
    },
    {
      "cell_type": "markdown",
      "source": [
        "IGNORECASE, I"
      ],
      "metadata": {
        "id": "Yu0fFZI7qegN"
      }
    },
    {
      "cell_type": "code",
      "source": [
        "p=re.complie('[a-z]',re.I)\n",
        "p.match('python')\n",
        "p.match('Python')\n",
        "p.match('PYTHON')"
      ],
      "metadata": {
        "id": "iwGrqGBhqjNU"
      },
      "execution_count": null,
      "outputs": []
    },
    {
      "cell_type": "code",
      "source": [
        "import re\n",
        "p=re.compile(\"^python\\s\\w+\") #python이라는 문자열로 시작하고 그 뒤에 whilespace, 그 뒤에 단어가 와야한다는 의미\n",
        "\n",
        "data=\"\"\"python one\n",
        "life is too short\n",
        "python two\n",
        "you need python\n",
        "pyhon three\"\"\"\n",
        "\n",
        "print(p.findall(data)) #^메타 문자에 의해 python이라는 문자열을 사용한 첫 번째 줄만 매치된 것이다."
      ],
      "metadata": {
        "id": "bJL3YXzorB8j"
      },
      "execution_count": null,
      "outputs": []
    },
    {
      "cell_type": "code",
      "source": [
        "import re\n",
        "p=re.compile(\"^python\\s\\w+\",re.MULTILINE)\n",
        "\n",
        "data=\"\"\"python one\n",
        "life is too short\n",
        "python two\n",
        "you need python\n",
        "pyhon three\"\"\"\n",
        "\n",
        "print(p.findall(data))"
      ],
      "metadata": {
        "id": "pkhjeQ4VsIbh"
      },
      "execution_count": null,
      "outputs": []
    },
    {
      "cell_type": "markdown",
      "source": [
        "VERBOSE, X"
      ],
      "metadata": {
        "id": "shn_VE3xsX-A"
      }
    },
    {
      "cell_type": "code",
      "source": [
        "charref=re.compile(r'')"
      ],
      "metadata": {
        "id": "uXCWT7knsewp"
      },
      "execution_count": null,
      "outputs": []
    }
  ]
}