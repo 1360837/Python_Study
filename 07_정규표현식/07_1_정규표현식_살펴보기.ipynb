{
  "nbformat": 4,
  "nbformat_minor": 0,
  "metadata": {
    "colab": {
      "provenance": [],
      "authorship_tag": "ABX9TyOvezJL0TZP0qtenatxlQpo",
      "include_colab_link": true
    },
    "kernelspec": {
      "name": "python3",
      "display_name": "Python 3"
    },
    "language_info": {
      "name": "python"
    }
  },
  "cells": [
    {
      "cell_type": "markdown",
      "metadata": {
        "id": "view-in-github",
        "colab_type": "text"
      },
      "source": [
        "<a href=\"https://colab.research.google.com/github/1360837/Python_Study/blob/main/07_%EC%A0%95%EA%B7%9C%ED%91%9C%ED%98%84%EC%8B%9D/07_1_%EC%A0%95%EA%B7%9C%ED%91%9C%ED%98%84%EC%8B%9D_%EC%82%B4%ED%8E%B4%EB%B3%B4%EA%B8%B0.ipynb\" target=\"_parent\"><img src=\"https://colab.research.google.com/assets/colab-badge.svg\" alt=\"Open In Colab\"/></a>"
      ]
    },
    {
      "cell_type": "markdown",
      "source": [
        "정규 표현식 : 복잡한 문자열을 처리할 때 사용하는 기법\n",
        "\n",
        "파이썬만의 고유 문법이 아닌 문자열을 처리하는 모든 곳에서 사용함."
      ],
      "metadata": {
        "id": "nvnDOtPS44kj"
      }
    },
    {
      "cell_type": "markdown",
      "source": [
        "# 정규 표현식은 왜 필요한가?"
      ],
      "metadata": {
        "id": "wP1knc3R5Ejw"
      }
    },
    {
      "cell_type": "markdown",
      "source": [
        "주민등록번호를 포함하고 있는 텍스트가 있다.\n",
        "\n",
        "이 텍스트에 포함된 모든 주민등록번호의 뒷자리를 *문자로 변경해 보자."
      ],
      "metadata": {
        "id": "vSQ-Wnjz5OYD"
      }
    },
    {
      "cell_type": "code",
      "source": [
        "data=\"\"\"\n",
        "park 800905-1049118\n",
        "kim 700905-1059119\n",
        "\"\"\"\n",
        "\n",
        "result=[]\n",
        "for line in data.split(\"\\n\"):\n",
        "  word_result=[]\n",
        "  for word in line.split(\" \"): #공백 문자마다 나누기\n",
        "    if len(word)==14 and word[:6].isdigit() and word[7:].isdigit():\n",
        "      word=word[:6]+\"-\"+\"*******\"\n",
        "    word_result.append(word)\n",
        "  result.append(\" \".join(word_result)) #나눈 단어 조립하기\n",
        "print(\"\\n\".join(result))"
      ],
      "metadata": {
        "colab": {
          "base_uri": "https://localhost:8080/"
        },
        "id": "EAc4JvM25Vfe",
        "outputId": "456a8df1-11a3-4c05-b955-fc6d34575f6f"
      },
      "execution_count": 1,
      "outputs": [
        {
          "output_type": "stream",
          "name": "stdout",
          "text": [
            "\n",
            "park 800905-*******\n",
            "kim 700905-*******\n",
            "\n"
          ]
        }
      ]
    },
    {
      "cell_type": "code",
      "source": [
        "import re #정규 표현식을 사용하기 위한 re 모듈\n",
        "\n",
        "data=\"\"\"\n",
        "park 800905-1049118\n",
        "kim 700905-1059119\n",
        "\"\"\"\n",
        "\n",
        "pat=re.compile(\"(\\d{6})[-]\\d{7}\")\n",
        "print(pat.sub(\"\\g<1>-*******\",data))"
      ],
      "metadata": {
        "id": "MSwSYfcT6SPO"
      },
      "execution_count": null,
      "outputs": []
    }
  ]
}