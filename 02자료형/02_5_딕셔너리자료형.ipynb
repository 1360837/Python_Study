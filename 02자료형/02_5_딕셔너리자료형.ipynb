{
  "nbformat": 4,
  "nbformat_minor": 0,
  "metadata": {
    "colab": {
      "provenance": [],
      "authorship_tag": "ABX9TyOHI+L16WczGJrLGOaL6vaG",
      "include_colab_link": true
    },
    "kernelspec": {
      "name": "python3",
      "display_name": "Python 3"
    },
    "language_info": {
      "name": "python"
    }
  },
  "cells": [
    {
      "cell_type": "markdown",
      "metadata": {
        "id": "view-in-github",
        "colab_type": "text"
      },
      "source": [
        "<a href=\"https://colab.research.google.com/github/1360837/Python_Study/blob/main/02%EC%9E%90%EB%A3%8C%ED%98%95/02_5_%EB%94%95%EC%85%94%EB%84%88%EB%A6%AC%EC%9E%90%EB%A3%8C%ED%98%95.ipynb\" target=\"_parent\"><img src=\"https://colab.research.google.com/assets/colab-badge.svg\" alt=\"Open In Colab\"/></a>"
      ]
    },
    {
      "cell_type": "markdown",
      "source": [
        "# 딕셔너리란?\n",
        "- 대응 관계를 나타낼 수 있는 자료형\n",
        "- 딕셔너리는 리스트나 튜플처럼 순차적으로 해당 요솟값을 구하지 않고 Key를 통해 Value를 얻는다\n",
        "\n",
        "> *   key : 변하지 않는 값만 가능 / 집합, 리스트 불가능\n",
        "*   value : 변하는 값 변하지 앉는 값 모두 가능\n",
        "\n",
        "\n",
        "\n",
        "\n",
        "\n",
        "\n"
      ],
      "metadata": {
        "id": "k1uTHcbnu14P"
      }
    },
    {
      "cell_type": "markdown",
      "source": [
        "# 딕셔너리는 어떻게 만들까?\n",
        "{ Key1:Value1,Key2:Value2,Key3:Value3,...}"
      ],
      "metadata": {
        "id": "GryEURmAwsjB"
      }
    },
    {
      "cell_type": "code",
      "source": [
        "dic={'name':'pey','phone':'0119993323','birth':'1118'}\n",
        "#위에서 Key는 각각 'name','phone','birth'이고, 각각의 Key에 해당하는 Value는 'pey','011993323','1118'이 된다.\n",
        "a={1:'hi'}\n",
        "#Key로 정수 값 1, Vlaue로 문자열 'hi'를 사용한 예\n",
        "a={'a':[1,2,3]}\n",
        "#Value에 리스트도 넣을 수 있다."
      ],
      "metadata": {
        "id": "1GZVRJfLw7gr"
      },
      "execution_count": null,
      "outputs": []
    },
    {
      "cell_type": "markdown",
      "source": [
        "# 딕셔너리 쌍 추가, 삭제하기"
      ],
      "metadata": {
        "id": "PJHMqW3jxxdS"
      }
    },
    {
      "cell_type": "markdown",
      "source": [
        "딕셔너리 쌍 추가하기"
      ],
      "metadata": {
        "id": "mEB8D3GOx0S9"
      }
    },
    {
      "cell_type": "code",
      "source": [
        "a={1:'a'}\n",
        "a[2]='b' #{2:'b'}쌍 추가\n",
        "print(a)\n",
        "a['name']='pey'\n",
        "print(a)\n",
        "a[3]=[1,2,3]\n",
        "print(a)"
      ],
      "metadata": {
        "colab": {
          "base_uri": "https://localhost:8080/"
        },
        "id": "asQMLe2rx3ME",
        "outputId": "a7750000-be35-4b46-abdf-b78ebd56ab1d"
      },
      "execution_count": null,
      "outputs": [
        {
          "output_type": "stream",
          "name": "stdout",
          "text": [
            "{1: 'a', 2: 'b'}\n",
            "{1: 'a', 2: 'b', 'name': 'pey'}\n",
            "{1: 'a', 2: 'b', 'name': 'pey', 3: [1, 2, 3]}\n"
          ]
        }
      ]
    },
    {
      "cell_type": "markdown",
      "source": [
        "딕셔너리 요소 삭제하기"
      ],
      "metadata": {
        "id": "i8SjeIZBybdN"
      }
    },
    {
      "cell_type": "code",
      "source": [
        "del a[1] #key가 1인 key:value 쌍 삭제\n",
        "print(a)"
      ],
      "metadata": {
        "colab": {
          "base_uri": "https://localhost:8080/"
        },
        "id": "W1MAyQsZydHP",
        "outputId": "da5b4f45-bd67-457f-8288-79e8902b8115"
      },
      "execution_count": null,
      "outputs": [
        {
          "output_type": "stream",
          "name": "stdout",
          "text": [
            "{2: 'b'}\n"
          ]
        }
      ]
    },
    {
      "cell_type": "markdown",
      "source": [
        "# 딕셔너리를 사용하는 방법"
      ],
      "metadata": {
        "id": "Ek9qovlczH_u"
      }
    },
    {
      "cell_type": "markdown",
      "source": [
        "딕셔너리에서 Key를 사용해 Value 얻기"
      ],
      "metadata": {
        "id": "GzzwTE3ozNTt"
      }
    },
    {
      "cell_type": "code",
      "source": [
        "grade={'pey':10,'julliet':99}\n",
        "print(grade['pey'])\n",
        "print(grade['julliet'])"
      ],
      "metadata": {
        "colab": {
          "base_uri": "https://localhost:8080/"
        },
        "id": "3pM__pE3zRCn",
        "outputId": "ceb793e3-e3b8-4d6a-d61a-4146d0855e50"
      },
      "execution_count": null,
      "outputs": [
        {
          "output_type": "stream",
          "name": "stdout",
          "text": [
            "10\n",
            "99\n"
          ]
        }
      ]
    },
    {
      "cell_type": "code",
      "source": [
        "a={1:'a',2:'b'}\n",
        "print(a[1])\n",
        "print(a[2])"
      ],
      "metadata": {
        "colab": {
          "base_uri": "https://localhost:8080/"
        },
        "id": "MtyQeeaQzuKC",
        "outputId": "a5d2a045-89b5-4530-ce7b-4b21967614d9"
      },
      "execution_count": null,
      "outputs": [
        {
          "output_type": "stream",
          "name": "stdout",
          "text": [
            "a\n",
            "b\n"
          ]
        }
      ]
    },
    {
      "cell_type": "markdown",
      "source": [
        "딕셔너리 만들 때 주의할 사항"
      ],
      "metadata": {
        "id": "-bv9t4xAz-jG"
      }
    },
    {
      "cell_type": "code",
      "source": [
        "a={1:'a',1:'b'} #1이라는 Key 값이 중복으로 사용\n",
        "print(a) #1:'a' 쌍이 무시됨"
      ],
      "metadata": {
        "colab": {
          "base_uri": "https://localhost:8080/"
        },
        "id": "TZ-4UUdE2JIz",
        "outputId": "9fd1a13a-fc9e-47cf-e9f5-3086d0c6d417"
      },
      "execution_count": null,
      "outputs": [
        {
          "output_type": "stream",
          "name": "stdout",
          "text": [
            "{1: 'b'}\n"
          ]
        }
      ]
    },
    {
      "cell_type": "code",
      "source": [
        "a={[1,2]:'hi'} #리스트를 key로 사용 - 형 오류 발생"
      ],
      "metadata": {
        "colab": {
          "base_uri": "https://localhost:8080/",
          "height": 174
        },
        "id": "lJfcHY472XXa",
        "outputId": "5eba0f88-be74-4711-fd77-53099c415b8e"
      },
      "execution_count": null,
      "outputs": [
        {
          "output_type": "error",
          "ename": "TypeError",
          "evalue": "ignored",
          "traceback": [
            "\u001b[0;31m---------------------------------------------------------------------------\u001b[0m",
            "\u001b[0;31mTypeError\u001b[0m                                 Traceback (most recent call last)",
            "\u001b[0;32m<ipython-input-19-37f8a87e56cb>\u001b[0m in \u001b[0;36m<cell line: 1>\u001b[0;34m()\u001b[0m\n\u001b[0;32m----> 1\u001b[0;31m \u001b[0ma\u001b[0m\u001b[0;34m=\u001b[0m\u001b[0;34m{\u001b[0m\u001b[0;34m[\u001b[0m\u001b[0;36m1\u001b[0m\u001b[0;34m,\u001b[0m\u001b[0;36m2\u001b[0m\u001b[0;34m]\u001b[0m\u001b[0;34m:\u001b[0m\u001b[0;34m'hi'\u001b[0m\u001b[0;34m}\u001b[0m \u001b[0;31m#리스트를 key로 사용 - 형 오류 발생\u001b[0m\u001b[0;34m\u001b[0m\u001b[0;34m\u001b[0m\u001b[0m\n\u001b[0m",
            "\u001b[0;31mTypeError\u001b[0m: unhashable type: 'list'"
          ]
        }
      ]
    },
    {
      "cell_type": "markdown",
      "source": [
        "# 딕셔너리 관련 함수"
      ],
      "metadata": {
        "id": "tV8yRL3B2hKh"
      }
    },
    {
      "cell_type": "markdown",
      "source": [
        "Key 리스트 만들기(keys)"
      ],
      "metadata": {
        "id": "BgSxsWHS2jZ0"
      }
    },
    {
      "cell_type": "code",
      "source": [
        "a={'name':'pey','phone':'0119993323','birth':'1118'}\n",
        "print(a.keys()) #a.keys()는 딕셔너리 a의 Key만을 모아서 dict_keys 객체를 돌려준다."
      ],
      "metadata": {
        "colab": {
          "base_uri": "https://localhost:8080/"
        },
        "id": "kAesNTAr2pEX",
        "outputId": "549ca80c-cf38-4cb9-8bcc-0284b44b70ae"
      },
      "execution_count": null,
      "outputs": [
        {
          "output_type": "stream",
          "name": "stdout",
          "text": [
            "dict_keys(['name', 'phone', 'birth'])\n"
          ]
        }
      ]
    },
    {
      "cell_type": "code",
      "source": [
        "for k in a.keys():\n",
        "    print(k) #print(k)를 입력할 때 들여쓰기를 하지 않으면 오류가 발생하니 주의하자."
      ],
      "metadata": {
        "colab": {
          "base_uri": "https://localhost:8080/"
        },
        "id": "qu0Zml4j3s01",
        "outputId": "38b5854b-c848-4c57-e1d0-b354b75b675b"
      },
      "execution_count": null,
      "outputs": [
        {
          "output_type": "stream",
          "name": "stdout",
          "text": [
            "name\n",
            "phone\n",
            "birth\n"
          ]
        }
      ]
    },
    {
      "cell_type": "code",
      "source": [
        "list(a.keys()) #dict_keys 객체를 리스트로 변환하려면 다음과 같이 하면 된다."
      ],
      "metadata": {
        "colab": {
          "base_uri": "https://localhost:8080/"
        },
        "id": "4bUAN08M4IJW",
        "outputId": "5edb2f85-c926-406b-a6de-b4afed243752"
      },
      "execution_count": null,
      "outputs": [
        {
          "output_type": "execute_result",
          "data": {
            "text/plain": [
              "['name', 'phone', 'birth']"
            ]
          },
          "metadata": {},
          "execution_count": 33
        }
      ]
    },
    {
      "cell_type": "markdown",
      "source": [
        "Value 리스트 만들기(values)"
      ],
      "metadata": {
        "id": "IegvmPTh4Q2M"
      }
    },
    {
      "cell_type": "code",
      "source": [
        "print(a.values())"
      ],
      "metadata": {
        "colab": {
          "base_uri": "https://localhost:8080/"
        },
        "id": "UvOKjNBf4VmS",
        "outputId": "8e688101-352f-4846-da7c-169874186835"
      },
      "execution_count": null,
      "outputs": [
        {
          "output_type": "stream",
          "name": "stdout",
          "text": [
            "dict_values(['pey', '0119993323', '1118'])\n"
          ]
        }
      ]
    },
    {
      "cell_type": "markdown",
      "source": [
        "Key, Value 쌍 얻기(items)"
      ],
      "metadata": {
        "id": "AWGe7oFV4bgb"
      }
    },
    {
      "cell_type": "code",
      "source": [
        "print(a.items())"
      ],
      "metadata": {
        "colab": {
          "base_uri": "https://localhost:8080/"
        },
        "id": "SKvA5D9Y4gMX",
        "outputId": "5fcaf417-4a3c-4dc6-aa3c-e97b896ec9fe"
      },
      "execution_count": null,
      "outputs": [
        {
          "output_type": "stream",
          "name": "stdout",
          "text": [
            "dict_items([('name', 'pey'), ('phone', '0119993323'), ('birth', '1118')])\n"
          ]
        }
      ]
    },
    {
      "cell_type": "markdown",
      "source": [
        "Key:Value 쌍 모두 지우기(clear)"
      ],
      "metadata": {
        "id": "KXE3Ps284lGK"
      }
    },
    {
      "cell_type": "code",
      "source": [
        "a.clear()\n",
        "print(a)"
      ],
      "metadata": {
        "colab": {
          "base_uri": "https://localhost:8080/"
        },
        "id": "MyY00ZJL4p9a",
        "outputId": "75455697-98b3-479c-d42e-c580186182a2"
      },
      "execution_count": null,
      "outputs": [
        {
          "output_type": "stream",
          "name": "stdout",
          "text": [
            "{}\n"
          ]
        }
      ]
    },
    {
      "cell_type": "markdown",
      "source": [
        "Key로 Value 얻기(get)"
      ],
      "metadata": {
        "id": "BS-fdayk4tls"
      }
    },
    {
      "cell_type": "code",
      "source": [
        "a={'name':'pey','phone':'0119993323','birth':'1118'}\n",
        "print(a.get('name'))\n",
        "print(a.get('phone'))"
      ],
      "metadata": {
        "colab": {
          "base_uri": "https://localhost:8080/"
        },
        "id": "8RCu7zjF4we5",
        "outputId": "c1cddf23-3462-4359-998e-ed8934bc35d4"
      },
      "execution_count": null,
      "outputs": [
        {
          "output_type": "stream",
          "name": "stdout",
          "text": [
            "pey\n",
            "0119993323\n"
          ]
        }
      ]
    },
    {
      "cell_type": "code",
      "source": [
        "a={'name':'pet','phone':'0119993323','birth':'1118'}\n",
        "print(a.get('nokey')) #None을 리턴함\n",
        "print(a['nokey']) #error 발생"
      ],
      "metadata": {
        "colab": {
          "base_uri": "https://localhost:8080/",
          "height": 229
        },
        "id": "kfN7h93a46XF",
        "outputId": "38f9bf20-803b-403c-9565-c07dfa6d2dc7"
      },
      "execution_count": null,
      "outputs": [
        {
          "output_type": "stream",
          "name": "stdout",
          "text": [
            "None\n"
          ]
        },
        {
          "output_type": "error",
          "ename": "KeyError",
          "evalue": "ignored",
          "traceback": [
            "\u001b[0;31m---------------------------------------------------------------------------\u001b[0m",
            "\u001b[0;31mKeyError\u001b[0m                                  Traceback (most recent call last)",
            "\u001b[0;32m<ipython-input-40-f6f46f8c06fd>\u001b[0m in \u001b[0;36m<cell line: 3>\u001b[0;34m()\u001b[0m\n\u001b[1;32m      1\u001b[0m \u001b[0ma\u001b[0m\u001b[0;34m=\u001b[0m\u001b[0;34m{\u001b[0m\u001b[0;34m'name'\u001b[0m\u001b[0;34m:\u001b[0m\u001b[0;34m'pet'\u001b[0m\u001b[0;34m,\u001b[0m\u001b[0;34m'phone'\u001b[0m\u001b[0;34m:\u001b[0m\u001b[0;34m'0119993323'\u001b[0m\u001b[0;34m,\u001b[0m\u001b[0;34m'birth'\u001b[0m\u001b[0;34m:\u001b[0m\u001b[0;34m'1118'\u001b[0m\u001b[0;34m}\u001b[0m\u001b[0;34m\u001b[0m\u001b[0;34m\u001b[0m\u001b[0m\n\u001b[1;32m      2\u001b[0m \u001b[0mprint\u001b[0m\u001b[0;34m(\u001b[0m\u001b[0ma\u001b[0m\u001b[0;34m.\u001b[0m\u001b[0mget\u001b[0m\u001b[0;34m(\u001b[0m\u001b[0;34m'nokey'\u001b[0m\u001b[0;34m)\u001b[0m\u001b[0;34m)\u001b[0m \u001b[0;31m#None을 리턴함\u001b[0m\u001b[0;34m\u001b[0m\u001b[0;34m\u001b[0m\u001b[0m\n\u001b[0;32m----> 3\u001b[0;31m \u001b[0mprint\u001b[0m\u001b[0;34m(\u001b[0m\u001b[0ma\u001b[0m\u001b[0;34m[\u001b[0m\u001b[0;34m'nokey'\u001b[0m\u001b[0;34m]\u001b[0m\u001b[0;34m)\u001b[0m \u001b[0;31m#error 발생\u001b[0m\u001b[0;34m\u001b[0m\u001b[0;34m\u001b[0m\u001b[0m\n\u001b[0m",
            "\u001b[0;31mKeyError\u001b[0m: 'nokey'"
          ]
        }
      ]
    },
    {
      "cell_type": "code",
      "source": [
        "print(a.get('foo','bar')) #딕셔너리 안에 찾으려는 Key 값이 없을 경우 미리 정해 둔 디폴트 값을 대신 가져오게 하고 싶을 때에는 get(x,'디폴트 값')을 사용하면 편리하다"
      ],
      "metadata": {
        "colab": {
          "base_uri": "https://localhost:8080/"
        },
        "id": "olZ4p8DO5iRK",
        "outputId": "a3573274-2934-48ae-d5a6-2d1d2212183a"
      },
      "execution_count": null,
      "outputs": [
        {
          "output_type": "stream",
          "name": "stdout",
          "text": [
            "bar\n"
          ]
        }
      ]
    },
    {
      "cell_type": "markdown",
      "source": [
        "해당 Key가 딕셔너리 안에 있는지 조사하기(in)"
      ],
      "metadata": {
        "id": "4SE3pws-5z4_"
      }
    },
    {
      "cell_type": "code",
      "source": [
        "a={'name':'pet','phone':'0119993323','birth':'1118'}\n",
        "print('name' in a)\n",
        "print('email' in a)\n",
        "#리스트와 튜플에도 적용 가능"
      ],
      "metadata": {
        "colab": {
          "base_uri": "https://localhost:8080/"
        },
        "id": "npQhEVNC53At",
        "outputId": "d2924c0e-5e30-4f5f-85e5-674ac1541865"
      },
      "execution_count": null,
      "outputs": [
        {
          "output_type": "stream",
          "name": "stdout",
          "text": [
            "True\n",
            "False\n"
          ]
        }
      ]
    }
  ]
}