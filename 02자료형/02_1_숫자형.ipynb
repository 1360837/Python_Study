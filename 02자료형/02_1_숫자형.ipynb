{
  "nbformat": 4,
  "nbformat_minor": 0,
  "metadata": {
    "colab": {
      "provenance": [],
      "authorship_tag": "ABX9TyOcp/DQS5Um69wxeW5Nz8UZ",
      "include_colab_link": true
    },
    "kernelspec": {
      "name": "python3",
      "display_name": "Python 3"
    },
    "language_info": {
      "name": "python"
    }
  },
  "cells": [
    {
      "cell_type": "markdown",
      "metadata": {
        "id": "view-in-github",
        "colab_type": "text"
      },
      "source": [
        "<a href=\"https://colab.research.google.com/github/1360837/Python_Study/blob/main/02%EC%9E%90%EB%A3%8C%ED%98%95/02_1_%EC%88%AB%EC%9E%90%ED%98%95.ipynb\" target=\"_parent\"><img src=\"https://colab.research.google.com/assets/colab-badge.svg\" alt=\"Open In Colab\"/></a>"
      ]
    },
    {
      "cell_type": "markdown",
      "source": [
        "사칙연산"
      ],
      "metadata": {
        "id": "cQRV5cpXc0eS"
      }
    },
    {
      "cell_type": "code",
      "source": [
        "a=3\n",
        "b=4\n",
        "print(a+b)\n",
        "print(a-b)\n",
        "print(a*b)\n",
        "print(a/b)"
      ],
      "metadata": {
        "colab": {
          "base_uri": "https://localhost:8080/"
        },
        "id": "0jkfbLtEcRza",
        "outputId": "33df4c2c-5c3d-4dd7-9332-a6beac636199"
      },
      "execution_count": 3,
      "outputs": [
        {
          "output_type": "stream",
          "name": "stdout",
          "text": [
            "7\n",
            "-1\n",
            "12\n",
            "0.75\n"
          ]
        }
      ]
    },
    {
      "cell_type": "markdown",
      "source": [
        "a의 b제곱을 나타내는 **연산자"
      ],
      "metadata": {
        "id": "Km_7nAhhc9As"
      }
    },
    {
      "cell_type": "code",
      "source": [
        "a**b"
      ],
      "metadata": {
        "colab": {
          "base_uri": "https://localhost:8080/"
        },
        "id": "M1e2rh54cgl6",
        "outputId": "2742d643-501a-4519-d46b-b2f56d410a9c"
      },
      "execution_count": null,
      "outputs": [
        {
          "output_type": "execute_result",
          "data": {
            "text/plain": [
              "81"
            ]
          },
          "metadata": {},
          "execution_count": 11
        }
      ]
    },
    {
      "cell_type": "markdown",
      "source": [
        "나눗셈 후 나머지를 반환하는 %연산자\n"
      ],
      "metadata": {
        "id": "Sx3_v2aBdJLC"
      }
    },
    {
      "cell_type": "code",
      "source": [
        "print(7%3)\n",
        "print(3%7)"
      ],
      "metadata": {
        "colab": {
          "base_uri": "https://localhost:8080/"
        },
        "id": "S66KDiUndMJo",
        "outputId": "ca165c87-cb59-4d38-c290-9457dcb197f6"
      },
      "execution_count": 4,
      "outputs": [
        {
          "output_type": "stream",
          "name": "stdout",
          "text": [
            "1\n",
            "3\n"
          ]
        }
      ]
    },
    {
      "cell_type": "markdown",
      "source": [
        "나눗셈 후 몫을 반환하는 //연산자 "
      ],
      "metadata": {
        "id": "Hn9CjCtFdaC-"
      }
    },
    {
      "cell_type": "code",
      "source": [
        "7//4"
      ],
      "metadata": {
        "colab": {
          "base_uri": "https://localhost:8080/"
        },
        "id": "y_68aKh2ddue",
        "outputId": "36837468-7a0a-4fc0-f8fe-36ebdc36e1ba"
      },
      "execution_count": null,
      "outputs": [
        {
          "output_type": "execute_result",
          "data": {
            "text/plain": [
              "1"
            ]
          },
          "metadata": {},
          "execution_count": 16
        }
      ]
    },
    {
      "cell_type": "markdown",
      "source": [
        "**나혼자 코딩**\n",
        "숫자 14를 3으로 나누었을 때 몫과 나머지를 확인해보자 "
      ],
      "metadata": {
        "id": "WKfCe9tJdjUk"
      }
    },
    {
      "cell_type": "code",
      "source": [
        "print(\"14 나누기 3의 몫 :\",14//3)\n",
        "print(\"14 나누기 3의 나머지 :\",14%3)"
      ],
      "metadata": {
        "colab": {
          "base_uri": "https://localhost:8080/"
        },
        "id": "GtWeChbldwVu",
        "outputId": "de79c2c9-cb92-4619-87f5-76a27dff2770"
      },
      "execution_count": 15,
      "outputs": [
        {
          "output_type": "stream",
          "name": "stdout",
          "text": [
            "14 나누기 3의 몫 : 4\n",
            "14 나누기 3의 나머지 : 2\n"
          ]
        }
      ]
    }
  ]
}