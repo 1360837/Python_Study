{
  "nbformat": 4,
  "nbformat_minor": 0,
  "metadata": {
    "colab": {
      "provenance": [],
      "authorship_tag": "ABX9TyOF+AcOwwINU+/y/fjZK56s",
      "include_colab_link": true
    },
    "kernelspec": {
      "name": "python3",
      "display_name": "Python 3"
    },
    "language_info": {
      "name": "python"
    }
  },
  "cells": [
    {
      "cell_type": "markdown",
      "metadata": {
        "id": "view-in-github",
        "colab_type": "text"
      },
      "source": [
        "<a href=\"https://colab.research.google.com/github/1360837/Python_Study/blob/main/02%EC%9E%90%EB%A3%8C%ED%98%95/02_6_%EC%A7%91%ED%95%A9%EC%9E%90%EB%A3%8C%ED%98%95.ipynb\" target=\"_parent\"><img src=\"https://colab.research.google.com/assets/colab-badge.svg\" alt=\"Open In Colab\"/></a>"
      ]
    },
    {
      "cell_type": "markdown",
      "source": [
        "# 집합 자료형은 어떻게 만들까?"
      ],
      "metadata": {
        "id": "8Edts2uWUiji"
      }
    },
    {
      "cell_type": "code",
      "source": [
        "#집합 자료형은 set키워드를 사용해 만들 수 있다\n",
        "s1=set([1,2,3])\n",
        "print(s1)\n",
        "s2=set(\"Hello\")\n",
        "print(s2)"
      ],
      "metadata": {
        "colab": {
          "base_uri": "https://localhost:8080/"
        },
        "id": "x1_gj62RUlYR",
        "outputId": "edabb814-6e11-43ce-eaa3-2d39104df9d2"
      },
      "execution_count": null,
      "outputs": [
        {
          "output_type": "stream",
          "name": "stdout",
          "text": [
            "{1, 2, 3}\n",
            "{'H', 'o', 'e', 'l'}\n"
          ]
        }
      ]
    },
    {
      "cell_type": "markdown",
      "source": [
        "# 집합 자료형의 특징\n",
        "- 중복을 허용하지 않는다\n",
        "- 순서가 없다(Unordered) : 인덱스가 없다"
      ],
      "metadata": {
        "id": "fTTFB3LEVDUB"
      }
    },
    {
      "cell_type": "code",
      "source": [
        "s1=set([1,2,3])\n",
        "l1=list(s1) #리스트로 변환\n",
        "print(l1)\n",
        "print(l1[0])\n",
        "t1=tuple(s1)\n",
        "print(t1)\n",
        "print(t1[0])"
      ],
      "metadata": {
        "colab": {
          "base_uri": "https://localhost:8080/"
        },
        "id": "vEf1mVuNVGAp",
        "outputId": "0bfaf6b6-9e62-4f73-80e3-fc13b6e228e4"
      },
      "execution_count": null,
      "outputs": [
        {
          "output_type": "stream",
          "name": "stdout",
          "text": [
            "[1, 2, 3]\n",
            "1\n",
            "(1, 2, 3)\n",
            "1\n"
          ]
        }
      ]
    },
    {
      "cell_type": "markdown",
      "source": [
        "# 교집합, 합집합, 차집합 구하기"
      ],
      "metadata": {
        "id": "LAbMlYowVn_d"
      }
    },
    {
      "cell_type": "code",
      "source": [
        "s1=set([1,2,3,4,5,6])\n",
        "s2=set([4,5,6,7,8,9])\n",
        "\n",
        "#교집합\n",
        "print(s1&s2)\n",
        "\n",
        "#합집합\n",
        "print(s1|s2)\n",
        "print(s1.union(s2))\n",
        "\n",
        "#차집합\n",
        "print(s1-s2)\n",
        "print(s2-s1)\n",
        "print(s1.difference(s2))\n",
        "print(s2.difference(s1))"
      ],
      "metadata": {
        "colab": {
          "base_uri": "https://localhost:8080/"
        },
        "id": "aHLhvRPNVrjY",
        "outputId": "141aa073-b1f6-4f68-9737-b3d1623334f9"
      },
      "execution_count": null,
      "outputs": [
        {
          "output_type": "stream",
          "name": "stdout",
          "text": [
            "{4, 5, 6}\n",
            "{1, 2, 3, 4, 5, 6, 7, 8, 9}\n",
            "{1, 2, 3, 4, 5, 6, 7, 8, 9}\n",
            "{1, 2, 3}\n",
            "{8, 9, 7}\n",
            "{1, 2, 3}\n",
            "{8, 9, 7}\n"
          ]
        }
      ]
    },
    {
      "cell_type": "markdown",
      "source": [
        "# 집합 자료형 관련 함수"
      ],
      "metadata": {
        "id": "BHdONHc_WTuA"
      }
    },
    {
      "cell_type": "markdown",
      "source": [
        "값 1개 추가하기(add)"
      ],
      "metadata": {
        "id": "Uyqt8iNzWXEc"
      }
    },
    {
      "cell_type": "code",
      "source": [
        "s1=set([1,2,3])\n",
        "s1.add(4)\n",
        "print(s1)"
      ],
      "metadata": {
        "colab": {
          "base_uri": "https://localhost:8080/"
        },
        "id": "rA9_pHgeWZYW",
        "outputId": "a4520608-251b-4cf9-9fb2-d738992f06bf"
      },
      "execution_count": null,
      "outputs": [
        {
          "output_type": "stream",
          "name": "stdout",
          "text": [
            "{1, 2, 3, 4}\n"
          ]
        }
      ]
    },
    {
      "cell_type": "markdown",
      "source": [
        "값 여러 개 추가하기(update)"
      ],
      "metadata": {
        "id": "zC2LcZggWfGt"
      }
    },
    {
      "cell_type": "code",
      "source": [
        "s1=set([1,2,3])\n",
        "s1.update([4,5,6])\n",
        "print(s1)"
      ],
      "metadata": {
        "colab": {
          "base_uri": "https://localhost:8080/"
        },
        "id": "K0CJ2JHrWiyg",
        "outputId": "6e0424e9-ff58-4022-bcf3-97939f55030f"
      },
      "execution_count": null,
      "outputs": [
        {
          "output_type": "stream",
          "name": "stdout",
          "text": [
            "{1, 2, 3, 4, 5, 6}\n"
          ]
        }
      ]
    },
    {
      "cell_type": "markdown",
      "source": [
        "특정 값 제거하기(remove)"
      ],
      "metadata": {
        "id": "sqqkTq1XWo3N"
      }
    },
    {
      "cell_type": "code",
      "source": [
        "s1=set([1,2,3])\n",
        "s1.remove(2)\n",
        "print(s1)"
      ],
      "metadata": {
        "id": "S-Eo48dtWrTh",
        "outputId": "202c1049-b7ac-4ea6-e7c6-1ba0df3e207e",
        "colab": {
          "base_uri": "https://localhost:8080/"
        }
      },
      "execution_count": null,
      "outputs": [
        {
          "output_type": "stream",
          "name": "stdout",
          "text": [
            "{1, 3}\n"
          ]
        }
      ]
    }
  ]
}