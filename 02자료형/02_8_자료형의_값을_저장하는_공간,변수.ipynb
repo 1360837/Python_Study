{
  "nbformat": 4,
  "nbformat_minor": 0,
  "metadata": {
    "colab": {
      "provenance": [],
      "authorship_tag": "ABX9TyMQzZUFh1OLMZgDqkgR92TG",
      "include_colab_link": true
    },
    "kernelspec": {
      "name": "python3",
      "display_name": "Python 3"
    },
    "language_info": {
      "name": "python"
    }
  },
  "cells": [
    {
      "cell_type": "markdown",
      "metadata": {
        "id": "view-in-github",
        "colab_type": "text"
      },
      "source": [
        "<a href=\"https://colab.research.google.com/github/1360837/Python_Study/blob/main/02%EC%9E%90%EB%A3%8C%ED%98%95/02_8_%EC%9E%90%EB%A3%8C%ED%98%95%EC%9D%98_%EA%B0%92%EC%9D%84_%EC%A0%80%EC%9E%A5%ED%95%98%EB%8A%94_%EA%B3%B5%EA%B0%84%2C%EB%B3%80%EC%88%98.ipynb\" target=\"_parent\"><img src=\"https://colab.research.google.com/assets/colab-badge.svg\" alt=\"Open In Colab\"/></a>"
      ]
    },
    {
      "cell_type": "code",
      "execution_count": null,
      "metadata": {
        "id": "dg7aRnGXdjoh"
      },
      "outputs": [],
      "source": [
        "a=1\n",
        "b=\"python\"\n",
        "c=[1,2,3]\n",
        "#변수이름 = 변수에 저장할 값"
      ]
    },
    {
      "cell_type": "markdown",
      "source": [
        "# 변수란?\n",
        "객체를 가리키는 것(객체 : 자료형과 같은 것)"
      ],
      "metadata": {
        "id": "ZF2YCv19dyYi"
      }
    },
    {
      "cell_type": "code",
      "source": [
        "a=[1,2,3]\n",
        "#[1,2,3]값을 가지는 리스트 자료형(객체)이 자동으로 메모리에 생성되고 변수 a는 [1,2,3]리스트가 저장된 메모리의 주소를 가리킨다.\n",
        "print(id(a))"
      ],
      "metadata": {
        "colab": {
          "base_uri": "https://localhost:8080/"
        },
        "id": "M5U2a0Fqd0uI",
        "outputId": "ab0573f3-3ba9-4d49-de6e-9f816cc8fc5a"
      },
      "execution_count": 1,
      "outputs": [
        {
          "output_type": "stream",
          "name": "stdout",
          "text": [
            "140250937257280\n"
          ]
        }
      ]
    },
    {
      "cell_type": "markdown",
      "source": [
        "# 리스트를 복사할 때"
      ],
      "metadata": {
        "id": "jN-JohBogw7d"
      }
    },
    {
      "cell_type": "code",
      "source": [
        "a=[1,2,3]\n",
        "b=a\n",
        "print(id(a))\n",
        "print(id(b))\n",
        "print(a is b)\n",
        "\n",
        "a[1]=4\n",
        "print(a)\n",
        "print(b)"
      ],
      "metadata": {
        "colab": {
          "base_uri": "https://localhost:8080/"
        },
        "id": "ec2gQUDHg1ai",
        "outputId": "2bfbc6c6-c247-4eb4-d82d-67020f906f41"
      },
      "execution_count": 4,
      "outputs": [
        {
          "output_type": "stream",
          "name": "stdout",
          "text": [
            "140250176515968\n",
            "140250176515968\n",
            "True\n",
            "[1, 4, 3]\n",
            "[1, 4, 3]\n"
          ]
        }
      ]
    },
    {
      "cell_type": "markdown",
      "source": [
        "[:] 사용"
      ],
      "metadata": {
        "id": "T3UQlYpThMls"
      }
    },
    {
      "cell_type": "code",
      "source": [
        "a=[1,2,3]\n",
        "b=a[:]\n",
        "a[1]=4\n",
        "print(a)\n",
        "print(b)"
      ],
      "metadata": {
        "colab": {
          "base_uri": "https://localhost:8080/"
        },
        "id": "LgxSA-NnhPQu",
        "outputId": "362acc52-f44b-4c7e-89ee-7cfde71e380b"
      },
      "execution_count": 5,
      "outputs": [
        {
          "output_type": "stream",
          "name": "stdout",
          "text": [
            "[1, 4, 3]\n",
            "[1, 2, 3]\n"
          ]
        }
      ]
    },
    {
      "cell_type": "markdown",
      "source": [
        "copy모듈 사용"
      ],
      "metadata": {
        "id": "7de_zKzlheVM"
      }
    },
    {
      "cell_type": "code",
      "source": [
        "from copy import copy\n",
        "a=[1,2,3]\n",
        "b=copy(a) #b=a[:]\n",
        "print(a)\n",
        "print(b)\n",
        "print(b is a) #두 객체는 서로 다르다"
      ],
      "metadata": {
        "colab": {
          "base_uri": "https://localhost:8080/"
        },
        "id": "7geVW1jkhgTq",
        "outputId": "067c98eb-04fe-4131-fec3-5c7e7a5ec0c1"
      },
      "execution_count": 7,
      "outputs": [
        {
          "output_type": "stream",
          "name": "stdout",
          "text": [
            "[1, 2, 3]\n",
            "[1, 2, 3]\n",
            "False\n"
          ]
        }
      ]
    },
    {
      "cell_type": "markdown",
      "source": [
        "# 변수를 만드는 여러 가지 방법"
      ],
      "metadata": {
        "id": "yL0hYpEdh4AZ"
      }
    },
    {
      "cell_type": "code",
      "source": [
        "a,b=('python','life') #튜플로 a,b에 값을 대입할 수 있다.\n",
        "(a,b)='python','life' #튜플은 괄호를 생략해도 된다\n",
        "[a,b]=['python','life'] #리스트로 변수를 만들 수도 있다\n",
        "a=b='python' #여러 개의 변수에 같은 값을 대입할 수도 있따"
      ],
      "metadata": {
        "id": "aVtVWKuZh6Vs"
      },
      "execution_count": null,
      "outputs": []
    },
    {
      "cell_type": "code",
      "source": [
        "#간단하게 두 변수의 값을 바꾸는 법\n",
        "a=3\n",
        "b=5\n",
        "a,b=b,a\n",
        "print(a)\n",
        "print(b)"
      ],
      "metadata": {
        "colab": {
          "base_uri": "https://localhost:8080/"
        },
        "id": "vYAmXXe0id2s",
        "outputId": "60cec55a-c4fd-4729-da94-d983d3e1165e"
      },
      "execution_count": 8,
      "outputs": [
        {
          "output_type": "stream",
          "name": "stdout",
          "text": [
            "5\n",
            "3\n"
          ]
        }
      ]
    },
    {
      "cell_type": "markdown",
      "source": [
        "**나혼자 코딩**"
      ],
      "metadata": {
        "id": "fjehHtZVimW_"
      }
    },
    {
      "cell_type": "code",
      "source": [
        "a=[1,2,3]\n",
        "b=[1,2,3]\n",
        "print(a is b)"
      ],
      "metadata": {
        "colab": {
          "base_uri": "https://localhost:8080/"
        },
        "id": "z8Vi2vUyipzT",
        "outputId": "ca489671-bb1e-458f-8b39-bd4baf6aebe3"
      },
      "execution_count": 9,
      "outputs": [
        {
          "output_type": "stream",
          "name": "stdout",
          "text": [
            "False\n"
          ]
        }
      ]
    }
  ]
}