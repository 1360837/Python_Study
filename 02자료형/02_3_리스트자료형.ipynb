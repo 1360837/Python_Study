{
  "nbformat": 4,
  "nbformat_minor": 0,
  "metadata": {
    "colab": {
      "provenance": [],
      "authorship_tag": "ABX9TyMW3SWhEBK60Jj1jfSwUSXI",
      "include_colab_link": true
    },
    "kernelspec": {
      "name": "python3",
      "display_name": "Python 3"
    },
    "language_info": {
      "name": "python"
    }
  },
  "cells": [
    {
      "cell_type": "markdown",
      "metadata": {
        "id": "view-in-github",
        "colab_type": "text"
      },
      "source": [
        "<a href=\"https://colab.research.google.com/github/1360837/Python_Study/blob/main/02%EC%9E%90%EB%A3%8C%ED%98%95/02_3_%EB%A6%AC%EC%8A%A4%ED%8A%B8%EC%9E%90%EB%A3%8C%ED%98%95.ipynb\" target=\"_parent\"><img src=\"https://colab.research.google.com/assets/colab-badge.svg\" alt=\"Open In Colab\"/></a>"
      ]
    },
    {
      "cell_type": "markdown",
      "source": [
        "# 리스트는 어떻게 만들고 사용할까?"
      ],
      "metadata": {
        "id": "z_Jg1l2-kObg"
      }
    },
    {
      "cell_type": "code",
      "source": [
        "odd=[1,3,5,7,9]\n",
        "a=[]\n",
        "b=[1,2,3]\n",
        "c=['Life','is','too','short']\n",
        "d=[1,2,'Life','is']\n",
        "e=[1,2,['Life','is']]"
      ],
      "metadata": {
        "id": "jfue7ypfkSeJ"
      },
      "execution_count": 1,
      "outputs": []
    },
    {
      "cell_type": "markdown",
      "source": [
        "# 리스트의 인덱싱과 슬라이싱"
      ],
      "metadata": {
        "id": "coowh1QektDd"
      }
    },
    {
      "cell_type": "markdown",
      "source": [
        "리스트의 인덱싱"
      ],
      "metadata": {
        "id": "fJltm6zHkwdO"
      }
    },
    {
      "cell_type": "code",
      "source": [
        "a=[1,2,3]\n",
        "print(a)\n",
        "print(a[0])\n",
        "print(a[1]+a[2])\n",
        "print(a[-1])"
      ],
      "metadata": {
        "colab": {
          "base_uri": "https://localhost:8080/"
        },
        "id": "Ku_CvRgekxrR",
        "outputId": "25f1ed6b-b7f9-4c8f-f42f-8320d9b41119"
      },
      "execution_count": 6,
      "outputs": [
        {
          "output_type": "stream",
          "name": "stdout",
          "text": [
            "[1, 2, 3]\n",
            "1\n",
            "5\n",
            "3\n"
          ]
        }
      ]
    },
    {
      "cell_type": "code",
      "source": [
        "a=[1,2,3,['a','b','c']]\n",
        "print(a[0])\n",
        "print(a[-1])\n",
        "print(a[3])\n",
        "print(a[-1][0])\n",
        "print(a[-1][2])"
      ],
      "metadata": {
        "colab": {
          "base_uri": "https://localhost:8080/"
        },
        "id": "pEAcXKHJk2J7",
        "outputId": "d52607b3-6627-428c-a96c-c7d771c9e745"
      },
      "execution_count": 9,
      "outputs": [
        {
          "output_type": "stream",
          "name": "stdout",
          "text": [
            "1\n",
            "['a', 'b', 'c']\n",
            "['a', 'b', 'c']\n",
            "a\n",
            "c\n"
          ]
        }
      ]
    },
    {
      "cell_type": "markdown",
      "source": [
        "리스트의 슬라이싱"
      ],
      "metadata": {
        "id": "azX2DJ2PlcIB"
      }
    },
    {
      "cell_type": "code",
      "source": [
        "a=[1,2,3,4,5]\n",
        "print(a[0:2])"
      ],
      "metadata": {
        "colab": {
          "base_uri": "https://localhost:8080/"
        },
        "id": "OS2p_fO9ldPu",
        "outputId": "2b970d73-3503-4b46-e42a-8e4f69af0779"
      },
      "execution_count": 10,
      "outputs": [
        {
          "output_type": "stream",
          "name": "stdout",
          "text": [
            "[1, 2]\n"
          ]
        }
      ]
    },
    {
      "cell_type": "code",
      "source": [
        "a=\"12345\"\n",
        "print(a[0:2])"
      ],
      "metadata": {
        "colab": {
          "base_uri": "https://localhost:8080/"
        },
        "id": "11nXOYtolkGU",
        "outputId": "bc536e69-7365-4041-a954-a875dd7af85e"
      },
      "execution_count": 11,
      "outputs": [
        {
          "output_type": "stream",
          "name": "stdout",
          "text": [
            "12\n"
          ]
        }
      ]
    },
    {
      "cell_type": "code",
      "source": [
        "a=[1,2,3,4,5]\n",
        "b=a[:2]\n",
        "c=a[2:]\n",
        "print(b)\n",
        "print(c)"
      ],
      "metadata": {
        "colab": {
          "base_uri": "https://localhost:8080/"
        },
        "id": "mS285yQ4lpa-",
        "outputId": "766dfa7d-06fd-4384-e0a6-8ee495b81106"
      },
      "execution_count": 12,
      "outputs": [
        {
          "output_type": "stream",
          "name": "stdout",
          "text": [
            "[1, 2]\n",
            "[3, 4, 5]\n"
          ]
        }
      ]
    },
    {
      "cell_type": "markdown",
      "source": [
        "**나혼자 코딩** A=[1,2,3,4,5] 리스트에서 슬라이싱 기법을 사용하여 리스트 [2,3]를 만들어보자."
      ],
      "metadata": {
        "id": "GBdUjyewmHdm"
      }
    },
    {
      "cell_type": "code",
      "source": [
        "a=[1,2,3,4,5]\n",
        "print(a[1:3])"
      ],
      "metadata": {
        "colab": {
          "base_uri": "https://localhost:8080/"
        },
        "id": "ZaEQnJNumQLN",
        "outputId": "dc562aa6-1736-42e9-8101-688ddfa58c6c"
      },
      "execution_count": 14,
      "outputs": [
        {
          "output_type": "stream",
          "name": "stdout",
          "text": [
            "[2, 3]\n"
          ]
        }
      ]
    },
    {
      "cell_type": "markdown",
      "source": [
        "# 리스트 연산하기"
      ],
      "metadata": {
        "id": "hYKl37pKmXJw"
      }
    },
    {
      "cell_type": "markdown",
      "source": [
        "1. 리스트 더하기"
      ],
      "metadata": {
        "id": "pJipq11ZmcZi"
      }
    },
    {
      "cell_type": "code",
      "source": [
        "a=[1,2,3]\n",
        "b=[4,5,6]\n",
        "print(a+b)"
      ],
      "metadata": {
        "colab": {
          "base_uri": "https://localhost:8080/"
        },
        "id": "WvH1Wsckmr-n",
        "outputId": "fcba9e64-8191-4fa7-8963-8b4171aca954"
      },
      "execution_count": 15,
      "outputs": [
        {
          "output_type": "stream",
          "name": "stdout",
          "text": [
            "[1, 2, 3, 4, 5, 6]\n"
          ]
        }
      ]
    },
    {
      "cell_type": "markdown",
      "source": [
        "2. 리스트 반복하기(*)"
      ],
      "metadata": {
        "id": "VdgRENS0mtWh"
      }
    },
    {
      "cell_type": "code",
      "source": [
        "a=[1,2,3]\n",
        "print(a*3)"
      ],
      "metadata": {
        "colab": {
          "base_uri": "https://localhost:8080/"
        },
        "id": "Noya1jzTmv7T",
        "outputId": "51cb0651-5c5e-4417-b8f6-b8c9e9fee7b3"
      },
      "execution_count": 16,
      "outputs": [
        {
          "output_type": "stream",
          "name": "stdout",
          "text": [
            "[1, 2, 3, 1, 2, 3, 1, 2, 3]\n"
          ]
        }
      ]
    },
    {
      "cell_type": "markdown",
      "source": [
        "3. 리스트 길이 구하기"
      ],
      "metadata": {
        "id": "8PxyMGWFm05S"
      }
    },
    {
      "cell_type": "code",
      "source": [
        "a=[1,2,3]\n",
        "print(len(a))"
      ],
      "metadata": {
        "colab": {
          "base_uri": "https://localhost:8080/"
        },
        "id": "czPUr3Trm3sY",
        "outputId": "5d3b90b0-f767-4069-ceb7-3f9a3820069f"
      },
      "execution_count": 17,
      "outputs": [
        {
          "output_type": "stream",
          "name": "stdout",
          "text": [
            "3\n"
          ]
        }
      ]
    },
    {
      "cell_type": "markdown",
      "source": [
        "+ 초보자가 실수하기 쉬운 리스트 연산 오류"
      ],
      "metadata": {
        "id": "CXGwCSCsoHhN"
      }
    },
    {
      "cell_type": "code",
      "source": [
        "a=[1,2,3]\n",
        "\n",
        "#a[2]+\"hi\" - 형오류 발생\n",
        "\n",
        "#숫자에 문자열을 더하고 싶다면 숫자를 문자로 변경해 주어야 한다.\n",
        "str(a[2]) + \"hi\""
      ],
      "metadata": {
        "colab": {
          "base_uri": "https://localhost:8080/",
          "height": 35
        },
        "id": "RTULc10NoPiG",
        "outputId": "46126d76-a14f-4d70-9c9a-dc9600cad78d"
      },
      "execution_count": 18,
      "outputs": [
        {
          "output_type": "execute_result",
          "data": {
            "text/plain": [
              "'3hi'"
            ],
            "application/vnd.google.colaboratory.intrinsic+json": {
              "type": "string"
            }
          },
          "metadata": {},
          "execution_count": 18
        }
      ]
    },
    {
      "cell_type": "markdown",
      "source": [
        "# 리스트의 수정과 삭제"
      ],
      "metadata": {
        "id": "xgnMo0fLn-YQ"
      }
    },
    {
      "cell_type": "markdown",
      "source": [
        "리스트에서 값 수정하기"
      ],
      "metadata": {
        "id": "RTu5fNF2oy0c"
      }
    },
    {
      "cell_type": "code",
      "source": [
        "a=[1,2,3]\n",
        "a[2]=4\n",
        "print(a)"
      ],
      "metadata": {
        "colab": {
          "base_uri": "https://localhost:8080/"
        },
        "id": "1wwljUs2o6gy",
        "outputId": "41132261-719c-45cd-dc13-fc28e0d657cb"
      },
      "execution_count": 20,
      "outputs": [
        {
          "output_type": "stream",
          "name": "stdout",
          "text": [
            "[1, 2, 4]\n"
          ]
        }
      ]
    },
    {
      "cell_type": "markdown",
      "source": [
        "del 함수 사용해 리스트 요소 삭제하기"
      ],
      "metadata": {
        "id": "uypVF4F6o-b3"
      }
    },
    {
      "cell_type": "code",
      "source": [
        "a=[1,2,3]\n",
        "del a[1]\n",
        "print(a)"
      ],
      "metadata": {
        "colab": {
          "base_uri": "https://localhost:8080/"
        },
        "id": "0mEEL9UJoz_P",
        "outputId": "5d04bf8d-3c58-4106-c116-82a9aaff5d06"
      },
      "execution_count": 19,
      "outputs": [
        {
          "output_type": "stream",
          "name": "stdout",
          "text": [
            "[1, 3]\n"
          ]
        }
      ]
    },
    {
      "cell_type": "code",
      "source": [
        "#슬라이싱 기법을 사용하여 리스트의 요소 여러개를 한꺼번에 삭제가능\n",
        "a=[1,2,3,4,5]\n",
        "del a[2:]\n",
        "print(a)"
      ],
      "metadata": {
        "colab": {
          "base_uri": "https://localhost:8080/"
        },
        "id": "DpYoNdedpCW_",
        "outputId": "cdc3a32d-019b-4891-dcfc-712d6a449ff6"
      },
      "execution_count": 21,
      "outputs": [
        {
          "output_type": "stream",
          "name": "stdout",
          "text": [
            "[1, 2]\n"
          ]
        }
      ]
    },
    {
      "cell_type": "markdown",
      "source": [
        "# 리스트 관련 함수"
      ],
      "metadata": {
        "id": "AfWHv0mmpLzS"
      }
    },
    {
      "cell_type": "markdown",
      "source": [
        "리스트에 요소 추가(append)"
      ],
      "metadata": {
        "id": "ETP_hITNpN7Q"
      }
    },
    {
      "cell_type": "code",
      "source": [
        "a=[1,2,3]\n",
        "a.append(4)\n",
        "print(a)\n",
        "a.append([5,6])\n",
        "print(a)"
      ],
      "metadata": {
        "colab": {
          "base_uri": "https://localhost:8080/"
        },
        "id": "Aodeyh4hpSRt",
        "outputId": "b13923b4-1791-4d7d-ee37-b67bd13ab758"
      },
      "execution_count": 23,
      "outputs": [
        {
          "output_type": "stream",
          "name": "stdout",
          "text": [
            "[1, 2, 3, 4]\n",
            "[1, 2, 3, 4, [5, 6]]\n"
          ]
        }
      ]
    },
    {
      "cell_type": "markdown",
      "source": [
        "리스트 정렬(sort)"
      ],
      "metadata": {
        "id": "9X5KeVnfphaG"
      }
    },
    {
      "cell_type": "code",
      "source": [
        "a=[1,4,3,2]\n",
        "a.sort()\n",
        "print(a)"
      ],
      "metadata": {
        "colab": {
          "base_uri": "https://localhost:8080/"
        },
        "id": "BrGonMkfpjw5",
        "outputId": "8d442010-34f1-4aff-f2c7-3b5a4aaeca95"
      },
      "execution_count": 24,
      "outputs": [
        {
          "output_type": "stream",
          "name": "stdout",
          "text": [
            "[1, 2, 3, 4, [5, 6]]\n"
          ]
        }
      ]
    },
    {
      "cell_type": "code",
      "source": [
        "a=['a','c','b']\n",
        "a.sort()\n",
        "print(a)"
      ],
      "metadata": {
        "colab": {
          "base_uri": "https://localhost:8080/"
        },
        "id": "qT8agXuLppGy",
        "outputId": "530b6bc6-e6ab-474a-d49a-7704d97b35c5"
      },
      "execution_count": 25,
      "outputs": [
        {
          "output_type": "stream",
          "name": "stdout",
          "text": [
            "['a', 'b', 'c']\n"
          ]
        }
      ]
    },
    {
      "cell_type": "markdown",
      "source": [
        "리스트 뒤집기(reverse)"
      ],
      "metadata": {
        "id": "gdH8vOfCpx4d"
      }
    },
    {
      "cell_type": "code",
      "source": [
        "a=['a','c','b']\n",
        "a.reverse()\n",
        "print(a)"
      ],
      "metadata": {
        "colab": {
          "base_uri": "https://localhost:8080/"
        },
        "id": "REXVZpR9p1MD",
        "outputId": "7bed440a-d987-4376-858c-d43ef3213633"
      },
      "execution_count": 27,
      "outputs": [
        {
          "output_type": "stream",
          "name": "stdout",
          "text": [
            "['b', 'c', 'a']\n"
          ]
        }
      ]
    },
    {
      "cell_type": "markdown",
      "source": [
        "위치 반환(index)"
      ],
      "metadata": {
        "id": "qscorbFNqAZ4"
      }
    },
    {
      "cell_type": "code",
      "source": [
        "a=[1,2,3]\n",
        "print(a.index(3))\n",
        "print(a.index(1))\n",
        "#괄호안에 값이 리스트에 존재하지 않으면 오류 발생"
      ],
      "metadata": {
        "colab": {
          "base_uri": "https://localhost:8080/"
        },
        "id": "4f88MZhNqDC_",
        "outputId": "fafa109b-9b65-48ae-b93a-c25db7b62623"
      },
      "execution_count": 28,
      "outputs": [
        {
          "output_type": "stream",
          "name": "stdout",
          "text": [
            "2\n",
            "0\n"
          ]
        }
      ]
    },
    {
      "cell_type": "markdown",
      "source": [
        "리스트에 요소 삽입(insert)"
      ],
      "metadata": {
        "id": "sDbgGS45qS73"
      }
    },
    {
      "cell_type": "code",
      "source": [
        "a=[1,2,3]\n",
        "a.insert(0,4) #0위치에 4삽입\n",
        "print(a)"
      ],
      "metadata": {
        "colab": {
          "base_uri": "https://localhost:8080/"
        },
        "id": "uYsM_4KDqWFz",
        "outputId": "b8de8944-0b4e-459a-da0e-0a79951a2f2b"
      },
      "execution_count": 29,
      "outputs": [
        {
          "output_type": "stream",
          "name": "stdout",
          "text": [
            "[4, 1, 2, 3]\n"
          ]
        }
      ]
    },
    {
      "cell_type": "markdown",
      "source": [
        "리스트 요소 제거(remove)"
      ],
      "metadata": {
        "id": "oyj8TPZUqf38"
      }
    },
    {
      "cell_type": "code",
      "source": [
        "a=[1,2,3,1,2,3]\n",
        "a.remove(3)\n",
        "print(a) #동일한 값을 여러개 가지고 있을 경우 첫번째 값만 제거된다"
      ],
      "metadata": {
        "colab": {
          "base_uri": "https://localhost:8080/"
        },
        "id": "z3YpB8rcqh0b",
        "outputId": "99f33602-8cc8-4ef1-e739-059e03ba4993"
      },
      "execution_count": 30,
      "outputs": [
        {
          "output_type": "stream",
          "name": "stdout",
          "text": [
            "[1, 2, 1, 2, 3]\n"
          ]
        }
      ]
    },
    {
      "cell_type": "markdown",
      "source": [
        "리스트 요소 끄집어내기(pop)"
      ],
      "metadata": {
        "id": "rgPTTbHpquJ9"
      }
    },
    {
      "cell_type": "code",
      "source": [
        "a=[1,2,3]\n",
        "print(a.pop()) #pop()은 리스트의 맨 마지막 요소를 돌려주고 그 요소는 삭제한다.\n",
        "print(a)"
      ],
      "metadata": {
        "colab": {
          "base_uri": "https://localhost:8080/"
        },
        "id": "BCL0CQ0oqyXJ",
        "outputId": "1f258f9f-7f17-4a77-9908-ef5740e40a92"
      },
      "execution_count": 31,
      "outputs": [
        {
          "output_type": "stream",
          "name": "stdout",
          "text": [
            "3\n",
            "[1, 2]\n"
          ]
        }
      ]
    },
    {
      "cell_type": "code",
      "source": [
        "a=[1,2,3]\n",
        "print(a.pop(1)) #pop(x)는 리스트의 x번째 요소를 돌려주고 그 요소는 삭제한다.\n",
        "print(a)"
      ],
      "metadata": {
        "colab": {
          "base_uri": "https://localhost:8080/"
        },
        "id": "XxZ8FgPmrhTo",
        "outputId": "608dfa08-c96b-4446-e532-92d535e6f5db"
      },
      "execution_count": 32,
      "outputs": [
        {
          "output_type": "stream",
          "name": "stdout",
          "text": [
            "2\n",
            "[1, 3]\n"
          ]
        }
      ]
    },
    {
      "cell_type": "markdown",
      "source": [
        "리스트에 포함된 요소 x의 개수 세기(count)"
      ],
      "metadata": {
        "id": "4XpHxxMoruv1"
      }
    },
    {
      "cell_type": "code",
      "source": [
        "a=[1,2,3,1]\n",
        "print(a.count(1))"
      ],
      "metadata": {
        "colab": {
          "base_uri": "https://localhost:8080/"
        },
        "id": "BSC90J3RryVj",
        "outputId": "b4c93dee-4d39-4a95-98b1-43118b11c4d0"
      },
      "execution_count": 33,
      "outputs": [
        {
          "output_type": "stream",
          "name": "stdout",
          "text": [
            "2\n"
          ]
        }
      ]
    },
    {
      "cell_type": "markdown",
      "source": [
        "리스트 확장(extend)"
      ],
      "metadata": {
        "id": "gU-X6hyWr3eJ"
      }
    },
    {
      "cell_type": "code",
      "source": [
        "a=[1,2,3]\n",
        "a.extend([4,5])\n",
        "print(a)\n",
        "b=[6,7]\n",
        "a.extend(b)\n",
        "print(a)"
      ],
      "metadata": {
        "colab": {
          "base_uri": "https://localhost:8080/"
        },
        "id": "480xv6Mgr6B7",
        "outputId": "f20a2aff-e7f3-462a-9054-369a796c168c"
      },
      "execution_count": 34,
      "outputs": [
        {
          "output_type": "stream",
          "name": "stdout",
          "text": [
            "[1, 2, 3, 4, 5]\n",
            "[1, 2, 3, 4, 5, 6, 7]\n"
          ]
        }
      ]
    }
  ]
}