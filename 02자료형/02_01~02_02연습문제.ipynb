{
  "nbformat": 4,
  "nbformat_minor": 0,
  "metadata": {
    "colab": {
      "provenance": [],
      "authorship_tag": "ABX9TyMxdIniuAfi5FqXEFo3b6Mh",
      "include_colab_link": true
    },
    "kernelspec": {
      "name": "python3",
      "display_name": "Python 3"
    },
    "language_info": {
      "name": "python"
    }
  },
  "cells": [
    {
      "cell_type": "markdown",
      "metadata": {
        "id": "view-in-github",
        "colab_type": "text"
      },
      "source": [
        "<a href=\"https://colab.research.google.com/github/1360837/Python_Study/blob/main/02%EC%9E%90%EB%A3%8C%ED%98%95/02_01~02_02%EC%97%B0%EC%8A%B5%EB%AC%B8%EC%A0%9C.ipynb\" target=\"_parent\"><img src=\"https://colab.research.google.com/assets/colab-badge.svg\" alt=\"Open In Colab\"/></a>"
      ]
    },
    {
      "cell_type": "code",
      "execution_count": 1,
      "metadata": {
        "colab": {
          "base_uri": "https://localhost:8080/"
        },
        "id": "KUCvi6Ijd3iq",
        "outputId": "289c91fb-f949-4202-8436-344426840b68"
      },
      "outputs": [
        {
          "output_type": "stream",
          "name": "stdout",
          "text": [
            "Hello World\n"
          ]
        }
      ],
      "source": [
        "print(\"Hello World\")"
      ]
    },
    {
      "cell_type": "code",
      "source": [
        "print(\"Mary's cosmetics\")"
      ],
      "metadata": {
        "colab": {
          "base_uri": "https://localhost:8080/"
        },
        "id": "8y7ZMwAFeLo6",
        "outputId": "31936562-4dc0-4e51-b781-6950c6c3ee78"
      },
      "execution_count": 2,
      "outputs": [
        {
          "output_type": "stream",
          "name": "stdout",
          "text": [
            "Mary's cosmetics\n"
          ]
        }
      ]
    },
    {
      "cell_type": "code",
      "source": [
        "a=\"파이썬\"\n",
        "b=\"쉽구나\"\n",
        "c=\"으하하\"\n",
        "print(a,b,c)\n",
        "print(a+b+c)"
      ],
      "metadata": {
        "colab": {
          "base_uri": "https://localhost:8080/"
        },
        "id": "D4ytxEFaeOCi",
        "outputId": "f99bc1d5-2768-4ec2-93ba-a3b7c21c233a"
      },
      "execution_count": 71,
      "outputs": [
        {
          "output_type": "stream",
          "name": "stdout",
          "text": [
            "파이썬 쉽구나 으하하\n",
            "파이썬쉽구나으하하\n"
          ]
        }
      ]
    },
    {
      "cell_type": "code",
      "source": [
        "letters=\"python\"\n",
        "print(letters[0],letters[2])"
      ],
      "metadata": {
        "colab": {
          "base_uri": "https://localhost:8080/"
        },
        "id": "aRSc63TCeZ84",
        "outputId": "0d6c70c3-9767-4b7e-b460-859096c9034a"
      },
      "execution_count": 6,
      "outputs": [
        {
          "output_type": "stream",
          "name": "stdout",
          "text": [
            "p t\n"
          ]
        }
      ]
    },
    {
      "cell_type": "code",
      "source": [
        "license_plate=\"24가 2210\"\n",
        "print(license_plate[-4:])"
      ],
      "metadata": {
        "colab": {
          "base_uri": "https://localhost:8080/"
        },
        "id": "a-i7oYLGetkO",
        "outputId": "3ea8b6c5-92fc-4cc7-89b5-17b2c8bf5c0e"
      },
      "execution_count": 7,
      "outputs": [
        {
          "output_type": "stream",
          "name": "stdout",
          "text": [
            "2210\n"
          ]
        }
      ]
    },
    {
      "cell_type": "code",
      "source": [
        "string=\"홀짝홀짝홀짝\"\n",
        "print(string[::2])"
      ],
      "metadata": {
        "colab": {
          "base_uri": "https://localhost:8080/"
        },
        "id": "xhBxyMdWe7TT",
        "outputId": "32aba8f3-0cb3-4632-a23b-f1cad784e7d6"
      },
      "execution_count": 8,
      "outputs": [
        {
          "output_type": "stream",
          "name": "stdout",
          "text": [
            "홀홀홀\n"
          ]
        }
      ]
    },
    {
      "cell_type": "code",
      "source": [
        "print(\"-\"*80)"
      ],
      "metadata": {
        "colab": {
          "base_uri": "https://localhost:8080/"
        },
        "id": "aHbwYOwsfGKW",
        "outputId": "c9093f44-a841-4910-9f32-517b4e6e161e"
      },
      "execution_count": 9,
      "outputs": [
        {
          "output_type": "stream",
          "name": "stdout",
          "text": [
            "--------------------------------------------------------------------------------\n"
          ]
        }
      ]
    },
    {
      "cell_type": "code",
      "source": [
        "t1=\"python\"\n",
        "t2=\"java\"\n",
        "print((t1+\" \"+t2+\" \")*4)"
      ],
      "metadata": {
        "colab": {
          "base_uri": "https://localhost:8080/"
        },
        "id": "utHDxGg7fJZA",
        "outputId": "49e7df7c-f37a-4760-ca37-2aac5bc37dc3"
      },
      "execution_count": 14,
      "outputs": [
        {
          "output_type": "stream",
          "name": "stdout",
          "text": [
            "python java python java python java python java \n"
          ]
        }
      ]
    },
    {
      "cell_type": "code",
      "source": [
        "name1=\"김민수\"\n",
        "age1=10\n",
        "name2=\"이철희\"\n",
        "age2=13\n",
        "print(\"이름: %s 나이: %d\"%(name1,age1))\n",
        "print(\"이름: %s 나이: %d\"%(name2,age2))"
      ],
      "metadata": {
        "colab": {
          "base_uri": "https://localhost:8080/"
        },
        "id": "e2yIFooufkQ6",
        "outputId": "c82c1126-f0b9-4c07-ef76-57293a35ef44"
      },
      "execution_count": 18,
      "outputs": [
        {
          "output_type": "stream",
          "name": "stdout",
          "text": [
            "이름: 김민수 나이: 10\n",
            "이름: 이철희 나이: 13\n"
          ]
        }
      ]
    },
    {
      "cell_type": "code",
      "source": [
        "print(\"이름: {0} 나이: {1}\".format(name1,age1))\n",
        "print(\"이름: {0} 나이: {1}\".format(name2,age2))"
      ],
      "metadata": {
        "colab": {
          "base_uri": "https://localhost:8080/"
        },
        "id": "DmSIl0OfgFlN",
        "outputId": "5672624c-da1c-4f99-fc81-c4467878f2e3"
      },
      "execution_count": 24,
      "outputs": [
        {
          "output_type": "stream",
          "name": "stdout",
          "text": [
            "이름: 김민수 나이: 10\n",
            "이름: 이철희 나이: 13\n"
          ]
        }
      ]
    },
    {
      "cell_type": "code",
      "source": [
        "print(f\"이름: {name1} 나이: {age1}\")\n",
        "print(f\"이름: {name2} 나이: {age2}\")"
      ],
      "metadata": {
        "colab": {
          "base_uri": "https://localhost:8080/"
        },
        "id": "ZWdvMqEdgiru",
        "outputId": "fb87408e-3ef2-445e-bfca-333bfe8d6e23"
      },
      "execution_count": 23,
      "outputs": [
        {
          "output_type": "stream",
          "name": "stdout",
          "text": [
            "이름: 김민수 나이: 10\n",
            "이름: 이철희 나이: 13\n"
          ]
        }
      ]
    },
    {
      "cell_type": "code",
      "source": [
        "string=\"PYTHON\"\n",
        "print(string[::-1])\n",
        "\n",
        "i=0\n",
        "s=\"\"\n",
        "while i<len(string):\n",
        "  s=string[i]+s\n",
        "  i=i+1\n",
        "print(s)"
      ],
      "metadata": {
        "colab": {
          "base_uri": "https://localhost:8080/"
        },
        "id": "7z7je7SOg0Fg",
        "outputId": "54f9f23f-0f0c-4615-dd3d-3c655146151b"
      },
      "execution_count": 87,
      "outputs": [
        {
          "output_type": "stream",
          "name": "stdout",
          "text": [
            "NOHTYP\n",
            "NOHTYP\n"
          ]
        }
      ]
    },
    {
      "cell_type": "code",
      "source": [
        "phone_number=\"010-1111-2222\"\n",
        "print(phone_number[:3]+phone_number[4:8]+phone_number[9:])\n",
        "print(phone_number.split(\"-\")[0]+phone_number.split(\"-\")[1]+phone_number.split(\"-\")[2])\n",
        "print(phone_number.replace(\"-\",\"\"))"
      ],
      "metadata": {
        "colab": {
          "base_uri": "https://localhost:8080/"
        },
        "id": "Ts0olMHKhSok",
        "outputId": "1e9e4e77-ae9f-40e4-efbc-48fba70eb228"
      },
      "execution_count": 88,
      "outputs": [
        {
          "output_type": "stream",
          "name": "stdout",
          "text": [
            "01011112222\n",
            "01011112222\n",
            "01011112222\n"
          ]
        }
      ]
    },
    {
      "cell_type": "code",
      "source": [
        "tmp=\"5,969,782,550\"\n",
        "a=tmp.replace(\",\",\"\")\n",
        "int(a)"
      ],
      "metadata": {
        "colab": {
          "base_uri": "https://localhost:8080/"
        },
        "id": "LxU3QRoEiq-A",
        "outputId": "648a17dd-fb90-4478-a840-4fb236a2413b"
      },
      "execution_count": 66,
      "outputs": [
        {
          "output_type": "execute_result",
          "data": {
            "text/plain": [
              "5969782550"
            ]
          },
          "metadata": {},
          "execution_count": 66
        }
      ]
    },
    {
      "cell_type": "code",
      "source": [
        "data=\" 파이썬 \"\n",
        "data.strip()"
      ],
      "metadata": {
        "colab": {
          "base_uri": "https://localhost:8080/",
          "height": 35
        },
        "id": "0rlk6vffkhtS",
        "outputId": "15097cad-ec70-4f2f-ff26-181b333782a0"
      },
      "execution_count": 67,
      "outputs": [
        {
          "output_type": "execute_result",
          "data": {
            "text/plain": [
              "'파이썬'"
            ],
            "application/vnd.google.colaboratory.intrinsic+json": {
              "type": "string"
            }
          },
          "metadata": {},
          "execution_count": 67
        }
      ]
    },
    {
      "cell_type": "code",
      "source": [
        "a=\"hello world nice to meet you\"\n",
        "a.split()"
      ],
      "metadata": {
        "colab": {
          "base_uri": "https://localhost:8080/"
        },
        "id": "gWxQ8NFrkrq8",
        "outputId": "40358eb4-562a-4de9-9090-b1d281dd39b3"
      },
      "execution_count": 68,
      "outputs": [
        {
          "output_type": "execute_result",
          "data": {
            "text/plain": [
              "['hello', 'world', 'nice', 'to', 'meet', 'you']"
            ]
          },
          "metadata": {},
          "execution_count": 68
        }
      ]
    },
    {
      "cell_type": "code",
      "source": [
        "date=\"2020-05-01\"\n",
        "date.split(\"-\")"
      ],
      "metadata": {
        "colab": {
          "base_uri": "https://localhost:8080/"
        },
        "id": "MLOiYejik5pF",
        "outputId": "b9269c57-bf92-4c00-ffae-9e4a593de1f3"
      },
      "execution_count": 69,
      "outputs": [
        {
          "output_type": "execute_result",
          "data": {
            "text/plain": [
              "['2020', '05', '01']"
            ]
          },
          "metadata": {},
          "execution_count": 69
        }
      ]
    }
  ]
}