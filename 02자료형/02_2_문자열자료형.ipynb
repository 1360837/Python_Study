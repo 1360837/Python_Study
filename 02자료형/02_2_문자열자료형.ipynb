{
  "nbformat": 4,
  "nbformat_minor": 0,
  "metadata": {
    "colab": {
      "provenance": [],
      "authorship_tag": "ABX9TyPT5MwQtnWBvM7zToqvH8AH",
      "include_colab_link": true
    },
    "kernelspec": {
      "name": "python3",
      "display_name": "Python 3"
    },
    "language_info": {
      "name": "python"
    }
  },
  "cells": [
    {
      "cell_type": "markdown",
      "metadata": {
        "id": "view-in-github",
        "colab_type": "text"
      },
      "source": [
        "<a href=\"https://colab.research.google.com/github/1360837/Python_Study/blob/main/02%EC%9E%90%EB%A3%8C%ED%98%95/02_2_%EB%AC%B8%EC%9E%90%EC%97%B4%EC%9E%90%EB%A3%8C%ED%98%95.ipynb\" target=\"_parent\"><img src=\"https://colab.research.google.com/assets/colab-badge.svg\" alt=\"Open In Colab\"/></a>"
      ]
    },
    {
      "cell_type": "code",
      "execution_count": null,
      "metadata": {
        "colab": {
          "base_uri": "https://localhost:8080/",
          "height": 35
        },
        "id": "0eoOAPPUs0fH",
        "outputId": "0020b121-3f70-4098-dc90-fbd869209d6f"
      },
      "outputs": [
        {
          "output_type": "execute_result",
          "data": {
            "text/plain": [
              "'123'"
            ],
            "application/vnd.google.colaboratory.intrinsic+json": {
              "type": "string"
            }
          },
          "metadata": {},
          "execution_count": 1
        }
      ],
      "source": [
        "\"Life is too short, You need Python\"\n",
        "\"a\"\n",
        "\"123\""
      ]
    },
    {
      "cell_type": "markdown",
      "source": [
        "#문자열은 어떻게 만들고 사용할까? \n",
        "\n",
        "\n",
        "\n"
      ],
      "metadata": {
        "id": "VFsBBmWstLRU"
      }
    },
    {
      "cell_type": "code",
      "source": [
        "#큰따옴표(\")로 양쪽 둘러싸기\n",
        "\"Hello World\"\n",
        "#작은따옴표(')로 양쪽 둘러싸기\n",
        "'Python is fun'\n",
        "#큰따옴표 3개를 연속(\"\"\")으로 써서 양쪽 둘러싸기\n",
        "\"\"\"Life is too short, You need python\"\"\"\n",
        "#작은따옴표 3개를 연속(''')으로 써서 양쪽 둘러싸기\n",
        "'''Life is too short, You need python'''"
      ],
      "metadata": {
        "colab": {
          "base_uri": "https://localhost:8080/",
          "height": 35
        },
        "id": "l55XQUMBtKT6",
        "outputId": "d381d4f5-b079-463d-da4b-76e49ea1eae9"
      },
      "execution_count": null,
      "outputs": [
        {
          "output_type": "execute_result",
          "data": {
            "text/plain": [
              "'Life is too short, You need python'"
            ],
            "application/vnd.google.colaboratory.intrinsic+json": {
              "type": "string"
            }
          },
          "metadata": {},
          "execution_count": 2
        }
      ]
    },
    {
      "cell_type": "markdown",
      "source": [
        "문자열 안에 작은 따옴표나 큰따옴표를 포함시키고 싶을 때 "
      ],
      "metadata": {
        "id": "1tHWR6sttzUw"
      }
    },
    {
      "cell_type": "code",
      "source": [
        "#문자열에 작은따옴표 (') 포함시키기\n",
        "food=\"Python's favorite food is perl\"\n",
        "food"
      ],
      "metadata": {
        "colab": {
          "base_uri": "https://localhost:8080/",
          "height": 35
        },
        "id": "pIyugaO6t5xQ",
        "outputId": "17e1f7b1-094d-449e-e738-dc28daedc6a7"
      },
      "execution_count": null,
      "outputs": [
        {
          "output_type": "execute_result",
          "data": {
            "text/plain": [
              "\"Python's favorite food is perl\""
            ],
            "application/vnd.google.colaboratory.intrinsic+json": {
              "type": "string"
            }
          },
          "metadata": {},
          "execution_count": 3
        }
      ]
    },
    {
      "cell_type": "code",
      "source": [
        "#문자열에 큰따옴표(\") 포함시키기\n",
        "say = '\"Python is very easy.\" he says.'\n",
        "say"
      ],
      "metadata": {
        "colab": {
          "base_uri": "https://localhost:8080/",
          "height": 35
        },
        "id": "JGGuamysvKMA",
        "outputId": "8a2cb195-9572-43b6-803c-55360bcf3460"
      },
      "execution_count": null,
      "outputs": [
        {
          "output_type": "execute_result",
          "data": {
            "text/plain": [
              "'\"Python is very easy.\" he says.'"
            ],
            "application/vnd.google.colaboratory.intrinsic+json": {
              "type": "string"
            }
          },
          "metadata": {},
          "execution_count": 4
        }
      ]
    },
    {
      "cell_type": "code",
      "source": [
        "#백슬래시(\\)를 사용해서 작은따옴표(')와 큰따옴표(\")를 문자열에에 포함시키기\n",
        "food='Python\\'s favorite food is perl'\n",
        "say=\"\\\"Python is very easy.\\\" he says.\"\n",
        "food,say"
      ],
      "metadata": {
        "colab": {
          "base_uri": "https://localhost:8080/"
        },
        "id": "erAgRSuKvkLq",
        "outputId": "0760d905-7c9f-4ee4-eaca-8030a2ac106d"
      },
      "execution_count": null,
      "outputs": [
        {
          "output_type": "execute_result",
          "data": {
            "text/plain": [
              "(\"Python's favorite food is perl\", '\"Python is very easy.\" he says.')"
            ]
          },
          "metadata": {},
          "execution_count": 8
        }
      ]
    },
    {
      "cell_type": "markdown",
      "source": [
        "여러 줄인 문자열을 변수에 대입하고 싶을 때 "
      ],
      "metadata": {
        "id": "ky_QEbXbwIEj"
      }
    },
    {
      "cell_type": "code",
      "source": [
        "#줄을 바꾸는 이스케이프 코드 '\\n' 삽입하기\n",
        "multiline = \"Life is too short\\nYou need python\"\n",
        "print(multiline)"
      ],
      "metadata": {
        "colab": {
          "base_uri": "https://localhost:8080/"
        },
        "id": "ziaBOuYrwN_3",
        "outputId": "66c4b93c-d12d-44ea-c1f4-86b71bfa1651"
      },
      "execution_count": null,
      "outputs": [
        {
          "output_type": "stream",
          "name": "stdout",
          "text": [
            "Life is too short\n",
            "You need python\n"
          ]
        }
      ]
    },
    {
      "cell_type": "code",
      "source": [
        "#연속된 작은따옴표 3개(''')또는 큰따옴표 3개(\"\"\") 사용하기 \n",
        "multiline='''\n",
        "Life is too short\n",
        "You need python\n",
        "'''\n",
        "print(multiline)"
      ],
      "metadata": {
        "colab": {
          "base_uri": "https://localhost:8080/"
        },
        "id": "-vQDVKIRw0FG",
        "outputId": "6313f5a5-2edd-4b1e-8f01-799979ba4278"
      },
      "execution_count": null,
      "outputs": [
        {
          "output_type": "stream",
          "name": "stdout",
          "text": [
            "\n",
            "Life is too short\n",
            "You need python\n",
            "\n"
          ]
        }
      ]
    },
    {
      "cell_type": "markdown",
      "source": [
        "# 문자열 연산하기"
      ],
      "metadata": {
        "id": "4uA78smkyq4E"
      }
    },
    {
      "cell_type": "code",
      "source": [
        "#문자열 더해서 연결하기(Concatenation)\n",
        "head = \"Python\"\n",
        "tail = \"is fun!\"\n",
        "head + tail"
      ],
      "metadata": {
        "colab": {
          "base_uri": "https://localhost:8080/",
          "height": 35
        },
        "id": "2tbcVEEuyzLZ",
        "outputId": "019307ac-3ac5-46c9-f80b-94eef490d10e"
      },
      "execution_count": null,
      "outputs": [
        {
          "output_type": "execute_result",
          "data": {
            "text/plain": [
              "'Pythonis fun!'"
            ],
            "application/vnd.google.colaboratory.intrinsic+json": {
              "type": "string"
            }
          },
          "metadata": {},
          "execution_count": 13
        }
      ]
    },
    {
      "cell_type": "code",
      "source": [
        "#문자열 곱하기\n",
        "a=\"python\"\n",
        "a*2"
      ],
      "metadata": {
        "colab": {
          "base_uri": "https://localhost:8080/",
          "height": 35
        },
        "id": "iemR6YphzGfN",
        "outputId": "2b3d8848-cb8a-4d86-bfb5-0a7a65404293"
      },
      "execution_count": null,
      "outputs": [
        {
          "output_type": "execute_result",
          "data": {
            "text/plain": [
              "'pythonpython'"
            ],
            "application/vnd.google.colaboratory.intrinsic+json": {
              "type": "string"
            }
          },
          "metadata": {},
          "execution_count": 15
        }
      ]
    },
    {
      "cell_type": "code",
      "source": [
        "#문자열 곱하기 응용\n",
        "print(\"=\"*50)\n",
        "print(\"My Program\")\n",
        "print(\"=\"*50)"
      ],
      "metadata": {
        "colab": {
          "base_uri": "https://localhost:8080/"
        },
        "id": "gPRyhe66zTvG",
        "outputId": "aa0c0366-3f5b-4fe8-c4ee-5c818fc4ae26"
      },
      "execution_count": null,
      "outputs": [
        {
          "output_type": "stream",
          "name": "stdout",
          "text": [
            "==================================================\n",
            "My Program\n",
            "==================================================\n"
          ]
        }
      ]
    },
    {
      "cell_type": "code",
      "source": [
        "#문자열 길이 구하기\n",
        "a=\"Life is too short\"\n",
        "len(a)"
      ],
      "metadata": {
        "colab": {
          "base_uri": "https://localhost:8080/"
        },
        "id": "wDbyG0uBzuCP",
        "outputId": "cd311e5d-3b5c-47d3-b553-ed708889e478"
      },
      "execution_count": null,
      "outputs": [
        {
          "output_type": "execute_result",
          "data": {
            "text/plain": [
              "17"
            ]
          },
          "metadata": {},
          "execution_count": 17
        }
      ]
    },
    {
      "cell_type": "markdown",
      "source": [
        "#문자열 인덱싱과 슬라이싱 "
      ],
      "metadata": {
        "id": "CIkxTcV60GZg"
      }
    },
    {
      "cell_type": "markdown",
      "source": [
        "문자열 인덱싱이란? "
      ],
      "metadata": {
        "id": "1YLh-wwF0M2w"
      }
    },
    {
      "cell_type": "code",
      "source": [
        "#인덱스는 0부터 시작\n",
        "a=\"Life is too short, You need Python\"\n",
        "a[3]"
      ],
      "metadata": {
        "colab": {
          "base_uri": "https://localhost:8080/",
          "height": 35
        },
        "id": "onzdAXEj0QMO",
        "outputId": "27af4e10-70dc-44d8-ecfd-cd808c466634"
      },
      "execution_count": null,
      "outputs": [
        {
          "output_type": "execute_result",
          "data": {
            "text/plain": [
              "'e'"
            ],
            "application/vnd.google.colaboratory.intrinsic+json": {
              "type": "string"
            }
          },
          "metadata": {},
          "execution_count": 20
        }
      ]
    },
    {
      "cell_type": "markdown",
      "source": [
        "문자열 인덱싱 활용하기 "
      ],
      "metadata": {
        "id": "HVQVPS_20o4N"
      }
    },
    {
      "cell_type": "code",
      "source": [
        "a=\"Life is too short, You need Python\"\n",
        "a[0] , a[12] , a[-1] , a[-0] , a[-5]"
      ],
      "metadata": {
        "colab": {
          "base_uri": "https://localhost:8080/"
        },
        "id": "aQVivXJu0q4G",
        "outputId": "7b9f1b24-56ed-4b40-d029-b6bf80983a85"
      },
      "execution_count": null,
      "outputs": [
        {
          "output_type": "execute_result",
          "data": {
            "text/plain": [
              "('L', 's', 'n', 'L', 'y')"
            ]
          },
          "metadata": {},
          "execution_count": 23
        }
      ]
    },
    {
      "cell_type": "markdown",
      "source": [
        "문자열 슬라이싱이란? "
      ],
      "metadata": {
        "id": "ndOXhRTw09AD"
      }
    },
    {
      "cell_type": "code",
      "source": [
        "a=\"Life is too short, You need Python\"\n",
        "b=a[0]+a[1]+a[2]+a[3]\n",
        "b"
      ],
      "metadata": {
        "colab": {
          "base_uri": "https://localhost:8080/",
          "height": 35
        },
        "id": "mrRpEZV_0-hq",
        "outputId": "01b59d8d-b883-4819-8d27-bc81374ce135"
      },
      "execution_count": null,
      "outputs": [
        {
          "output_type": "execute_result",
          "data": {
            "text/plain": [
              "'Life'"
            ],
            "application/vnd.google.colaboratory.intrinsic+json": {
              "type": "string"
            }
          },
          "metadata": {},
          "execution_count": 24
        }
      ]
    },
    {
      "cell_type": "code",
      "source": [
        "a=\"Life is too short, You need Python\"\n",
        "a[0:4]\n",
        "#a[시작번호:끝번호] 시작번호 <= a < 끝번호 "
      ],
      "metadata": {
        "colab": {
          "base_uri": "https://localhost:8080/",
          "height": 35
        },
        "id": "QnFUVEj81GKD",
        "outputId": "ebc8a509-8314-467b-e1b0-491a94ea5939"
      },
      "execution_count": null,
      "outputs": [
        {
          "output_type": "execute_result",
          "data": {
            "text/plain": [
              "'Life'"
            ],
            "application/vnd.google.colaboratory.intrinsic+json": {
              "type": "string"
            }
          },
          "metadata": {},
          "execution_count": 26
        }
      ]
    },
    {
      "cell_type": "markdown",
      "source": [
        "문자열을 슬라이싱하는 방법 "
      ],
      "metadata": {
        "id": "goaLJp0F1beK"
      }
    },
    {
      "cell_type": "code",
      "source": [
        "a[0:5]\n",
        "#공백 문자 역시 문자와 동일하게 취급 "
      ],
      "metadata": {
        "colab": {
          "base_uri": "https://localhost:8080/",
          "height": 35
        },
        "id": "X3iZTWtP1dXW",
        "outputId": "c7a92659-3090-4187-ea41-a6d516e0bf16"
      },
      "execution_count": null,
      "outputs": [
        {
          "output_type": "execute_result",
          "data": {
            "text/plain": [
              "'Life '"
            ],
            "application/vnd.google.colaboratory.intrinsic+json": {
              "type": "string"
            }
          },
          "metadata": {},
          "execution_count": 27
        }
      ]
    },
    {
      "cell_type": "code",
      "source": [
        "#슬라이싱할 때 항상 시작 번호가 0일 필요는 없다.\n",
        "a[0:2] , a[5:7] , a[12:17]"
      ],
      "metadata": {
        "colab": {
          "base_uri": "https://localhost:8080/"
        },
        "id": "KNAPWKhd1tuU",
        "outputId": "67be4e5d-1504-44d1-c112-28895b5e2f48"
      },
      "execution_count": null,
      "outputs": [
        {
          "output_type": "execute_result",
          "data": {
            "text/plain": [
              "('Li', 'is', 'short')"
            ]
          },
          "metadata": {},
          "execution_count": 28
        }
      ]
    },
    {
      "cell_type": "code",
      "source": [
        "#끝 번호 부분 생략하면 시작 번호부터 그 문자열의 끝까지 뽑아낸다.\n",
        "a[19:]"
      ],
      "metadata": {
        "colab": {
          "base_uri": "https://localhost:8080/",
          "height": 35
        },
        "id": "DGWI8IvE17YJ",
        "outputId": "98f80aec-5789-4092-9c84-23fc778cc94c"
      },
      "execution_count": null,
      "outputs": [
        {
          "output_type": "execute_result",
          "data": {
            "text/plain": [
              "'You need Python'"
            ],
            "application/vnd.google.colaboratory.intrinsic+json": {
              "type": "string"
            }
          },
          "metadata": {},
          "execution_count": 29
        }
      ]
    },
    {
      "cell_type": "code",
      "source": [
        "#시작 번호를 생략하면 문자열의 처음부터 끝 번호까지 뽑아낸다.\n",
        "a[:17]"
      ],
      "metadata": {
        "colab": {
          "base_uri": "https://localhost:8080/",
          "height": 35
        },
        "id": "DV9j5vp62FPj",
        "outputId": "d50b59b1-9d3b-4fea-b65a-61bc12445386"
      },
      "execution_count": null,
      "outputs": [
        {
          "output_type": "execute_result",
          "data": {
            "text/plain": [
              "'Life is too short'"
            ],
            "application/vnd.google.colaboratory.intrinsic+json": {
              "type": "string"
            }
          },
          "metadata": {},
          "execution_count": 30
        }
      ]
    },
    {
      "cell_type": "code",
      "source": [
        "#시작 번화와 끝 번호를 생략하면 문자열의 처음부터 끝까지를 뽑아낸다.\n",
        "a[:]"
      ],
      "metadata": {
        "colab": {
          "base_uri": "https://localhost:8080/",
          "height": 35
        },
        "id": "VvFDDj9c2Ne1",
        "outputId": "ed9a8ed9-ca09-4722-f0bd-b702339d2009"
      },
      "execution_count": null,
      "outputs": [
        {
          "output_type": "execute_result",
          "data": {
            "text/plain": [
              "'Life is too short, You need Python'"
            ],
            "application/vnd.google.colaboratory.intrinsic+json": {
              "type": "string"
            }
          },
          "metadata": {},
          "execution_count": 31
        }
      ]
    },
    {
      "cell_type": "code",
      "source": [
        "#슬라이싱에서도 인덱싱과 마찬가지로 마이너스(-) 기호를 사용할 수 있다.\n",
        "a[19:-7]"
      ],
      "metadata": {
        "colab": {
          "base_uri": "https://localhost:8080/",
          "height": 35
        },
        "id": "AZfd0nmk7hEl",
        "outputId": "6e0501cf-deb6-4394-c76b-02ff5c7bc3d3"
      },
      "execution_count": null,
      "outputs": [
        {
          "output_type": "execute_result",
          "data": {
            "text/plain": [
              "'You need'"
            ],
            "application/vnd.google.colaboratory.intrinsic+json": {
              "type": "string"
            }
          },
          "metadata": {},
          "execution_count": 32
        }
      ]
    },
    {
      "cell_type": "markdown",
      "source": [
        "슬라이싱으로 문자열 나누기 "
      ],
      "metadata": {
        "id": "xq26F3jW75zs"
      }
    },
    {
      "cell_type": "code",
      "source": [
        "a=\"20010331Rainy\"\n",
        "date =a[:8]\n",
        "weather=a[8:]\n",
        "date , weather"
      ],
      "metadata": {
        "colab": {
          "base_uri": "https://localhost:8080/"
        },
        "id": "AwSBhFUi7-a1",
        "outputId": "01db3c9e-d8d0-42f7-f9b7-c5025aa025a2"
      },
      "execution_count": null,
      "outputs": [
        {
          "output_type": "execute_result",
          "data": {
            "text/plain": [
              "('20010331', 'Rainy')"
            ]
          },
          "metadata": {},
          "execution_count": 33
        }
      ]
    },
    {
      "cell_type": "code",
      "source": [
        "year=a[:4]\n",
        "day=a[4:8]\n",
        "weather=a[8:]\n",
        "year , day , weather"
      ],
      "metadata": {
        "colab": {
          "base_uri": "https://localhost:8080/"
        },
        "id": "TOWBL56C-QMQ",
        "outputId": "549902c9-0a9f-40f0-f60f-6dba646ef121"
      },
      "execution_count": null,
      "outputs": [
        {
          "output_type": "execute_result",
          "data": {
            "text/plain": [
              "('2001', '0331', 'Rainy')"
            ]
          },
          "metadata": {},
          "execution_count": 34
        }
      ]
    },
    {
      "cell_type": "code",
      "source": [
        "#pithon이라는 문자열을  python으로 바꾸려면?\n",
        "a=\"pithon\"\n",
        "a[:1]+'y'+a[2:]"
      ],
      "metadata": {
        "colab": {
          "base_uri": "https://localhost:8080/",
          "height": 35
        },
        "id": "CZzDtUww-iZc",
        "outputId": "a1851c22-f6a6-4efa-ce08-2bcefd11c9d0"
      },
      "execution_count": null,
      "outputs": [
        {
          "output_type": "execute_result",
          "data": {
            "text/plain": [
              "'python'"
            ],
            "application/vnd.google.colaboratory.intrinsic+json": {
              "type": "string"
            }
          },
          "metadata": {},
          "execution_count": 35
        }
      ]
    },
    {
      "cell_type": "markdown",
      "source": [
        "#문자열 포매팅 "
      ],
      "metadata": {
        "id": "0_rnB4Ll-x_s"
      }
    },
    {
      "cell_type": "code",
      "source": [
        "\"문자열 안의 특정한 값을 바꿀 수 있게 해주는 것\""
      ],
      "metadata": {
        "id": "y_KF9Bue-2fB"
      },
      "execution_count": null,
      "outputs": []
    },
    {
      "cell_type": "markdown",
      "source": [
        "문자열 포매팅 따라 하기 "
      ],
      "metadata": {
        "id": "9M8jHtpa_EQ3"
      }
    },
    {
      "cell_type": "code",
      "source": [
        "#숫자 바로 대입\n",
        "\"I eat %d apples.\" %3"
      ],
      "metadata": {
        "colab": {
          "base_uri": "https://localhost:8080/",
          "height": 35
        },
        "id": "NZ9yidAK_GVX",
        "outputId": "8301d189-a2fb-4c6e-9133-95d119d36121"
      },
      "execution_count": null,
      "outputs": [
        {
          "output_type": "execute_result",
          "data": {
            "text/plain": [
              "'I eat 3 apples.'"
            ],
            "application/vnd.google.colaboratory.intrinsic+json": {
              "type": "string"
            }
          },
          "metadata": {},
          "execution_count": 36
        }
      ]
    },
    {
      "cell_type": "code",
      "source": [
        "#문자열 바로 대입\n",
        "\"I eat %s apples.\" %\"five\""
      ],
      "metadata": {
        "colab": {
          "base_uri": "https://localhost:8080/",
          "height": 35
        },
        "id": "GMl4p1RW_PZz",
        "outputId": "2fcd56d1-ff83-4266-ad4b-1247c73538bb"
      },
      "execution_count": null,
      "outputs": [
        {
          "output_type": "execute_result",
          "data": {
            "text/plain": [
              "'I eat five apples.'"
            ],
            "application/vnd.google.colaboratory.intrinsic+json": {
              "type": "string"
            }
          },
          "metadata": {},
          "execution_count": 38
        }
      ]
    },
    {
      "cell_type": "code",
      "source": [
        "#숫자 값을 나타내는 변수로 대입\n",
        "number = 3\n",
        "\"I eat %d apples.\" %number"
      ],
      "metadata": {
        "colab": {
          "base_uri": "https://localhost:8080/",
          "height": 35
        },
        "id": "zPZkYxvE_aKx",
        "outputId": "3eb16eb8-f37d-4b03-fef5-23e6509dfaa3"
      },
      "execution_count": null,
      "outputs": [
        {
          "output_type": "execute_result",
          "data": {
            "text/plain": [
              "'I eat 3 apples.'"
            ],
            "application/vnd.google.colaboratory.intrinsic+json": {
              "type": "string"
            }
          },
          "metadata": {},
          "execution_count": 39
        }
      ]
    },
    {
      "cell_type": "code",
      "source": [
        "#2개 이상의 값 넣기\n",
        "number = 10\n",
        "day = \"three\"\n",
        "\"I ate %d apples. so I was sick for %s days.\" %(number,day)"
      ],
      "metadata": {
        "colab": {
          "base_uri": "https://localhost:8080/",
          "height": 35
        },
        "id": "j0ScXjtE_kkY",
        "outputId": "fda44b5c-cc0e-4d4d-ccee-1c01c5ed2364"
      },
      "execution_count": null,
      "outputs": [
        {
          "output_type": "execute_result",
          "data": {
            "text/plain": [
              "'I ate 10 apples. so I was sick for three days.'"
            ],
            "application/vnd.google.colaboratory.intrinsic+json": {
              "type": "string"
            }
          },
          "metadata": {},
          "execution_count": 40
        }
      ]
    },
    {
      "cell_type": "markdown",
      "source": [
        "문자열 포맷 코드\n",
        "*  %s 문자열(String)\n",
        "*  %c 문자 1개(Character)\n",
        "*  %d 정수(Integer)\n",
        "*  %f 부동 소수(Floating-point)\n",
        "*  %o 8진수\n",
        "*  %x 16진수\n",
        "*  %% Literal %(문자 '%' 자체)"
      ],
      "metadata": {
        "id": "LuQAkd5K_6WB"
      }
    },
    {
      "cell_type": "code",
      "source": [
        "#%s 포맷 코드는 어떤 현태의 값이든 변환해 넣을 수 있다\n",
        "\"I have %s apples / rate is %s\" %(3,3.3234)"
      ],
      "metadata": {
        "colab": {
          "base_uri": "https://localhost:8080/",
          "height": 35
        },
        "id": "jflE4pbqAlHt",
        "outputId": "68a58235-ea35-4256-b21e-6495530645b1"
      },
      "execution_count": null,
      "outputs": [
        {
          "output_type": "execute_result",
          "data": {
            "text/plain": [
              "'I have 3 apples / rate is 3.3234'"
            ],
            "application/vnd.google.colaboratory.intrinsic+json": {
              "type": "string"
            }
          },
          "metadata": {},
          "execution_count": 41
        }
      ]
    },
    {
      "cell_type": "code",
      "source": [
        "#포매팅 연산자 %d와 %를 같이 쓸 때는 %%를 쓴다\n",
        "\"Error is %d%%.\" %98"
      ],
      "metadata": {
        "colab": {
          "base_uri": "https://localhost:8080/",
          "height": 35
        },
        "id": "0i4AslfsBfQd",
        "outputId": "ecf4f249-11b7-415a-aad7-7877d71087de"
      },
      "execution_count": null,
      "outputs": [
        {
          "output_type": "execute_result",
          "data": {
            "text/plain": [
              "'Error is 98%.'"
            ],
            "application/vnd.google.colaboratory.intrinsic+json": {
              "type": "string"
            }
          },
          "metadata": {},
          "execution_count": 42
        }
      ]
    },
    {
      "cell_type": "markdown",
      "source": [
        "포맷 코드와 숫자 합께 사용하기 "
      ],
      "metadata": {
        "id": "N7Kfkk3TBtZM"
      }
    },
    {
      "cell_type": "code",
      "source": [
        "#정렬과 공백\n",
        "\"%10s\" %\"hi\""
      ],
      "metadata": {
        "colab": {
          "base_uri": "https://localhost:8080/",
          "height": 35
        },
        "id": "gXNmHep1BvqL",
        "outputId": "e110bfe6-278e-4a20-d2fe-9a28427460cc"
      },
      "execution_count": null,
      "outputs": [
        {
          "output_type": "execute_result",
          "data": {
            "text/plain": [
              "'        hi'"
            ],
            "application/vnd.google.colaboratory.intrinsic+json": {
              "type": "string"
            }
          },
          "metadata": {},
          "execution_count": 43
        }
      ]
    },
    {
      "cell_type": "code",
      "source": [
        "\"%-10sjane\" %'hi'"
      ],
      "metadata": {
        "colab": {
          "base_uri": "https://localhost:8080/",
          "height": 35
        },
        "id": "Mnepxq7TB2rc",
        "outputId": "5086e5ec-956f-4aa6-e2ee-817bf833cd91"
      },
      "execution_count": null,
      "outputs": [
        {
          "output_type": "execute_result",
          "data": {
            "text/plain": [
              "'hi        jane'"
            ],
            "application/vnd.google.colaboratory.intrinsic+json": {
              "type": "string"
            }
          },
          "metadata": {},
          "execution_count": 47
        }
      ]
    },
    {
      "cell_type": "code",
      "source": [
        "#소수점 표현하기\n",
        "\"%0.4f\" %3.42134234"
      ],
      "metadata": {
        "colab": {
          "base_uri": "https://localhost:8080/",
          "height": 35
        },
        "id": "m0lmiHzbCJGX",
        "outputId": "b533cc0c-bf1f-4da7-afdb-fc48095e3f98"
      },
      "execution_count": null,
      "outputs": [
        {
          "output_type": "execute_result",
          "data": {
            "text/plain": [
              "'3.4213'"
            ],
            "application/vnd.google.colaboratory.intrinsic+json": {
              "type": "string"
            }
          },
          "metadata": {},
          "execution_count": 46
        }
      ]
    },
    {
      "cell_type": "code",
      "source": [
        "\"%10.4f\" %3.42134234"
      ],
      "metadata": {
        "colab": {
          "base_uri": "https://localhost:8080/",
          "height": 35
        },
        "id": "cEM5QDHUCWKg",
        "outputId": "0e4dadc2-9777-44c5-eb83-759203d176ae"
      },
      "execution_count": null,
      "outputs": [
        {
          "output_type": "execute_result",
          "data": {
            "text/plain": [
              "'    3.4213'"
            ],
            "application/vnd.google.colaboratory.intrinsic+json": {
              "type": "string"
            }
          },
          "metadata": {},
          "execution_count": 48
        }
      ]
    },
    {
      "cell_type": "markdown",
      "source": [
        "format 함수를 사용한 포매팅 "
      ],
      "metadata": {
        "id": "56chd9-eC7Yx"
      }
    },
    {
      "cell_type": "code",
      "source": [
        "#숫자 바로 대입하기\n",
        "\"I eat {0} apples\".format(3)"
      ],
      "metadata": {
        "colab": {
          "base_uri": "https://localhost:8080/",
          "height": 35
        },
        "id": "Y7fHDlxwC93Q",
        "outputId": "dd7c3b45-135c-48e9-876e-f67a177a8a13"
      },
      "execution_count": null,
      "outputs": [
        {
          "output_type": "execute_result",
          "data": {
            "text/plain": [
              "'I eat 3 apples'"
            ],
            "application/vnd.google.colaboratory.intrinsic+json": {
              "type": "string"
            }
          },
          "metadata": {},
          "execution_count": 49
        }
      ]
    },
    {
      "cell_type": "code",
      "source": [
        "#문자열 바로 대입하기\n",
        "\"I eat {0} apples\".format(\"five\")"
      ],
      "metadata": {
        "colab": {
          "base_uri": "https://localhost:8080/",
          "height": 35
        },
        "id": "lWwYC0cnDFMh",
        "outputId": "36ff1a69-dcf5-4814-8b27-ecbeb85515bf"
      },
      "execution_count": null,
      "outputs": [
        {
          "output_type": "execute_result",
          "data": {
            "text/plain": [
              "'I eat five apples'"
            ],
            "application/vnd.google.colaboratory.intrinsic+json": {
              "type": "string"
            }
          },
          "metadata": {},
          "execution_count": 51
        }
      ]
    },
    {
      "cell_type": "code",
      "source": [
        "#숫자 값을 가진 변수로 대입하기\n",
        "number=3\n",
        "\"I eat {0} apples\".format(number)"
      ],
      "metadata": {
        "colab": {
          "base_uri": "https://localhost:8080/",
          "height": 35
        },
        "id": "vKOyUU28DQlU",
        "outputId": "8c3b82b8-2670-449e-b815-5e83de730f50"
      },
      "execution_count": null,
      "outputs": [
        {
          "output_type": "execute_result",
          "data": {
            "text/plain": [
              "'I eat 3 apples'"
            ],
            "application/vnd.google.colaboratory.intrinsic+json": {
              "type": "string"
            }
          },
          "metadata": {},
          "execution_count": 52
        }
      ]
    },
    {
      "cell_type": "code",
      "source": [
        "#2개 이상의 값 넣기\n",
        "number = 10\n",
        "day = \"three\"\n",
        "\"I ate {0} apples. so I was sick for {1} days.\".format(number,day)"
      ],
      "metadata": {
        "colab": {
          "base_uri": "https://localhost:8080/",
          "height": 35
        },
        "id": "oG_NwxPvDZ0m",
        "outputId": "67113bdb-4d45-44e7-ea68-e926a9b7679e"
      },
      "execution_count": null,
      "outputs": [
        {
          "output_type": "execute_result",
          "data": {
            "text/plain": [
              "'I ate 10 apples. so I was sick for three days.'"
            ],
            "application/vnd.google.colaboratory.intrinsic+json": {
              "type": "string"
            }
          },
          "metadata": {},
          "execution_count": 53
        }
      ]
    },
    {
      "cell_type": "code",
      "source": [
        "#이름으로 넣기\n",
        "\"I ate {number} apples. so I was sick for {day} days.\".format(number=10,day=3)"
      ],
      "metadata": {
        "colab": {
          "base_uri": "https://localhost:8080/",
          "height": 35
        },
        "id": "h7RAK-naDsI4",
        "outputId": "20d0feed-ca02-4f2f-b452-4bf7b3eadf36"
      },
      "execution_count": null,
      "outputs": [
        {
          "output_type": "execute_result",
          "data": {
            "text/plain": [
              "'I ate 10 apples. so I was sick for 3 days.'"
            ],
            "application/vnd.google.colaboratory.intrinsic+json": {
              "type": "string"
            }
          },
          "metadata": {},
          "execution_count": 54
        }
      ]
    },
    {
      "cell_type": "code",
      "source": [
        "#인덱스와 이름을 혼용해서 넣기\n",
        "\"I ate {0} apples. so I was sick for {day} days.\".format(10,day=3)"
      ],
      "metadata": {
        "colab": {
          "base_uri": "https://localhost:8080/",
          "height": 35
        },
        "id": "rdt9veXIEAv7",
        "outputId": "0d6c3b72-5d95-4521-dc2f-f83b1ce07d66"
      },
      "execution_count": null,
      "outputs": [
        {
          "output_type": "execute_result",
          "data": {
            "text/plain": [
              "'I ate 10 apples. so I was sick for 3 days.'"
            ],
            "application/vnd.google.colaboratory.intrinsic+json": {
              "type": "string"
            }
          },
          "metadata": {},
          "execution_count": 55
        }
      ]
    },
    {
      "cell_type": "code",
      "source": [
        "#왼쪽 정렬(문자열의 총 자릿수 10)\n",
        "\"{0:<10}\".format(\"hi\")"
      ],
      "metadata": {
        "colab": {
          "base_uri": "https://localhost:8080/",
          "height": 35
        },
        "id": "YZZKq20uETrS",
        "outputId": "72c76926-a814-49ef-fe81-6578ee105acd"
      },
      "execution_count": null,
      "outputs": [
        {
          "output_type": "execute_result",
          "data": {
            "text/plain": [
              "'hi        '"
            ],
            "application/vnd.google.colaboratory.intrinsic+json": {
              "type": "string"
            }
          },
          "metadata": {},
          "execution_count": 56
        }
      ]
    },
    {
      "cell_type": "code",
      "source": [
        "#오른쪽 정렬\n",
        "\"{0:>10}\".format(\"hi\")"
      ],
      "metadata": {
        "colab": {
          "base_uri": "https://localhost:8080/",
          "height": 35
        },
        "id": "wmO-pLF4Eki4",
        "outputId": "5a5f8934-e4f8-4492-cf8d-d6c85c6a56a3"
      },
      "execution_count": null,
      "outputs": [
        {
          "output_type": "execute_result",
          "data": {
            "text/plain": [
              "'        hi'"
            ],
            "application/vnd.google.colaboratory.intrinsic+json": {
              "type": "string"
            }
          },
          "metadata": {},
          "execution_count": 58
        }
      ]
    },
    {
      "cell_type": "code",
      "source": [
        "#가운데 정렬\n",
        "\"{0:^10}\".format(\"hi\")"
      ],
      "metadata": {
        "colab": {
          "base_uri": "https://localhost:8080/",
          "height": 35
        },
        "id": "FxRJbPhCExOn",
        "outputId": "bea2387b-6a13-4038-e252-1b67f1ad5319"
      },
      "execution_count": null,
      "outputs": [
        {
          "output_type": "execute_result",
          "data": {
            "text/plain": [
              "'    hi    '"
            ],
            "application/vnd.google.colaboratory.intrinsic+json": {
              "type": "string"
            }
          },
          "metadata": {},
          "execution_count": 59
        }
      ]
    },
    {
      "cell_type": "code",
      "source": [
        "#공백 채우기\n",
        "\"{0:=^10}\".format(\"hi\")"
      ],
      "metadata": {
        "colab": {
          "base_uri": "https://localhost:8080/",
          "height": 35
        },
        "id": "rzoU2kXWE6aM",
        "outputId": "42db841f-56c0-4413-a5b5-75d55f81b045"
      },
      "execution_count": null,
      "outputs": [
        {
          "output_type": "execute_result",
          "data": {
            "text/plain": [
              "'====hi===='"
            ],
            "application/vnd.google.colaboratory.intrinsic+json": {
              "type": "string"
            }
          },
          "metadata": {},
          "execution_count": 61
        }
      ]
    },
    {
      "cell_type": "code",
      "source": [
        "\"{0:!<10}\".format(\"hi\")"
      ],
      "metadata": {
        "colab": {
          "base_uri": "https://localhost:8080/",
          "height": 35
        },
        "id": "SxU2L0hzFSMm",
        "outputId": "af51ba29-cefb-4e23-cccf-06575448ec9b"
      },
      "execution_count": null,
      "outputs": [
        {
          "output_type": "execute_result",
          "data": {
            "text/plain": [
              "'hi!!!!!!!!'"
            ],
            "application/vnd.google.colaboratory.intrinsic+json": {
              "type": "string"
            }
          },
          "metadata": {},
          "execution_count": 62
        }
      ]
    },
    {
      "cell_type": "code",
      "source": [
        "#소수점 표현하기\n",
        "y=3.42134234\n",
        "\"{0:0.4f}\".format(y)"
      ],
      "metadata": {
        "colab": {
          "base_uri": "https://localhost:8080/",
          "height": 35
        },
        "id": "8HbWe22NFceu",
        "outputId": "644b1383-ce65-4fa3-fd33-0c964014e27d"
      },
      "execution_count": null,
      "outputs": [
        {
          "output_type": "execute_result",
          "data": {
            "text/plain": [
              "'3.4213'"
            ],
            "application/vnd.google.colaboratory.intrinsic+json": {
              "type": "string"
            }
          },
          "metadata": {},
          "execution_count": 63
        }
      ]
    },
    {
      "cell_type": "code",
      "source": [
        "\"{0:10.4f}\".format(y)"
      ],
      "metadata": {
        "colab": {
          "base_uri": "https://localhost:8080/",
          "height": 35
        },
        "id": "jJL5DlyWF4D0",
        "outputId": "bc1019d5-09e5-4fc2-ca40-642fe796db2e"
      },
      "execution_count": null,
      "outputs": [
        {
          "output_type": "execute_result",
          "data": {
            "text/plain": [
              "'    3.4213'"
            ],
            "application/vnd.google.colaboratory.intrinsic+json": {
              "type": "string"
            }
          },
          "metadata": {},
          "execution_count": 64
        }
      ]
    },
    {
      "cell_type": "code",
      "source": [
        "#{또는} 문자 표현하기\n",
        "\"{{and}}\".format()"
      ],
      "metadata": {
        "colab": {
          "base_uri": "https://localhost:8080/",
          "height": 35
        },
        "id": "svUnvUycGDp5",
        "outputId": "20c1a658-90af-4747-8085-a84ff30cea1c"
      },
      "execution_count": null,
      "outputs": [
        {
          "output_type": "execute_result",
          "data": {
            "text/plain": [
              "'{and}'"
            ],
            "application/vnd.google.colaboratory.intrinsic+json": {
              "type": "string"
            }
          },
          "metadata": {},
          "execution_count": 65
        }
      ]
    },
    {
      "cell_type": "markdown",
      "source": [
        "f문자열 포매팅 "
      ],
      "metadata": {
        "id": "I_mZaFUgJ_Ty"
      }
    },
    {
      "cell_type": "code",
      "source": [
        "name='홍길동'\n",
        "age=30\n",
        "f'나의 이름은 {name}입니다. 나이는 {age}입니다.'"
      ],
      "metadata": {
        "colab": {
          "base_uri": "https://localhost:8080/",
          "height": 35
        },
        "id": "ekO0c4BFKBmS",
        "outputId": "bb60250c-efde-4058-ac6a-97b510e848ec"
      },
      "execution_count": null,
      "outputs": [
        {
          "output_type": "execute_result",
          "data": {
            "text/plain": [
              "'나의 이름은 홍길동입니다. 나이는 30입니다.'"
            ],
            "application/vnd.google.colaboratory.intrinsic+json": {
              "type": "string"
            }
          },
          "metadata": {},
          "execution_count": 1
        }
      ]
    },
    {
      "cell_type": "code",
      "source": [
        "f'나는 내년이면 {age+1}살이 된다.'"
      ],
      "metadata": {
        "colab": {
          "base_uri": "https://localhost:8080/",
          "height": 35
        },
        "id": "97DcPIopk5en",
        "outputId": "df894bde-ed80-4cca-ae3f-90a8b3ec02b0"
      },
      "execution_count": null,
      "outputs": [
        {
          "output_type": "execute_result",
          "data": {
            "text/plain": [
              "'나는 내년이면 31살이 된다.'"
            ],
            "application/vnd.google.colaboratory.intrinsic+json": {
              "type": "string"
            }
          },
          "metadata": {},
          "execution_count": 2
        }
      ]
    },
    {
      "cell_type": "code",
      "source": [
        "d={'name':'홍길동','age':30}\n",
        "f'나의 이름은 {d[\"name\"]}입니다. 나이는 {d[\"age\"]}입니다.'"
      ],
      "metadata": {
        "colab": {
          "base_uri": "https://localhost:8080/",
          "height": 35
        },
        "id": "nFfw9jC3k_4h",
        "outputId": "c78d0936-0394-4e76-e5cc-b00ef81614be"
      },
      "execution_count": null,
      "outputs": [
        {
          "output_type": "execute_result",
          "data": {
            "text/plain": [
              "'나의 이름은 홍길동입니다. 나이는 30입니다.'"
            ],
            "application/vnd.google.colaboratory.intrinsic+json": {
              "type": "string"
            }
          },
          "metadata": {},
          "execution_count": 4
        }
      ]
    },
    {
      "cell_type": "code",
      "source": [
        "f'{\"hi\":<10}'"
      ],
      "metadata": {
        "colab": {
          "base_uri": "https://localhost:8080/",
          "height": 35
        },
        "id": "yrns8p7Vlafe",
        "outputId": "6ce84bea-3d6b-42b6-9805-eb8defbb0bb6"
      },
      "execution_count": null,
      "outputs": [
        {
          "output_type": "execute_result",
          "data": {
            "text/plain": [
              "'hi        '"
            ],
            "application/vnd.google.colaboratory.intrinsic+json": {
              "type": "string"
            }
          },
          "metadata": {},
          "execution_count": 6
        }
      ]
    },
    {
      "cell_type": "code",
      "source": [
        "f'{\"hi\":=^10}'"
      ],
      "metadata": {
        "colab": {
          "base_uri": "https://localhost:8080/",
          "height": 35
        },
        "id": "U7UYfzmkllBl",
        "outputId": "54bcef1e-fd6a-488f-ec0b-5ab290705b08"
      },
      "execution_count": null,
      "outputs": [
        {
          "output_type": "execute_result",
          "data": {
            "text/plain": [
              "'====hi===='"
            ],
            "application/vnd.google.colaboratory.intrinsic+json": {
              "type": "string"
            }
          },
          "metadata": {},
          "execution_count": 7
        }
      ]
    },
    {
      "cell_type": "markdown",
      "source": [
        "**나혼자 코딩** farmat 함수 또는 f문자열 포매팅을 사용해 '!!!python!!!'문자열을 출력해보자 "
      ],
      "metadata": {
        "id": "YMiA8YxGlwEM"
      }
    },
    {
      "cell_type": "code",
      "source": [
        "f'{\"python\":!^12}'"
      ],
      "metadata": {
        "colab": {
          "base_uri": "https://localhost:8080/",
          "height": 35
        },
        "id": "GlwWPCoQl7LW",
        "outputId": "cbb41522-52e8-4596-86d6-dc9e59ac6faf"
      },
      "execution_count": null,
      "outputs": [
        {
          "output_type": "execute_result",
          "data": {
            "text/plain": [
              "'!!!python!!!'"
            ],
            "application/vnd.google.colaboratory.intrinsic+json": {
              "type": "string"
            }
          },
          "metadata": {},
          "execution_count": 8
        }
      ]
    },
    {
      "cell_type": "markdown",
      "source": [
        "# 문자열 관련 함수 "
      ],
      "metadata": {
        "id": "a9AhNrT0mVQK"
      }
    },
    {
      "cell_type": "markdown",
      "source": [
        "문자 개수 세기(count) "
      ],
      "metadata": {
        "id": "ttehjhMJmbRV"
      }
    },
    {
      "cell_type": "code",
      "source": [
        "a=\"hobby\"\n",
        "a.count('b')"
      ],
      "metadata": {
        "colab": {
          "base_uri": "https://localhost:8080/"
        },
        "id": "k36sXLbrmiGx",
        "outputId": "0d08085d-b5eb-4d34-eae9-0db75b78aa7f"
      },
      "execution_count": null,
      "outputs": [
        {
          "output_type": "execute_result",
          "data": {
            "text/plain": [
              "2"
            ]
          },
          "metadata": {},
          "execution_count": 9
        }
      ]
    },
    {
      "cell_type": "markdown",
      "source": [
        "위치 알려주기 1(find) "
      ],
      "metadata": {
        "id": "stI5QbykmoSw"
      }
    },
    {
      "cell_type": "code",
      "source": [
        "a=\"Python is the best choice\"\n",
        "a.find('b')"
      ],
      "metadata": {
        "colab": {
          "base_uri": "https://localhost:8080/"
        },
        "id": "sBeTI15smqnz",
        "outputId": "8b73787b-e607-4a6a-9488-10f3af343677"
      },
      "execution_count": null,
      "outputs": [
        {
          "output_type": "execute_result",
          "data": {
            "text/plain": [
              "14"
            ]
          },
          "metadata": {},
          "execution_count": 10
        }
      ]
    },
    {
      "cell_type": "code",
      "source": [
        "a.find('k')"
      ],
      "metadata": {
        "colab": {
          "base_uri": "https://localhost:8080/"
        },
        "id": "5a07i4nCm0pf",
        "outputId": "53ec564a-8770-45e2-d791-f75e2638dd04"
      },
      "execution_count": null,
      "outputs": [
        {
          "output_type": "execute_result",
          "data": {
            "text/plain": [
              "-1"
            ]
          },
          "metadata": {},
          "execution_count": 11
        }
      ]
    },
    {
      "cell_type": "markdown",
      "source": [
        "위치 알려주기 2(index) "
      ],
      "metadata": {
        "id": "X7VEB10KnPWo"
      }
    },
    {
      "cell_type": "code",
      "source": [
        "a=\"Life is too short\"\n",
        "a.index('t')"
      ],
      "metadata": {
        "colab": {
          "base_uri": "https://localhost:8080/"
        },
        "id": "RkERISJ3nSVw",
        "outputId": "cc81b167-2fe3-4d00-8f97-3ded19a386d1"
      },
      "execution_count": null,
      "outputs": [
        {
          "output_type": "execute_result",
          "data": {
            "text/plain": [
              "8"
            ]
          },
          "metadata": {},
          "execution_count": 12
        }
      ]
    },
    {
      "cell_type": "markdown",
      "source": [
        "문자열 삽입(join) "
      ],
      "metadata": {
        "id": "jvmtooPVnkkF"
      }
    },
    {
      "cell_type": "code",
      "source": [
        "\",\".join('abcd')"
      ],
      "metadata": {
        "colab": {
          "base_uri": "https://localhost:8080/",
          "height": 35
        },
        "id": "a2HY8uG-no8_",
        "outputId": "e6201b6b-5d4f-4d75-8a48-5295fd5c371e"
      },
      "execution_count": null,
      "outputs": [
        {
          "output_type": "execute_result",
          "data": {
            "text/plain": [
              "'a,b,c,d'"
            ],
            "application/vnd.google.colaboratory.intrinsic+json": {
              "type": "string"
            }
          },
          "metadata": {},
          "execution_count": 13
        }
      ]
    },
    {
      "cell_type": "markdown",
      "source": [
        "소문자를 대문자로 바꾸기(upper) "
      ],
      "metadata": {
        "id": "t7-NtNCRnymm"
      }
    },
    {
      "cell_type": "code",
      "source": [
        "a=\"hi\"\n",
        "a.upper()"
      ],
      "metadata": {
        "colab": {
          "base_uri": "https://localhost:8080/",
          "height": 35
        },
        "id": "1sffi8QZn1-6",
        "outputId": "afb511a8-689e-4f8f-97a9-e38fc6b51a5d"
      },
      "execution_count": null,
      "outputs": [
        {
          "output_type": "execute_result",
          "data": {
            "text/plain": [
              "'HI'"
            ],
            "application/vnd.google.colaboratory.intrinsic+json": {
              "type": "string"
            }
          },
          "metadata": {},
          "execution_count": 14
        }
      ]
    },
    {
      "cell_type": "markdown",
      "source": [
        "대문자를 소문자로 바꾸기(lower) "
      ],
      "metadata": {
        "id": "5aFJyPh6n5ga"
      }
    },
    {
      "cell_type": "code",
      "source": [
        "a=\"HI\"\n",
        "a.lower()"
      ],
      "metadata": {
        "colab": {
          "base_uri": "https://localhost:8080/",
          "height": 35
        },
        "id": "jZW0_rgbn9FL",
        "outputId": "896d83d3-5f0d-4014-a4a4-3dc31acb5a7a"
      },
      "execution_count": null,
      "outputs": [
        {
          "output_type": "execute_result",
          "data": {
            "text/plain": [
              "'hi'"
            ],
            "application/vnd.google.colaboratory.intrinsic+json": {
              "type": "string"
            }
          },
          "metadata": {},
          "execution_count": 15
        }
      ]
    },
    {
      "cell_type": "markdown",
      "source": [
        "왼쪽 공백 지우기(lstrip) / 오른쪽 공백 지우기(rstrip) / 양쪽 공백 지우기(strip)"
      ],
      "metadata": {
        "id": "vCNsHq0XoBCG"
      }
    },
    {
      "cell_type": "code",
      "source": [
        "a=\" hi \"\n",
        "a.lstrip()"
      ],
      "metadata": {
        "colab": {
          "base_uri": "https://localhost:8080/",
          "height": 35
        },
        "id": "D4aJABZkoDh0",
        "outputId": "f133b1a8-2d3e-4ca9-8bb8-32b47f9ee801"
      },
      "execution_count": null,
      "outputs": [
        {
          "output_type": "execute_result",
          "data": {
            "text/plain": [
              "'hi '"
            ],
            "application/vnd.google.colaboratory.intrinsic+json": {
              "type": "string"
            }
          },
          "metadata": {},
          "execution_count": 16
        }
      ]
    },
    {
      "cell_type": "markdown",
      "source": [
        "문자열 바꾸기(replace) "
      ],
      "metadata": {
        "id": "sEwHRRtxoPqG"
      }
    },
    {
      "cell_type": "code",
      "source": [
        "a=\"Life is too short\"\n",
        "a.replace(\"Life\",\"Your leg\")"
      ],
      "metadata": {
        "colab": {
          "base_uri": "https://localhost:8080/",
          "height": 35
        },
        "id": "Fdlm-tUjoTA6",
        "outputId": "85e366fc-1b5c-4986-a460-7d919e8c8d7f"
      },
      "execution_count": null,
      "outputs": [
        {
          "output_type": "execute_result",
          "data": {
            "text/plain": [
              "'Your leg is too short'"
            ],
            "application/vnd.google.colaboratory.intrinsic+json": {
              "type": "string"
            }
          },
          "metadata": {},
          "execution_count": 17
        }
      ]
    },
    {
      "cell_type": "markdown",
      "source": [
        "문자열 나누기(split) "
      ],
      "metadata": {
        "id": "K_ETHeQnobUn"
      }
    },
    {
      "cell_type": "code",
      "source": [
        "a=\"Life is too short\"\n",
        "a.split()"
      ],
      "metadata": {
        "colab": {
          "base_uri": "https://localhost:8080/"
        },
        "id": "vXF5bQEwod9j",
        "outputId": "29bd90d6-f80c-4816-b8fb-70d153f7ec1f"
      },
      "execution_count": null,
      "outputs": [
        {
          "output_type": "execute_result",
          "data": {
            "text/plain": [
              "['Life', 'is', 'too', 'short']"
            ]
          },
          "metadata": {},
          "execution_count": 18
        }
      ]
    },
    {
      "cell_type": "code",
      "source": [
        "b=\"a:b:c:d\"\n",
        "b.split(\":\")"
      ],
      "metadata": {
        "colab": {
          "base_uri": "https://localhost:8080/"
        },
        "id": "zxgnnOvYojpx",
        "outputId": "5a956bcf-931e-42bd-fe22-9946eba52f81"
      },
      "execution_count": null,
      "outputs": [
        {
          "output_type": "execute_result",
          "data": {
            "text/plain": [
              "['a', 'b', 'c', 'd']"
            ]
          },
          "metadata": {},
          "execution_count": 19
        }
      ]
    }
  ]
}