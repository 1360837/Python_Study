{
  "nbformat": 4,
  "nbformat_minor": 0,
  "metadata": {
    "colab": {
      "provenance": [],
      "authorship_tag": "ABX9TyNg4LGDLhvpvUciTb/Jchwv",
      "include_colab_link": true
    },
    "kernelspec": {
      "name": "python3",
      "display_name": "Python 3"
    },
    "language_info": {
      "name": "python"
    }
  },
  "cells": [
    {
      "cell_type": "markdown",
      "metadata": {
        "id": "view-in-github",
        "colab_type": "text"
      },
      "source": [
        "<a href=\"https://colab.research.google.com/github/1360837/Python_Study/blob/main/02%EC%9E%90%EB%A3%8C%ED%98%95/02_4_%ED%8A%9C%ED%94%8C%EC%9E%90%EB%A3%8C%ED%98%95.ipynb\" target=\"_parent\"><img src=\"https://colab.research.google.com/assets/colab-badge.svg\" alt=\"Open In Colab\"/></a>"
      ]
    },
    {
      "cell_type": "code",
      "execution_count": null,
      "metadata": {
        "id": "pQjXUfsasSyr"
      },
      "outputs": [],
      "source": [
        "#튜플의 모습은 다음과 같다.\n",
        "#리스트의 항목 값은 변화가 가능하고 튜플의 항목 값은 변화가 불가능하다.\n",
        "t1=()\n",
        "t2=(1,)\n",
        "t3=(1,2,3)\n",
        "t4=1,2,3\n",
        "t5=('a','b',('ab','cd'))"
      ]
    },
    {
      "cell_type": "markdown",
      "source": [
        "튜플의 요솟값을 지우거나 변경하려고 하면 어떻게 될까?\n",
        "> 형 오류  (type error) 발생"
      ],
      "metadata": {
        "id": "bW7LaWabslMy"
      }
    },
    {
      "cell_type": "code",
      "source": [
        "#튜플 요솟값을 삭제하려 할 때\n",
        "t1=(1,2,'a','b')\n",
        "del t1[0]"
      ],
      "metadata": {
        "colab": {
          "base_uri": "https://localhost:8080/",
          "height": 211
        },
        "id": "hRw71iE9s625",
        "outputId": "da250d45-8479-42dd-c66c-8a65528c4355"
      },
      "execution_count": null,
      "outputs": [
        {
          "output_type": "error",
          "ename": "TypeError",
          "evalue": "ignored",
          "traceback": [
            "\u001b[0;31m---------------------------------------------------------------------------\u001b[0m",
            "\u001b[0;31mTypeError\u001b[0m                                 Traceback (most recent call last)",
            "\u001b[0;32m<ipython-input-1-e3cca8a8463c>\u001b[0m in \u001b[0;36m<cell line: 3>\u001b[0;34m()\u001b[0m\n\u001b[1;32m      1\u001b[0m \u001b[0;31m#튜플 요솟값을 삭제하려 할 때\u001b[0m\u001b[0;34m\u001b[0m\u001b[0;34m\u001b[0m\u001b[0m\n\u001b[1;32m      2\u001b[0m \u001b[0mt1\u001b[0m\u001b[0;34m=\u001b[0m\u001b[0;34m(\u001b[0m\u001b[0;36m1\u001b[0m\u001b[0;34m,\u001b[0m\u001b[0;36m2\u001b[0m\u001b[0;34m,\u001b[0m\u001b[0;34m'a'\u001b[0m\u001b[0;34m,\u001b[0m\u001b[0;34m'b'\u001b[0m\u001b[0;34m)\u001b[0m\u001b[0;34m\u001b[0m\u001b[0;34m\u001b[0m\u001b[0m\n\u001b[0;32m----> 3\u001b[0;31m \u001b[0;32mdel\u001b[0m \u001b[0mt1\u001b[0m\u001b[0;34m[\u001b[0m\u001b[0;36m0\u001b[0m\u001b[0;34m]\u001b[0m\u001b[0;34m\u001b[0m\u001b[0;34m\u001b[0m\u001b[0m\n\u001b[0m",
            "\u001b[0;31mTypeError\u001b[0m: 'tuple' object doesn't support item deletion"
          ]
        }
      ]
    },
    {
      "cell_type": "code",
      "source": [
        "#튜플 요솟값을 변경하려 할 때\n",
        "t1=(1,2,'a','b')\n",
        "t1[0]='c'"
      ],
      "metadata": {
        "colab": {
          "base_uri": "https://localhost:8080/",
          "height": 211
        },
        "id": "u5PV__tKtVkR",
        "outputId": "aace1094-0995-4092-e6ea-d0aa1df2a187"
      },
      "execution_count": null,
      "outputs": [
        {
          "output_type": "error",
          "ename": "TypeError",
          "evalue": "ignored",
          "traceback": [
            "\u001b[0;31m---------------------------------------------------------------------------\u001b[0m",
            "\u001b[0;31mTypeError\u001b[0m                                 Traceback (most recent call last)",
            "\u001b[0;32m<ipython-input-2-c59faa3b8204>\u001b[0m in \u001b[0;36m<cell line: 3>\u001b[0;34m()\u001b[0m\n\u001b[1;32m      1\u001b[0m \u001b[0;31m#튜플 요솟값을 변경하려 할 때\u001b[0m\u001b[0;34m\u001b[0m\u001b[0;34m\u001b[0m\u001b[0m\n\u001b[1;32m      2\u001b[0m \u001b[0mt1\u001b[0m\u001b[0;34m=\u001b[0m\u001b[0;34m(\u001b[0m\u001b[0;36m1\u001b[0m\u001b[0;34m,\u001b[0m\u001b[0;36m2\u001b[0m\u001b[0;34m,\u001b[0m\u001b[0;34m'a'\u001b[0m\u001b[0;34m,\u001b[0m\u001b[0;34m'b'\u001b[0m\u001b[0;34m)\u001b[0m\u001b[0;34m\u001b[0m\u001b[0;34m\u001b[0m\u001b[0m\n\u001b[0;32m----> 3\u001b[0;31m \u001b[0mt1\u001b[0m\u001b[0;34m[\u001b[0m\u001b[0;36m0\u001b[0m\u001b[0;34m]\u001b[0m\u001b[0;34m=\u001b[0m\u001b[0;34m'c'\u001b[0m\u001b[0;34m\u001b[0m\u001b[0;34m\u001b[0m\u001b[0m\n\u001b[0m",
            "\u001b[0;31mTypeError\u001b[0m: 'tuple' object does not support item assignment"
          ]
        }
      ]
    },
    {
      "cell_type": "code",
      "source": [
        "#sorted 함수는 파이썬 내장 함수이기 때문에 튜플에 사용가능\n",
        "t=(1,4,3,2,5)\n",
        "print(sorted(t)) #sorted함수는 인자로 무엇을 받든지 리스트로 변경해서 정렬 후 출력한다.\n",
        "print(tuple(sorted(t)))"
      ],
      "metadata": {
        "colab": {
          "base_uri": "https://localhost:8080/"
        },
        "id": "Zmm8MyfSeIW-",
        "outputId": "2aab675f-ceb1-46bc-bf94-29194e70ed2b"
      },
      "execution_count": 5,
      "outputs": [
        {
          "output_type": "stream",
          "name": "stdout",
          "text": [
            "[1, 2, 3, 4, 5]\n",
            "(1, 2, 3, 4, 5)\n"
          ]
        }
      ]
    },
    {
      "cell_type": "markdown",
      "source": [
        "# 튜플 다루기"
      ],
      "metadata": {
        "id": "YPoFdjqCtc7p"
      }
    },
    {
      "cell_type": "code",
      "source": [
        "#인덱싱 하기\n",
        "t1=(1,2,'1','b')\n",
        "print(t1[0])\n",
        "print(t1[3])"
      ],
      "metadata": {
        "colab": {
          "base_uri": "https://localhost:8080/"
        },
        "id": "9MpqN2ytthuR",
        "outputId": "82f5b107-0f06-4e78-fab0-4706db9d52a9"
      },
      "execution_count": null,
      "outputs": [
        {
          "output_type": "stream",
          "name": "stdout",
          "text": [
            "1\n",
            "b\n"
          ]
        }
      ]
    },
    {
      "cell_type": "code",
      "source": [
        "#슬라이싱하기\n",
        "t1=(1,2,'a','b')\n",
        "print(t1[1:])"
      ],
      "metadata": {
        "colab": {
          "base_uri": "https://localhost:8080/"
        },
        "id": "_OR703_ztvEF",
        "outputId": "850a9637-83d6-4ac9-ebee-b0d29a052c4b"
      },
      "execution_count": null,
      "outputs": [
        {
          "output_type": "stream",
          "name": "stdout",
          "text": [
            "(2, 'a', 'b')\n"
          ]
        }
      ]
    },
    {
      "cell_type": "code",
      "source": [
        "#튜플 더하기\n",
        "t2=(3,4)\n",
        "print(t1+t2)"
      ],
      "metadata": {
        "colab": {
          "base_uri": "https://localhost:8080/"
        },
        "id": "zn3-L45jt1rI",
        "outputId": "108f230c-bc30-41d3-d0b0-1f10ee2d4f23"
      },
      "execution_count": null,
      "outputs": [
        {
          "output_type": "stream",
          "name": "stdout",
          "text": [
            "(1, 2, 'a', 'b', 3, 4)\n"
          ]
        }
      ]
    },
    {
      "cell_type": "code",
      "source": [
        "#튜플 곱하기\n",
        "print(t2*3)"
      ],
      "metadata": {
        "colab": {
          "base_uri": "https://localhost:8080/"
        },
        "id": "ky-w0MEft79q",
        "outputId": "e83247d4-fca3-4cbd-f08b-c1e84e176a3e"
      },
      "execution_count": null,
      "outputs": [
        {
          "output_type": "stream",
          "name": "stdout",
          "text": [
            "(3, 4, 3, 4, 3, 4)\n"
          ]
        }
      ]
    },
    {
      "cell_type": "code",
      "source": [
        "#튜플 길이 구하기\n",
        "t1=(1,2,'a','b')\n",
        "print(len(t1))"
      ],
      "metadata": {
        "colab": {
          "base_uri": "https://localhost:8080/"
        },
        "id": "tet5n2aRt_b3",
        "outputId": "e7d1f6d3-986e-41d3-8c9f-9205bda41ed8"
      },
      "execution_count": null,
      "outputs": [
        {
          "output_type": "stream",
          "name": "stdout",
          "text": [
            "4\n"
          ]
        }
      ]
    },
    {
      "cell_type": "markdown",
      "source": [
        "**나혼자 코딩** (1,2,3)이라는 튜플에 값 4를 추가하여 (1,2,3,4)를 만들어 출력해 보자."
      ],
      "metadata": {
        "id": "hYAteJ6NuF5V"
      }
    },
    {
      "cell_type": "code",
      "source": [
        "t1=(1,2,3)\n",
        "print(a+(4,))"
      ],
      "metadata": {
        "colab": {
          "base_uri": "https://localhost:8080/"
        },
        "id": "Tf9-S6L5uN9_",
        "outputId": "d4dee19b-cbb3-41d1-a30b-e552b04b2f54"
      },
      "execution_count": null,
      "outputs": [
        {
          "output_type": "stream",
          "name": "stdout",
          "text": [
            "(1, 2, 3, 4)\n"
          ]
        }
      ]
    },
    {
      "cell_type": "markdown",
      "source": [
        "# 튜플 패킹 언패킹"
      ],
      "metadata": {
        "id": "eFWMKiIhgGE_"
      }
    },
    {
      "cell_type": "code",
      "source": [
        "#패킹\n",
        "t1=1,2,3\n",
        "print(t1)\n",
        "print(type(t1))\n",
        "\n",
        "#언패킹\n",
        "a,b,c=t1\n",
        "print(a,b,c)\n",
        "print(type(a),type(b),type(c))\n",
        "\n",
        "print(f'a,b,c : {a},{b},{c}')\n",
        "print(f'a,b,c : {a,b,c}') #중괄호 안의 값은 한 덩어리로 인식 -> 튜플로 출력됨\n",
        "print(f'{\"abc\",123}')"
      ],
      "metadata": {
        "colab": {
          "base_uri": "https://localhost:8080/"
        },
        "id": "DoItAMMVgJUo",
        "outputId": "7405cd89-cacd-47e5-bb55-b2de89878245"
      },
      "execution_count": 9,
      "outputs": [
        {
          "output_type": "stream",
          "name": "stdout",
          "text": [
            "(1, 2, 3)\n",
            "<class 'tuple'>\n",
            "1 2 3\n",
            "<class 'int'> <class 'int'> <class 'int'>\n",
            "a,b,c : 1,2,3\n",
            "a,b,c : (1, 2, 3)\n",
            "('abc', 123)\n"
          ]
        }
      ]
    }
  ]
}